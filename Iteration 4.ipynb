{
 "cells": [
  {
   "cell_type": "code",
   "execution_count": 1,
   "metadata": {},
   "outputs": [],
   "source": [
    "import findspark\n",
    "findspark.init('/home/ubuntu/spark-2.1.1-bin-hadoop2.7')\n",
    "import pyspark\n",
    "from pyspark.sql import SparkSession\n",
    "spark = SparkSession.builder.appName('police_data_analysis').getOrCreate()"
   ]
  },
  {
   "cell_type": "code",
   "execution_count": 2,
   "metadata": {},
   "outputs": [],
   "source": [
    "df1 = spark.read.load('Datasets/ANSZOC_E_Area.csv', format = 'csv', header = 'true')"
   ]
  },
  {
   "cell_type": "code",
   "execution_count": 3,
   "metadata": {},
   "outputs": [],
   "source": [
    "df2 = spark.read.load('Datasets/Offender_A_ROV.csv', format = 'csv', header = 'true')"
   ]
  },
  {
   "cell_type": "code",
   "execution_count": 4,
   "metadata": {
    "scrolled": false
   },
   "outputs": [
    {
     "name": "stdout",
     "output_type": "stream",
     "text": [
      "+---+--------------------+--------------------+--------------------+--------------+----------+----------------+--------------------+---------------+---------------------+----+----------+\n",
      "| ID|     ANZSOC Division|        ANZSOC Group|  ANZSOC Subdivision|     Ethnicity| Frequency|    Mop Division|         Police Area|Police District|Proceedings Frequency| SEX|Year Month|\n",
      "+---+--------------------+--------------------+--------------------+--------------+----------+----------------+--------------------+---------------+---------------------+----+----------+\n",
      "|  1|Acts Intended to ...|      Common Assault|             Assault|Pacific Island|10 or more|Non-Court Action|Auckland Central ...|  Auckland City|           10 or more|Male| 1/02/2020|\n",
      "|  2|Acts Intended to ...|      Common Assault|             Assault|Pacific Island|10 or more|Non-Court Action|Auckland Central ...|  Auckland City|           10 or more|Male| 1/02/2020|\n",
      "|  3|Acts Intended to ...|      Common Assault|             Assault|      European|         2|Non-Court Action|Auckland Central ...|  Auckland City|                    2|Male| 1/02/2020|\n",
      "|  4|Acts Intended to ...|Serious Assault N...|             Assault|Pacific Island|         2|Non-Court Action|  Auckland East Area|  Auckland City|                    2|Male| 1/02/2020|\n",
      "|  5|Acts Intended to ...|Serious Assault N...|             Assault|Pacific Island|         2|Non-Court Action|  Auckland East Area|  Auckland City|                    2|Male| 1/02/2020|\n",
      "|  6|Acts Intended to ...|Serious Assault N...|             Assault|Pacific Island|         2|Non-Court Action|  Auckland East Area|  Auckland City|                    2|Male| 1/02/2020|\n",
      "|  7|Acts Intended to ...|      Common Assault|             Assault|        Indian|         2|Non-Court Action|  Auckland West Area|  Auckland City|                    2|Male| 1/02/2020|\n",
      "|  8|Acts Intended to ...|      Common Assault|             Assault|        Indian|         2|Non-Court Action|  Auckland West Area|  Auckland City|                    2|Male| 1/02/2020|\n",
      "|  9|Acts Intended to ...|      Common Assault|             Assault|Pacific Island|         2|Non-Court Action|  Auckland West Area|  Auckland City|                    2|Male| 1/02/2020|\n",
      "| 10|Acts Intended to ...|Serious Assault N...|             Assault|Pacific Island|         2|Non-Court Action|  Auckland West Area|  Auckland City|                    2|Male| 1/02/2020|\n",
      "| 11|Acts Intended to ...|Serious Assault N...|             Assault|Pacific Island|         2|Non-Court Action|  Auckland West Area|  Auckland City|                    2|Male| 1/02/2020|\n",
      "| 12|Acts Intended to ...|Serious Assault N...|             Assault|Pacific Island|         2|Non-Court Action|  Auckland West Area|  Auckland City|                    2|Male| 1/02/2020|\n",
      "| 13|Robbery, Extortio...|  Aggravated Robbery|             Robbery|      European|         2|Non-Court Action|  Auckland West Area|  Auckland City|                    2|Male| 1/02/2020|\n",
      "| 14|Robbery, Extortio...|  Aggravated Robbery|             Robbery|         Maori|         2|Non-Court Action|  Auckland West Area|  Auckland City|                    2|Male| 1/02/2020|\n",
      "| 53|Abduction, Harass...|Threatening Behav...|Harassment and Th...|Pacific Island|         3|Non-Court Action|  Auckland East Area|  Auckland City|                    3|Male| 1/02/2020|\n",
      "| 65|Acts Intended to ...|      Common Assault|             Assault|         Maori|         4|Non-Court Action|Auckland Central ...|  Auckland City|                    4|Male| 1/02/2020|\n",
      "| 66|Acts Intended to ...|      Common Assault|             Assault|         Maori|         4|Non-Court Action|Auckland Central ...|  Auckland City|                    4|Male| 1/02/2020|\n",
      "| 67|Acts Intended to ...|      Common Assault|             Assault|         Maori|         4|Non-Court Action|Auckland Central ...|  Auckland City|                    4|Male| 1/02/2020|\n",
      "| 68|Acts Intended to ...|      Common Assault|             Assault|      European|         4|Non-Court Action|  Auckland East Area|  Auckland City|                    4|Male| 1/02/2020|\n",
      "| 69|Acts Intended to ...|      Common Assault|             Assault|      European|         4|Non-Court Action|  Auckland East Area|  Auckland City|                    4|Male| 1/02/2020|\n",
      "+---+--------------------+--------------------+--------------------+--------------+----------+----------------+--------------------+---------------+---------------------+----+----------+\n",
      "only showing top 20 rows\n",
      "\n"
     ]
    }
   ],
   "source": [
    "df1.show()"
   ]
  },
  {
   "cell_type": "code",
   "execution_count": 5,
   "metadata": {},
   "outputs": [
    {
     "name": "stdout",
     "output_type": "stream",
     "text": [
      "+---+-----------------+--------------+---------+--------------------+-------------------+---------------+-------------------+-----------------+\n",
      "| ID|Number of Records|Offender Count|Age Group|  Age Group 5Yr Band|Person/Organisation|   ROV Division|          ROV Group|   ROVSubdivision|\n",
      "+---+-----------------+--------------+---------+--------------------+-------------------+---------------+-------------------+-----------------+\n",
      "|  1|                1|          1.00|    15-19|15 - 19 years inc...|             Person|Known To Victim|Known To Each Other|Non Family Member|\n",
      "|  2|                1|             1|    20-24|20 - 24 years inc...|             Person|Known To Victim|Known To Each Other|Non Family Member|\n",
      "|  3|                1|          2.00|     null|                null|               null|Known To Victim|Known To Each Other|Non Family Member|\n",
      "|  4|                1|          1.00|    15-19|15 - 19 years inc...|             Person|Known To Victim|Known To Each Other|Non Family Member|\n",
      "|  5|                1|          1.00|    25-29|25 - 29 years inc...|             Person|Known To Victim|Known To Each Other|Non Family Member|\n",
      "|  6|                1|          1.00|    40-44|40 - 44 years inc...|             Person|Known To Victim|Known To Each Other|Non Family Member|\n",
      "|  7|                1|          1.00|    20-24|20 - 24 years inc...|             Person|Known To Victim|Known To Each Other|Non Family Member|\n",
      "|  8|                1|          1.00|    40-44|40 - 44 years inc...|             Person|Known To Victim|Known To Each Other|Non Family Member|\n",
      "|  9|                1|          1.00|    15-19|15 - 19 years inc...|             Person|Known To Victim|Known To Each Other|Non Family Member|\n",
      "| 10|                1|          1.00|    15-19|15 - 19 years inc...|             Person|Known To Victim|Known To Each Other|Non Family Member|\n",
      "| 11|                1|          1.00|    25-29|25 - 29 years inc...|             Person|Known To Victim|Known To Each Other|Non Family Member|\n",
      "| 12|                1|          1.00|    40-44|40 - 44 years inc...|             Person|Known To Victim|Known To Each Other|Non Family Member|\n",
      "| 13|                1|          1.00|     null|                null|               null|Known To Victim|Known To Each Other|Non Family Member|\n",
      "| 14|                1|          1.00|     null|                null|               null|Known To Victim|Known To Each Other|Non Family Member|\n",
      "| 53|                1|          1.00|    45-49|45 - 49 years inc...|             Person|Known To Victim|Known To Each Other|Non Family Member|\n",
      "| 65|                1|          1.00|    25-29|25 - 29 years inc...|             Person|Known To Victim|Known To Each Other|Non Family Member|\n",
      "| 66|                1|          1.00|    35-39|35 - 39 years inc...|             Person|Known To Victim|Known To Each Other|Non Family Member|\n",
      "| 67|                1|          1.00|    45-49|45 - 49 years inc...|             Person|Known To Victim|Known To Each Other|Non Family Member|\n",
      "| 68|                1|          1.00|    10-14|10 - 14 years inc...|             Person|Known To Victim|Known To Each Other|Non Family Member|\n",
      "| 69|                1|          1.00|    20-24|20 - 24 years inc...|             Person|Known To Victim|Known To Each Other|Non Family Member|\n",
      "+---+-----------------+--------------+---------+--------------------+-------------------+---------------+-------------------+-----------------+\n",
      "only showing top 20 rows\n",
      "\n"
     ]
    }
   ],
   "source": [
    "df2.show()"
   ]
  },
  {
   "cell_type": "code",
   "execution_count": 6,
   "metadata": {
    "scrolled": true
   },
   "outputs": [
    {
     "data": {
      "text/plain": [
       "['ID',\n",
       " 'ANZSOC Division',\n",
       " 'ANZSOC Group',\n",
       " 'ANZSOC Subdivision',\n",
       " 'Ethnicity',\n",
       " 'Frequency',\n",
       " 'Mop Division',\n",
       " 'Police Area',\n",
       " 'Police District',\n",
       " 'Proceedings Frequency',\n",
       " 'SEX',\n",
       " 'Year Month']"
      ]
     },
     "execution_count": 6,
     "metadata": {},
     "output_type": "execute_result"
    }
   ],
   "source": [
    "df1.columns"
   ]
  },
  {
   "cell_type": "code",
   "execution_count": 7,
   "metadata": {},
   "outputs": [
    {
     "name": "stdout",
     "output_type": "stream",
     "text": [
      "+-------+-----------------+\n",
      "|summary|               ID|\n",
      "+-------+-----------------+\n",
      "|  count|            67788|\n",
      "|   mean|81035.48884758365|\n",
      "| stddev|45521.36948604581|\n",
      "|    min|                1|\n",
      "|    max|            99999|\n",
      "+-------+-----------------+\n",
      "\n"
     ]
    }
   ],
   "source": [
    "df1.select(\"ID\").describe().show()"
   ]
  },
  {
   "cell_type": "code",
   "execution_count": 8,
   "metadata": {},
   "outputs": [
    {
     "name": "stdout",
     "output_type": "stream",
     "text": [
      "+-------+-----------------+\n",
      "|summary|               ID|\n",
      "+-------+-----------------+\n",
      "|  count|            67788|\n",
      "|   mean|81035.48884758365|\n",
      "| stddev|45521.36948604581|\n",
      "|    min|                1|\n",
      "|    max|            99999|\n",
      "+-------+-----------------+\n",
      "\n"
     ]
    }
   ],
   "source": [
    "df2.select(\"ID\").describe().show()"
   ]
  },
  {
   "cell_type": "code",
   "execution_count": 9,
   "metadata": {
    "scrolled": false
   },
   "outputs": [
    {
     "data": {
      "text/plain": [
       "['ID',\n",
       " 'Number of Records',\n",
       " 'Offender Count',\n",
       " 'Age Group',\n",
       " 'Age Group 5Yr Band',\n",
       " 'Person/Organisation',\n",
       " 'ROV Division',\n",
       " 'ROV Group',\n",
       " 'ROVSubdivision']"
      ]
     },
     "execution_count": 9,
     "metadata": {},
     "output_type": "execute_result"
    }
   ],
   "source": [
    "df2.columns"
   ]
  },
  {
   "cell_type": "code",
   "execution_count": 10,
   "metadata": {},
   "outputs": [
    {
     "name": "stdout",
     "output_type": "stream",
     "text": [
      "+-------+-----------------+--------------------+--------------------+--------------------+--------------+------------------+------------------+--------------------+---------------+---------------------+----------+----------+\n",
      "|summary|               ID|     ANZSOC Division|        ANZSOC Group|  ANZSOC Subdivision|     Ethnicity|         Frequency|      Mop Division|         Police Area|Police District|Proceedings Frequency|       SEX|Year Month|\n",
      "+-------+-----------------+--------------------+--------------------+--------------------+--------------+------------------+------------------+--------------------+---------------+---------------------+----------+----------+\n",
      "|  count|            67788|               67788|               67788|               67788|         67788|             67788|             67788|               67788|          67788|                67788|     67788|     67788|\n",
      "|   mean|81035.48884758365|                null|                null|                null|          null|  1.65028027262883|              null|                null|           null|     1.65028027262883|      null|      null|\n",
      "| stddev|45521.36948604581|                null|                null|                null|          null|0.9199750484505007|              null|                null|           null|   0.9199750484505007|      null|      null|\n",
      "|    min|                1|Abduction, Harass...|Abduction and Kid...|Abduction and Kid...|       African|                 1|      Court Action|Auckland Central ...|  Auckland City|                    1|    Female| 1/01/2021|\n",
      "|    max|            99999|Unlawful Entry Wi...|    Use Illicit Drug|Unlawful Entry Wi...|Pacific Island|            5 to 9|Not Proceeded With|  Auckland West Area|  Auckland City|               5 to 9|Not Stated| 1/12/2020|\n",
      "+-------+-----------------+--------------------+--------------------+--------------------+--------------+------------------+------------------+--------------------+---------------+---------------------+----------+----------+\n",
      "\n"
     ]
    }
   ],
   "source": [
    "df1.describe().show()"
   ]
  },
  {
   "cell_type": "code",
   "execution_count": 11,
   "metadata": {},
   "outputs": [
    {
     "name": "stdout",
     "output_type": "stream",
     "text": [
      "+-------+-----------------+-----------------+------------------+------------+--------------------+-------------------+---------------+--------------+--------------+\n",
      "|summary|               ID|Number of Records|    Offender Count|   Age Group|  Age Group 5Yr Band|Person/Organisation|   ROV Division|     ROV Group|ROVSubdivision|\n",
      "+-------+-----------------+-----------------+------------------+------------+--------------------+-------------------+---------------+--------------+--------------+\n",
      "|  count|            67788|            67788|             67788|       58976|               58976|              58976|          39337|         39337|         39337|\n",
      "|   mean|81035.48884758365|              1.0|1.9323626600578274|        null|                null|               null|           null|          null|          null|\n",
      "| stddev|45521.36948604581|              0.0|3.3938705408996217|        null|                null|               null|           null|          null|          null|\n",
      "|    min|                1|                1|                 1|       10-14|10 - 14 years inc...|             Person|Known To Victim|Boy/Girlfriend| Family Member|\n",
      "|    max|            99999|                1|             98.00|NotSpecified|       Not Specified|             Person|       Stranger|      Stranger|      Stranger|\n",
      "+-------+-----------------+-----------------+------------------+------------+--------------------+-------------------+---------------+--------------+--------------+\n",
      "\n"
     ]
    }
   ],
   "source": [
    "df2.describe().show()"
   ]
  },
  {
   "cell_type": "code",
   "execution_count": 12,
   "metadata": {},
   "outputs": [
    {
     "data": {
      "text/plain": [
       "DataFrame[summary: string, ID: string, ANZSOC Division: string, ANZSOC Group: string, ANZSOC Subdivision: string, Ethnicity: string, Frequency: string, Mop Division: string, Police Area: string, Police District: string, Proceedings Frequency: string, SEX: string, Year Month: string]"
      ]
     },
     "execution_count": 12,
     "metadata": {},
     "output_type": "execute_result"
    }
   ],
   "source": [
    "df1.describe()"
   ]
  },
  {
   "cell_type": "code",
   "execution_count": 13,
   "metadata": {},
   "outputs": [],
   "source": [
    "master = df1.join(df2, \"ID\", how = 'left_outer')"
   ]
  },
  {
   "cell_type": "code",
   "execution_count": 14,
   "metadata": {},
   "outputs": [
    {
     "data": {
      "text/plain": [
       "['ID',\n",
       " 'ANZSOC Division',\n",
       " 'ANZSOC Group',\n",
       " 'ANZSOC Subdivision',\n",
       " 'Ethnicity',\n",
       " 'Frequency',\n",
       " 'Mop Division',\n",
       " 'Police Area',\n",
       " 'Police District',\n",
       " 'Proceedings Frequency',\n",
       " 'SEX',\n",
       " 'Year Month',\n",
       " 'Number of Records',\n",
       " 'Offender Count',\n",
       " 'Age Group',\n",
       " 'Age Group 5Yr Band',\n",
       " 'Person/Organisation',\n",
       " 'ROV Division',\n",
       " 'ROV Group',\n",
       " 'ROVSubdivision']"
      ]
     },
     "execution_count": 14,
     "metadata": {},
     "output_type": "execute_result"
    }
   ],
   "source": [
    "master.columns"
   ]
  },
  {
   "cell_type": "code",
   "execution_count": 15,
   "metadata": {},
   "outputs": [
    {
     "name": "stdout",
     "output_type": "stream",
     "text": [
      "+-------+-----------------+\n",
      "|summary|               ID|\n",
      "+-------+-----------------+\n",
      "|  count|            67788|\n",
      "|   mean|81035.48884758365|\n",
      "| stddev|45521.36948604581|\n",
      "|    min|                1|\n",
      "|    max|            99999|\n",
      "+-------+-----------------+\n",
      "\n"
     ]
    },
    {
     "data": {
      "text/plain": [
       "DataFrame[summary: string, ID: string, ANZSOC Division: string, ANZSOC Group: string, ANZSOC Subdivision: string, Ethnicity: string, Frequency: string, Mop Division: string, Police Area: string, Police District: string, Proceedings Frequency: string, SEX: string, Year Month: string, Number of Records: string, Offender Count: string, Age Group: string, Age Group 5Yr Band: string, Person/Organisation: string, ROV Division: string, ROV Group: string, ROVSubdivision: string]"
      ]
     },
     "execution_count": 15,
     "metadata": {},
     "output_type": "execute_result"
    }
   ],
   "source": [
    "master.select(\"ID\").describe().show()\n",
    "master.describe()"
   ]
  },
  {
   "cell_type": "code",
   "execution_count": 16,
   "metadata": {
    "scrolled": true
   },
   "outputs": [
    {
     "name": "stdout",
     "output_type": "stream",
     "text": [
      "+---+---------------+------------+------------------+---------+---------+------------+-----------+---------------+---------------------+---+----------+-----------------+--------------+---------+------------------+-------------------+------------+---------+--------------+\n",
      "| ID|ANZSOC Division|ANZSOC Group|ANZSOC Subdivision|Ethnicity|Frequency|Mop Division|Police Area|Police District|Proceedings Frequency|SEX|Year Month|Number of Records|Offender Count|Age Group|Age Group 5Yr Band|Person/Organisation|ROV Division|ROV Group|ROVSubdivision|\n",
      "+---+---------------+------------+------------------+---------+---------+------------+-----------+---------------+---------------------+---+----------+-----------------+--------------+---------+------------------+-------------------+------------+---------+--------------+\n",
      "|  0|              0|           0|                 0|        0|        0|           0|          0|              0|                    0|  0|         0|                0|             0|     8812|              8812|               8812|       28451|    28451|         28451|\n",
      "+---+---------------+------------+------------------+---------+---------+------------+-----------+---------------+---------------------+---+----------+-----------------+--------------+---------+------------------+-------------------+------------+---------+--------------+\n",
      "\n"
     ]
    }
   ],
   "source": [
    "#find count of null,Nan\n",
    "from pyspark.sql.functions import col,isnan, when, count\n",
    "master.select([count(when(isnan(c) | col(c).isNull(), c)).alias(c) for c in master.columns]).show()"
   ]
  },
  {
   "cell_type": "code",
   "execution_count": 17,
   "metadata": {},
   "outputs": [
    {
     "data": {
      "text/plain": [
       "[Row(Number of Records='1'),\n",
       " Row(Number of Records='1'),\n",
       " Row(Number of Records='1'),\n",
       " Row(Number of Records='1'),\n",
       " Row(Number of Records='1')]"
      ]
     },
     "execution_count": 17,
     "metadata": {},
     "output_type": "execute_result"
    }
   ],
   "source": [
    "master.select(\"Number of Records\").head(5)\n"
   ]
  },
  {
   "cell_type": "code",
   "execution_count": 18,
   "metadata": {},
   "outputs": [
    {
     "name": "stdout",
     "output_type": "stream",
     "text": [
      "+-------+-----------------+\n",
      "|summary|Number of Records|\n",
      "+-------+-----------------+\n",
      "|  count|            67788|\n",
      "|   mean|              1.0|\n",
      "| stddev|              0.0|\n",
      "|    min|                1|\n",
      "|    max|                1|\n",
      "+-------+-----------------+\n",
      "\n"
     ]
    }
   ],
   "source": [
    "master.select(\"Number of Records\").describe().show()\n"
   ]
  },
  {
   "cell_type": "code",
   "execution_count": 19,
   "metadata": {},
   "outputs": [
    {
     "name": "stdout",
     "output_type": "stream",
     "text": [
      "+--------------+\n",
      "|SEX           |\n",
      "+--------------+\n",
      "|Female        |\n",
      "|Male          |\n",
      "|Not Applicable|\n",
      "|Not Stated    |\n",
      "+--------------+\n",
      "\n"
     ]
    }
   ],
   "source": [
    "#showing the Unique values in the data\n",
    "master.dropDuplicates(([\"SEX\"])).select(\"SEX\").show(truncate = False)"
   ]
  },
  {
   "cell_type": "code",
   "execution_count": 20,
   "metadata": {},
   "outputs": [
    {
     "name": "stdout",
     "output_type": "stream",
     "text": [
      "+-------------------+\n",
      "|Person/Organisation|\n",
      "+-------------------+\n",
      "|null               |\n",
      "|Person             |\n",
      "+-------------------+\n",
      "\n"
     ]
    }
   ],
   "source": [
    "master.dropDuplicates(([\"Person/Organisation\"])).select(\"Person/Organisation\").show(truncate = False)"
   ]
  },
  {
   "cell_type": "code",
   "execution_count": 21,
   "metadata": {},
   "outputs": [],
   "source": [
    "#data cleaning begins here:\n",
    "\n",
    "master = master.dropna()"
   ]
  },
  {
   "cell_type": "code",
   "execution_count": 22,
   "metadata": {},
   "outputs": [
    {
     "name": "stdout",
     "output_type": "stream",
     "text": [
      "+---+---------------+------------+------------------+---------+---------+------------+-----------+---------------+---------------------+---+----------+-----------------+--------------+---------+------------------+-------------------+------------+---------+--------------+\n",
      "| ID|ANZSOC Division|ANZSOC Group|ANZSOC Subdivision|Ethnicity|Frequency|Mop Division|Police Area|Police District|Proceedings Frequency|SEX|Year Month|Number of Records|Offender Count|Age Group|Age Group 5Yr Band|Person/Organisation|ROV Division|ROV Group|ROVSubdivision|\n",
      "+---+---------------+------------+------------------+---------+---------+------------+-----------+---------------+---------------------+---+----------+-----------------+--------------+---------+------------------+-------------------+------------+---------+--------------+\n",
      "|  0|              0|           0|                 0|        0|        0|           0|          0|              0|                    0|  0|         0|                0|             0|        0|                 0|                  0|           0|        0|             0|\n",
      "+---+---------------+------------+------------------+---------+---------+------------+-----------+---------------+---------------------+---+----------+-----------------+--------------+---------+------------------+-------------------+------------+---------+--------------+\n",
      "\n"
     ]
    }
   ],
   "source": [
    "master.select([count(when(isnan(c) | col(c).isNull(), c)).alias(c) for c in master.columns]).show()"
   ]
  },
  {
   "cell_type": "code",
   "execution_count": 23,
   "metadata": {},
   "outputs": [
    {
     "name": "stdout",
     "output_type": "stream",
     "text": [
      "+-------+------------------+\n",
      "|summary|                ID|\n",
      "+-------+------------------+\n",
      "|  count|             36530|\n",
      "|   mean| 48175.14202025732|\n",
      "| stddev|27827.329162468708|\n",
      "|    min|                 1|\n",
      "|    max|               999|\n",
      "+-------+------------------+\n",
      "\n"
     ]
    }
   ],
   "source": [
    "master.select(\"ID\").describe().show()"
   ]
  },
  {
   "cell_type": "code",
   "execution_count": 26,
   "metadata": {},
   "outputs": [],
   "source": [
    "master = master.filter((master.Ethnicity != \"Not Elsewhere Classified\") &  (master.Ethnicity != \"Not Stated\") & (master.Ethnicity != \"Organisation\"))"
   ]
  },
  {
   "cell_type": "code",
   "execution_count": 27,
   "metadata": {},
   "outputs": [
    {
     "name": "stdout",
     "output_type": "stream",
     "text": [
      "+-------+--------------+\n",
      "|summary|     Ethnicity|\n",
      "+-------+--------------+\n",
      "|  count|         32392|\n",
      "|   mean|          null|\n",
      "| stddev|          null|\n",
      "|    min|       African|\n",
      "|    max|Pacific Island|\n",
      "+-------+--------------+\n",
      "\n"
     ]
    }
   ],
   "source": [
    "master.select(\"Ethnicity\").describe().show()"
   ]
  },
  {
   "cell_type": "code",
   "execution_count": 28,
   "metadata": {},
   "outputs": [],
   "source": [
    "master = master.filter((master.SEX != \"Not Applicable\") & (master.SEX != \"Not Stated\") )"
   ]
  },
  {
   "cell_type": "code",
   "execution_count": 29,
   "metadata": {},
   "outputs": [
    {
     "name": "stdout",
     "output_type": "stream",
     "text": [
      "+-------+------+\n",
      "|summary|   SEX|\n",
      "+-------+------+\n",
      "|  count| 32347|\n",
      "|   mean|  null|\n",
      "| stddev|  null|\n",
      "|    min|Female|\n",
      "|    max|  Male|\n",
      "+-------+------+\n",
      "\n"
     ]
    }
   ],
   "source": [
    "master.select(\"SEX\").describe().show()"
   ]
  },
  {
   "cell_type": "code",
   "execution_count": 45,
   "metadata": {},
   "outputs": [],
   "source": [
    "age = \"Age Group\""
   ]
  },
  {
   "cell_type": "code",
   "execution_count": 50,
   "metadata": {},
   "outputs": [],
   "source": [
    "master = master[master[\"Age Group\"] != \"NotSpecified\"]"
   ]
  },
  {
   "cell_type": "code",
   "execution_count": 51,
   "metadata": {},
   "outputs": [
    {
     "name": "stdout",
     "output_type": "stream",
     "text": [
      "+-------+-------------+\n",
      "|summary|    Age Group|\n",
      "+-------+-------------+\n",
      "|  count|        32313|\n",
      "|   mean|         null|\n",
      "| stddev|         null|\n",
      "|    min|        10-14|\n",
      "|    max|80yearsorover|\n",
      "+-------+-------------+\n",
      "\n"
     ]
    }
   ],
   "source": [
    "master.select(\"Age Group\").describe().show()"
   ]
  },
  {
   "cell_type": "code",
   "execution_count": 52,
   "metadata": {},
   "outputs": [],
   "source": [
    "master = master[master[\"Age Group 5Yr Band\"] != \"Not Specified\"]"
   ]
  },
  {
   "cell_type": "code",
   "execution_count": 53,
   "metadata": {},
   "outputs": [
    {
     "name": "stdout",
     "output_type": "stream",
     "text": [
      "+-------------+\n",
      "|Age Group    |\n",
      "+-------------+\n",
      "|5-9          |\n",
      "|20-24        |\n",
      "|65-69        |\n",
      "|75-79        |\n",
      "|80yearsorover|\n",
      "|30-34        |\n",
      "|70-74        |\n",
      "|15-19        |\n",
      "|10-14        |\n",
      "|50-54        |\n",
      "|35-39        |\n",
      "|45-49        |\n",
      "|25-29        |\n",
      "|40-44        |\n",
      "|55-59        |\n",
      "|60-64        |\n",
      "+-------------+\n",
      "\n"
     ]
    }
   ],
   "source": [
    "master.dropDuplicates(([\"Age Group\"])).select(\"Age Group\").show(truncate = False)"
   ]
  },
  {
   "cell_type": "code",
   "execution_count": 54,
   "metadata": {},
   "outputs": [
    {
     "name": "stdout",
     "output_type": "stream",
     "text": [
      "+---------------------------------+\n",
      "|ROV Division                     |\n",
      "+---------------------------------+\n",
      "|Stranger                         |\n",
      "|Known To Victim                  |\n",
      "|Not Applicable                   |\n",
      "|Not Stated/Inadequately Described|\n",
      "+---------------------------------+\n",
      "\n"
     ]
    }
   ],
   "source": [
    "master.dropDuplicates(([\"ROV Division\"])).select(\"ROV Division\").show(truncate = False)"
   ]
  },
  {
   "cell_type": "code",
   "execution_count": null,
   "metadata": {},
   "outputs": [],
   "source": []
  }
 ],
 "metadata": {
  "kernelspec": {
   "display_name": "Python 3",
   "language": "python",
   "name": "python3"
  },
  "language_info": {
   "codemirror_mode": {
    "name": "ipython",
    "version": 3
   },
   "file_extension": ".py",
   "mimetype": "text/x-python",
   "name": "python",
   "nbconvert_exporter": "python",
   "pygments_lexer": "ipython3",
   "version": "3.5.2"
  }
 },
 "nbformat": 4,
 "nbformat_minor": 2
}
