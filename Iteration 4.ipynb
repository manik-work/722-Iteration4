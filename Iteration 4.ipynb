{
 "cells": [
  {
   "cell_type": "code",
   "execution_count": 1,
   "metadata": {},
   "outputs": [],
   "source": [
    "import findspark\n",
    "findspark.init('/home/ubuntu/spark-2.1.1-bin-hadoop2.7')\n",
    "import pyspark\n",
    "from pyspark.sql import SparkSession\n",
    "spark = SparkSession.builder.appName('police_data_analysis').getOrCreate()"
   ]
  },
  {
   "cell_type": "code",
   "execution_count": 2,
   "metadata": {},
   "outputs": [],
   "source": [
    "df1 = spark.read.load('Datasets/ANSZOC_E_Area.csv', format = 'csv', header = 'true')"
   ]
  },
  {
   "cell_type": "code",
   "execution_count": 3,
   "metadata": {},
   "outputs": [],
   "source": [
    "df2 = spark.read.load('Datasets/Offender_A_ROV.csv', format = 'csv', header = 'true')"
   ]
  },
  {
   "cell_type": "code",
   "execution_count": 4,
   "metadata": {
    "scrolled": false
   },
   "outputs": [
    {
     "name": "stdout",
     "output_type": "stream",
     "text": [
      "+---+--------------------+--------------------+--------------------+--------------+----------+----------------+--------------------+---------------+---------------------+----+----------+\n",
      "| ID|     ANZSOC Division|        ANZSOC Group|  ANZSOC Subdivision|     Ethnicity| Frequency|    Mop Division|         Police Area|Police District|Proceedings Frequency| SEX|Year Month|\n",
      "+---+--------------------+--------------------+--------------------+--------------+----------+----------------+--------------------+---------------+---------------------+----+----------+\n",
      "|  1|Acts Intended to ...|      Common Assault|             Assault|Pacific Island|10 or more|Non-Court Action|Auckland Central ...|  Auckland City|           10 or more|Male| 1/02/2020|\n",
      "|  2|Acts Intended to ...|      Common Assault|             Assault|Pacific Island|10 or more|Non-Court Action|Auckland Central ...|  Auckland City|           10 or more|Male| 1/02/2020|\n",
      "|  3|Acts Intended to ...|      Common Assault|             Assault|      European|         2|Non-Court Action|Auckland Central ...|  Auckland City|                    2|Male| 1/02/2020|\n",
      "|  4|Acts Intended to ...|Serious Assault N...|             Assault|Pacific Island|         2|Non-Court Action|  Auckland East Area|  Auckland City|                    2|Male| 1/02/2020|\n",
      "|  5|Acts Intended to ...|Serious Assault N...|             Assault|Pacific Island|         2|Non-Court Action|  Auckland East Area|  Auckland City|                    2|Male| 1/02/2020|\n",
      "|  6|Acts Intended to ...|Serious Assault N...|             Assault|Pacific Island|         2|Non-Court Action|  Auckland East Area|  Auckland City|                    2|Male| 1/02/2020|\n",
      "|  7|Acts Intended to ...|      Common Assault|             Assault|        Indian|         2|Non-Court Action|  Auckland West Area|  Auckland City|                    2|Male| 1/02/2020|\n",
      "|  8|Acts Intended to ...|      Common Assault|             Assault|        Indian|         2|Non-Court Action|  Auckland West Area|  Auckland City|                    2|Male| 1/02/2020|\n",
      "|  9|Acts Intended to ...|      Common Assault|             Assault|Pacific Island|         2|Non-Court Action|  Auckland West Area|  Auckland City|                    2|Male| 1/02/2020|\n",
      "| 10|Acts Intended to ...|Serious Assault N...|             Assault|Pacific Island|         2|Non-Court Action|  Auckland West Area|  Auckland City|                    2|Male| 1/02/2020|\n",
      "| 11|Acts Intended to ...|Serious Assault N...|             Assault|Pacific Island|         2|Non-Court Action|  Auckland West Area|  Auckland City|                    2|Male| 1/02/2020|\n",
      "| 12|Acts Intended to ...|Serious Assault N...|             Assault|Pacific Island|         2|Non-Court Action|  Auckland West Area|  Auckland City|                    2|Male| 1/02/2020|\n",
      "| 13|Robbery, Extortio...|  Aggravated Robbery|             Robbery|      European|         2|Non-Court Action|  Auckland West Area|  Auckland City|                    2|Male| 1/02/2020|\n",
      "| 14|Robbery, Extortio...|  Aggravated Robbery|             Robbery|         Maori|         2|Non-Court Action|  Auckland West Area|  Auckland City|                    2|Male| 1/02/2020|\n",
      "| 53|Abduction, Harass...|Threatening Behav...|Harassment and Th...|Pacific Island|         3|Non-Court Action|  Auckland East Area|  Auckland City|                    3|Male| 1/02/2020|\n",
      "| 65|Acts Intended to ...|      Common Assault|             Assault|         Maori|         4|Non-Court Action|Auckland Central ...|  Auckland City|                    4|Male| 1/02/2020|\n",
      "| 66|Acts Intended to ...|      Common Assault|             Assault|         Maori|         4|Non-Court Action|Auckland Central ...|  Auckland City|                    4|Male| 1/02/2020|\n",
      "| 67|Acts Intended to ...|      Common Assault|             Assault|         Maori|         4|Non-Court Action|Auckland Central ...|  Auckland City|                    4|Male| 1/02/2020|\n",
      "| 68|Acts Intended to ...|      Common Assault|             Assault|      European|         4|Non-Court Action|  Auckland East Area|  Auckland City|                    4|Male| 1/02/2020|\n",
      "| 69|Acts Intended to ...|      Common Assault|             Assault|      European|         4|Non-Court Action|  Auckland East Area|  Auckland City|                    4|Male| 1/02/2020|\n",
      "+---+--------------------+--------------------+--------------------+--------------+----------+----------------+--------------------+---------------+---------------------+----+----------+\n",
      "only showing top 20 rows\n",
      "\n"
     ]
    }
   ],
   "source": [
    "df1.show()"
   ]
  },
  {
   "cell_type": "code",
   "execution_count": 5,
   "metadata": {},
   "outputs": [
    {
     "name": "stdout",
     "output_type": "stream",
     "text": [
      "+---+-----------------+--------------+---------+--------------------+-------------------+---------------+-------------------+-----------------+\n",
      "| ID|Number of Records|Offender Count|Age Group|  Age Group 5Yr Band|Person/Organisation|   ROV Division|          ROV Group|   ROVSubdivision|\n",
      "+---+-----------------+--------------+---------+--------------------+-------------------+---------------+-------------------+-----------------+\n",
      "|  1|                1|          1.00|    15-19|15 - 19 years inc...|             Person|Known To Victim|Known To Each Other|Non Family Member|\n",
      "|  2|                1|             1|    20-24|20 - 24 years inc...|             Person|Known To Victim|Known To Each Other|Non Family Member|\n",
      "|  3|                1|          2.00|     null|                null|               null|Known To Victim|Known To Each Other|Non Family Member|\n",
      "|  4|                1|          1.00|    15-19|15 - 19 years inc...|             Person|Known To Victim|Known To Each Other|Non Family Member|\n",
      "|  5|                1|          1.00|    25-29|25 - 29 years inc...|             Person|Known To Victim|Known To Each Other|Non Family Member|\n",
      "|  6|                1|          1.00|    40-44|40 - 44 years inc...|             Person|Known To Victim|Known To Each Other|Non Family Member|\n",
      "|  7|                1|          1.00|    20-24|20 - 24 years inc...|             Person|Known To Victim|Known To Each Other|Non Family Member|\n",
      "|  8|                1|          1.00|    40-44|40 - 44 years inc...|             Person|Known To Victim|Known To Each Other|Non Family Member|\n",
      "|  9|                1|          1.00|    15-19|15 - 19 years inc...|             Person|Known To Victim|Known To Each Other|Non Family Member|\n",
      "| 10|                1|          1.00|    15-19|15 - 19 years inc...|             Person|Known To Victim|Known To Each Other|Non Family Member|\n",
      "| 11|                1|          1.00|    25-29|25 - 29 years inc...|             Person|Known To Victim|Known To Each Other|Non Family Member|\n",
      "| 12|                1|          1.00|    40-44|40 - 44 years inc...|             Person|Known To Victim|Known To Each Other|Non Family Member|\n",
      "| 13|                1|          1.00|     null|                null|               null|Known To Victim|Known To Each Other|Non Family Member|\n",
      "| 14|                1|          1.00|     null|                null|               null|Known To Victim|Known To Each Other|Non Family Member|\n",
      "| 53|                1|          1.00|    45-49|45 - 49 years inc...|             Person|Known To Victim|Known To Each Other|Non Family Member|\n",
      "| 65|                1|          1.00|    25-29|25 - 29 years inc...|             Person|Known To Victim|Known To Each Other|Non Family Member|\n",
      "| 66|                1|          1.00|    35-39|35 - 39 years inc...|             Person|Known To Victim|Known To Each Other|Non Family Member|\n",
      "| 67|                1|          1.00|    45-49|45 - 49 years inc...|             Person|Known To Victim|Known To Each Other|Non Family Member|\n",
      "| 68|                1|          1.00|    10-14|10 - 14 years inc...|             Person|Known To Victim|Known To Each Other|Non Family Member|\n",
      "| 69|                1|          1.00|    20-24|20 - 24 years inc...|             Person|Known To Victim|Known To Each Other|Non Family Member|\n",
      "+---+-----------------+--------------+---------+--------------------+-------------------+---------------+-------------------+-----------------+\n",
      "only showing top 20 rows\n",
      "\n"
     ]
    }
   ],
   "source": [
    "df2.show()"
   ]
  },
  {
   "cell_type": "code",
   "execution_count": 6,
   "metadata": {
    "scrolled": true
   },
   "outputs": [
    {
     "data": {
      "text/plain": [
       "['ID',\n",
       " 'ANZSOC Division',\n",
       " 'ANZSOC Group',\n",
       " 'ANZSOC Subdivision',\n",
       " 'Ethnicity',\n",
       " 'Frequency',\n",
       " 'Mop Division',\n",
       " 'Police Area',\n",
       " 'Police District',\n",
       " 'Proceedings Frequency',\n",
       " 'SEX',\n",
       " 'Year Month']"
      ]
     },
     "execution_count": 6,
     "metadata": {},
     "output_type": "execute_result"
    }
   ],
   "source": [
    "df1.columns"
   ]
  },
  {
   "cell_type": "code",
   "execution_count": 7,
   "metadata": {},
   "outputs": [
    {
     "name": "stdout",
     "output_type": "stream",
     "text": [
      "+-------+-----------------+\n",
      "|summary|               ID|\n",
      "+-------+-----------------+\n",
      "|  count|            67788|\n",
      "|   mean|81035.48884758365|\n",
      "| stddev|45521.36948604581|\n",
      "|    min|                1|\n",
      "|    max|            99999|\n",
      "+-------+-----------------+\n",
      "\n"
     ]
    }
   ],
   "source": [
    "df1.select(\"ID\").describe().show()"
   ]
  },
  {
   "cell_type": "code",
   "execution_count": 8,
   "metadata": {},
   "outputs": [
    {
     "name": "stdout",
     "output_type": "stream",
     "text": [
      "+-------+-----------------+\n",
      "|summary|               ID|\n",
      "+-------+-----------------+\n",
      "|  count|            67788|\n",
      "|   mean|81035.48884758365|\n",
      "| stddev|45521.36948604581|\n",
      "|    min|                1|\n",
      "|    max|            99999|\n",
      "+-------+-----------------+\n",
      "\n"
     ]
    }
   ],
   "source": [
    "df2.select(\"ID\").describe().show()"
   ]
  },
  {
   "cell_type": "code",
   "execution_count": 9,
   "metadata": {
    "scrolled": false
   },
   "outputs": [
    {
     "data": {
      "text/plain": [
       "['ID',\n",
       " 'Number of Records',\n",
       " 'Offender Count',\n",
       " 'Age Group',\n",
       " 'Age Group 5Yr Band',\n",
       " 'Person/Organisation',\n",
       " 'ROV Division',\n",
       " 'ROV Group',\n",
       " 'ROVSubdivision']"
      ]
     },
     "execution_count": 9,
     "metadata": {},
     "output_type": "execute_result"
    }
   ],
   "source": [
    "df2.columns"
   ]
  },
  {
   "cell_type": "code",
   "execution_count": 10,
   "metadata": {},
   "outputs": [
    {
     "name": "stdout",
     "output_type": "stream",
     "text": [
      "+-------+-----------------+--------------------+--------------------+--------------------+--------------+------------------+------------------+--------------------+---------------+---------------------+----------+----------+\n",
      "|summary|               ID|     ANZSOC Division|        ANZSOC Group|  ANZSOC Subdivision|     Ethnicity|         Frequency|      Mop Division|         Police Area|Police District|Proceedings Frequency|       SEX|Year Month|\n",
      "+-------+-----------------+--------------------+--------------------+--------------------+--------------+------------------+------------------+--------------------+---------------+---------------------+----------+----------+\n",
      "|  count|            67788|               67788|               67788|               67788|         67788|             67788|             67788|               67788|          67788|                67788|     67788|     67788|\n",
      "|   mean|81035.48884758365|                null|                null|                null|          null|  1.65028027262883|              null|                null|           null|     1.65028027262883|      null|      null|\n",
      "| stddev|45521.36948604581|                null|                null|                null|          null|0.9199750484505007|              null|                null|           null|   0.9199750484505007|      null|      null|\n",
      "|    min|                1|Abduction, Harass...|Abduction and Kid...|Abduction and Kid...|       African|                 1|      Court Action|Auckland Central ...|  Auckland City|                    1|    Female| 1/01/2021|\n",
      "|    max|            99999|Unlawful Entry Wi...|    Use Illicit Drug|Unlawful Entry Wi...|Pacific Island|            5 to 9|Not Proceeded With|  Auckland West Area|  Auckland City|               5 to 9|Not Stated| 1/12/2020|\n",
      "+-------+-----------------+--------------------+--------------------+--------------------+--------------+------------------+------------------+--------------------+---------------+---------------------+----------+----------+\n",
      "\n"
     ]
    }
   ],
   "source": [
    "df1.describe().show()"
   ]
  },
  {
   "cell_type": "code",
   "execution_count": 11,
   "metadata": {},
   "outputs": [
    {
     "name": "stdout",
     "output_type": "stream",
     "text": [
      "+-------+-----------------+-----------------+------------------+------------+--------------------+-------------------+---------------+--------------+--------------+\n",
      "|summary|               ID|Number of Records|    Offender Count|   Age Group|  Age Group 5Yr Band|Person/Organisation|   ROV Division|     ROV Group|ROVSubdivision|\n",
      "+-------+-----------------+-----------------+------------------+------------+--------------------+-------------------+---------------+--------------+--------------+\n",
      "|  count|            67788|            67788|             67788|       58976|               58976|              58976|          39337|         39337|         39337|\n",
      "|   mean|81035.48884758365|              1.0|1.9323626600578274|        null|                null|               null|           null|          null|          null|\n",
      "| stddev|45521.36948604581|              0.0|3.3938705408996217|        null|                null|               null|           null|          null|          null|\n",
      "|    min|                1|                1|                 1|       10-14|10 - 14 years inc...|             Person|Known To Victim|Boy/Girlfriend| Family Member|\n",
      "|    max|            99999|                1|             98.00|NotSpecified|       Not Specified|             Person|       Stranger|      Stranger|      Stranger|\n",
      "+-------+-----------------+-----------------+------------------+------------+--------------------+-------------------+---------------+--------------+--------------+\n",
      "\n"
     ]
    }
   ],
   "source": [
    "df2.describe().show()"
   ]
  },
  {
   "cell_type": "code",
   "execution_count": 12,
   "metadata": {},
   "outputs": [
    {
     "data": {
      "text/plain": [
       "DataFrame[summary: string, ID: string, ANZSOC Division: string, ANZSOC Group: string, ANZSOC Subdivision: string, Ethnicity: string, Frequency: string, Mop Division: string, Police Area: string, Police District: string, Proceedings Frequency: string, SEX: string, Year Month: string]"
      ]
     },
     "execution_count": 12,
     "metadata": {},
     "output_type": "execute_result"
    }
   ],
   "source": [
    "df1.describe()"
   ]
  },
  {
   "cell_type": "code",
   "execution_count": 13,
   "metadata": {},
   "outputs": [],
   "source": [
    "master = df1.join(df2, \"ID\", how = 'left_outer')"
   ]
  },
  {
   "cell_type": "code",
   "execution_count": 14,
   "metadata": {},
   "outputs": [
    {
     "data": {
      "text/plain": [
       "['ID',\n",
       " 'ANZSOC Division',\n",
       " 'ANZSOC Group',\n",
       " 'ANZSOC Subdivision',\n",
       " 'Ethnicity',\n",
       " 'Frequency',\n",
       " 'Mop Division',\n",
       " 'Police Area',\n",
       " 'Police District',\n",
       " 'Proceedings Frequency',\n",
       " 'SEX',\n",
       " 'Year Month',\n",
       " 'Number of Records',\n",
       " 'Offender Count',\n",
       " 'Age Group',\n",
       " 'Age Group 5Yr Band',\n",
       " 'Person/Organisation',\n",
       " 'ROV Division',\n",
       " 'ROV Group',\n",
       " 'ROVSubdivision']"
      ]
     },
     "execution_count": 14,
     "metadata": {},
     "output_type": "execute_result"
    }
   ],
   "source": [
    "master.columns"
   ]
  },
  {
   "cell_type": "code",
   "execution_count": 15,
   "metadata": {},
   "outputs": [
    {
     "name": "stdout",
     "output_type": "stream",
     "text": [
      "+-------+-----------------+\n",
      "|summary|               ID|\n",
      "+-------+-----------------+\n",
      "|  count|            67788|\n",
      "|   mean|81035.48884758365|\n",
      "| stddev|45521.36948604581|\n",
      "|    min|                1|\n",
      "|    max|            99999|\n",
      "+-------+-----------------+\n",
      "\n"
     ]
    },
    {
     "data": {
      "text/plain": [
       "DataFrame[summary: string, ID: string, ANZSOC Division: string, ANZSOC Group: string, ANZSOC Subdivision: string, Ethnicity: string, Frequency: string, Mop Division: string, Police Area: string, Police District: string, Proceedings Frequency: string, SEX: string, Year Month: string, Number of Records: string, Offender Count: string, Age Group: string, Age Group 5Yr Band: string, Person/Organisation: string, ROV Division: string, ROV Group: string, ROVSubdivision: string]"
      ]
     },
     "execution_count": 15,
     "metadata": {},
     "output_type": "execute_result"
    }
   ],
   "source": [
    "master.select(\"ID\").describe().show()\n",
    "master.describe()"
   ]
  },
  {
   "cell_type": "code",
   "execution_count": 16,
   "metadata": {
    "scrolled": true
   },
   "outputs": [
    {
     "name": "stdout",
     "output_type": "stream",
     "text": [
      "+---+---------------+------------+------------------+---------+---------+------------+-----------+---------------+---------------------+---+----------+-----------------+--------------+---------+------------------+-------------------+------------+---------+--------------+\n",
      "| ID|ANZSOC Division|ANZSOC Group|ANZSOC Subdivision|Ethnicity|Frequency|Mop Division|Police Area|Police District|Proceedings Frequency|SEX|Year Month|Number of Records|Offender Count|Age Group|Age Group 5Yr Band|Person/Organisation|ROV Division|ROV Group|ROVSubdivision|\n",
      "+---+---------------+------------+------------------+---------+---------+------------+-----------+---------------+---------------------+---+----------+-----------------+--------------+---------+------------------+-------------------+------------+---------+--------------+\n",
      "|  0|              0|           0|                 0|        0|        0|           0|          0|              0|                    0|  0|         0|                0|             0|     8812|              8812|               8812|       28451|    28451|         28451|\n",
      "+---+---------------+------------+------------------+---------+---------+------------+-----------+---------------+---------------------+---+----------+-----------------+--------------+---------+------------------+-------------------+------------+---------+--------------+\n",
      "\n"
     ]
    }
   ],
   "source": [
    "#find count of null,Nan\n",
    "from pyspark.sql.functions import col,isnan, when, count\n",
    "master.select([count(when(isnan(c) | col(c).isNull(), c)).alias(c) for c in master.columns]).show()"
   ]
  },
  {
   "cell_type": "code",
   "execution_count": 17,
   "metadata": {},
   "outputs": [
    {
     "data": {
      "text/plain": [
       "[Row(Number of Records='1'),\n",
       " Row(Number of Records='1'),\n",
       " Row(Number of Records='1'),\n",
       " Row(Number of Records='1'),\n",
       " Row(Number of Records='1')]"
      ]
     },
     "execution_count": 17,
     "metadata": {},
     "output_type": "execute_result"
    }
   ],
   "source": [
    "master.select(\"Number of Records\").head(5)\n"
   ]
  },
  {
   "cell_type": "code",
   "execution_count": 18,
   "metadata": {},
   "outputs": [
    {
     "name": "stdout",
     "output_type": "stream",
     "text": [
      "+-------+-----------------+\n",
      "|summary|Number of Records|\n",
      "+-------+-----------------+\n",
      "|  count|            67788|\n",
      "|   mean|              1.0|\n",
      "| stddev|              0.0|\n",
      "|    min|                1|\n",
      "|    max|                1|\n",
      "+-------+-----------------+\n",
      "\n"
     ]
    }
   ],
   "source": [
    "master.select(\"Number of Records\").describe().show()\n"
   ]
  },
  {
   "cell_type": "code",
   "execution_count": 19,
   "metadata": {},
   "outputs": [
    {
     "name": "stdout",
     "output_type": "stream",
     "text": [
      "+--------------+\n",
      "|SEX           |\n",
      "+--------------+\n",
      "|Female        |\n",
      "|Male          |\n",
      "|Not Applicable|\n",
      "|Not Stated    |\n",
      "+--------------+\n",
      "\n"
     ]
    }
   ],
   "source": [
    "#showing the Unique values in the data\n",
    "master.dropDuplicates(([\"SEX\"])).select(\"SEX\").show(truncate = False)"
   ]
  },
  {
   "cell_type": "code",
   "execution_count": 20,
   "metadata": {},
   "outputs": [
    {
     "name": "stdout",
     "output_type": "stream",
     "text": [
      "+-------------------+\n",
      "|Person/Organisation|\n",
      "+-------------------+\n",
      "|null               |\n",
      "|Person             |\n",
      "+-------------------+\n",
      "\n"
     ]
    }
   ],
   "source": [
    "master.dropDuplicates(([\"Person/Organisation\"])).select(\"Person/Organisation\").show(truncate = False)"
   ]
  },
  {
   "cell_type": "code",
   "execution_count": 21,
   "metadata": {},
   "outputs": [],
   "source": [
    "#data cleaning begins here:\n",
    "\n",
    "master = master.dropna()"
   ]
  },
  {
   "cell_type": "code",
   "execution_count": 22,
   "metadata": {},
   "outputs": [
    {
     "name": "stdout",
     "output_type": "stream",
     "text": [
      "+---+---------------+------------+------------------+---------+---------+------------+-----------+---------------+---------------------+---+----------+-----------------+--------------+---------+------------------+-------------------+------------+---------+--------------+\n",
      "| ID|ANZSOC Division|ANZSOC Group|ANZSOC Subdivision|Ethnicity|Frequency|Mop Division|Police Area|Police District|Proceedings Frequency|SEX|Year Month|Number of Records|Offender Count|Age Group|Age Group 5Yr Band|Person/Organisation|ROV Division|ROV Group|ROVSubdivision|\n",
      "+---+---------------+------------+------------------+---------+---------+------------+-----------+---------------+---------------------+---+----------+-----------------+--------------+---------+------------------+-------------------+------------+---------+--------------+\n",
      "|  0|              0|           0|                 0|        0|        0|           0|          0|              0|                    0|  0|         0|                0|             0|        0|                 0|                  0|           0|        0|             0|\n",
      "+---+---------------+------------+------------------+---------+---------+------------+-----------+---------------+---------------------+---+----------+-----------------+--------------+---------+------------------+-------------------+------------+---------+--------------+\n",
      "\n"
     ]
    }
   ],
   "source": [
    "master.select([count(when(isnan(c) | col(c).isNull(), c)).alias(c) for c in master.columns]).show()"
   ]
  },
  {
   "cell_type": "code",
   "execution_count": 23,
   "metadata": {},
   "outputs": [
    {
     "name": "stdout",
     "output_type": "stream",
     "text": [
      "+-------+------------------+\n",
      "|summary|                ID|\n",
      "+-------+------------------+\n",
      "|  count|             36530|\n",
      "|   mean| 48175.14202025732|\n",
      "| stddev|27827.329162468708|\n",
      "|    min|                 1|\n",
      "|    max|               999|\n",
      "+-------+------------------+\n",
      "\n"
     ]
    }
   ],
   "source": [
    "master.select(\"ID\").describe().show()"
   ]
  },
  {
   "cell_type": "code",
   "execution_count": 24,
   "metadata": {},
   "outputs": [],
   "source": [
    "master = master.filter((master.Ethnicity != \"Not Elsewhere Classified\") &  (master.Ethnicity != \"Not Stated\") & (master.Ethnicity != \"Organisation\"))"
   ]
  },
  {
   "cell_type": "code",
   "execution_count": 25,
   "metadata": {},
   "outputs": [
    {
     "name": "stdout",
     "output_type": "stream",
     "text": [
      "+-------+--------------+\n",
      "|summary|     Ethnicity|\n",
      "+-------+--------------+\n",
      "|  count|         32392|\n",
      "|   mean|          null|\n",
      "| stddev|          null|\n",
      "|    min|       African|\n",
      "|    max|Pacific Island|\n",
      "+-------+--------------+\n",
      "\n"
     ]
    }
   ],
   "source": [
    "master.select(\"Ethnicity\").describe().show()"
   ]
  },
  {
   "cell_type": "code",
   "execution_count": 26,
   "metadata": {},
   "outputs": [],
   "source": [
    "master = master.filter((master.SEX != \"Not Applicable\") & (master.SEX != \"Not Stated\") )"
   ]
  },
  {
   "cell_type": "code",
   "execution_count": 27,
   "metadata": {},
   "outputs": [
    {
     "name": "stdout",
     "output_type": "stream",
     "text": [
      "+-------+------+\n",
      "|summary|   SEX|\n",
      "+-------+------+\n",
      "|  count| 32347|\n",
      "|   mean|  null|\n",
      "| stddev|  null|\n",
      "|    min|Female|\n",
      "|    max|  Male|\n",
      "+-------+------+\n",
      "\n"
     ]
    }
   ],
   "source": [
    "master.select(\"SEX\").describe().show()"
   ]
  },
  {
   "cell_type": "code",
   "execution_count": 28,
   "metadata": {},
   "outputs": [],
   "source": [
    "age = \"Age Group\""
   ]
  },
  {
   "cell_type": "code",
   "execution_count": 29,
   "metadata": {},
   "outputs": [],
   "source": [
    "master = master[master[\"Age Group\"] != \"NotSpecified\"]"
   ]
  },
  {
   "cell_type": "code",
   "execution_count": 30,
   "metadata": {},
   "outputs": [
    {
     "name": "stdout",
     "output_type": "stream",
     "text": [
      "+-------+-------------+\n",
      "|summary|    Age Group|\n",
      "+-------+-------------+\n",
      "|  count|        32313|\n",
      "|   mean|         null|\n",
      "| stddev|         null|\n",
      "|    min|        10-14|\n",
      "|    max|80yearsorover|\n",
      "+-------+-------------+\n",
      "\n"
     ]
    }
   ],
   "source": [
    "master.select(\"Age Group\").describe().show()"
   ]
  },
  {
   "cell_type": "code",
   "execution_count": 31,
   "metadata": {},
   "outputs": [],
   "source": [
    "master = master[master[\"Age Group 5Yr Band\"] != \"NotSpecified\"]"
   ]
  },
  {
   "cell_type": "code",
   "execution_count": 32,
   "metadata": {},
   "outputs": [
    {
     "name": "stdout",
     "output_type": "stream",
     "text": [
      "+-------------+\n",
      "|Age Group    |\n",
      "+-------------+\n",
      "|5-9          |\n",
      "|20-24        |\n",
      "|65-69        |\n",
      "|75-79        |\n",
      "|80yearsorover|\n",
      "|30-34        |\n",
      "|70-74        |\n",
      "|15-19        |\n",
      "|10-14        |\n",
      "|50-54        |\n",
      "|35-39        |\n",
      "|45-49        |\n",
      "|25-29        |\n",
      "|40-44        |\n",
      "|55-59        |\n",
      "|60-64        |\n",
      "+-------------+\n",
      "\n"
     ]
    }
   ],
   "source": [
    "master.dropDuplicates(([\"Age Group\"])).select(\"Age Group\").show(truncate = False)"
   ]
  },
  {
   "cell_type": "code",
   "execution_count": 33,
   "metadata": {},
   "outputs": [
    {
     "name": "stdout",
     "output_type": "stream",
     "text": [
      "+---------------------------------+\n",
      "|ROV Division                     |\n",
      "+---------------------------------+\n",
      "|Stranger                         |\n",
      "|Known To Victim                  |\n",
      "|Not Applicable                   |\n",
      "|Not Stated/Inadequately Described|\n",
      "+---------------------------------+\n",
      "\n"
     ]
    }
   ],
   "source": [
    "master.dropDuplicates(([\"ROV Division\"])).select(\"ROV Division\").show(truncate = False)"
   ]
  },
  {
   "cell_type": "code",
   "execution_count": 34,
   "metadata": {},
   "outputs": [
    {
     "name": "stdout",
     "output_type": "stream",
     "text": [
      "+---------------------------------+\n",
      "|ROV Group                        |\n",
      "+---------------------------------+\n",
      "|Known To Each Other              |\n",
      "|Partner                          |\n",
      "|Stranger                         |\n",
      "|Parent                           |\n",
      "|Family Member N.F.D.             |\n",
      "|Child                            |\n",
      "|Ex-Boy/Girlfriend                |\n",
      "|Boy/Girlfriend                   |\n",
      "|Sibling                          |\n",
      "|Not Applicable                   |\n",
      "|Not Stated/Inadequately Described|\n",
      "|Other Relative                   |\n",
      "|Ex-Partner                       |\n",
      "+---------------------------------+\n",
      "\n"
     ]
    }
   ],
   "source": [
    "master.dropDuplicates(([\"ROV Group\"])).select(\"ROV Group\").show(truncate = False)"
   ]
  },
  {
   "cell_type": "code",
   "execution_count": 35,
   "metadata": {},
   "outputs": [],
   "source": [
    "master = master[master[\"ROV Group\"] != \"Not Applicable\"]"
   ]
  },
  {
   "cell_type": "code",
   "execution_count": 36,
   "metadata": {},
   "outputs": [],
   "source": [
    "master = master[master[\"ROV Group\"] != \"Not Stated/Inadequately Described\"]"
   ]
  },
  {
   "cell_type": "code",
   "execution_count": 37,
   "metadata": {},
   "outputs": [
    {
     "name": "stdout",
     "output_type": "stream",
     "text": [
      "+-------+--------------+\n",
      "|summary|     ROV Group|\n",
      "+-------+--------------+\n",
      "|  count|         19047|\n",
      "|   mean|          null|\n",
      "| stddev|          null|\n",
      "|    min|Boy/Girlfriend|\n",
      "|    max|      Stranger|\n",
      "+-------+--------------+\n",
      "\n"
     ]
    }
   ],
   "source": [
    "master.select(\"ROV Group\").describe().show()"
   ]
  },
  {
   "cell_type": "code",
   "execution_count": 38,
   "metadata": {},
   "outputs": [
    {
     "name": "stdout",
     "output_type": "stream",
     "text": [
      "+-----------------+\n",
      "|ROVSubdivision   |\n",
      "+-----------------+\n",
      "|Stranger         |\n",
      "|Family Member    |\n",
      "|Non Family Member|\n",
      "+-----------------+\n",
      "\n"
     ]
    }
   ],
   "source": [
    "master.dropDuplicates(([\"ROVSubdivision\"])).select(\"ROVSubdivision\").show(truncate = False)"
   ]
  },
  {
   "cell_type": "code",
   "execution_count": 39,
   "metadata": {},
   "outputs": [
    {
     "data": {
      "text/plain": [
       "19047"
      ]
     },
     "execution_count": 39,
     "metadata": {},
     "output_type": "execute_result"
    }
   ],
   "source": [
    "master.count()"
   ]
  },
  {
   "cell_type": "code",
   "execution_count": 40,
   "metadata": {},
   "outputs": [],
   "source": [
    "from pyspark.ml.feature import StringIndexer\n"
   ]
  },
  {
   "cell_type": "code",
   "execution_count": 41,
   "metadata": {},
   "outputs": [
    {
     "name": "stdout",
     "output_type": "stream",
     "text": [
      "+---+--------------------+--------------------+--------------------+--------------+----------+----------------+--------------------+---------------+---------------------+----+----------+-----------------+--------------+---------+--------------------+-------------------+---------------+-------------------+-----------------+---------------------+------------------+------------------------+---------------+---------+-----------------+---------+\n",
      "| ID|     ANZSOC Division|        ANZSOC Group|  ANZSOC Subdivision|     Ethnicity| Frequency|    Mop Division|         Police Area|Police District|Proceedings Frequency| SEX|Year Month|Number of Records|Offender Count|Age Group|  Age Group 5Yr Band|Person/Organisation|   ROV Division|          ROV Group|   ROVSubdivision|ANZSOC_Division_Index|ANZSOC_Group_Index|ANZSOC_Subdivision_Index|Ethnicity_Index|Mop_Index|Police_area_index|SEX_index|\n",
      "+---+--------------------+--------------------+--------------------+--------------+----------+----------------+--------------------+---------------+---------------------+----+----------+-----------------+--------------+---------+--------------------+-------------------+---------------+-------------------+-----------------+---------------------+------------------+------------------------+---------------+---------+-----------------+---------+\n",
      "|  1|Acts Intended to ...|      Common Assault|             Assault|Pacific Island|10 or more|Non-Court Action|Auckland Central ...|  Auckland City|           10 or more|Male| 1/02/2020|                1|          1.00|    15-19|15 - 19 years inc...|             Person|Known To Victim|Known To Each Other|Non Family Member|                  0.0|               3.0|                     0.0|            0.0|      1.0|              2.0|      0.0|\n",
      "|  2|Acts Intended to ...|      Common Assault|             Assault|Pacific Island|10 or more|Non-Court Action|Auckland Central ...|  Auckland City|           10 or more|Male| 1/02/2020|                1|             1|    20-24|20 - 24 years inc...|             Person|Known To Victim|Known To Each Other|Non Family Member|                  0.0|               3.0|                     0.0|            0.0|      1.0|              2.0|      0.0|\n",
      "|  4|Acts Intended to ...|Serious Assault N...|             Assault|Pacific Island|         2|Non-Court Action|  Auckland East Area|  Auckland City|                    2|Male| 1/02/2020|                1|          1.00|    15-19|15 - 19 years inc...|             Person|Known To Victim|Known To Each Other|Non Family Member|                  0.0|               0.0|                     0.0|            0.0|      1.0|              1.0|      0.0|\n",
      "|  5|Acts Intended to ...|Serious Assault N...|             Assault|Pacific Island|         2|Non-Court Action|  Auckland East Area|  Auckland City|                    2|Male| 1/02/2020|                1|          1.00|    25-29|25 - 29 years inc...|             Person|Known To Victim|Known To Each Other|Non Family Member|                  0.0|               0.0|                     0.0|            0.0|      1.0|              1.0|      0.0|\n",
      "|  6|Acts Intended to ...|Serious Assault N...|             Assault|Pacific Island|         2|Non-Court Action|  Auckland East Area|  Auckland City|                    2|Male| 1/02/2020|                1|          1.00|    40-44|40 - 44 years inc...|             Person|Known To Victim|Known To Each Other|Non Family Member|                  0.0|               0.0|                     0.0|            0.0|      1.0|              1.0|      0.0|\n",
      "|  7|Acts Intended to ...|      Common Assault|             Assault|        Indian|         2|Non-Court Action|  Auckland West Area|  Auckland City|                    2|Male| 1/02/2020|                1|          1.00|    20-24|20 - 24 years inc...|             Person|Known To Victim|Known To Each Other|Non Family Member|                  0.0|               3.0|                     0.0|            3.0|      1.0|              0.0|      0.0|\n",
      "|  8|Acts Intended to ...|      Common Assault|             Assault|        Indian|         2|Non-Court Action|  Auckland West Area|  Auckland City|                    2|Male| 1/02/2020|                1|          1.00|    40-44|40 - 44 years inc...|             Person|Known To Victim|Known To Each Other|Non Family Member|                  0.0|               3.0|                     0.0|            3.0|      1.0|              0.0|      0.0|\n",
      "|  9|Acts Intended to ...|      Common Assault|             Assault|Pacific Island|         2|Non-Court Action|  Auckland West Area|  Auckland City|                    2|Male| 1/02/2020|                1|          1.00|    15-19|15 - 19 years inc...|             Person|Known To Victim|Known To Each Other|Non Family Member|                  0.0|               3.0|                     0.0|            0.0|      1.0|              0.0|      0.0|\n",
      "| 10|Acts Intended to ...|Serious Assault N...|             Assault|Pacific Island|         2|Non-Court Action|  Auckland West Area|  Auckland City|                    2|Male| 1/02/2020|                1|          1.00|    15-19|15 - 19 years inc...|             Person|Known To Victim|Known To Each Other|Non Family Member|                  0.0|               0.0|                     0.0|            0.0|      1.0|              0.0|      0.0|\n",
      "| 11|Acts Intended to ...|Serious Assault N...|             Assault|Pacific Island|         2|Non-Court Action|  Auckland West Area|  Auckland City|                    2|Male| 1/02/2020|                1|          1.00|    25-29|25 - 29 years inc...|             Person|Known To Victim|Known To Each Other|Non Family Member|                  0.0|               0.0|                     0.0|            0.0|      1.0|              0.0|      0.0|\n",
      "| 12|Acts Intended to ...|Serious Assault N...|             Assault|Pacific Island|         2|Non-Court Action|  Auckland West Area|  Auckland City|                    2|Male| 1/02/2020|                1|          1.00|    40-44|40 - 44 years inc...|             Person|Known To Victim|Known To Each Other|Non Family Member|                  0.0|               0.0|                     0.0|            0.0|      1.0|              0.0|      0.0|\n",
      "| 53|Abduction, Harass...|Threatening Behav...|Harassment and Th...|Pacific Island|         3|Non-Court Action|  Auckland East Area|  Auckland City|                    3|Male| 1/02/2020|                1|          1.00|    45-49|45 - 49 years inc...|             Person|Known To Victim|Known To Each Other|Non Family Member|                  1.0|               2.0|                     1.0|            0.0|      1.0|              1.0|      0.0|\n",
      "| 65|Acts Intended to ...|      Common Assault|             Assault|         Maori|         4|Non-Court Action|Auckland Central ...|  Auckland City|                    4|Male| 1/02/2020|                1|          1.00|    25-29|25 - 29 years inc...|             Person|Known To Victim|Known To Each Other|Non Family Member|                  0.0|               3.0|                     0.0|            2.0|      1.0|              2.0|      0.0|\n",
      "| 66|Acts Intended to ...|      Common Assault|             Assault|         Maori|         4|Non-Court Action|Auckland Central ...|  Auckland City|                    4|Male| 1/02/2020|                1|          1.00|    35-39|35 - 39 years inc...|             Person|Known To Victim|Known To Each Other|Non Family Member|                  0.0|               3.0|                     0.0|            2.0|      1.0|              2.0|      0.0|\n",
      "| 67|Acts Intended to ...|      Common Assault|             Assault|         Maori|         4|Non-Court Action|Auckland Central ...|  Auckland City|                    4|Male| 1/02/2020|                1|          1.00|    45-49|45 - 49 years inc...|             Person|Known To Victim|Known To Each Other|Non Family Member|                  0.0|               3.0|                     0.0|            2.0|      1.0|              2.0|      0.0|\n",
      "| 68|Acts Intended to ...|      Common Assault|             Assault|      European|         4|Non-Court Action|  Auckland East Area|  Auckland City|                    4|Male| 1/02/2020|                1|          1.00|    10-14|10 - 14 years inc...|             Person|Known To Victim|Known To Each Other|Non Family Member|                  0.0|               3.0|                     0.0|            1.0|      1.0|              1.0|      0.0|\n",
      "| 69|Acts Intended to ...|      Common Assault|             Assault|      European|         4|Non-Court Action|  Auckland East Area|  Auckland City|                    4|Male| 1/02/2020|                1|          1.00|    20-24|20 - 24 years inc...|             Person|Known To Victim|Known To Each Other|Non Family Member|                  0.0|               3.0|                     0.0|            1.0|      1.0|              1.0|      0.0|\n",
      "| 70|Acts Intended to ...|      Common Assault|             Assault|      European|         4|Non-Court Action|  Auckland East Area|  Auckland City|                    4|Male| 1/02/2020|                1|          1.00|    25-29|25 - 29 years inc...|             Person|Known To Victim|Known To Each Other|Non Family Member|                  0.0|               3.0|                     0.0|            1.0|      1.0|              1.0|      0.0|\n",
      "| 71|Acts Intended to ...|      Common Assault|             Assault|      European|         4|Non-Court Action|  Auckland East Area|  Auckland City|                    4|Male| 1/02/2020|                1|          1.00|    30-34|30 - 34 years inc...|             Person|Known To Victim|Known To Each Other|Non Family Member|                  0.0|               3.0|                     0.0|            1.0|      1.0|              1.0|      0.0|\n",
      "| 73|Abduction, Harass...|Threatening Behav...|Harassment and Th...|      European|    5 to 9|Non-Court Action|  Auckland East Area|  Auckland City|               5 to 9|Male| 1/02/2020|                1|          1.00|    15-19|15 - 19 years inc...|             Person|Known To Victim|Known To Each Other|Non Family Member|                  1.0|               2.0|                     1.0|            1.0|      1.0|              1.0|      0.0|\n",
      "+---+--------------------+--------------------+--------------------+--------------+----------+----------------+--------------------+---------------+---------------------+----+----------+-----------------+--------------+---------+--------------------+-------------------+---------------+-------------------+-----------------+---------------------+------------------+------------------------+---------------+---------+-----------------+---------+\n",
      "only showing top 20 rows\n",
      "\n"
     ]
    }
   ],
   "source": [
    "#Step 3.3 Data Construction. One Hote encoding.\n",
    "indexer = StringIndexer(inputCol = \"ANZSOC Division\", outputCol = \"ANZSOC_Division_Index\")\n",
    "master = indexer.fit(master).transform(master)\n",
    "\n",
    "indexer = StringIndexer(inputCol = \"ANZSOC Group\", outputCol = \"ANZSOC_Group_Index\")\n",
    "master = indexer.fit(master).transform(master)\n",
    "\n",
    "indexer = StringIndexer(inputCol = \"ANZSOC Subdivision\", outputCol = \"ANZSOC_Subdivision_Index\")\n",
    "master = indexer.fit(master).transform(master)\n",
    "\n",
    "indexer = StringIndexer(inputCol = \"Ethnicity\", outputCol = \"Ethnicity_Index\")\n",
    "master = indexer.fit(master).transform(master)\n",
    "\n",
    "indexer = StringIndexer(inputCol = \"Mop Division\", outputCol = \"Mop_Index\")\n",
    "master = indexer.fit(master).transform(master)\n",
    "\n",
    "indexer = StringIndexer(inputCol = \"Police Area\", outputCol = \"Police_area_index\")\n",
    "master = indexer.fit(master).transform(master)\n",
    "\n",
    "indexer = StringIndexer(inputCol = \"SEX\", outputCol = \"SEX_index\")\n",
    "master = indexer.fit(master).transform(master)\n",
    "\n",
    "master.show()"
   ]
  },
  {
   "cell_type": "code",
   "execution_count": 42,
   "metadata": {},
   "outputs": [],
   "source": [
    "#One Hot Encoding\n",
    "from pyspark.ml.feature import OneHotEncoder"
   ]
  },
  {
   "cell_type": "code",
   "execution_count": 43,
   "metadata": {},
   "outputs": [
    {
     "name": "stdout",
     "output_type": "stream",
     "text": [
      "+---+--------------------+--------------------+--------------------+--------------+----------+----------------+--------------------+---------------+---------------------+----+----------+-----------------+--------------+---------+--------------------+-------------------+---------------+-------------------+-----------------+---------------------+------------------+------------------------+---------------+---------+-----------------+---------+-------------------+----------------+----------------------+-------------+-------------+---------------+-------------+\n",
      "| ID|     ANZSOC Division|        ANZSOC Group|  ANZSOC Subdivision|     Ethnicity| Frequency|    Mop Division|         Police Area|Police District|Proceedings Frequency| SEX|Year Month|Number of Records|Offender Count|Age Group|  Age Group 5Yr Band|Person/Organisation|   ROV Division|          ROV Group|   ROVSubdivision|ANZSOC_Division_Index|ANZSOC_Group_Index|ANZSOC_Subdivision_Index|Ethnicity_Index|Mop_Index|Police_area_index|SEX_index|ANZSOC_Division_vec|ANZSOC_Group_vec|ANZSOC_Subdivision_vec|Ethnicity_vec|      Mop_vec|Police_Area_vec|      SEX_vec|\n",
      "+---+--------------------+--------------------+--------------------+--------------+----------+----------------+--------------------+---------------+---------------------+----+----------+-----------------+--------------+---------+--------------------+-------------------+---------------+-------------------+-----------------+---------------------+------------------+------------------------+---------------+---------+-----------------+---------+-------------------+----------------+----------------------+-------------+-------------+---------------+-------------+\n",
      "|  1|Acts Intended to ...|      Common Assault|             Assault|Pacific Island|10 or more|Non-Court Action|Auckland Central ...|  Auckland City|           10 or more|Male| 1/02/2020|                1|          1.00|    15-19|15 - 19 years inc...|             Person|Known To Victim|Known To Each Other|Non Family Member|                  0.0|               3.0|                     0.0|            0.0|      1.0|              2.0|      0.0|     (13,[0],[1.0])|  (44,[3],[1.0])|        (27,[0],[1.0])|(7,[0],[1.0])|(2,[1],[1.0])|      (2,[],[])|(1,[0],[1.0])|\n",
      "|  2|Acts Intended to ...|      Common Assault|             Assault|Pacific Island|10 or more|Non-Court Action|Auckland Central ...|  Auckland City|           10 or more|Male| 1/02/2020|                1|             1|    20-24|20 - 24 years inc...|             Person|Known To Victim|Known To Each Other|Non Family Member|                  0.0|               3.0|                     0.0|            0.0|      1.0|              2.0|      0.0|     (13,[0],[1.0])|  (44,[3],[1.0])|        (27,[0],[1.0])|(7,[0],[1.0])|(2,[1],[1.0])|      (2,[],[])|(1,[0],[1.0])|\n",
      "|  4|Acts Intended to ...|Serious Assault N...|             Assault|Pacific Island|         2|Non-Court Action|  Auckland East Area|  Auckland City|                    2|Male| 1/02/2020|                1|          1.00|    15-19|15 - 19 years inc...|             Person|Known To Victim|Known To Each Other|Non Family Member|                  0.0|               0.0|                     0.0|            0.0|      1.0|              1.0|      0.0|     (13,[0],[1.0])|  (44,[0],[1.0])|        (27,[0],[1.0])|(7,[0],[1.0])|(2,[1],[1.0])|  (2,[1],[1.0])|(1,[0],[1.0])|\n",
      "|  5|Acts Intended to ...|Serious Assault N...|             Assault|Pacific Island|         2|Non-Court Action|  Auckland East Area|  Auckland City|                    2|Male| 1/02/2020|                1|          1.00|    25-29|25 - 29 years inc...|             Person|Known To Victim|Known To Each Other|Non Family Member|                  0.0|               0.0|                     0.0|            0.0|      1.0|              1.0|      0.0|     (13,[0],[1.0])|  (44,[0],[1.0])|        (27,[0],[1.0])|(7,[0],[1.0])|(2,[1],[1.0])|  (2,[1],[1.0])|(1,[0],[1.0])|\n",
      "|  6|Acts Intended to ...|Serious Assault N...|             Assault|Pacific Island|         2|Non-Court Action|  Auckland East Area|  Auckland City|                    2|Male| 1/02/2020|                1|          1.00|    40-44|40 - 44 years inc...|             Person|Known To Victim|Known To Each Other|Non Family Member|                  0.0|               0.0|                     0.0|            0.0|      1.0|              1.0|      0.0|     (13,[0],[1.0])|  (44,[0],[1.0])|        (27,[0],[1.0])|(7,[0],[1.0])|(2,[1],[1.0])|  (2,[1],[1.0])|(1,[0],[1.0])|\n",
      "|  7|Acts Intended to ...|      Common Assault|             Assault|        Indian|         2|Non-Court Action|  Auckland West Area|  Auckland City|                    2|Male| 1/02/2020|                1|          1.00|    20-24|20 - 24 years inc...|             Person|Known To Victim|Known To Each Other|Non Family Member|                  0.0|               3.0|                     0.0|            3.0|      1.0|              0.0|      0.0|     (13,[0],[1.0])|  (44,[3],[1.0])|        (27,[0],[1.0])|(7,[3],[1.0])|(2,[1],[1.0])|  (2,[0],[1.0])|(1,[0],[1.0])|\n",
      "|  8|Acts Intended to ...|      Common Assault|             Assault|        Indian|         2|Non-Court Action|  Auckland West Area|  Auckland City|                    2|Male| 1/02/2020|                1|          1.00|    40-44|40 - 44 years inc...|             Person|Known To Victim|Known To Each Other|Non Family Member|                  0.0|               3.0|                     0.0|            3.0|      1.0|              0.0|      0.0|     (13,[0],[1.0])|  (44,[3],[1.0])|        (27,[0],[1.0])|(7,[3],[1.0])|(2,[1],[1.0])|  (2,[0],[1.0])|(1,[0],[1.0])|\n",
      "|  9|Acts Intended to ...|      Common Assault|             Assault|Pacific Island|         2|Non-Court Action|  Auckland West Area|  Auckland City|                    2|Male| 1/02/2020|                1|          1.00|    15-19|15 - 19 years inc...|             Person|Known To Victim|Known To Each Other|Non Family Member|                  0.0|               3.0|                     0.0|            0.0|      1.0|              0.0|      0.0|     (13,[0],[1.0])|  (44,[3],[1.0])|        (27,[0],[1.0])|(7,[0],[1.0])|(2,[1],[1.0])|  (2,[0],[1.0])|(1,[0],[1.0])|\n",
      "| 10|Acts Intended to ...|Serious Assault N...|             Assault|Pacific Island|         2|Non-Court Action|  Auckland West Area|  Auckland City|                    2|Male| 1/02/2020|                1|          1.00|    15-19|15 - 19 years inc...|             Person|Known To Victim|Known To Each Other|Non Family Member|                  0.0|               0.0|                     0.0|            0.0|      1.0|              0.0|      0.0|     (13,[0],[1.0])|  (44,[0],[1.0])|        (27,[0],[1.0])|(7,[0],[1.0])|(2,[1],[1.0])|  (2,[0],[1.0])|(1,[0],[1.0])|\n",
      "| 11|Acts Intended to ...|Serious Assault N...|             Assault|Pacific Island|         2|Non-Court Action|  Auckland West Area|  Auckland City|                    2|Male| 1/02/2020|                1|          1.00|    25-29|25 - 29 years inc...|             Person|Known To Victim|Known To Each Other|Non Family Member|                  0.0|               0.0|                     0.0|            0.0|      1.0|              0.0|      0.0|     (13,[0],[1.0])|  (44,[0],[1.0])|        (27,[0],[1.0])|(7,[0],[1.0])|(2,[1],[1.0])|  (2,[0],[1.0])|(1,[0],[1.0])|\n",
      "| 12|Acts Intended to ...|Serious Assault N...|             Assault|Pacific Island|         2|Non-Court Action|  Auckland West Area|  Auckland City|                    2|Male| 1/02/2020|                1|          1.00|    40-44|40 - 44 years inc...|             Person|Known To Victim|Known To Each Other|Non Family Member|                  0.0|               0.0|                     0.0|            0.0|      1.0|              0.0|      0.0|     (13,[0],[1.0])|  (44,[0],[1.0])|        (27,[0],[1.0])|(7,[0],[1.0])|(2,[1],[1.0])|  (2,[0],[1.0])|(1,[0],[1.0])|\n",
      "| 53|Abduction, Harass...|Threatening Behav...|Harassment and Th...|Pacific Island|         3|Non-Court Action|  Auckland East Area|  Auckland City|                    3|Male| 1/02/2020|                1|          1.00|    45-49|45 - 49 years inc...|             Person|Known To Victim|Known To Each Other|Non Family Member|                  1.0|               2.0|                     1.0|            0.0|      1.0|              1.0|      0.0|     (13,[1],[1.0])|  (44,[2],[1.0])|        (27,[1],[1.0])|(7,[0],[1.0])|(2,[1],[1.0])|  (2,[1],[1.0])|(1,[0],[1.0])|\n",
      "| 65|Acts Intended to ...|      Common Assault|             Assault|         Maori|         4|Non-Court Action|Auckland Central ...|  Auckland City|                    4|Male| 1/02/2020|                1|          1.00|    25-29|25 - 29 years inc...|             Person|Known To Victim|Known To Each Other|Non Family Member|                  0.0|               3.0|                     0.0|            2.0|      1.0|              2.0|      0.0|     (13,[0],[1.0])|  (44,[3],[1.0])|        (27,[0],[1.0])|(7,[2],[1.0])|(2,[1],[1.0])|      (2,[],[])|(1,[0],[1.0])|\n",
      "| 66|Acts Intended to ...|      Common Assault|             Assault|         Maori|         4|Non-Court Action|Auckland Central ...|  Auckland City|                    4|Male| 1/02/2020|                1|          1.00|    35-39|35 - 39 years inc...|             Person|Known To Victim|Known To Each Other|Non Family Member|                  0.0|               3.0|                     0.0|            2.0|      1.0|              2.0|      0.0|     (13,[0],[1.0])|  (44,[3],[1.0])|        (27,[0],[1.0])|(7,[2],[1.0])|(2,[1],[1.0])|      (2,[],[])|(1,[0],[1.0])|\n",
      "| 67|Acts Intended to ...|      Common Assault|             Assault|         Maori|         4|Non-Court Action|Auckland Central ...|  Auckland City|                    4|Male| 1/02/2020|                1|          1.00|    45-49|45 - 49 years inc...|             Person|Known To Victim|Known To Each Other|Non Family Member|                  0.0|               3.0|                     0.0|            2.0|      1.0|              2.0|      0.0|     (13,[0],[1.0])|  (44,[3],[1.0])|        (27,[0],[1.0])|(7,[2],[1.0])|(2,[1],[1.0])|      (2,[],[])|(1,[0],[1.0])|\n",
      "| 68|Acts Intended to ...|      Common Assault|             Assault|      European|         4|Non-Court Action|  Auckland East Area|  Auckland City|                    4|Male| 1/02/2020|                1|          1.00|    10-14|10 - 14 years inc...|             Person|Known To Victim|Known To Each Other|Non Family Member|                  0.0|               3.0|                     0.0|            1.0|      1.0|              1.0|      0.0|     (13,[0],[1.0])|  (44,[3],[1.0])|        (27,[0],[1.0])|(7,[1],[1.0])|(2,[1],[1.0])|  (2,[1],[1.0])|(1,[0],[1.0])|\n",
      "| 69|Acts Intended to ...|      Common Assault|             Assault|      European|         4|Non-Court Action|  Auckland East Area|  Auckland City|                    4|Male| 1/02/2020|                1|          1.00|    20-24|20 - 24 years inc...|             Person|Known To Victim|Known To Each Other|Non Family Member|                  0.0|               3.0|                     0.0|            1.0|      1.0|              1.0|      0.0|     (13,[0],[1.0])|  (44,[3],[1.0])|        (27,[0],[1.0])|(7,[1],[1.0])|(2,[1],[1.0])|  (2,[1],[1.0])|(1,[0],[1.0])|\n",
      "| 70|Acts Intended to ...|      Common Assault|             Assault|      European|         4|Non-Court Action|  Auckland East Area|  Auckland City|                    4|Male| 1/02/2020|                1|          1.00|    25-29|25 - 29 years inc...|             Person|Known To Victim|Known To Each Other|Non Family Member|                  0.0|               3.0|                     0.0|            1.0|      1.0|              1.0|      0.0|     (13,[0],[1.0])|  (44,[3],[1.0])|        (27,[0],[1.0])|(7,[1],[1.0])|(2,[1],[1.0])|  (2,[1],[1.0])|(1,[0],[1.0])|\n",
      "| 71|Acts Intended to ...|      Common Assault|             Assault|      European|         4|Non-Court Action|  Auckland East Area|  Auckland City|                    4|Male| 1/02/2020|                1|          1.00|    30-34|30 - 34 years inc...|             Person|Known To Victim|Known To Each Other|Non Family Member|                  0.0|               3.0|                     0.0|            1.0|      1.0|              1.0|      0.0|     (13,[0],[1.0])|  (44,[3],[1.0])|        (27,[0],[1.0])|(7,[1],[1.0])|(2,[1],[1.0])|  (2,[1],[1.0])|(1,[0],[1.0])|\n",
      "| 73|Abduction, Harass...|Threatening Behav...|Harassment and Th...|      European|    5 to 9|Non-Court Action|  Auckland East Area|  Auckland City|               5 to 9|Male| 1/02/2020|                1|          1.00|    15-19|15 - 19 years inc...|             Person|Known To Victim|Known To Each Other|Non Family Member|                  1.0|               2.0|                     1.0|            1.0|      1.0|              1.0|      0.0|     (13,[1],[1.0])|  (44,[2],[1.0])|        (27,[1],[1.0])|(7,[1],[1.0])|(2,[1],[1.0])|  (2,[1],[1.0])|(1,[0],[1.0])|\n",
      "+---+--------------------+--------------------+--------------------+--------------+----------+----------------+--------------------+---------------+---------------------+----+----------+-----------------+--------------+---------+--------------------+-------------------+---------------+-------------------+-----------------+---------------------+------------------+------------------------+---------------+---------+-----------------+---------+-------------------+----------------+----------------------+-------------+-------------+---------------+-------------+\n",
      "only showing top 20 rows\n",
      "\n"
     ]
    }
   ],
   "source": [
    "\n",
    "one_hot_encoder = OneHotEncoder(inputCol = \"ANZSOC_Division_Index\", outputCol = \"ANZSOC_Division_vec\")\n",
    "master = one_hot_encoder.transform(master)\n",
    "\n",
    "one_hot_encoder = OneHotEncoder(inputCol = \"ANZSOC_Group_Index\", outputCol = \"ANZSOC_Group_vec\")\n",
    "master = one_hot_encoder.transform(master)\n",
    "\n",
    "one_hot_encoder = OneHotEncoder(inputCol = \"ANZSOC_Subdivision_Index\", outputCol = \"ANZSOC_Subdivision_vec\")\n",
    "master = one_hot_encoder.transform(master)\n",
    "\n",
    "one_hot_encoder = OneHotEncoder(inputCol = \"Ethnicity_Index\", outputCol = \"Ethnicity_vec\")\n",
    "master = one_hot_encoder.transform(master)\n",
    "\n",
    "one_hot_encoder = OneHotEncoder(inputCol = \"Mop_Index\", outputCol = \"Mop_vec\")\n",
    "master = one_hot_encoder.transform(master)\n",
    "\n",
    "one_hot_encoder = OneHotEncoder(inputCol = \"Police_area_index\", outputCol = \"Police_Area_vec\")\n",
    "master = one_hot_encoder.transform(master)\n",
    "\n",
    "one_hot_encoder = OneHotEncoder(inputCol = \"SEX_index\", outputCol = \"SEX_vec\")\n",
    "master = one_hot_encoder.transform(master)\n",
    "\n",
    "\n",
    "master.show()"
   ]
  },
  {
   "cell_type": "code",
   "execution_count": 44,
   "metadata": {},
   "outputs": [
    {
     "name": "stdout",
     "output_type": "stream",
     "text": [
      "+-------------+----+---------+\n",
      "|      SEX_vec| SEX|SEX_index|\n",
      "+-------------+----+---------+\n",
      "|(1,[0],[1.0])|Male|      0.0|\n",
      "|(1,[0],[1.0])|Male|      0.0|\n",
      "|(1,[0],[1.0])|Male|      0.0|\n",
      "|(1,[0],[1.0])|Male|      0.0|\n",
      "|(1,[0],[1.0])|Male|      0.0|\n",
      "|(1,[0],[1.0])|Male|      0.0|\n",
      "|(1,[0],[1.0])|Male|      0.0|\n",
      "|(1,[0],[1.0])|Male|      0.0|\n",
      "|(1,[0],[1.0])|Male|      0.0|\n",
      "|(1,[0],[1.0])|Male|      0.0|\n",
      "|(1,[0],[1.0])|Male|      0.0|\n",
      "|(1,[0],[1.0])|Male|      0.0|\n",
      "|(1,[0],[1.0])|Male|      0.0|\n",
      "|(1,[0],[1.0])|Male|      0.0|\n",
      "|(1,[0],[1.0])|Male|      0.0|\n",
      "|(1,[0],[1.0])|Male|      0.0|\n",
      "|(1,[0],[1.0])|Male|      0.0|\n",
      "|(1,[0],[1.0])|Male|      0.0|\n",
      "|(1,[0],[1.0])|Male|      0.0|\n",
      "|(1,[0],[1.0])|Male|      0.0|\n",
      "+-------------+----+---------+\n",
      "only showing top 20 rows\n",
      "\n"
     ]
    }
   ],
   "source": [
    "master.select(\"SEX_vec\", \"SEX\", \"SEX_index\").show()\n"
   ]
  },
  {
   "cell_type": "code",
   "execution_count": 45,
   "metadata": {},
   "outputs": [
    {
     "name": "stdout",
     "output_type": "stream",
     "text": [
      "+-------------+------+---------+\n",
      "|SEX_vec      |SEX   |SEX_index|\n",
      "+-------------+------+---------+\n",
      "|(1,[],[])    |Female|1.0      |\n",
      "|(1,[0],[1.0])|Male  |0.0      |\n",
      "+-------------+------+---------+\n",
      "\n"
     ]
    }
   ],
   "source": [
    "master.dropDuplicates(([\"SEX_vec\", \"SEX\", \"SEX_index\"])).select(\"SEX_vec\", \"SEX\", \"SEX_index\").show(truncate = False)"
   ]
  },
  {
   "cell_type": "code",
   "execution_count": 46,
   "metadata": {},
   "outputs": [
    {
     "data": {
      "text/plain": [
       "['ID',\n",
       " 'ANZSOC Division',\n",
       " 'ANZSOC Group',\n",
       " 'ANZSOC Subdivision',\n",
       " 'Ethnicity',\n",
       " 'Frequency',\n",
       " 'Mop Division',\n",
       " 'Police Area',\n",
       " 'Police District',\n",
       " 'Proceedings Frequency',\n",
       " 'SEX',\n",
       " 'Year Month',\n",
       " 'Number of Records',\n",
       " 'Offender Count',\n",
       " 'Age Group',\n",
       " 'Age Group 5Yr Band',\n",
       " 'Person/Organisation',\n",
       " 'ROV Division',\n",
       " 'ROV Group',\n",
       " 'ROVSubdivision',\n",
       " 'ANZSOC_Division_Index',\n",
       " 'ANZSOC_Group_Index',\n",
       " 'ANZSOC_Subdivision_Index',\n",
       " 'Ethnicity_Index',\n",
       " 'Mop_Index',\n",
       " 'Police_area_index',\n",
       " 'SEX_index',\n",
       " 'ANZSOC_Division_vec',\n",
       " 'ANZSOC_Group_vec',\n",
       " 'ANZSOC_Subdivision_vec',\n",
       " 'Ethnicity_vec',\n",
       " 'Mop_vec',\n",
       " 'Police_Area_vec',\n",
       " 'SEX_vec']"
      ]
     },
     "execution_count": 46,
     "metadata": {},
     "output_type": "execute_result"
    }
   ],
   "source": [
    "master.columns"
   ]
  },
  {
   "cell_type": "code",
   "execution_count": 47,
   "metadata": {},
   "outputs": [],
   "source": [
    "#convert values in Age and Frequency"
   ]
  },
  {
   "cell_type": "code",
   "execution_count": 48,
   "metadata": {},
   "outputs": [
    {
     "name": "stdout",
     "output_type": "stream",
     "text": [
      "+-------------+\n",
      "|Age Group    |\n",
      "+-------------+\n",
      "|5-9          |\n",
      "|20-24        |\n",
      "|65-69        |\n",
      "|75-79        |\n",
      "|80yearsorover|\n",
      "|30-34        |\n",
      "|70-74        |\n",
      "|15-19        |\n",
      "|10-14        |\n",
      "|50-54        |\n",
      "|35-39        |\n",
      "|45-49        |\n",
      "|25-29        |\n",
      "|40-44        |\n",
      "|55-59        |\n",
      "|60-64        |\n",
      "+-------------+\n",
      "\n"
     ]
    }
   ],
   "source": [
    "master.dropDuplicates(([\"Age Group\"])).select(\"Age Group\").show(truncate = False)"
   ]
  },
  {
   "cell_type": "code",
   "execution_count": 49,
   "metadata": {},
   "outputs": [
    {
     "name": "stdout",
     "output_type": "stream",
     "text": [
      "+----------+--------------+\n",
      "| Frequency|Offender Count|\n",
      "+----------+--------------+\n",
      "|10 or more|          1.00|\n",
      "|10 or more|             1|\n",
      "|         2|          1.00|\n",
      "|         2|          1.00|\n",
      "|         2|          1.00|\n",
      "|         2|          1.00|\n",
      "|         2|          1.00|\n",
      "|         2|          1.00|\n",
      "|         2|          1.00|\n",
      "|         2|          1.00|\n",
      "|         2|          1.00|\n",
      "|         3|          1.00|\n",
      "|         4|          1.00|\n",
      "|         4|          1.00|\n",
      "|         4|          1.00|\n",
      "|         4|          1.00|\n",
      "|         4|          1.00|\n",
      "|         4|          1.00|\n",
      "|         4|          1.00|\n",
      "|    5 to 9|          1.00|\n",
      "+----------+--------------+\n",
      "only showing top 20 rows\n",
      "\n"
     ]
    }
   ],
   "source": [
    "master.select(\"Frequency\", \"Offender Count\" ).show()\n"
   ]
  },
  {
   "cell_type": "code",
   "execution_count": 50,
   "metadata": {},
   "outputs": [],
   "source": [
    "from pyspark.sql.functions import *\n"
   ]
  },
  {
   "cell_type": "code",
   "execution_count": 51,
   "metadata": {},
   "outputs": [
    {
     "name": "stdout",
     "output_type": "stream",
     "text": [
      "+---------+---------------------+--------------+---------+\n",
      "|Frequency|Proceedings Frequency|Offender Count|Age Group|\n",
      "+---------+---------------------+--------------+---------+\n",
      "|1        |1                    |4.00          |60       |\n",
      "|1        |1                    |4.00          |20       |\n",
      "|4        |4                    |4.00          |30       |\n",
      "|10       |5 to 9               |2.00          |35       |\n",
      "|4        |4                    |2.00          |55       |\n",
      "|2        |2                    |4.00          |15       |\n",
      "|3        |3                    |2.00          |60       |\n",
      "|10       |5 to 9               |2.00          |50       |\n",
      "|2        |2                    |1.00          |65       |\n",
      "|1        |1                    |4.00          |55       |\n",
      "|10       |5 to 9               |2.00          |25       |\n",
      "|4        |4                    |2.00          |15       |\n",
      "|3        |3                    |3.00          |35       |\n",
      "|4        |4                    |4.00          |15       |\n",
      "|3        |3                    |1.00          |20       |\n",
      "|1        |1                    |2.00          |20       |\n",
      "|2        |2                    |2.00          |45       |\n",
      "|10       |5 to 9               |2.00          |10       |\n",
      "|1        |1                    |6.00          |50       |\n",
      "|4        |4                    |5.00          |40       |\n",
      "+---------+---------------------+--------------+---------+\n",
      "only showing top 20 rows\n",
      "\n"
     ]
    }
   ],
   "source": [
    "\n",
    "master = master.withColumn(\"Frequency\", regexp_replace(\"Frequency\", \"10 or more\", \"10\"))\n",
    "master = master.withColumn(\"Frequency\", regexp_replace(\"Frequency\", \"5 to 9\", \"10\"))\n",
    "\n",
    "master = master.withColumn(\"Age Group\", regexp_replace(\"Age Group\", \"5-9\", \"5\"))\n",
    "master = master.withColumn(\"Age Group\", regexp_replace(\"Age Group\", \"10-14\", \"10\"))\n",
    "master = master.withColumn(\"Age Group\", regexp_replace(\"Age Group\", \"15-19\", \"15\"))\n",
    "master = master.withColumn(\"Age Group\", regexp_replace(\"Age Group\", \"20-24\", \"20\"))\n",
    "master = master.withColumn(\"Age Group\", regexp_replace(\"Age Group\", \"25-29\", \"25\"))\n",
    "master = master.withColumn(\"Age Group\", regexp_replace(\"Age Group\", \"30-34\", \"30\"))\n",
    "master = master.withColumn(\"Age Group\", regexp_replace(\"Age Group\", \"35-39\", \"35\"))\n",
    "master = master.withColumn(\"Age Group\", regexp_replace(\"Age Group\", \"40-44\", \"40\"))\n",
    "master = master.withColumn(\"Age Group\", regexp_replace(\"Age Group\", \"45-49\", \"45\"))\n",
    "master = master.withColumn(\"Age Group\", regexp_replace(\"Age Group\", \"50-54\", \"50\"))\n",
    "master = master.withColumn(\"Age Group\", regexp_replace(\"Age Group\", \"55-59\", \"55\"))\n",
    "master = master.withColumn(\"Age Group\", regexp_replace(\"Age Group\", \"60-64\", \"60\"))\n",
    "master = master.withColumn(\"Age Group\", regexp_replace(\"Age Group\", \"65-69\", \"65\"))\n",
    "master = master.withColumn(\"Age Group\", regexp_replace(\"Age Group\", \"70-74\", \"70\"))\n",
    "master = master.withColumn(\"Age Group\", regexp_replace(\"Age Group\", \"75-79\", \"75\"))\n",
    "master = master.withColumn(\"Age Group\", regexp_replace(\"Age Group\", \"80yearsorover\", \"80\"))\n",
    "\n",
    "master.dropDuplicates(([\"Frequency\", \"Proceedings Frequency\", \"Offender Count\",\"Age Group\"])).select(\"Frequency\", \"Proceedings Frequency\", \"Offender Count\", \"Age Group\").show(truncate = False)\n"
   ]
  },
  {
   "cell_type": "code",
   "execution_count": 52,
   "metadata": {},
   "outputs": [
    {
     "name": "stdout",
     "output_type": "stream",
     "text": [
      "+---------+\n",
      "|Age Group|\n",
      "+---------+\n",
      "|15       |\n",
      "|30       |\n",
      "|35       |\n",
      "|5        |\n",
      "|70       |\n",
      "|75       |\n",
      "|60       |\n",
      "|55       |\n",
      "|40       |\n",
      "|25       |\n",
      "|20       |\n",
      "|10       |\n",
      "|65       |\n",
      "|80       |\n",
      "|50       |\n",
      "|45       |\n",
      "+---------+\n",
      "\n"
     ]
    }
   ],
   "source": [
    "master.dropDuplicates(([\"Age Group\"])).select(\"Age Group\").show(truncate = False)"
   ]
  },
  {
   "cell_type": "code",
   "execution_count": 59,
   "metadata": {},
   "outputs": [
    {
     "name": "stdout",
     "output_type": "stream",
     "text": [
      "+---------------+\n",
      "|Police District|\n",
      "+---------------+\n",
      "|Auckland City  |\n",
      "+---------------+\n",
      "\n",
      "+-----------------+\n",
      "|Number of Records|\n",
      "+-----------------+\n",
      "|1                |\n",
      "+-----------------+\n",
      "\n"
     ]
    }
   ],
   "source": [
    "master.dropDuplicates(([\"Police District\"])).select(\"Police District\").show(truncate = False)\n",
    "master.dropDuplicates(([\"Number of Records\"])).select(\"Number of Records\").show(truncate = False)\n",
    "\n"
   ]
  },
  {
   "cell_type": "code",
   "execution_count": 65,
   "metadata": {},
   "outputs": [
    {
     "data": {
      "text/plain": [
       "['ID',\n",
       " 'ANZSOC Division',\n",
       " 'ANZSOC Group',\n",
       " 'ANZSOC Subdivision',\n",
       " 'Ethnicity',\n",
       " 'Frequency',\n",
       " 'Mop Division',\n",
       " 'Police Area',\n",
       " 'SEX',\n",
       " 'Year Month',\n",
       " 'Offender Count',\n",
       " 'Age Group',\n",
       " 'Person/Organisation',\n",
       " 'ROV Division',\n",
       " 'ROV Group',\n",
       " 'ROVSubdivision',\n",
       " 'ANZSOC_Division_Index',\n",
       " 'ANZSOC_Group_Index',\n",
       " 'ANZSOC_Subdivision_Index',\n",
       " 'Ethnicity_Index',\n",
       " 'Mop_Index',\n",
       " 'Police_area_index',\n",
       " 'SEX_index',\n",
       " 'ANZSOC_Division_vec',\n",
       " 'ANZSOC_Group_vec',\n",
       " 'ANZSOC_Subdivision_vec',\n",
       " 'Ethnicity_vec',\n",
       " 'Mop_vec',\n",
       " 'Police_Area_vec',\n",
       " 'SEX_vec']"
      ]
     },
     "execution_count": 65,
     "metadata": {},
     "output_type": "execute_result"
    }
   ],
   "source": [
    "columns = (\"Police District\", \"Number of Records\", \"Age Group 5yr Band\", \"Proceedings Frequency\") \n",
    "master = master.drop(*columns)\n",
    "master.columns"
   ]
  },
  {
   "cell_type": "code",
   "execution_count": 72,
   "metadata": {},
   "outputs": [
    {
     "data": {
      "text/plain": [
       "DataFrame[summary: string, ID: string, ANZSOC Division: string, ANZSOC Group: string, ANZSOC Subdivision: string, Ethnicity: string, Frequency: string, Mop Division: string, Police Area: string, SEX: string, Year Month: string, Offender Count: string, Age Group: string, Person/Organisation: string, ROV Division: string, ROV Group: string, ROVSubdivision: string, ANZSOC_Division_Index: string, ANZSOC_Group_Index: string, ANZSOC_Subdivision_Index: string, Ethnicity_Index: string, Mop_Index: string, Police_area_index: string, SEX_index: string]"
      ]
     },
     "execution_count": 72,
     "metadata": {},
     "output_type": "execute_result"
    }
   ],
   "source": [
    "#finding outlier on Frequency, Offender Count and Age\n",
    "import matplotlib.pyplot as plt\n",
    "import numpy as np\n",
    "master.describe()\n",
    "\n"
   ]
  },
  {
   "cell_type": "code",
   "execution_count": 87,
   "metadata": {},
   "outputs": [
    {
     "name": "stderr",
     "output_type": "stream",
     "text": [
      "ERROR:py4j.java_gateway:An error occurred while trying to connect to the Java server (127.0.0.1:46008)\n",
      "Traceback (most recent call last):\n",
      "  File \"/home/ubuntu/spark-2.1.1-bin-hadoop2.7/python/lib/py4j-0.10.4-src.zip/py4j/java_gateway.py\", line 827, in _get_connection\n",
      "    connection = self.deque.pop()\n",
      "IndexError: pop from an empty deque\n",
      "\n",
      "During handling of the above exception, another exception occurred:\n",
      "\n",
      "Traceback (most recent call last):\n",
      "  File \"/home/ubuntu/spark-2.1.1-bin-hadoop2.7/python/lib/py4j-0.10.4-src.zip/py4j/java_gateway.py\", line 963, in start\n",
      "    self.socket.connect((self.address, self.port))\n",
      "ConnectionRefusedError: [Errno 111] Connection refused\n"
     ]
    },
    {
     "ename": "Py4JNetworkError",
     "evalue": "An error occurred while trying to connect to the Java server (127.0.0.1:46008)",
     "output_type": "error",
     "traceback": [
      "\u001b[0;31m---------------------------------------------------------------------------\u001b[0m",
      "\u001b[0;31mIndexError\u001b[0m                                Traceback (most recent call last)",
      "\u001b[0;32m~/spark-2.1.1-bin-hadoop2.7/python/lib/py4j-0.10.4-src.zip/py4j/java_gateway.py\u001b[0m in \u001b[0;36m_get_connection\u001b[0;34m(self)\u001b[0m\n\u001b[1;32m    826\u001b[0m         \u001b[0;32mtry\u001b[0m\u001b[0;34m:\u001b[0m\u001b[0;34m\u001b[0m\u001b[0m\n\u001b[0;32m--> 827\u001b[0;31m             \u001b[0mconnection\u001b[0m \u001b[0;34m=\u001b[0m \u001b[0mself\u001b[0m\u001b[0;34m.\u001b[0m\u001b[0mdeque\u001b[0m\u001b[0;34m.\u001b[0m\u001b[0mpop\u001b[0m\u001b[0;34m(\u001b[0m\u001b[0;34m)\u001b[0m\u001b[0;34m\u001b[0m\u001b[0m\n\u001b[0m\u001b[1;32m    828\u001b[0m         \u001b[0;32mexcept\u001b[0m \u001b[0mIndexError\u001b[0m\u001b[0;34m:\u001b[0m\u001b[0;34m\u001b[0m\u001b[0m\n",
      "\u001b[0;31mIndexError\u001b[0m: pop from an empty deque",
      "\nDuring handling of the above exception, another exception occurred:\n",
      "\u001b[0;31mConnectionRefusedError\u001b[0m                    Traceback (most recent call last)",
      "\u001b[0;32m~/spark-2.1.1-bin-hadoop2.7/python/lib/py4j-0.10.4-src.zip/py4j/java_gateway.py\u001b[0m in \u001b[0;36mstart\u001b[0;34m(self)\u001b[0m\n\u001b[1;32m    962\u001b[0m         \u001b[0;32mtry\u001b[0m\u001b[0;34m:\u001b[0m\u001b[0;34m\u001b[0m\u001b[0m\n\u001b[0;32m--> 963\u001b[0;31m             \u001b[0mself\u001b[0m\u001b[0;34m.\u001b[0m\u001b[0msocket\u001b[0m\u001b[0;34m.\u001b[0m\u001b[0mconnect\u001b[0m\u001b[0;34m(\u001b[0m\u001b[0;34m(\u001b[0m\u001b[0mself\u001b[0m\u001b[0;34m.\u001b[0m\u001b[0maddress\u001b[0m\u001b[0;34m,\u001b[0m \u001b[0mself\u001b[0m\u001b[0;34m.\u001b[0m\u001b[0mport\u001b[0m\u001b[0;34m)\u001b[0m\u001b[0;34m)\u001b[0m\u001b[0;34m\u001b[0m\u001b[0m\n\u001b[0m\u001b[1;32m    964\u001b[0m             \u001b[0mself\u001b[0m\u001b[0;34m.\u001b[0m\u001b[0mis_connected\u001b[0m \u001b[0;34m=\u001b[0m \u001b[0;32mTrue\u001b[0m\u001b[0;34m\u001b[0m\u001b[0m\n",
      "\u001b[0;31mConnectionRefusedError\u001b[0m: [Errno 111] Connection refused",
      "\nDuring handling of the above exception, another exception occurred:\n",
      "\u001b[0;31mPy4JNetworkError\u001b[0m                          Traceback (most recent call last)",
      "\u001b[0;32m<ipython-input-87-e4ed88d76954>\u001b[0m in \u001b[0;36m<module>\u001b[0;34m()\u001b[0m\n\u001b[1;32m      1\u001b[0m \u001b[0;34m\u001b[0m\u001b[0m\n\u001b[0;32m----> 2\u001b[0;31m \u001b[0mmaster\u001b[0m \u001b[0;34m=\u001b[0m \u001b[0mmaster\u001b[0m\u001b[0;34m.\u001b[0m\u001b[0mwithColumn\u001b[0m\u001b[0;34m(\u001b[0m\u001b[0;34m\"Frequency\"\u001b[0m\u001b[0;34m,\u001b[0m \u001b[0mmaster\u001b[0m\u001b[0;34m[\u001b[0m\u001b[0;34m\"Frequency\"\u001b[0m\u001b[0;34m]\u001b[0m\u001b[0;34m.\u001b[0m\u001b[0mcast\u001b[0m\u001b[0;34m(\u001b[0m\u001b[0;34m\"integer\"\u001b[0m\u001b[0;34m)\u001b[0m\u001b[0;34m)\u001b[0m\u001b[0;34m\u001b[0m\u001b[0m\n\u001b[0m",
      "\u001b[0;32m~/spark-2.1.1-bin-hadoop2.7/python/pyspark/sql/dataframe.py\u001b[0m in \u001b[0;36m__getitem__\u001b[0;34m(self, item)\u001b[0m\n\u001b[1;32m    950\u001b[0m         \"\"\"\n\u001b[1;32m    951\u001b[0m         \u001b[0;32mif\u001b[0m \u001b[0misinstance\u001b[0m\u001b[0;34m(\u001b[0m\u001b[0mitem\u001b[0m\u001b[0;34m,\u001b[0m \u001b[0mbasestring\u001b[0m\u001b[0;34m)\u001b[0m\u001b[0;34m:\u001b[0m\u001b[0;34m\u001b[0m\u001b[0m\n\u001b[0;32m--> 952\u001b[0;31m             \u001b[0mjc\u001b[0m \u001b[0;34m=\u001b[0m \u001b[0mself\u001b[0m\u001b[0;34m.\u001b[0m\u001b[0m_jdf\u001b[0m\u001b[0;34m.\u001b[0m\u001b[0mapply\u001b[0m\u001b[0;34m(\u001b[0m\u001b[0mitem\u001b[0m\u001b[0;34m)\u001b[0m\u001b[0;34m\u001b[0m\u001b[0m\n\u001b[0m\u001b[1;32m    953\u001b[0m             \u001b[0;32mreturn\u001b[0m \u001b[0mColumn\u001b[0m\u001b[0;34m(\u001b[0m\u001b[0mjc\u001b[0m\u001b[0;34m)\u001b[0m\u001b[0;34m\u001b[0m\u001b[0m\n\u001b[1;32m    954\u001b[0m         \u001b[0;32melif\u001b[0m \u001b[0misinstance\u001b[0m\u001b[0;34m(\u001b[0m\u001b[0mitem\u001b[0m\u001b[0;34m,\u001b[0m \u001b[0mColumn\u001b[0m\u001b[0;34m)\u001b[0m\u001b[0;34m:\u001b[0m\u001b[0;34m\u001b[0m\u001b[0m\n",
      "\u001b[0;32m~/spark-2.1.1-bin-hadoop2.7/python/lib/py4j-0.10.4-src.zip/py4j/java_gateway.py\u001b[0m in \u001b[0;36m__call__\u001b[0;34m(self, *args)\u001b[0m\n\u001b[1;32m   1129\u001b[0m             \u001b[0mproto\u001b[0m\u001b[0;34m.\u001b[0m\u001b[0mEND_COMMAND_PART\u001b[0m\u001b[0;34m\u001b[0m\u001b[0m\n\u001b[1;32m   1130\u001b[0m \u001b[0;34m\u001b[0m\u001b[0m\n\u001b[0;32m-> 1131\u001b[0;31m         \u001b[0manswer\u001b[0m \u001b[0;34m=\u001b[0m \u001b[0mself\u001b[0m\u001b[0;34m.\u001b[0m\u001b[0mgateway_client\u001b[0m\u001b[0;34m.\u001b[0m\u001b[0msend_command\u001b[0m\u001b[0;34m(\u001b[0m\u001b[0mcommand\u001b[0m\u001b[0;34m)\u001b[0m\u001b[0;34m\u001b[0m\u001b[0m\n\u001b[0m\u001b[1;32m   1132\u001b[0m         return_value = get_return_value(\n\u001b[1;32m   1133\u001b[0m             answer, self.gateway_client, self.target_id, self.name)\n",
      "\u001b[0;32m~/spark-2.1.1-bin-hadoop2.7/python/lib/py4j-0.10.4-src.zip/py4j/java_gateway.py\u001b[0m in \u001b[0;36msend_command\u001b[0;34m(self, command, retry, binary)\u001b[0m\n\u001b[1;32m    879\u001b[0m          \u001b[0;32mif\u001b[0m\u001b[0;31m \u001b[0m\u001b[0;31m`\u001b[0m\u001b[0mbinary\u001b[0m\u001b[0;31m`\u001b[0m \u001b[0;32mis\u001b[0m\u001b[0;31m \u001b[0m\u001b[0;31m`\u001b[0m\u001b[0;32mTrue\u001b[0m\u001b[0;31m`\u001b[0m\u001b[0;34m.\u001b[0m\u001b[0;34m\u001b[0m\u001b[0m\n\u001b[1;32m    880\u001b[0m         \"\"\"\n\u001b[0;32m--> 881\u001b[0;31m         \u001b[0mconnection\u001b[0m \u001b[0;34m=\u001b[0m \u001b[0mself\u001b[0m\u001b[0;34m.\u001b[0m\u001b[0m_get_connection\u001b[0m\u001b[0;34m(\u001b[0m\u001b[0;34m)\u001b[0m\u001b[0;34m\u001b[0m\u001b[0m\n\u001b[0m\u001b[1;32m    882\u001b[0m         \u001b[0;32mtry\u001b[0m\u001b[0;34m:\u001b[0m\u001b[0;34m\u001b[0m\u001b[0m\n\u001b[1;32m    883\u001b[0m             \u001b[0mresponse\u001b[0m \u001b[0;34m=\u001b[0m \u001b[0mconnection\u001b[0m\u001b[0;34m.\u001b[0m\u001b[0msend_command\u001b[0m\u001b[0;34m(\u001b[0m\u001b[0mcommand\u001b[0m\u001b[0;34m)\u001b[0m\u001b[0;34m\u001b[0m\u001b[0m\n",
      "\u001b[0;32m~/spark-2.1.1-bin-hadoop2.7/python/lib/py4j-0.10.4-src.zip/py4j/java_gateway.py\u001b[0m in \u001b[0;36m_get_connection\u001b[0;34m(self)\u001b[0m\n\u001b[1;32m    827\u001b[0m             \u001b[0mconnection\u001b[0m \u001b[0;34m=\u001b[0m \u001b[0mself\u001b[0m\u001b[0;34m.\u001b[0m\u001b[0mdeque\u001b[0m\u001b[0;34m.\u001b[0m\u001b[0mpop\u001b[0m\u001b[0;34m(\u001b[0m\u001b[0;34m)\u001b[0m\u001b[0;34m\u001b[0m\u001b[0m\n\u001b[1;32m    828\u001b[0m         \u001b[0;32mexcept\u001b[0m \u001b[0mIndexError\u001b[0m\u001b[0;34m:\u001b[0m\u001b[0;34m\u001b[0m\u001b[0m\n\u001b[0;32m--> 829\u001b[0;31m             \u001b[0mconnection\u001b[0m \u001b[0;34m=\u001b[0m \u001b[0mself\u001b[0m\u001b[0;34m.\u001b[0m\u001b[0m_create_connection\u001b[0m\u001b[0;34m(\u001b[0m\u001b[0;34m)\u001b[0m\u001b[0;34m\u001b[0m\u001b[0m\n\u001b[0m\u001b[1;32m    830\u001b[0m         \u001b[0;32mreturn\u001b[0m \u001b[0mconnection\u001b[0m\u001b[0;34m\u001b[0m\u001b[0m\n\u001b[1;32m    831\u001b[0m \u001b[0;34m\u001b[0m\u001b[0m\n",
      "\u001b[0;32m~/spark-2.1.1-bin-hadoop2.7/python/lib/py4j-0.10.4-src.zip/py4j/java_gateway.py\u001b[0m in \u001b[0;36m_create_connection\u001b[0;34m(self)\u001b[0m\n\u001b[1;32m    833\u001b[0m         connection = GatewayConnection(\n\u001b[1;32m    834\u001b[0m             self.gateway_parameters, self.gateway_property)\n\u001b[0;32m--> 835\u001b[0;31m         \u001b[0mconnection\u001b[0m\u001b[0;34m.\u001b[0m\u001b[0mstart\u001b[0m\u001b[0;34m(\u001b[0m\u001b[0;34m)\u001b[0m\u001b[0;34m\u001b[0m\u001b[0m\n\u001b[0m\u001b[1;32m    836\u001b[0m         \u001b[0;32mreturn\u001b[0m \u001b[0mconnection\u001b[0m\u001b[0;34m\u001b[0m\u001b[0m\n\u001b[1;32m    837\u001b[0m \u001b[0;34m\u001b[0m\u001b[0m\n",
      "\u001b[0;32m~/spark-2.1.1-bin-hadoop2.7/python/lib/py4j-0.10.4-src.zip/py4j/java_gateway.py\u001b[0m in \u001b[0;36mstart\u001b[0;34m(self)\u001b[0m\n\u001b[1;32m    968\u001b[0m                 \u001b[0;34m\"server ({0}:{1})\"\u001b[0m\u001b[0;34m.\u001b[0m\u001b[0mformat\u001b[0m\u001b[0;34m(\u001b[0m\u001b[0mself\u001b[0m\u001b[0;34m.\u001b[0m\u001b[0maddress\u001b[0m\u001b[0;34m,\u001b[0m \u001b[0mself\u001b[0m\u001b[0;34m.\u001b[0m\u001b[0mport\u001b[0m\u001b[0;34m)\u001b[0m\u001b[0;34m\u001b[0m\u001b[0m\n\u001b[1;32m    969\u001b[0m             \u001b[0mlogger\u001b[0m\u001b[0;34m.\u001b[0m\u001b[0mexception\u001b[0m\u001b[0;34m(\u001b[0m\u001b[0mmsg\u001b[0m\u001b[0;34m)\u001b[0m\u001b[0;34m\u001b[0m\u001b[0m\n\u001b[0;32m--> 970\u001b[0;31m             \u001b[0;32mraise\u001b[0m \u001b[0mPy4JNetworkError\u001b[0m\u001b[0;34m(\u001b[0m\u001b[0mmsg\u001b[0m\u001b[0;34m,\u001b[0m \u001b[0me\u001b[0m\u001b[0;34m)\u001b[0m\u001b[0;34m\u001b[0m\u001b[0m\n\u001b[0m\u001b[1;32m    971\u001b[0m \u001b[0;34m\u001b[0m\u001b[0m\n\u001b[1;32m    972\u001b[0m     \u001b[0;32mdef\u001b[0m \u001b[0mclose\u001b[0m\u001b[0;34m(\u001b[0m\u001b[0mself\u001b[0m\u001b[0;34m,\u001b[0m \u001b[0mreset\u001b[0m\u001b[0;34m=\u001b[0m\u001b[0;32mFalse\u001b[0m\u001b[0;34m)\u001b[0m\u001b[0;34m:\u001b[0m\u001b[0;34m\u001b[0m\u001b[0m\n",
      "\u001b[0;31mPy4JNetworkError\u001b[0m: An error occurred while trying to connect to the Java server (127.0.0.1:46008)"
     ]
    }
   ],
   "source": [
    "\n",
    "master = master.withColumn(\"Frequency\", master[\"Frequency\"].cast(\"integer\"))"
   ]
  },
  {
   "cell_type": "code",
   "execution_count": 86,
   "metadata": {},
   "outputs": [
    {
     "name": "stderr",
     "output_type": "stream",
     "text": [
      "ERROR:py4j.java_gateway:An error occurred while trying to connect to the Java server (127.0.0.1:46008)\n",
      "Traceback (most recent call last):\n",
      "  File \"/home/ubuntu/spark-2.1.1-bin-hadoop2.7/python/lib/py4j-0.10.4-src.zip/py4j/java_gateway.py\", line 827, in _get_connection\n",
      "    connection = self.deque.pop()\n",
      "IndexError: pop from an empty deque\n",
      "\n",
      "During handling of the above exception, another exception occurred:\n",
      "\n",
      "Traceback (most recent call last):\n",
      "  File \"/home/ubuntu/spark-2.1.1-bin-hadoop2.7/python/lib/py4j-0.10.4-src.zip/py4j/java_gateway.py\", line 963, in start\n",
      "    self.socket.connect((self.address, self.port))\n",
      "ConnectionRefusedError: [Errno 111] Connection refused\n"
     ]
    },
    {
     "ename": "Py4JNetworkError",
     "evalue": "An error occurred while trying to connect to the Java server (127.0.0.1:46008)",
     "output_type": "error",
     "traceback": [
      "\u001b[0;31m---------------------------------------------------------------------------\u001b[0m",
      "\u001b[0;31mIndexError\u001b[0m                                Traceback (most recent call last)",
      "\u001b[0;32m~/spark-2.1.1-bin-hadoop2.7/python/lib/py4j-0.10.4-src.zip/py4j/java_gateway.py\u001b[0m in \u001b[0;36m_get_connection\u001b[0;34m(self)\u001b[0m\n\u001b[1;32m    826\u001b[0m         \u001b[0;32mtry\u001b[0m\u001b[0;34m:\u001b[0m\u001b[0;34m\u001b[0m\u001b[0m\n\u001b[0;32m--> 827\u001b[0;31m             \u001b[0mconnection\u001b[0m \u001b[0;34m=\u001b[0m \u001b[0mself\u001b[0m\u001b[0;34m.\u001b[0m\u001b[0mdeque\u001b[0m\u001b[0;34m.\u001b[0m\u001b[0mpop\u001b[0m\u001b[0;34m(\u001b[0m\u001b[0;34m)\u001b[0m\u001b[0;34m\u001b[0m\u001b[0m\n\u001b[0m\u001b[1;32m    828\u001b[0m         \u001b[0;32mexcept\u001b[0m \u001b[0mIndexError\u001b[0m\u001b[0;34m:\u001b[0m\u001b[0;34m\u001b[0m\u001b[0m\n",
      "\u001b[0;31mIndexError\u001b[0m: pop from an empty deque",
      "\nDuring handling of the above exception, another exception occurred:\n",
      "\u001b[0;31mConnectionRefusedError\u001b[0m                    Traceback (most recent call last)",
      "\u001b[0;32m~/spark-2.1.1-bin-hadoop2.7/python/lib/py4j-0.10.4-src.zip/py4j/java_gateway.py\u001b[0m in \u001b[0;36mstart\u001b[0;34m(self)\u001b[0m\n\u001b[1;32m    962\u001b[0m         \u001b[0;32mtry\u001b[0m\u001b[0;34m:\u001b[0m\u001b[0;34m\u001b[0m\u001b[0m\n\u001b[0;32m--> 963\u001b[0;31m             \u001b[0mself\u001b[0m\u001b[0;34m.\u001b[0m\u001b[0msocket\u001b[0m\u001b[0;34m.\u001b[0m\u001b[0mconnect\u001b[0m\u001b[0;34m(\u001b[0m\u001b[0;34m(\u001b[0m\u001b[0mself\u001b[0m\u001b[0;34m.\u001b[0m\u001b[0maddress\u001b[0m\u001b[0;34m,\u001b[0m \u001b[0mself\u001b[0m\u001b[0;34m.\u001b[0m\u001b[0mport\u001b[0m\u001b[0;34m)\u001b[0m\u001b[0;34m)\u001b[0m\u001b[0;34m\u001b[0m\u001b[0m\n\u001b[0m\u001b[1;32m    964\u001b[0m             \u001b[0mself\u001b[0m\u001b[0;34m.\u001b[0m\u001b[0mis_connected\u001b[0m \u001b[0;34m=\u001b[0m \u001b[0;32mTrue\u001b[0m\u001b[0;34m\u001b[0m\u001b[0m\n",
      "\u001b[0;31mConnectionRefusedError\u001b[0m: [Errno 111] Connection refused",
      "\nDuring handling of the above exception, another exception occurred:\n",
      "\u001b[0;31mPy4JNetworkError\u001b[0m                          Traceback (most recent call last)",
      "\u001b[0;32m<ipython-input-86-06bf3972b4fa>\u001b[0m in \u001b[0;36m<module>\u001b[0;34m()\u001b[0m\n\u001b[0;32m----> 1\u001b[0;31m \u001b[0mmaster\u001b[0m\u001b[0;34m.\u001b[0m\u001b[0mdescribe\u001b[0m\u001b[0;34m(\u001b[0m\u001b[0;34m)\u001b[0m\u001b[0;34m\u001b[0m\u001b[0m\n\u001b[0m",
      "\u001b[0;32m~/spark-2.1.1-bin-hadoop2.7/python/pyspark/sql/dataframe.py\u001b[0m in \u001b[0;36mdescribe\u001b[0;34m(self, *cols)\u001b[0m\n\u001b[1;32m    900\u001b[0m         \u001b[0;32mif\u001b[0m \u001b[0mlen\u001b[0m\u001b[0;34m(\u001b[0m\u001b[0mcols\u001b[0m\u001b[0;34m)\u001b[0m \u001b[0;34m==\u001b[0m \u001b[0;36m1\u001b[0m \u001b[0;32mand\u001b[0m \u001b[0misinstance\u001b[0m\u001b[0;34m(\u001b[0m\u001b[0mcols\u001b[0m\u001b[0;34m[\u001b[0m\u001b[0;36m0\u001b[0m\u001b[0;34m]\u001b[0m\u001b[0;34m,\u001b[0m \u001b[0mlist\u001b[0m\u001b[0;34m)\u001b[0m\u001b[0;34m:\u001b[0m\u001b[0;34m\u001b[0m\u001b[0m\n\u001b[1;32m    901\u001b[0m             \u001b[0mcols\u001b[0m \u001b[0;34m=\u001b[0m \u001b[0mcols\u001b[0m\u001b[0;34m[\u001b[0m\u001b[0;36m0\u001b[0m\u001b[0;34m]\u001b[0m\u001b[0;34m\u001b[0m\u001b[0m\n\u001b[0;32m--> 902\u001b[0;31m         \u001b[0mjdf\u001b[0m \u001b[0;34m=\u001b[0m \u001b[0mself\u001b[0m\u001b[0;34m.\u001b[0m\u001b[0m_jdf\u001b[0m\u001b[0;34m.\u001b[0m\u001b[0mdescribe\u001b[0m\u001b[0;34m(\u001b[0m\u001b[0mself\u001b[0m\u001b[0;34m.\u001b[0m\u001b[0m_jseq\u001b[0m\u001b[0;34m(\u001b[0m\u001b[0mcols\u001b[0m\u001b[0;34m)\u001b[0m\u001b[0;34m)\u001b[0m\u001b[0;34m\u001b[0m\u001b[0m\n\u001b[0m\u001b[1;32m    903\u001b[0m         \u001b[0;32mreturn\u001b[0m \u001b[0mDataFrame\u001b[0m\u001b[0;34m(\u001b[0m\u001b[0mjdf\u001b[0m\u001b[0;34m,\u001b[0m \u001b[0mself\u001b[0m\u001b[0;34m.\u001b[0m\u001b[0msql_ctx\u001b[0m\u001b[0;34m)\u001b[0m\u001b[0;34m\u001b[0m\u001b[0m\n\u001b[1;32m    904\u001b[0m \u001b[0;34m\u001b[0m\u001b[0m\n",
      "\u001b[0;32m~/spark-2.1.1-bin-hadoop2.7/python/pyspark/sql/dataframe.py\u001b[0m in \u001b[0;36m_jseq\u001b[0;34m(self, cols, converter)\u001b[0m\n\u001b[1;32m    833\u001b[0m     \u001b[0;32mdef\u001b[0m \u001b[0m_jseq\u001b[0m\u001b[0;34m(\u001b[0m\u001b[0mself\u001b[0m\u001b[0;34m,\u001b[0m \u001b[0mcols\u001b[0m\u001b[0;34m,\u001b[0m \u001b[0mconverter\u001b[0m\u001b[0;34m=\u001b[0m\u001b[0;32mNone\u001b[0m\u001b[0;34m)\u001b[0m\u001b[0;34m:\u001b[0m\u001b[0;34m\u001b[0m\u001b[0m\n\u001b[1;32m    834\u001b[0m         \u001b[0;34m\"\"\"Return a JVM Seq of Columns from a list of Column or names\"\"\"\u001b[0m\u001b[0;34m\u001b[0m\u001b[0m\n\u001b[0;32m--> 835\u001b[0;31m         \u001b[0;32mreturn\u001b[0m \u001b[0m_to_seq\u001b[0m\u001b[0;34m(\u001b[0m\u001b[0mself\u001b[0m\u001b[0;34m.\u001b[0m\u001b[0msql_ctx\u001b[0m\u001b[0;34m.\u001b[0m\u001b[0m_sc\u001b[0m\u001b[0;34m,\u001b[0m \u001b[0mcols\u001b[0m\u001b[0;34m,\u001b[0m \u001b[0mconverter\u001b[0m\u001b[0;34m)\u001b[0m\u001b[0;34m\u001b[0m\u001b[0m\n\u001b[0m\u001b[1;32m    836\u001b[0m \u001b[0;34m\u001b[0m\u001b[0m\n\u001b[1;32m    837\u001b[0m     \u001b[0;32mdef\u001b[0m \u001b[0m_jmap\u001b[0m\u001b[0;34m(\u001b[0m\u001b[0mself\u001b[0m\u001b[0;34m,\u001b[0m \u001b[0mjm\u001b[0m\u001b[0;34m)\u001b[0m\u001b[0;34m:\u001b[0m\u001b[0;34m\u001b[0m\u001b[0m\n",
      "\u001b[0;32m~/spark-2.1.1-bin-hadoop2.7/python/pyspark/sql/column.py\u001b[0m in \u001b[0;36m_to_seq\u001b[0;34m(sc, cols, converter)\u001b[0m\n\u001b[1;32m     58\u001b[0m     \u001b[0;32mif\u001b[0m \u001b[0mconverter\u001b[0m\u001b[0;34m:\u001b[0m\u001b[0;34m\u001b[0m\u001b[0m\n\u001b[1;32m     59\u001b[0m         \u001b[0mcols\u001b[0m \u001b[0;34m=\u001b[0m \u001b[0;34m[\u001b[0m\u001b[0mconverter\u001b[0m\u001b[0;34m(\u001b[0m\u001b[0mc\u001b[0m\u001b[0;34m)\u001b[0m \u001b[0;32mfor\u001b[0m \u001b[0mc\u001b[0m \u001b[0;32min\u001b[0m \u001b[0mcols\u001b[0m\u001b[0;34m]\u001b[0m\u001b[0;34m\u001b[0m\u001b[0m\n\u001b[0;32m---> 60\u001b[0;31m     \u001b[0;32mreturn\u001b[0m \u001b[0msc\u001b[0m\u001b[0;34m.\u001b[0m\u001b[0m_jvm\u001b[0m\u001b[0;34m.\u001b[0m\u001b[0mPythonUtils\u001b[0m\u001b[0;34m.\u001b[0m\u001b[0mtoSeq\u001b[0m\u001b[0;34m(\u001b[0m\u001b[0mcols\u001b[0m\u001b[0;34m)\u001b[0m\u001b[0;34m\u001b[0m\u001b[0m\n\u001b[0m\u001b[1;32m     61\u001b[0m \u001b[0;34m\u001b[0m\u001b[0m\n\u001b[1;32m     62\u001b[0m \u001b[0;34m\u001b[0m\u001b[0m\n",
      "\u001b[0;32m~/spark-2.1.1-bin-hadoop2.7/python/lib/py4j-0.10.4-src.zip/py4j/java_gateway.py\u001b[0m in \u001b[0;36m__getattr__\u001b[0;34m(self, name)\u001b[0m\n\u001b[1;32m   1523\u001b[0m             \u001b[0mproto\u001b[0m\u001b[0;34m.\u001b[0m\u001b[0mREFLECTION_COMMAND_NAME\u001b[0m \u001b[0;34m+\u001b[0m\u001b[0;34m\u001b[0m\u001b[0m\n\u001b[1;32m   1524\u001b[0m             \u001b[0mproto\u001b[0m\u001b[0;34m.\u001b[0m\u001b[0mREFL_GET_UNKNOWN_SUB_COMMAND_NAME\u001b[0m \u001b[0;34m+\u001b[0m \u001b[0mname\u001b[0m \u001b[0;34m+\u001b[0m \u001b[0;34m\"\\n\"\u001b[0m \u001b[0;34m+\u001b[0m \u001b[0mself\u001b[0m\u001b[0;34m.\u001b[0m\u001b[0m_id\u001b[0m \u001b[0;34m+\u001b[0m\u001b[0;34m\u001b[0m\u001b[0m\n\u001b[0;32m-> 1525\u001b[0;31m             \"\\n\" + proto.END_COMMAND_PART)\n\u001b[0m\u001b[1;32m   1526\u001b[0m         \u001b[0;32mif\u001b[0m \u001b[0manswer\u001b[0m \u001b[0;34m==\u001b[0m \u001b[0mproto\u001b[0m\u001b[0;34m.\u001b[0m\u001b[0mSUCCESS_PACKAGE\u001b[0m\u001b[0;34m:\u001b[0m\u001b[0;34m\u001b[0m\u001b[0m\n\u001b[1;32m   1527\u001b[0m             \u001b[0;32mreturn\u001b[0m \u001b[0mJavaPackage\u001b[0m\u001b[0;34m(\u001b[0m\u001b[0mname\u001b[0m\u001b[0;34m,\u001b[0m \u001b[0mself\u001b[0m\u001b[0;34m.\u001b[0m\u001b[0m_gateway_client\u001b[0m\u001b[0;34m,\u001b[0m \u001b[0mjvm_id\u001b[0m\u001b[0;34m=\u001b[0m\u001b[0mself\u001b[0m\u001b[0;34m.\u001b[0m\u001b[0m_id\u001b[0m\u001b[0;34m)\u001b[0m\u001b[0;34m\u001b[0m\u001b[0m\n",
      "\u001b[0;32m~/spark-2.1.1-bin-hadoop2.7/python/lib/py4j-0.10.4-src.zip/py4j/java_gateway.py\u001b[0m in \u001b[0;36msend_command\u001b[0;34m(self, command, retry, binary)\u001b[0m\n\u001b[1;32m    879\u001b[0m          \u001b[0;32mif\u001b[0m\u001b[0;31m \u001b[0m\u001b[0;31m`\u001b[0m\u001b[0mbinary\u001b[0m\u001b[0;31m`\u001b[0m \u001b[0;32mis\u001b[0m\u001b[0;31m \u001b[0m\u001b[0;31m`\u001b[0m\u001b[0;32mTrue\u001b[0m\u001b[0;31m`\u001b[0m\u001b[0;34m.\u001b[0m\u001b[0;34m\u001b[0m\u001b[0m\n\u001b[1;32m    880\u001b[0m         \"\"\"\n\u001b[0;32m--> 881\u001b[0;31m         \u001b[0mconnection\u001b[0m \u001b[0;34m=\u001b[0m \u001b[0mself\u001b[0m\u001b[0;34m.\u001b[0m\u001b[0m_get_connection\u001b[0m\u001b[0;34m(\u001b[0m\u001b[0;34m)\u001b[0m\u001b[0;34m\u001b[0m\u001b[0m\n\u001b[0m\u001b[1;32m    882\u001b[0m         \u001b[0;32mtry\u001b[0m\u001b[0;34m:\u001b[0m\u001b[0;34m\u001b[0m\u001b[0m\n\u001b[1;32m    883\u001b[0m             \u001b[0mresponse\u001b[0m \u001b[0;34m=\u001b[0m \u001b[0mconnection\u001b[0m\u001b[0;34m.\u001b[0m\u001b[0msend_command\u001b[0m\u001b[0;34m(\u001b[0m\u001b[0mcommand\u001b[0m\u001b[0;34m)\u001b[0m\u001b[0;34m\u001b[0m\u001b[0m\n",
      "\u001b[0;32m~/spark-2.1.1-bin-hadoop2.7/python/lib/py4j-0.10.4-src.zip/py4j/java_gateway.py\u001b[0m in \u001b[0;36m_get_connection\u001b[0;34m(self)\u001b[0m\n\u001b[1;32m    827\u001b[0m             \u001b[0mconnection\u001b[0m \u001b[0;34m=\u001b[0m \u001b[0mself\u001b[0m\u001b[0;34m.\u001b[0m\u001b[0mdeque\u001b[0m\u001b[0;34m.\u001b[0m\u001b[0mpop\u001b[0m\u001b[0;34m(\u001b[0m\u001b[0;34m)\u001b[0m\u001b[0;34m\u001b[0m\u001b[0m\n\u001b[1;32m    828\u001b[0m         \u001b[0;32mexcept\u001b[0m \u001b[0mIndexError\u001b[0m\u001b[0;34m:\u001b[0m\u001b[0;34m\u001b[0m\u001b[0m\n\u001b[0;32m--> 829\u001b[0;31m             \u001b[0mconnection\u001b[0m \u001b[0;34m=\u001b[0m \u001b[0mself\u001b[0m\u001b[0;34m.\u001b[0m\u001b[0m_create_connection\u001b[0m\u001b[0;34m(\u001b[0m\u001b[0;34m)\u001b[0m\u001b[0;34m\u001b[0m\u001b[0m\n\u001b[0m\u001b[1;32m    830\u001b[0m         \u001b[0;32mreturn\u001b[0m \u001b[0mconnection\u001b[0m\u001b[0;34m\u001b[0m\u001b[0m\n\u001b[1;32m    831\u001b[0m \u001b[0;34m\u001b[0m\u001b[0m\n",
      "\u001b[0;32m~/spark-2.1.1-bin-hadoop2.7/python/lib/py4j-0.10.4-src.zip/py4j/java_gateway.py\u001b[0m in \u001b[0;36m_create_connection\u001b[0;34m(self)\u001b[0m\n\u001b[1;32m    833\u001b[0m         connection = GatewayConnection(\n\u001b[1;32m    834\u001b[0m             self.gateway_parameters, self.gateway_property)\n\u001b[0;32m--> 835\u001b[0;31m         \u001b[0mconnection\u001b[0m\u001b[0;34m.\u001b[0m\u001b[0mstart\u001b[0m\u001b[0;34m(\u001b[0m\u001b[0;34m)\u001b[0m\u001b[0;34m\u001b[0m\u001b[0m\n\u001b[0m\u001b[1;32m    836\u001b[0m         \u001b[0;32mreturn\u001b[0m \u001b[0mconnection\u001b[0m\u001b[0;34m\u001b[0m\u001b[0m\n\u001b[1;32m    837\u001b[0m \u001b[0;34m\u001b[0m\u001b[0m\n",
      "\u001b[0;32m~/spark-2.1.1-bin-hadoop2.7/python/lib/py4j-0.10.4-src.zip/py4j/java_gateway.py\u001b[0m in \u001b[0;36mstart\u001b[0;34m(self)\u001b[0m\n\u001b[1;32m    968\u001b[0m                 \u001b[0;34m\"server ({0}:{1})\"\u001b[0m\u001b[0;34m.\u001b[0m\u001b[0mformat\u001b[0m\u001b[0;34m(\u001b[0m\u001b[0mself\u001b[0m\u001b[0;34m.\u001b[0m\u001b[0maddress\u001b[0m\u001b[0;34m,\u001b[0m \u001b[0mself\u001b[0m\u001b[0;34m.\u001b[0m\u001b[0mport\u001b[0m\u001b[0;34m)\u001b[0m\u001b[0;34m\u001b[0m\u001b[0m\n\u001b[1;32m    969\u001b[0m             \u001b[0mlogger\u001b[0m\u001b[0;34m.\u001b[0m\u001b[0mexception\u001b[0m\u001b[0;34m(\u001b[0m\u001b[0mmsg\u001b[0m\u001b[0;34m)\u001b[0m\u001b[0;34m\u001b[0m\u001b[0m\n\u001b[0;32m--> 970\u001b[0;31m             \u001b[0;32mraise\u001b[0m \u001b[0mPy4JNetworkError\u001b[0m\u001b[0;34m(\u001b[0m\u001b[0mmsg\u001b[0m\u001b[0;34m,\u001b[0m \u001b[0me\u001b[0m\u001b[0;34m)\u001b[0m\u001b[0;34m\u001b[0m\u001b[0m\n\u001b[0m\u001b[1;32m    971\u001b[0m \u001b[0;34m\u001b[0m\u001b[0m\n\u001b[1;32m    972\u001b[0m     \u001b[0;32mdef\u001b[0m \u001b[0mclose\u001b[0m\u001b[0;34m(\u001b[0m\u001b[0mself\u001b[0m\u001b[0;34m,\u001b[0m \u001b[0mreset\u001b[0m\u001b[0;34m=\u001b[0m\u001b[0;32mFalse\u001b[0m\u001b[0;34m)\u001b[0m\u001b[0;34m:\u001b[0m\u001b[0;34m\u001b[0m\u001b[0m\n",
      "\u001b[0;31mPy4JNetworkError\u001b[0m: An error occurred while trying to connect to the Java server (127.0.0.1:46008)"
     ]
    }
   ],
   "source": [
    "master.describe()"
   ]
  },
  {
   "cell_type": "code",
   "execution_count": 71,
   "metadata": {
    "scrolled": true
   },
   "outputs": [
    {
     "ename": "IllegalArgumentException",
     "evalue": "'requirement failed: Quantile calculation for column frequency with data type StringType is not supported.'",
     "output_type": "error",
     "traceback": [
      "\u001b[0;31m---------------------------------------------------------------------------\u001b[0m",
      "\u001b[0;31mPy4JJavaError\u001b[0m                             Traceback (most recent call last)",
      "\u001b[0;32m~/spark-2.1.1-bin-hadoop2.7/python/pyspark/sql/utils.py\u001b[0m in \u001b[0;36mdeco\u001b[0;34m(*a, **kw)\u001b[0m\n\u001b[1;32m     62\u001b[0m         \u001b[0;32mtry\u001b[0m\u001b[0;34m:\u001b[0m\u001b[0;34m\u001b[0m\u001b[0m\n\u001b[0;32m---> 63\u001b[0;31m             \u001b[0;32mreturn\u001b[0m \u001b[0mf\u001b[0m\u001b[0;34m(\u001b[0m\u001b[0;34m*\u001b[0m\u001b[0ma\u001b[0m\u001b[0;34m,\u001b[0m \u001b[0;34m**\u001b[0m\u001b[0mkw\u001b[0m\u001b[0;34m)\u001b[0m\u001b[0;34m\u001b[0m\u001b[0m\n\u001b[0m\u001b[1;32m     64\u001b[0m         \u001b[0;32mexcept\u001b[0m \u001b[0mpy4j\u001b[0m\u001b[0;34m.\u001b[0m\u001b[0mprotocol\u001b[0m\u001b[0;34m.\u001b[0m\u001b[0mPy4JJavaError\u001b[0m \u001b[0;32mas\u001b[0m \u001b[0me\u001b[0m\u001b[0;34m:\u001b[0m\u001b[0;34m\u001b[0m\u001b[0m\n",
      "\u001b[0;32m~/spark-2.1.1-bin-hadoop2.7/python/lib/py4j-0.10.4-src.zip/py4j/protocol.py\u001b[0m in \u001b[0;36mget_return_value\u001b[0;34m(answer, gateway_client, target_id, name)\u001b[0m\n\u001b[1;32m    318\u001b[0m                     \u001b[0;34m\"An error occurred while calling {0}{1}{2}.\\n\"\u001b[0m\u001b[0;34m.\u001b[0m\u001b[0;34m\u001b[0m\u001b[0m\n\u001b[0;32m--> 319\u001b[0;31m                     format(target_id, \".\", name), value)\n\u001b[0m\u001b[1;32m    320\u001b[0m             \u001b[0;32melse\u001b[0m\u001b[0;34m:\u001b[0m\u001b[0;34m\u001b[0m\u001b[0m\n",
      "\u001b[0;31mPy4JJavaError\u001b[0m: An error occurred while calling o863.approxQuantile.\n: java.lang.IllegalArgumentException: requirement failed: Quantile calculation for column frequency with data type StringType is not supported.\n\tat scala.Predef$.require(Predef.scala:224)\n\tat org.apache.spark.sql.execution.stat.StatFunctions$$anonfun$1.apply(StatFunctions.scala:65)\n\tat org.apache.spark.sql.execution.stat.StatFunctions$$anonfun$1.apply(StatFunctions.scala:63)\n\tat scala.collection.TraversableLike$$anonfun$map$1.apply(TraversableLike.scala:234)\n\tat scala.collection.TraversableLike$$anonfun$map$1.apply(TraversableLike.scala:234)\n\tat scala.collection.immutable.List.foreach(List.scala:381)\n\tat scala.collection.TraversableLike$class.map(TraversableLike.scala:234)\n\tat scala.collection.immutable.List.map(List.scala:285)\n\tat org.apache.spark.sql.execution.stat.StatFunctions$.multipleApproxQuantiles(StatFunctions.scala:63)\n\tat org.apache.spark.sql.DataFrameStatFunctions.approxQuantile(DataFrameStatFunctions.scala:73)\n\tat org.apache.spark.sql.DataFrameStatFunctions.approxQuantile(DataFrameStatFunctions.scala:84)\n\tat sun.reflect.NativeMethodAccessorImpl.invoke0(Native Method)\n\tat sun.reflect.NativeMethodAccessorImpl.invoke(NativeMethodAccessorImpl.java:62)\n\tat sun.reflect.DelegatingMethodAccessorImpl.invoke(DelegatingMethodAccessorImpl.java:43)\n\tat java.lang.reflect.Method.invoke(Method.java:498)\n\tat py4j.reflection.MethodInvoker.invoke(MethodInvoker.java:244)\n\tat py4j.reflection.ReflectionEngine.invoke(ReflectionEngine.java:357)\n\tat py4j.Gateway.invoke(Gateway.java:280)\n\tat py4j.commands.AbstractCommand.invokeMethod(AbstractCommand.java:132)\n\tat py4j.commands.CallCommand.execute(CallCommand.java:79)\n\tat py4j.GatewayConnection.run(GatewayConnection.java:214)\n\tat java.lang.Thread.run(Thread.java:748)\n",
      "\nDuring handling of the above exception, another exception occurred:\n",
      "\u001b[0;31mIllegalArgumentException\u001b[0m                  Traceback (most recent call last)",
      "\u001b[0;32m<ipython-input-71-47f7952f6def>\u001b[0m in \u001b[0;36m<module>\u001b[0;34m()\u001b[0m\n\u001b[1;32m      5\u001b[0m print(\"Iqr is for frequency\", iqr)'''\n\u001b[1;32m      6\u001b[0m \u001b[0;34m\u001b[0m\u001b[0m\n\u001b[0;32m----> 7\u001b[0;31m \u001b[0mmaster\u001b[0m\u001b[0;34m.\u001b[0m\u001b[0mapproxQuantile\u001b[0m\u001b[0;34m(\u001b[0m\u001b[0;34m\"frequency\"\u001b[0m\u001b[0;34m,\u001b[0m \u001b[0;34m[\u001b[0m\u001b[0;36m0.25\u001b[0m\u001b[0;34m,\u001b[0m \u001b[0;36m0.75\u001b[0m\u001b[0;34m]\u001b[0m\u001b[0;34m,\u001b[0m \u001b[0;36m0.05\u001b[0m\u001b[0;34m)\u001b[0m\u001b[0;34m\u001b[0m\u001b[0m\n\u001b[0m",
      "\u001b[0;32m~/spark-2.1.1-bin-hadoop2.7/python/pyspark/sql/dataframe.py\u001b[0m in \u001b[0;36mapproxQuantile\u001b[0;34m(self, col, probabilities, relativeError)\u001b[0m\n\u001b[1;32m   1400\u001b[0m         \u001b[0mrelativeError\u001b[0m \u001b[0;34m=\u001b[0m \u001b[0mfloat\u001b[0m\u001b[0;34m(\u001b[0m\u001b[0mrelativeError\u001b[0m\u001b[0;34m)\u001b[0m\u001b[0;34m\u001b[0m\u001b[0m\n\u001b[1;32m   1401\u001b[0m \u001b[0;34m\u001b[0m\u001b[0m\n\u001b[0;32m-> 1402\u001b[0;31m         \u001b[0mjaq\u001b[0m \u001b[0;34m=\u001b[0m \u001b[0mself\u001b[0m\u001b[0;34m.\u001b[0m\u001b[0m_jdf\u001b[0m\u001b[0;34m.\u001b[0m\u001b[0mstat\u001b[0m\u001b[0;34m(\u001b[0m\u001b[0;34m)\u001b[0m\u001b[0;34m.\u001b[0m\u001b[0mapproxQuantile\u001b[0m\u001b[0;34m(\u001b[0m\u001b[0mcol\u001b[0m\u001b[0;34m,\u001b[0m \u001b[0mprobabilities\u001b[0m\u001b[0;34m,\u001b[0m \u001b[0mrelativeError\u001b[0m\u001b[0;34m)\u001b[0m\u001b[0;34m\u001b[0m\u001b[0m\n\u001b[0m\u001b[1;32m   1403\u001b[0m         \u001b[0;32mreturn\u001b[0m \u001b[0mlist\u001b[0m\u001b[0;34m(\u001b[0m\u001b[0mjaq\u001b[0m\u001b[0;34m)\u001b[0m\u001b[0;34m\u001b[0m\u001b[0m\n\u001b[1;32m   1404\u001b[0m \u001b[0;34m\u001b[0m\u001b[0m\n",
      "\u001b[0;32m~/spark-2.1.1-bin-hadoop2.7/python/lib/py4j-0.10.4-src.zip/py4j/java_gateway.py\u001b[0m in \u001b[0;36m__call__\u001b[0;34m(self, *args)\u001b[0m\n\u001b[1;32m   1131\u001b[0m         \u001b[0manswer\u001b[0m \u001b[0;34m=\u001b[0m \u001b[0mself\u001b[0m\u001b[0;34m.\u001b[0m\u001b[0mgateway_client\u001b[0m\u001b[0;34m.\u001b[0m\u001b[0msend_command\u001b[0m\u001b[0;34m(\u001b[0m\u001b[0mcommand\u001b[0m\u001b[0;34m)\u001b[0m\u001b[0;34m\u001b[0m\u001b[0m\n\u001b[1;32m   1132\u001b[0m         return_value = get_return_value(\n\u001b[0;32m-> 1133\u001b[0;31m             answer, self.gateway_client, self.target_id, self.name)\n\u001b[0m\u001b[1;32m   1134\u001b[0m \u001b[0;34m\u001b[0m\u001b[0m\n\u001b[1;32m   1135\u001b[0m         \u001b[0;32mfor\u001b[0m \u001b[0mtemp_arg\u001b[0m \u001b[0;32min\u001b[0m \u001b[0mtemp_args\u001b[0m\u001b[0;34m:\u001b[0m\u001b[0;34m\u001b[0m\u001b[0m\n",
      "\u001b[0;32m~/spark-2.1.1-bin-hadoop2.7/python/pyspark/sql/utils.py\u001b[0m in \u001b[0;36mdeco\u001b[0;34m(*a, **kw)\u001b[0m\n\u001b[1;32m     77\u001b[0m                 \u001b[0;32mraise\u001b[0m \u001b[0mQueryExecutionException\u001b[0m\u001b[0;34m(\u001b[0m\u001b[0ms\u001b[0m\u001b[0;34m.\u001b[0m\u001b[0msplit\u001b[0m\u001b[0;34m(\u001b[0m\u001b[0;34m': '\u001b[0m\u001b[0;34m,\u001b[0m \u001b[0;36m1\u001b[0m\u001b[0;34m)\u001b[0m\u001b[0;34m[\u001b[0m\u001b[0;36m1\u001b[0m\u001b[0;34m]\u001b[0m\u001b[0;34m,\u001b[0m \u001b[0mstackTrace\u001b[0m\u001b[0;34m)\u001b[0m\u001b[0;34m\u001b[0m\u001b[0m\n\u001b[1;32m     78\u001b[0m             \u001b[0;32mif\u001b[0m \u001b[0ms\u001b[0m\u001b[0;34m.\u001b[0m\u001b[0mstartswith\u001b[0m\u001b[0;34m(\u001b[0m\u001b[0;34m'java.lang.IllegalArgumentException: '\u001b[0m\u001b[0;34m)\u001b[0m\u001b[0;34m:\u001b[0m\u001b[0;34m\u001b[0m\u001b[0m\n\u001b[0;32m---> 79\u001b[0;31m                 \u001b[0;32mraise\u001b[0m \u001b[0mIllegalArgumentException\u001b[0m\u001b[0;34m(\u001b[0m\u001b[0ms\u001b[0m\u001b[0;34m.\u001b[0m\u001b[0msplit\u001b[0m\u001b[0;34m(\u001b[0m\u001b[0;34m': '\u001b[0m\u001b[0;34m,\u001b[0m \u001b[0;36m1\u001b[0m\u001b[0;34m)\u001b[0m\u001b[0;34m[\u001b[0m\u001b[0;36m1\u001b[0m\u001b[0;34m]\u001b[0m\u001b[0;34m,\u001b[0m \u001b[0mstackTrace\u001b[0m\u001b[0;34m)\u001b[0m\u001b[0;34m\u001b[0m\u001b[0m\n\u001b[0m\u001b[1;32m     80\u001b[0m             \u001b[0;32mraise\u001b[0m\u001b[0;34m\u001b[0m\u001b[0m\n\u001b[1;32m     81\u001b[0m     \u001b[0;32mreturn\u001b[0m \u001b[0mdeco\u001b[0m\u001b[0;34m\u001b[0m\u001b[0m\n",
      "\u001b[0;31mIllegalArgumentException\u001b[0m: 'requirement failed: Quantile calculation for column frequency with data type StringType is not supported.'"
     ]
    }
   ],
   "source": [
    "frequency = master.select(\"Frequency\")\n",
    "''''q1 = np.quantile(frequency,0.25)\n",
    "q3 = np.quantile(frequency,0.75)\n",
    "iqr = q3-q1\n",
    "print(\"Iqr is for frequency\", iqr)'''\n",
    "\n",
    "master.approxQuantile(\"frequency\", [0.25, 0.75], 0.05)"
   ]
  },
  {
   "cell_type": "code",
   "execution_count": null,
   "metadata": {},
   "outputs": [],
   "source": []
  }
 ],
 "metadata": {
  "kernelspec": {
   "display_name": "Python 3",
   "language": "python",
   "name": "python3"
  },
  "language_info": {
   "codemirror_mode": {
    "name": "ipython",
    "version": 3
   },
   "file_extension": ".py",
   "mimetype": "text/x-python",
   "name": "python",
   "nbconvert_exporter": "python",
   "pygments_lexer": "ipython3",
   "version": "3.5.2"
  }
 },
 "nbformat": 4,
 "nbformat_minor": 2
}
