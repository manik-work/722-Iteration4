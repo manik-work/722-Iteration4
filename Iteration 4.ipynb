{
 "cells": [
  {
   "cell_type": "code",
   "execution_count": 1,
   "metadata": {},
   "outputs": [],
   "source": [
    "import findspark\n",
    "findspark.init('/home/ubuntu/spark-2.1.1-bin-hadoop2.7')\n",
    "import pyspark\n",
    "from pyspark.sql import SparkSession\n",
    "spark = SparkSession.builder.appName('police_data_analysis').getOrCreate()"
   ]
  },
  {
   "cell_type": "code",
   "execution_count": 2,
   "metadata": {},
   "outputs": [],
   "source": [
    "df1 = spark.read.load('Datasets/ANSZOC_E_Area.csv', format = 'csv', header = 'true')"
   ]
  },
  {
   "cell_type": "code",
   "execution_count": 3,
   "metadata": {},
   "outputs": [],
   "source": [
    "df2 = spark.read.load('Datasets/Offender_A_ROV.csv', format = 'csv', header = 'true')"
   ]
  },
  {
   "cell_type": "code",
   "execution_count": 4,
   "metadata": {
    "scrolled": false
   },
   "outputs": [
    {
     "name": "stdout",
     "output_type": "stream",
     "text": [
      "+---+--------------------+--------------------+--------------------+--------------+----------+----------------+--------------------+---------------+---------------------+----+----------+\n",
      "| ID|     ANZSOC Division|        ANZSOC Group|  ANZSOC Subdivision|     Ethnicity| Frequency|    Mop Division|         Police Area|Police District|Proceedings Frequency| SEX|Year Month|\n",
      "+---+--------------------+--------------------+--------------------+--------------+----------+----------------+--------------------+---------------+---------------------+----+----------+\n",
      "|  1|Acts Intended to ...|      Common Assault|             Assault|Pacific Island|10 or more|Non-Court Action|Auckland Central ...|  Auckland City|           10 or more|Male| 1/02/2020|\n",
      "|  2|Acts Intended to ...|      Common Assault|             Assault|Pacific Island|10 or more|Non-Court Action|Auckland Central ...|  Auckland City|           10 or more|Male| 1/02/2020|\n",
      "|  3|Acts Intended to ...|      Common Assault|             Assault|      European|         2|Non-Court Action|Auckland Central ...|  Auckland City|                    2|Male| 1/02/2020|\n",
      "|  4|Acts Intended to ...|Serious Assault N...|             Assault|Pacific Island|         2|Non-Court Action|  Auckland East Area|  Auckland City|                    2|Male| 1/02/2020|\n",
      "|  5|Acts Intended to ...|Serious Assault N...|             Assault|Pacific Island|         2|Non-Court Action|  Auckland East Area|  Auckland City|                    2|Male| 1/02/2020|\n",
      "|  6|Acts Intended to ...|Serious Assault N...|             Assault|Pacific Island|         2|Non-Court Action|  Auckland East Area|  Auckland City|                    2|Male| 1/02/2020|\n",
      "|  7|Acts Intended to ...|      Common Assault|             Assault|        Indian|         2|Non-Court Action|  Auckland West Area|  Auckland City|                    2|Male| 1/02/2020|\n",
      "|  8|Acts Intended to ...|      Common Assault|             Assault|        Indian|         2|Non-Court Action|  Auckland West Area|  Auckland City|                    2|Male| 1/02/2020|\n",
      "|  9|Acts Intended to ...|      Common Assault|             Assault|Pacific Island|         2|Non-Court Action|  Auckland West Area|  Auckland City|                    2|Male| 1/02/2020|\n",
      "| 10|Acts Intended to ...|Serious Assault N...|             Assault|Pacific Island|         2|Non-Court Action|  Auckland West Area|  Auckland City|                    2|Male| 1/02/2020|\n",
      "| 11|Acts Intended to ...|Serious Assault N...|             Assault|Pacific Island|         2|Non-Court Action|  Auckland West Area|  Auckland City|                    2|Male| 1/02/2020|\n",
      "| 12|Acts Intended to ...|Serious Assault N...|             Assault|Pacific Island|         2|Non-Court Action|  Auckland West Area|  Auckland City|                    2|Male| 1/02/2020|\n",
      "| 13|Robbery, Extortio...|  Aggravated Robbery|             Robbery|      European|         2|Non-Court Action|  Auckland West Area|  Auckland City|                    2|Male| 1/02/2020|\n",
      "| 14|Robbery, Extortio...|  Aggravated Robbery|             Robbery|         Maori|         2|Non-Court Action|  Auckland West Area|  Auckland City|                    2|Male| 1/02/2020|\n",
      "| 53|Abduction, Harass...|Threatening Behav...|Harassment and Th...|Pacific Island|         3|Non-Court Action|  Auckland East Area|  Auckland City|                    3|Male| 1/02/2020|\n",
      "| 65|Acts Intended to ...|      Common Assault|             Assault|         Maori|         4|Non-Court Action|Auckland Central ...|  Auckland City|                    4|Male| 1/02/2020|\n",
      "| 66|Acts Intended to ...|      Common Assault|             Assault|         Maori|         4|Non-Court Action|Auckland Central ...|  Auckland City|                    4|Male| 1/02/2020|\n",
      "| 67|Acts Intended to ...|      Common Assault|             Assault|         Maori|         4|Non-Court Action|Auckland Central ...|  Auckland City|                    4|Male| 1/02/2020|\n",
      "| 68|Acts Intended to ...|      Common Assault|             Assault|      European|         4|Non-Court Action|  Auckland East Area|  Auckland City|                    4|Male| 1/02/2020|\n",
      "| 69|Acts Intended to ...|      Common Assault|             Assault|      European|         4|Non-Court Action|  Auckland East Area|  Auckland City|                    4|Male| 1/02/2020|\n",
      "+---+--------------------+--------------------+--------------------+--------------+----------+----------------+--------------------+---------------+---------------------+----+----------+\n",
      "only showing top 20 rows\n",
      "\n"
     ]
    }
   ],
   "source": [
    "df1.show()"
   ]
  },
  {
   "cell_type": "code",
   "execution_count": 5,
   "metadata": {},
   "outputs": [
    {
     "name": "stdout",
     "output_type": "stream",
     "text": [
      "+---+-----------------+--------------+---------+--------------------+-------------------+---------------+-------------------+-----------------+\n",
      "| ID|Number of Records|Offender Count|Age Group|  Age Group 5Yr Band|Person/Organisation|   ROV Division|          ROV Group|   ROVSubdivision|\n",
      "+---+-----------------+--------------+---------+--------------------+-------------------+---------------+-------------------+-----------------+\n",
      "|  1|                1|          1.00|    15-19|15 - 19 years inc...|             Person|Known To Victim|Known To Each Other|Non Family Member|\n",
      "|  2|                1|             1|    20-24|20 - 24 years inc...|             Person|Known To Victim|Known To Each Other|Non Family Member|\n",
      "|  3|                1|          2.00|     null|                null|               null|Known To Victim|Known To Each Other|Non Family Member|\n",
      "|  4|                1|          1.00|    15-19|15 - 19 years inc...|             Person|Known To Victim|Known To Each Other|Non Family Member|\n",
      "|  5|                1|          1.00|    25-29|25 - 29 years inc...|             Person|Known To Victim|Known To Each Other|Non Family Member|\n",
      "|  6|                1|          1.00|    40-44|40 - 44 years inc...|             Person|Known To Victim|Known To Each Other|Non Family Member|\n",
      "|  7|                1|          1.00|    20-24|20 - 24 years inc...|             Person|Known To Victim|Known To Each Other|Non Family Member|\n",
      "|  8|                1|          1.00|    40-44|40 - 44 years inc...|             Person|Known To Victim|Known To Each Other|Non Family Member|\n",
      "|  9|                1|          1.00|    15-19|15 - 19 years inc...|             Person|Known To Victim|Known To Each Other|Non Family Member|\n",
      "| 10|                1|          1.00|    15-19|15 - 19 years inc...|             Person|Known To Victim|Known To Each Other|Non Family Member|\n",
      "| 11|                1|          1.00|    25-29|25 - 29 years inc...|             Person|Known To Victim|Known To Each Other|Non Family Member|\n",
      "| 12|                1|          1.00|    40-44|40 - 44 years inc...|             Person|Known To Victim|Known To Each Other|Non Family Member|\n",
      "| 13|                1|          1.00|     null|                null|               null|Known To Victim|Known To Each Other|Non Family Member|\n",
      "| 14|                1|          1.00|     null|                null|               null|Known To Victim|Known To Each Other|Non Family Member|\n",
      "| 53|                1|          1.00|    45-49|45 - 49 years inc...|             Person|Known To Victim|Known To Each Other|Non Family Member|\n",
      "| 65|                1|          1.00|    25-29|25 - 29 years inc...|             Person|Known To Victim|Known To Each Other|Non Family Member|\n",
      "| 66|                1|          1.00|    35-39|35 - 39 years inc...|             Person|Known To Victim|Known To Each Other|Non Family Member|\n",
      "| 67|                1|          1.00|    45-49|45 - 49 years inc...|             Person|Known To Victim|Known To Each Other|Non Family Member|\n",
      "| 68|                1|          1.00|    10-14|10 - 14 years inc...|             Person|Known To Victim|Known To Each Other|Non Family Member|\n",
      "| 69|                1|          1.00|    20-24|20 - 24 years inc...|             Person|Known To Victim|Known To Each Other|Non Family Member|\n",
      "+---+-----------------+--------------+---------+--------------------+-------------------+---------------+-------------------+-----------------+\n",
      "only showing top 20 rows\n",
      "\n"
     ]
    }
   ],
   "source": [
    "df2.show()"
   ]
  },
  {
   "cell_type": "code",
   "execution_count": 6,
   "metadata": {
    "scrolled": true
   },
   "outputs": [
    {
     "data": {
      "text/plain": [
       "['ID',\n",
       " 'ANZSOC Division',\n",
       " 'ANZSOC Group',\n",
       " 'ANZSOC Subdivision',\n",
       " 'Ethnicity',\n",
       " 'Frequency',\n",
       " 'Mop Division',\n",
       " 'Police Area',\n",
       " 'Police District',\n",
       " 'Proceedings Frequency',\n",
       " 'SEX',\n",
       " 'Year Month']"
      ]
     },
     "execution_count": 6,
     "metadata": {},
     "output_type": "execute_result"
    }
   ],
   "source": [
    "df1.columns"
   ]
  },
  {
   "cell_type": "code",
   "execution_count": 7,
   "metadata": {},
   "outputs": [
    {
     "name": "stdout",
     "output_type": "stream",
     "text": [
      "+-------+-----------------+\n",
      "|summary|               ID|\n",
      "+-------+-----------------+\n",
      "|  count|            67788|\n",
      "|   mean|81035.48884758365|\n",
      "| stddev|45521.36948604581|\n",
      "|    min|                1|\n",
      "|    max|            99999|\n",
      "+-------+-----------------+\n",
      "\n"
     ]
    }
   ],
   "source": [
    "df1.select(\"ID\").describe().show()"
   ]
  },
  {
   "cell_type": "code",
   "execution_count": 8,
   "metadata": {},
   "outputs": [
    {
     "name": "stdout",
     "output_type": "stream",
     "text": [
      "+-------+-----------------+\n",
      "|summary|               ID|\n",
      "+-------+-----------------+\n",
      "|  count|            67788|\n",
      "|   mean|81035.48884758365|\n",
      "| stddev|45521.36948604581|\n",
      "|    min|                1|\n",
      "|    max|            99999|\n",
      "+-------+-----------------+\n",
      "\n"
     ]
    }
   ],
   "source": [
    "df2.select(\"ID\").describe().show()"
   ]
  },
  {
   "cell_type": "code",
   "execution_count": 9,
   "metadata": {
    "scrolled": false
   },
   "outputs": [
    {
     "data": {
      "text/plain": [
       "['ID',\n",
       " 'Number of Records',\n",
       " 'Offender Count',\n",
       " 'Age Group',\n",
       " 'Age Group 5Yr Band',\n",
       " 'Person/Organisation',\n",
       " 'ROV Division',\n",
       " 'ROV Group',\n",
       " 'ROVSubdivision']"
      ]
     },
     "execution_count": 9,
     "metadata": {},
     "output_type": "execute_result"
    }
   ],
   "source": [
    "df2.columns"
   ]
  },
  {
   "cell_type": "code",
   "execution_count": 10,
   "metadata": {},
   "outputs": [
    {
     "name": "stdout",
     "output_type": "stream",
     "text": [
      "+-------+-----------------+--------------------+--------------------+--------------------+--------------+------------------+------------------+--------------------+---------------+---------------------+----------+----------+\n",
      "|summary|               ID|     ANZSOC Division|        ANZSOC Group|  ANZSOC Subdivision|     Ethnicity|         Frequency|      Mop Division|         Police Area|Police District|Proceedings Frequency|       SEX|Year Month|\n",
      "+-------+-----------------+--------------------+--------------------+--------------------+--------------+------------------+------------------+--------------------+---------------+---------------------+----------+----------+\n",
      "|  count|            67788|               67788|               67788|               67788|         67788|             67788|             67788|               67788|          67788|                67788|     67788|     67788|\n",
      "|   mean|81035.48884758365|                null|                null|                null|          null|  1.65028027262883|              null|                null|           null|     1.65028027262883|      null|      null|\n",
      "| stddev|45521.36948604581|                null|                null|                null|          null|0.9199750484505007|              null|                null|           null|   0.9199750484505007|      null|      null|\n",
      "|    min|                1|Abduction, Harass...|Abduction and Kid...|Abduction and Kid...|       African|                 1|      Court Action|Auckland Central ...|  Auckland City|                    1|    Female| 1/01/2021|\n",
      "|    max|            99999|Unlawful Entry Wi...|    Use Illicit Drug|Unlawful Entry Wi...|Pacific Island|            5 to 9|Not Proceeded With|  Auckland West Area|  Auckland City|               5 to 9|Not Stated| 1/12/2020|\n",
      "+-------+-----------------+--------------------+--------------------+--------------------+--------------+------------------+------------------+--------------------+---------------+---------------------+----------+----------+\n",
      "\n"
     ]
    }
   ],
   "source": [
    "df1.describe().show()"
   ]
  },
  {
   "cell_type": "code",
   "execution_count": 11,
   "metadata": {},
   "outputs": [
    {
     "name": "stdout",
     "output_type": "stream",
     "text": [
      "+-------+-----------------+-----------------+------------------+------------+--------------------+-------------------+---------------+--------------+--------------+\n",
      "|summary|               ID|Number of Records|    Offender Count|   Age Group|  Age Group 5Yr Band|Person/Organisation|   ROV Division|     ROV Group|ROVSubdivision|\n",
      "+-------+-----------------+-----------------+------------------+------------+--------------------+-------------------+---------------+--------------+--------------+\n",
      "|  count|            67788|            67788|             67788|       58976|               58976|              58976|          39337|         39337|         39337|\n",
      "|   mean|81035.48884758365|              1.0|1.9323626600578274|        null|                null|               null|           null|          null|          null|\n",
      "| stddev|45521.36948604581|              0.0|3.3938705408996217|        null|                null|               null|           null|          null|          null|\n",
      "|    min|                1|                1|                 1|       10-14|10 - 14 years inc...|             Person|Known To Victim|Boy/Girlfriend| Family Member|\n",
      "|    max|            99999|                1|             98.00|NotSpecified|       Not Specified|             Person|       Stranger|      Stranger|      Stranger|\n",
      "+-------+-----------------+-----------------+------------------+------------+--------------------+-------------------+---------------+--------------+--------------+\n",
      "\n"
     ]
    }
   ],
   "source": [
    "df2.describe().show()"
   ]
  },
  {
   "cell_type": "code",
   "execution_count": 12,
   "metadata": {},
   "outputs": [
    {
     "data": {
      "text/plain": [
       "DataFrame[summary: string, ID: string, ANZSOC Division: string, ANZSOC Group: string, ANZSOC Subdivision: string, Ethnicity: string, Frequency: string, Mop Division: string, Police Area: string, Police District: string, Proceedings Frequency: string, SEX: string, Year Month: string]"
      ]
     },
     "execution_count": 12,
     "metadata": {},
     "output_type": "execute_result"
    }
   ],
   "source": [
    "df1.describe()"
   ]
  },
  {
   "cell_type": "code",
   "execution_count": 13,
   "metadata": {},
   "outputs": [],
   "source": [
    "master = df1.join(df2, \"ID\", how = 'left_outer')"
   ]
  },
  {
   "cell_type": "code",
   "execution_count": 14,
   "metadata": {},
   "outputs": [
    {
     "data": {
      "text/plain": [
       "['ID',\n",
       " 'ANZSOC Division',\n",
       " 'ANZSOC Group',\n",
       " 'ANZSOC Subdivision',\n",
       " 'Ethnicity',\n",
       " 'Frequency',\n",
       " 'Mop Division',\n",
       " 'Police Area',\n",
       " 'Police District',\n",
       " 'Proceedings Frequency',\n",
       " 'SEX',\n",
       " 'Year Month',\n",
       " 'Number of Records',\n",
       " 'Offender Count',\n",
       " 'Age Group',\n",
       " 'Age Group 5Yr Band',\n",
       " 'Person/Organisation',\n",
       " 'ROV Division',\n",
       " 'ROV Group',\n",
       " 'ROVSubdivision']"
      ]
     },
     "execution_count": 14,
     "metadata": {},
     "output_type": "execute_result"
    }
   ],
   "source": [
    "master.columns"
   ]
  },
  {
   "cell_type": "code",
   "execution_count": 15,
   "metadata": {},
   "outputs": [
    {
     "name": "stdout",
     "output_type": "stream",
     "text": [
      "+-------+-----------------+\n",
      "|summary|               ID|\n",
      "+-------+-----------------+\n",
      "|  count|            67788|\n",
      "|   mean|81035.48884758365|\n",
      "| stddev|45521.36948604581|\n",
      "|    min|                1|\n",
      "|    max|            99999|\n",
      "+-------+-----------------+\n",
      "\n"
     ]
    },
    {
     "data": {
      "text/plain": [
       "DataFrame[summary: string, ID: string, ANZSOC Division: string, ANZSOC Group: string, ANZSOC Subdivision: string, Ethnicity: string, Frequency: string, Mop Division: string, Police Area: string, Police District: string, Proceedings Frequency: string, SEX: string, Year Month: string, Number of Records: string, Offender Count: string, Age Group: string, Age Group 5Yr Band: string, Person/Organisation: string, ROV Division: string, ROV Group: string, ROVSubdivision: string]"
      ]
     },
     "execution_count": 15,
     "metadata": {},
     "output_type": "execute_result"
    }
   ],
   "source": [
    "master.select(\"ID\").describe().show()\n",
    "master.describe()"
   ]
  },
  {
   "cell_type": "code",
   "execution_count": 16,
   "metadata": {
    "scrolled": true
   },
   "outputs": [
    {
     "name": "stdout",
     "output_type": "stream",
     "text": [
      "+---+---------------+------------+------------------+---------+---------+------------+-----------+---------------+---------------------+---+----------+-----------------+--------------+---------+------------------+-------------------+------------+---------+--------------+\n",
      "| ID|ANZSOC Division|ANZSOC Group|ANZSOC Subdivision|Ethnicity|Frequency|Mop Division|Police Area|Police District|Proceedings Frequency|SEX|Year Month|Number of Records|Offender Count|Age Group|Age Group 5Yr Band|Person/Organisation|ROV Division|ROV Group|ROVSubdivision|\n",
      "+---+---------------+------------+------------------+---------+---------+------------+-----------+---------------+---------------------+---+----------+-----------------+--------------+---------+------------------+-------------------+------------+---------+--------------+\n",
      "|  0|              0|           0|                 0|        0|        0|           0|          0|              0|                    0|  0|         0|                0|             0|     8812|              8812|               8812|       28451|    28451|         28451|\n",
      "+---+---------------+------------+------------------+---------+---------+------------+-----------+---------------+---------------------+---+----------+-----------------+--------------+---------+------------------+-------------------+------------+---------+--------------+\n",
      "\n"
     ]
    }
   ],
   "source": [
    "#find count of null,Nan\n",
    "from pyspark.sql.functions import col,isnan, when, count\n",
    "master.select([count(when(isnan(c) | col(c).isNull(), c)).alias(c) for c in master.columns]).show()"
   ]
  },
  {
   "cell_type": "code",
   "execution_count": 17,
   "metadata": {},
   "outputs": [
    {
     "data": {
      "text/plain": [
       "[Row(Number of Records='1'),\n",
       " Row(Number of Records='1'),\n",
       " Row(Number of Records='1'),\n",
       " Row(Number of Records='1'),\n",
       " Row(Number of Records='1')]"
      ]
     },
     "execution_count": 17,
     "metadata": {},
     "output_type": "execute_result"
    }
   ],
   "source": [
    "master.select(\"Number of Records\").head(5)\n"
   ]
  },
  {
   "cell_type": "code",
   "execution_count": 18,
   "metadata": {},
   "outputs": [
    {
     "name": "stdout",
     "output_type": "stream",
     "text": [
      "+-------+-----------------+\n",
      "|summary|Number of Records|\n",
      "+-------+-----------------+\n",
      "|  count|            67788|\n",
      "|   mean|              1.0|\n",
      "| stddev|              0.0|\n",
      "|    min|                1|\n",
      "|    max|                1|\n",
      "+-------+-----------------+\n",
      "\n"
     ]
    }
   ],
   "source": [
    "master.select(\"Number of Records\").describe().show()\n"
   ]
  },
  {
   "cell_type": "code",
   "execution_count": 19,
   "metadata": {},
   "outputs": [
    {
     "name": "stdout",
     "output_type": "stream",
     "text": [
      "+--------------+\n",
      "|SEX           |\n",
      "+--------------+\n",
      "|Female        |\n",
      "|Male          |\n",
      "|Not Applicable|\n",
      "|Not Stated    |\n",
      "+--------------+\n",
      "\n"
     ]
    }
   ],
   "source": [
    "#showing the Unique values in the data\n",
    "master.dropDuplicates(([\"SEX\"])).select(\"SEX\").show(truncate = False)"
   ]
  },
  {
   "cell_type": "code",
   "execution_count": 20,
   "metadata": {},
   "outputs": [
    {
     "name": "stdout",
     "output_type": "stream",
     "text": [
      "+-------------------+\n",
      "|Person/Organisation|\n",
      "+-------------------+\n",
      "|null               |\n",
      "|Person             |\n",
      "+-------------------+\n",
      "\n"
     ]
    }
   ],
   "source": [
    "master.dropDuplicates(([\"Person/Organisation\"])).select(\"Person/Organisation\").show(truncate = False)"
   ]
  },
  {
   "cell_type": "code",
   "execution_count": 21,
   "metadata": {},
   "outputs": [],
   "source": [
    "#data cleaning begins here:\n",
    "\n",
    "master = master.dropna()"
   ]
  },
  {
   "cell_type": "code",
   "execution_count": 22,
   "metadata": {},
   "outputs": [
    {
     "name": "stdout",
     "output_type": "stream",
     "text": [
      "+---+---------------+------------+------------------+---------+---------+------------+-----------+---------------+---------------------+---+----------+-----------------+--------------+---------+------------------+-------------------+------------+---------+--------------+\n",
      "| ID|ANZSOC Division|ANZSOC Group|ANZSOC Subdivision|Ethnicity|Frequency|Mop Division|Police Area|Police District|Proceedings Frequency|SEX|Year Month|Number of Records|Offender Count|Age Group|Age Group 5Yr Band|Person/Organisation|ROV Division|ROV Group|ROVSubdivision|\n",
      "+---+---------------+------------+------------------+---------+---------+------------+-----------+---------------+---------------------+---+----------+-----------------+--------------+---------+------------------+-------------------+------------+---------+--------------+\n",
      "|  0|              0|           0|                 0|        0|        0|           0|          0|              0|                    0|  0|         0|                0|             0|        0|                 0|                  0|           0|        0|             0|\n",
      "+---+---------------+------------+------------------+---------+---------+------------+-----------+---------------+---------------------+---+----------+-----------------+--------------+---------+------------------+-------------------+------------+---------+--------------+\n",
      "\n"
     ]
    }
   ],
   "source": [
    "master.select([count(when(isnan(c) | col(c).isNull(), c)).alias(c) for c in master.columns]).show()"
   ]
  },
  {
   "cell_type": "code",
   "execution_count": 23,
   "metadata": {},
   "outputs": [
    {
     "name": "stdout",
     "output_type": "stream",
     "text": [
      "+-------+------------------+\n",
      "|summary|                ID|\n",
      "+-------+------------------+\n",
      "|  count|             36530|\n",
      "|   mean| 48175.14202025732|\n",
      "| stddev|27827.329162468708|\n",
      "|    min|                 1|\n",
      "|    max|               999|\n",
      "+-------+------------------+\n",
      "\n"
     ]
    }
   ],
   "source": [
    "master.select(\"ID\").describe().show()"
   ]
  },
  {
   "cell_type": "code",
   "execution_count": 24,
   "metadata": {},
   "outputs": [],
   "source": [
    "master = master.filter((master.Ethnicity != \"Not Elsewhere Classified\") &  (master.Ethnicity != \"Not Stated\") & (master.Ethnicity != \"Organisation\"))"
   ]
  },
  {
   "cell_type": "code",
   "execution_count": 25,
   "metadata": {},
   "outputs": [
    {
     "name": "stdout",
     "output_type": "stream",
     "text": [
      "+-------+--------------+\n",
      "|summary|     Ethnicity|\n",
      "+-------+--------------+\n",
      "|  count|         32392|\n",
      "|   mean|          null|\n",
      "| stddev|          null|\n",
      "|    min|       African|\n",
      "|    max|Pacific Island|\n",
      "+-------+--------------+\n",
      "\n"
     ]
    }
   ],
   "source": [
    "master.select(\"Ethnicity\").describe().show()"
   ]
  },
  {
   "cell_type": "code",
   "execution_count": 26,
   "metadata": {},
   "outputs": [],
   "source": [
    "master = master.filter((master.SEX != \"Not Applicable\") & (master.SEX != \"Not Stated\") )"
   ]
  },
  {
   "cell_type": "code",
   "execution_count": 27,
   "metadata": {},
   "outputs": [
    {
     "name": "stdout",
     "output_type": "stream",
     "text": [
      "+-------+------+\n",
      "|summary|   SEX|\n",
      "+-------+------+\n",
      "|  count| 32347|\n",
      "|   mean|  null|\n",
      "| stddev|  null|\n",
      "|    min|Female|\n",
      "|    max|  Male|\n",
      "+-------+------+\n",
      "\n"
     ]
    }
   ],
   "source": [
    "master.select(\"SEX\").describe().show()"
   ]
  },
  {
   "cell_type": "code",
   "execution_count": 28,
   "metadata": {},
   "outputs": [],
   "source": [
    "age = \"Age Group\""
   ]
  },
  {
   "cell_type": "code",
   "execution_count": 29,
   "metadata": {},
   "outputs": [],
   "source": [
    "master = master[master[\"Age Group\"] != \"NotSpecified\"]"
   ]
  },
  {
   "cell_type": "code",
   "execution_count": 30,
   "metadata": {},
   "outputs": [
    {
     "name": "stdout",
     "output_type": "stream",
     "text": [
      "+-------+-------------+\n",
      "|summary|    Age Group|\n",
      "+-------+-------------+\n",
      "|  count|        32313|\n",
      "|   mean|         null|\n",
      "| stddev|         null|\n",
      "|    min|        10-14|\n",
      "|    max|80yearsorover|\n",
      "+-------+-------------+\n",
      "\n"
     ]
    }
   ],
   "source": [
    "master.select(\"Age Group\").describe().show()"
   ]
  },
  {
   "cell_type": "code",
   "execution_count": 31,
   "metadata": {},
   "outputs": [],
   "source": [
    "master = master[master[\"Age Group 5Yr Band\"] != \"NotSpecified\"]"
   ]
  },
  {
   "cell_type": "code",
   "execution_count": 32,
   "metadata": {},
   "outputs": [
    {
     "name": "stdout",
     "output_type": "stream",
     "text": [
      "+-------------+\n",
      "|Age Group    |\n",
      "+-------------+\n",
      "|5-9          |\n",
      "|20-24        |\n",
      "|65-69        |\n",
      "|75-79        |\n",
      "|80yearsorover|\n",
      "|30-34        |\n",
      "|70-74        |\n",
      "|15-19        |\n",
      "|10-14        |\n",
      "|50-54        |\n",
      "|35-39        |\n",
      "|45-49        |\n",
      "|25-29        |\n",
      "|40-44        |\n",
      "|55-59        |\n",
      "|60-64        |\n",
      "+-------------+\n",
      "\n"
     ]
    }
   ],
   "source": [
    "master.dropDuplicates(([\"Age Group\"])).select(\"Age Group\").show(truncate = False)"
   ]
  },
  {
   "cell_type": "code",
   "execution_count": 33,
   "metadata": {},
   "outputs": [
    {
     "name": "stdout",
     "output_type": "stream",
     "text": [
      "+---------------------------------+\n",
      "|ROV Division                     |\n",
      "+---------------------------------+\n",
      "|Stranger                         |\n",
      "|Known To Victim                  |\n",
      "|Not Applicable                   |\n",
      "|Not Stated/Inadequately Described|\n",
      "+---------------------------------+\n",
      "\n"
     ]
    }
   ],
   "source": [
    "master.dropDuplicates(([\"ROV Division\"])).select(\"ROV Division\").show(truncate = False)"
   ]
  },
  {
   "cell_type": "code",
   "execution_count": 34,
   "metadata": {},
   "outputs": [
    {
     "name": "stdout",
     "output_type": "stream",
     "text": [
      "+---------------------------------+\n",
      "|ROV Group                        |\n",
      "+---------------------------------+\n",
      "|Known To Each Other              |\n",
      "|Partner                          |\n",
      "|Stranger                         |\n",
      "|Parent                           |\n",
      "|Family Member N.F.D.             |\n",
      "|Child                            |\n",
      "|Ex-Boy/Girlfriend                |\n",
      "|Boy/Girlfriend                   |\n",
      "|Sibling                          |\n",
      "|Not Applicable                   |\n",
      "|Not Stated/Inadequately Described|\n",
      "|Other Relative                   |\n",
      "|Ex-Partner                       |\n",
      "+---------------------------------+\n",
      "\n"
     ]
    }
   ],
   "source": [
    "master.dropDuplicates(([\"ROV Group\"])).select(\"ROV Group\").show(truncate = False)"
   ]
  },
  {
   "cell_type": "code",
   "execution_count": 35,
   "metadata": {},
   "outputs": [],
   "source": [
    "master = master[master[\"ROV Group\"] != \"Not Applicable\"]"
   ]
  },
  {
   "cell_type": "code",
   "execution_count": 36,
   "metadata": {},
   "outputs": [],
   "source": [
    "master = master[master[\"ROV Group\"] != \"Not Stated/Inadequately Described\"]"
   ]
  },
  {
   "cell_type": "code",
   "execution_count": 37,
   "metadata": {},
   "outputs": [
    {
     "name": "stdout",
     "output_type": "stream",
     "text": [
      "+-------+--------------+\n",
      "|summary|     ROV Group|\n",
      "+-------+--------------+\n",
      "|  count|         19047|\n",
      "|   mean|          null|\n",
      "| stddev|          null|\n",
      "|    min|Boy/Girlfriend|\n",
      "|    max|      Stranger|\n",
      "+-------+--------------+\n",
      "\n"
     ]
    }
   ],
   "source": [
    "master.select(\"ROV Group\").describe().show()"
   ]
  },
  {
   "cell_type": "code",
   "execution_count": 38,
   "metadata": {},
   "outputs": [
    {
     "name": "stdout",
     "output_type": "stream",
     "text": [
      "+-----------------+\n",
      "|ROVSubdivision   |\n",
      "+-----------------+\n",
      "|Stranger         |\n",
      "|Family Member    |\n",
      "|Non Family Member|\n",
      "+-----------------+\n",
      "\n"
     ]
    }
   ],
   "source": [
    "master.dropDuplicates(([\"ROVSubdivision\"])).select(\"ROVSubdivision\").show(truncate = False)"
   ]
  },
  {
   "cell_type": "code",
   "execution_count": 39,
   "metadata": {},
   "outputs": [
    {
     "data": {
      "text/plain": [
       "19047"
      ]
     },
     "execution_count": 39,
     "metadata": {},
     "output_type": "execute_result"
    }
   ],
   "source": [
    "master.count()"
   ]
  },
  {
   "cell_type": "code",
   "execution_count": 40,
   "metadata": {},
   "outputs": [],
   "source": [
    "from pyspark.ml.feature import StringIndexer\n"
   ]
  },
  {
   "cell_type": "code",
   "execution_count": 41,
   "metadata": {},
   "outputs": [
    {
     "name": "stdout",
     "output_type": "stream",
     "text": [
      "+---+--------------------+--------------------+--------------------+--------------+----------+----------------+--------------------+---------------+---------------------+----+----------+-----------------+--------------+---------+--------------------+-------------------+---------------+-------------------+-----------------+---------------------+------------------+------------------------+---------------+---------+-----------------+---------+------------------+---------------+-------------+\n",
      "| ID|     ANZSOC Division|        ANZSOC Group|  ANZSOC Subdivision|     Ethnicity| Frequency|    Mop Division|         Police Area|Police District|Proceedings Frequency| SEX|Year Month|Number of Records|Offender Count|Age Group|  Age Group 5Yr Band|Person/Organisation|   ROV Division|          ROV Group|   ROVSubdivision|ANZSOC_Division_Index|ANZSOC_Group_Index|ANZSOC_Subdivision_Index|Ethnicity_Index|Mop_Index|Police_area_index|SEX_index|ROV_Division_Index|ROV_Group_Index|ROV_Sub_index|\n",
      "+---+--------------------+--------------------+--------------------+--------------+----------+----------------+--------------------+---------------+---------------------+----+----------+-----------------+--------------+---------+--------------------+-------------------+---------------+-------------------+-----------------+---------------------+------------------+------------------------+---------------+---------+-----------------+---------+------------------+---------------+-------------+\n",
      "|  1|Acts Intended to ...|      Common Assault|             Assault|Pacific Island|10 or more|Non-Court Action|Auckland Central ...|  Auckland City|           10 or more|Male| 1/02/2020|                1|          1.00|    15-19|15 - 19 years inc...|             Person|Known To Victim|Known To Each Other|Non Family Member|                  0.0|               3.0|                     0.0|            0.0|      1.0|              2.0|      0.0|               0.0|            1.0|          2.0|\n",
      "|  2|Acts Intended to ...|      Common Assault|             Assault|Pacific Island|10 or more|Non-Court Action|Auckland Central ...|  Auckland City|           10 or more|Male| 1/02/2020|                1|             1|    20-24|20 - 24 years inc...|             Person|Known To Victim|Known To Each Other|Non Family Member|                  0.0|               3.0|                     0.0|            0.0|      1.0|              2.0|      0.0|               0.0|            1.0|          2.0|\n",
      "|  4|Acts Intended to ...|Serious Assault N...|             Assault|Pacific Island|         2|Non-Court Action|  Auckland East Area|  Auckland City|                    2|Male| 1/02/2020|                1|          1.00|    15-19|15 - 19 years inc...|             Person|Known To Victim|Known To Each Other|Non Family Member|                  0.0|               0.0|                     0.0|            0.0|      1.0|              1.0|      0.0|               0.0|            1.0|          2.0|\n",
      "|  5|Acts Intended to ...|Serious Assault N...|             Assault|Pacific Island|         2|Non-Court Action|  Auckland East Area|  Auckland City|                    2|Male| 1/02/2020|                1|          1.00|    25-29|25 - 29 years inc...|             Person|Known To Victim|Known To Each Other|Non Family Member|                  0.0|               0.0|                     0.0|            0.0|      1.0|              1.0|      0.0|               0.0|            1.0|          2.0|\n",
      "|  6|Acts Intended to ...|Serious Assault N...|             Assault|Pacific Island|         2|Non-Court Action|  Auckland East Area|  Auckland City|                    2|Male| 1/02/2020|                1|          1.00|    40-44|40 - 44 years inc...|             Person|Known To Victim|Known To Each Other|Non Family Member|                  0.0|               0.0|                     0.0|            0.0|      1.0|              1.0|      0.0|               0.0|            1.0|          2.0|\n",
      "|  7|Acts Intended to ...|      Common Assault|             Assault|        Indian|         2|Non-Court Action|  Auckland West Area|  Auckland City|                    2|Male| 1/02/2020|                1|          1.00|    20-24|20 - 24 years inc...|             Person|Known To Victim|Known To Each Other|Non Family Member|                  0.0|               3.0|                     0.0|            3.0|      1.0|              0.0|      0.0|               0.0|            1.0|          2.0|\n",
      "|  8|Acts Intended to ...|      Common Assault|             Assault|        Indian|         2|Non-Court Action|  Auckland West Area|  Auckland City|                    2|Male| 1/02/2020|                1|          1.00|    40-44|40 - 44 years inc...|             Person|Known To Victim|Known To Each Other|Non Family Member|                  0.0|               3.0|                     0.0|            3.0|      1.0|              0.0|      0.0|               0.0|            1.0|          2.0|\n",
      "|  9|Acts Intended to ...|      Common Assault|             Assault|Pacific Island|         2|Non-Court Action|  Auckland West Area|  Auckland City|                    2|Male| 1/02/2020|                1|          1.00|    15-19|15 - 19 years inc...|             Person|Known To Victim|Known To Each Other|Non Family Member|                  0.0|               3.0|                     0.0|            0.0|      1.0|              0.0|      0.0|               0.0|            1.0|          2.0|\n",
      "| 10|Acts Intended to ...|Serious Assault N...|             Assault|Pacific Island|         2|Non-Court Action|  Auckland West Area|  Auckland City|                    2|Male| 1/02/2020|                1|          1.00|    15-19|15 - 19 years inc...|             Person|Known To Victim|Known To Each Other|Non Family Member|                  0.0|               0.0|                     0.0|            0.0|      1.0|              0.0|      0.0|               0.0|            1.0|          2.0|\n",
      "| 11|Acts Intended to ...|Serious Assault N...|             Assault|Pacific Island|         2|Non-Court Action|  Auckland West Area|  Auckland City|                    2|Male| 1/02/2020|                1|          1.00|    25-29|25 - 29 years inc...|             Person|Known To Victim|Known To Each Other|Non Family Member|                  0.0|               0.0|                     0.0|            0.0|      1.0|              0.0|      0.0|               0.0|            1.0|          2.0|\n",
      "| 12|Acts Intended to ...|Serious Assault N...|             Assault|Pacific Island|         2|Non-Court Action|  Auckland West Area|  Auckland City|                    2|Male| 1/02/2020|                1|          1.00|    40-44|40 - 44 years inc...|             Person|Known To Victim|Known To Each Other|Non Family Member|                  0.0|               0.0|                     0.0|            0.0|      1.0|              0.0|      0.0|               0.0|            1.0|          2.0|\n",
      "| 53|Abduction, Harass...|Threatening Behav...|Harassment and Th...|Pacific Island|         3|Non-Court Action|  Auckland East Area|  Auckland City|                    3|Male| 1/02/2020|                1|          1.00|    45-49|45 - 49 years inc...|             Person|Known To Victim|Known To Each Other|Non Family Member|                  1.0|               2.0|                     1.0|            0.0|      1.0|              1.0|      0.0|               0.0|            1.0|          2.0|\n",
      "| 65|Acts Intended to ...|      Common Assault|             Assault|         Maori|         4|Non-Court Action|Auckland Central ...|  Auckland City|                    4|Male| 1/02/2020|                1|          1.00|    25-29|25 - 29 years inc...|             Person|Known To Victim|Known To Each Other|Non Family Member|                  0.0|               3.0|                     0.0|            2.0|      1.0|              2.0|      0.0|               0.0|            1.0|          2.0|\n",
      "| 66|Acts Intended to ...|      Common Assault|             Assault|         Maori|         4|Non-Court Action|Auckland Central ...|  Auckland City|                    4|Male| 1/02/2020|                1|          1.00|    35-39|35 - 39 years inc...|             Person|Known To Victim|Known To Each Other|Non Family Member|                  0.0|               3.0|                     0.0|            2.0|      1.0|              2.0|      0.0|               0.0|            1.0|          2.0|\n",
      "| 67|Acts Intended to ...|      Common Assault|             Assault|         Maori|         4|Non-Court Action|Auckland Central ...|  Auckland City|                    4|Male| 1/02/2020|                1|          1.00|    45-49|45 - 49 years inc...|             Person|Known To Victim|Known To Each Other|Non Family Member|                  0.0|               3.0|                     0.0|            2.0|      1.0|              2.0|      0.0|               0.0|            1.0|          2.0|\n",
      "| 68|Acts Intended to ...|      Common Assault|             Assault|      European|         4|Non-Court Action|  Auckland East Area|  Auckland City|                    4|Male| 1/02/2020|                1|          1.00|    10-14|10 - 14 years inc...|             Person|Known To Victim|Known To Each Other|Non Family Member|                  0.0|               3.0|                     0.0|            1.0|      1.0|              1.0|      0.0|               0.0|            1.0|          2.0|\n",
      "| 69|Acts Intended to ...|      Common Assault|             Assault|      European|         4|Non-Court Action|  Auckland East Area|  Auckland City|                    4|Male| 1/02/2020|                1|          1.00|    20-24|20 - 24 years inc...|             Person|Known To Victim|Known To Each Other|Non Family Member|                  0.0|               3.0|                     0.0|            1.0|      1.0|              1.0|      0.0|               0.0|            1.0|          2.0|\n",
      "| 70|Acts Intended to ...|      Common Assault|             Assault|      European|         4|Non-Court Action|  Auckland East Area|  Auckland City|                    4|Male| 1/02/2020|                1|          1.00|    25-29|25 - 29 years inc...|             Person|Known To Victim|Known To Each Other|Non Family Member|                  0.0|               3.0|                     0.0|            1.0|      1.0|              1.0|      0.0|               0.0|            1.0|          2.0|\n",
      "| 71|Acts Intended to ...|      Common Assault|             Assault|      European|         4|Non-Court Action|  Auckland East Area|  Auckland City|                    4|Male| 1/02/2020|                1|          1.00|    30-34|30 - 34 years inc...|             Person|Known To Victim|Known To Each Other|Non Family Member|                  0.0|               3.0|                     0.0|            1.0|      1.0|              1.0|      0.0|               0.0|            1.0|          2.0|\n",
      "| 73|Abduction, Harass...|Threatening Behav...|Harassment and Th...|      European|    5 to 9|Non-Court Action|  Auckland East Area|  Auckland City|               5 to 9|Male| 1/02/2020|                1|          1.00|    15-19|15 - 19 years inc...|             Person|Known To Victim|Known To Each Other|Non Family Member|                  1.0|               2.0|                     1.0|            1.0|      1.0|              1.0|      0.0|               0.0|            1.0|          2.0|\n",
      "+---+--------------------+--------------------+--------------------+--------------+----------+----------------+--------------------+---------------+---------------------+----+----------+-----------------+--------------+---------+--------------------+-------------------+---------------+-------------------+-----------------+---------------------+------------------+------------------------+---------------+---------+-----------------+---------+------------------+---------------+-------------+\n",
      "only showing top 20 rows\n",
      "\n"
     ]
    }
   ],
   "source": [
    "#Step 3.3 Data Construction. One Hote encoding.\n",
    "indexer = StringIndexer(inputCol = \"ANZSOC Division\", outputCol = \"ANZSOC_Division_Index\")\n",
    "master = indexer.fit(master).transform(master)\n",
    "\n",
    "indexer = StringIndexer(inputCol = \"ANZSOC Group\", outputCol = \"ANZSOC_Group_Index\")\n",
    "master = indexer.fit(master).transform(master)\n",
    "\n",
    "indexer = StringIndexer(inputCol = \"ANZSOC Subdivision\", outputCol = \"ANZSOC_Subdivision_Index\")\n",
    "master = indexer.fit(master).transform(master)\n",
    "\n",
    "indexer = StringIndexer(inputCol = \"Ethnicity\", outputCol = \"Ethnicity_Index\")\n",
    "master = indexer.fit(master).transform(master)\n",
    "\n",
    "indexer = StringIndexer(inputCol = \"Mop Division\", outputCol = \"Mop_Index\")\n",
    "master = indexer.fit(master).transform(master)\n",
    "\n",
    "indexer = StringIndexer(inputCol = \"Police Area\", outputCol = \"Police_area_index\")\n",
    "master = indexer.fit(master).transform(master)\n",
    "\n",
    "indexer = StringIndexer(inputCol = \"SEX\", outputCol = \"SEX_index\")\n",
    "master = indexer.fit(master).transform(master)\n",
    "\n",
    "indexer = StringIndexer(inputCol = \"ROV Division\", outputCol = \"ROV_Division_Index\")\n",
    "master = indexer.fit(master).transform(master)\n",
    "\n",
    "indexer = StringIndexer(inputCol = \"ROV Group\", outputCol = \"ROV_Group_Index\")\n",
    "master = indexer.fit(master).transform(master)\n",
    "\n",
    "indexer = StringIndexer(inputCol = \"ROVSubdivision\", outputCol = \"ROV_Sub_index\")\n",
    "master = indexer.fit(master).transform(master)\n",
    "\n",
    "master.show()"
   ]
  },
  {
   "cell_type": "code",
   "execution_count": 42,
   "metadata": {},
   "outputs": [],
   "source": [
    "#One Hot Encoding\n",
    "from pyspark.ml.feature import OneHotEncoder"
   ]
  },
  {
   "cell_type": "code",
   "execution_count": 43,
   "metadata": {},
   "outputs": [
    {
     "name": "stdout",
     "output_type": "stream",
     "text": [
      "+---+--------------------+--------------------+--------------------+--------------+----------+----------------+--------------------+---------------+---------------------+----+----------+-----------------+--------------+---------+--------------------+-------------------+---------------+-------------------+-----------------+---------------------+------------------+------------------------+---------------+---------+-----------------+---------+------------------+---------------+-------------+-------------------+----------------+----------------------+-------------+-------------+---------------+-------------+----------------+--------------+-----------+\n",
      "| ID|     ANZSOC Division|        ANZSOC Group|  ANZSOC Subdivision|     Ethnicity| Frequency|    Mop Division|         Police Area|Police District|Proceedings Frequency| SEX|Year Month|Number of Records|Offender Count|Age Group|  Age Group 5Yr Band|Person/Organisation|   ROV Division|          ROV Group|   ROVSubdivision|ANZSOC_Division_Index|ANZSOC_Group_Index|ANZSOC_Subdivision_Index|Ethnicity_Index|Mop_Index|Police_area_index|SEX_index|ROV_Division_Index|ROV_Group_Index|ROV_Sub_index|ANZSOC_Division_vec|ANZSOC_Group_vec|ANZSOC_Subdivision_vec|Ethnicity_vec|      Mop_vec|Police_Area_vec|      SEX_vec|ROV_Division_vec| ROV_Group_vec|ROV_Sub_vec|\n",
      "+---+--------------------+--------------------+--------------------+--------------+----------+----------------+--------------------+---------------+---------------------+----+----------+-----------------+--------------+---------+--------------------+-------------------+---------------+-------------------+-----------------+---------------------+------------------+------------------------+---------------+---------+-----------------+---------+------------------+---------------+-------------+-------------------+----------------+----------------------+-------------+-------------+---------------+-------------+----------------+--------------+-----------+\n",
      "|  1|Acts Intended to ...|      Common Assault|             Assault|Pacific Island|10 or more|Non-Court Action|Auckland Central ...|  Auckland City|           10 or more|Male| 1/02/2020|                1|          1.00|    15-19|15 - 19 years inc...|             Person|Known To Victim|Known To Each Other|Non Family Member|                  0.0|               3.0|                     0.0|            0.0|      1.0|              2.0|      0.0|               0.0|            1.0|          2.0|     (13,[0],[1.0])|  (44,[3],[1.0])|        (27,[0],[1.0])|(7,[0],[1.0])|(2,[1],[1.0])|      (2,[],[])|(1,[0],[1.0])|   (1,[0],[1.0])|(10,[1],[1.0])|  (2,[],[])|\n",
      "|  2|Acts Intended to ...|      Common Assault|             Assault|Pacific Island|10 or more|Non-Court Action|Auckland Central ...|  Auckland City|           10 or more|Male| 1/02/2020|                1|             1|    20-24|20 - 24 years inc...|             Person|Known To Victim|Known To Each Other|Non Family Member|                  0.0|               3.0|                     0.0|            0.0|      1.0|              2.0|      0.0|               0.0|            1.0|          2.0|     (13,[0],[1.0])|  (44,[3],[1.0])|        (27,[0],[1.0])|(7,[0],[1.0])|(2,[1],[1.0])|      (2,[],[])|(1,[0],[1.0])|   (1,[0],[1.0])|(10,[1],[1.0])|  (2,[],[])|\n",
      "|  4|Acts Intended to ...|Serious Assault N...|             Assault|Pacific Island|         2|Non-Court Action|  Auckland East Area|  Auckland City|                    2|Male| 1/02/2020|                1|          1.00|    15-19|15 - 19 years inc...|             Person|Known To Victim|Known To Each Other|Non Family Member|                  0.0|               0.0|                     0.0|            0.0|      1.0|              1.0|      0.0|               0.0|            1.0|          2.0|     (13,[0],[1.0])|  (44,[0],[1.0])|        (27,[0],[1.0])|(7,[0],[1.0])|(2,[1],[1.0])|  (2,[1],[1.0])|(1,[0],[1.0])|   (1,[0],[1.0])|(10,[1],[1.0])|  (2,[],[])|\n",
      "|  5|Acts Intended to ...|Serious Assault N...|             Assault|Pacific Island|         2|Non-Court Action|  Auckland East Area|  Auckland City|                    2|Male| 1/02/2020|                1|          1.00|    25-29|25 - 29 years inc...|             Person|Known To Victim|Known To Each Other|Non Family Member|                  0.0|               0.0|                     0.0|            0.0|      1.0|              1.0|      0.0|               0.0|            1.0|          2.0|     (13,[0],[1.0])|  (44,[0],[1.0])|        (27,[0],[1.0])|(7,[0],[1.0])|(2,[1],[1.0])|  (2,[1],[1.0])|(1,[0],[1.0])|   (1,[0],[1.0])|(10,[1],[1.0])|  (2,[],[])|\n",
      "|  6|Acts Intended to ...|Serious Assault N...|             Assault|Pacific Island|         2|Non-Court Action|  Auckland East Area|  Auckland City|                    2|Male| 1/02/2020|                1|          1.00|    40-44|40 - 44 years inc...|             Person|Known To Victim|Known To Each Other|Non Family Member|                  0.0|               0.0|                     0.0|            0.0|      1.0|              1.0|      0.0|               0.0|            1.0|          2.0|     (13,[0],[1.0])|  (44,[0],[1.0])|        (27,[0],[1.0])|(7,[0],[1.0])|(2,[1],[1.0])|  (2,[1],[1.0])|(1,[0],[1.0])|   (1,[0],[1.0])|(10,[1],[1.0])|  (2,[],[])|\n",
      "|  7|Acts Intended to ...|      Common Assault|             Assault|        Indian|         2|Non-Court Action|  Auckland West Area|  Auckland City|                    2|Male| 1/02/2020|                1|          1.00|    20-24|20 - 24 years inc...|             Person|Known To Victim|Known To Each Other|Non Family Member|                  0.0|               3.0|                     0.0|            3.0|      1.0|              0.0|      0.0|               0.0|            1.0|          2.0|     (13,[0],[1.0])|  (44,[3],[1.0])|        (27,[0],[1.0])|(7,[3],[1.0])|(2,[1],[1.0])|  (2,[0],[1.0])|(1,[0],[1.0])|   (1,[0],[1.0])|(10,[1],[1.0])|  (2,[],[])|\n",
      "|  8|Acts Intended to ...|      Common Assault|             Assault|        Indian|         2|Non-Court Action|  Auckland West Area|  Auckland City|                    2|Male| 1/02/2020|                1|          1.00|    40-44|40 - 44 years inc...|             Person|Known To Victim|Known To Each Other|Non Family Member|                  0.0|               3.0|                     0.0|            3.0|      1.0|              0.0|      0.0|               0.0|            1.0|          2.0|     (13,[0],[1.0])|  (44,[3],[1.0])|        (27,[0],[1.0])|(7,[3],[1.0])|(2,[1],[1.0])|  (2,[0],[1.0])|(1,[0],[1.0])|   (1,[0],[1.0])|(10,[1],[1.0])|  (2,[],[])|\n",
      "|  9|Acts Intended to ...|      Common Assault|             Assault|Pacific Island|         2|Non-Court Action|  Auckland West Area|  Auckland City|                    2|Male| 1/02/2020|                1|          1.00|    15-19|15 - 19 years inc...|             Person|Known To Victim|Known To Each Other|Non Family Member|                  0.0|               3.0|                     0.0|            0.0|      1.0|              0.0|      0.0|               0.0|            1.0|          2.0|     (13,[0],[1.0])|  (44,[3],[1.0])|        (27,[0],[1.0])|(7,[0],[1.0])|(2,[1],[1.0])|  (2,[0],[1.0])|(1,[0],[1.0])|   (1,[0],[1.0])|(10,[1],[1.0])|  (2,[],[])|\n",
      "| 10|Acts Intended to ...|Serious Assault N...|             Assault|Pacific Island|         2|Non-Court Action|  Auckland West Area|  Auckland City|                    2|Male| 1/02/2020|                1|          1.00|    15-19|15 - 19 years inc...|             Person|Known To Victim|Known To Each Other|Non Family Member|                  0.0|               0.0|                     0.0|            0.0|      1.0|              0.0|      0.0|               0.0|            1.0|          2.0|     (13,[0],[1.0])|  (44,[0],[1.0])|        (27,[0],[1.0])|(7,[0],[1.0])|(2,[1],[1.0])|  (2,[0],[1.0])|(1,[0],[1.0])|   (1,[0],[1.0])|(10,[1],[1.0])|  (2,[],[])|\n",
      "| 11|Acts Intended to ...|Serious Assault N...|             Assault|Pacific Island|         2|Non-Court Action|  Auckland West Area|  Auckland City|                    2|Male| 1/02/2020|                1|          1.00|    25-29|25 - 29 years inc...|             Person|Known To Victim|Known To Each Other|Non Family Member|                  0.0|               0.0|                     0.0|            0.0|      1.0|              0.0|      0.0|               0.0|            1.0|          2.0|     (13,[0],[1.0])|  (44,[0],[1.0])|        (27,[0],[1.0])|(7,[0],[1.0])|(2,[1],[1.0])|  (2,[0],[1.0])|(1,[0],[1.0])|   (1,[0],[1.0])|(10,[1],[1.0])|  (2,[],[])|\n",
      "| 12|Acts Intended to ...|Serious Assault N...|             Assault|Pacific Island|         2|Non-Court Action|  Auckland West Area|  Auckland City|                    2|Male| 1/02/2020|                1|          1.00|    40-44|40 - 44 years inc...|             Person|Known To Victim|Known To Each Other|Non Family Member|                  0.0|               0.0|                     0.0|            0.0|      1.0|              0.0|      0.0|               0.0|            1.0|          2.0|     (13,[0],[1.0])|  (44,[0],[1.0])|        (27,[0],[1.0])|(7,[0],[1.0])|(2,[1],[1.0])|  (2,[0],[1.0])|(1,[0],[1.0])|   (1,[0],[1.0])|(10,[1],[1.0])|  (2,[],[])|\n",
      "| 53|Abduction, Harass...|Threatening Behav...|Harassment and Th...|Pacific Island|         3|Non-Court Action|  Auckland East Area|  Auckland City|                    3|Male| 1/02/2020|                1|          1.00|    45-49|45 - 49 years inc...|             Person|Known To Victim|Known To Each Other|Non Family Member|                  1.0|               2.0|                     1.0|            0.0|      1.0|              1.0|      0.0|               0.0|            1.0|          2.0|     (13,[1],[1.0])|  (44,[2],[1.0])|        (27,[1],[1.0])|(7,[0],[1.0])|(2,[1],[1.0])|  (2,[1],[1.0])|(1,[0],[1.0])|   (1,[0],[1.0])|(10,[1],[1.0])|  (2,[],[])|\n",
      "| 65|Acts Intended to ...|      Common Assault|             Assault|         Maori|         4|Non-Court Action|Auckland Central ...|  Auckland City|                    4|Male| 1/02/2020|                1|          1.00|    25-29|25 - 29 years inc...|             Person|Known To Victim|Known To Each Other|Non Family Member|                  0.0|               3.0|                     0.0|            2.0|      1.0|              2.0|      0.0|               0.0|            1.0|          2.0|     (13,[0],[1.0])|  (44,[3],[1.0])|        (27,[0],[1.0])|(7,[2],[1.0])|(2,[1],[1.0])|      (2,[],[])|(1,[0],[1.0])|   (1,[0],[1.0])|(10,[1],[1.0])|  (2,[],[])|\n",
      "| 66|Acts Intended to ...|      Common Assault|             Assault|         Maori|         4|Non-Court Action|Auckland Central ...|  Auckland City|                    4|Male| 1/02/2020|                1|          1.00|    35-39|35 - 39 years inc...|             Person|Known To Victim|Known To Each Other|Non Family Member|                  0.0|               3.0|                     0.0|            2.0|      1.0|              2.0|      0.0|               0.0|            1.0|          2.0|     (13,[0],[1.0])|  (44,[3],[1.0])|        (27,[0],[1.0])|(7,[2],[1.0])|(2,[1],[1.0])|      (2,[],[])|(1,[0],[1.0])|   (1,[0],[1.0])|(10,[1],[1.0])|  (2,[],[])|\n",
      "| 67|Acts Intended to ...|      Common Assault|             Assault|         Maori|         4|Non-Court Action|Auckland Central ...|  Auckland City|                    4|Male| 1/02/2020|                1|          1.00|    45-49|45 - 49 years inc...|             Person|Known To Victim|Known To Each Other|Non Family Member|                  0.0|               3.0|                     0.0|            2.0|      1.0|              2.0|      0.0|               0.0|            1.0|          2.0|     (13,[0],[1.0])|  (44,[3],[1.0])|        (27,[0],[1.0])|(7,[2],[1.0])|(2,[1],[1.0])|      (2,[],[])|(1,[0],[1.0])|   (1,[0],[1.0])|(10,[1],[1.0])|  (2,[],[])|\n",
      "| 68|Acts Intended to ...|      Common Assault|             Assault|      European|         4|Non-Court Action|  Auckland East Area|  Auckland City|                    4|Male| 1/02/2020|                1|          1.00|    10-14|10 - 14 years inc...|             Person|Known To Victim|Known To Each Other|Non Family Member|                  0.0|               3.0|                     0.0|            1.0|      1.0|              1.0|      0.0|               0.0|            1.0|          2.0|     (13,[0],[1.0])|  (44,[3],[1.0])|        (27,[0],[1.0])|(7,[1],[1.0])|(2,[1],[1.0])|  (2,[1],[1.0])|(1,[0],[1.0])|   (1,[0],[1.0])|(10,[1],[1.0])|  (2,[],[])|\n",
      "| 69|Acts Intended to ...|      Common Assault|             Assault|      European|         4|Non-Court Action|  Auckland East Area|  Auckland City|                    4|Male| 1/02/2020|                1|          1.00|    20-24|20 - 24 years inc...|             Person|Known To Victim|Known To Each Other|Non Family Member|                  0.0|               3.0|                     0.0|            1.0|      1.0|              1.0|      0.0|               0.0|            1.0|          2.0|     (13,[0],[1.0])|  (44,[3],[1.0])|        (27,[0],[1.0])|(7,[1],[1.0])|(2,[1],[1.0])|  (2,[1],[1.0])|(1,[0],[1.0])|   (1,[0],[1.0])|(10,[1],[1.0])|  (2,[],[])|\n",
      "| 70|Acts Intended to ...|      Common Assault|             Assault|      European|         4|Non-Court Action|  Auckland East Area|  Auckland City|                    4|Male| 1/02/2020|                1|          1.00|    25-29|25 - 29 years inc...|             Person|Known To Victim|Known To Each Other|Non Family Member|                  0.0|               3.0|                     0.0|            1.0|      1.0|              1.0|      0.0|               0.0|            1.0|          2.0|     (13,[0],[1.0])|  (44,[3],[1.0])|        (27,[0],[1.0])|(7,[1],[1.0])|(2,[1],[1.0])|  (2,[1],[1.0])|(1,[0],[1.0])|   (1,[0],[1.0])|(10,[1],[1.0])|  (2,[],[])|\n",
      "| 71|Acts Intended to ...|      Common Assault|             Assault|      European|         4|Non-Court Action|  Auckland East Area|  Auckland City|                    4|Male| 1/02/2020|                1|          1.00|    30-34|30 - 34 years inc...|             Person|Known To Victim|Known To Each Other|Non Family Member|                  0.0|               3.0|                     0.0|            1.0|      1.0|              1.0|      0.0|               0.0|            1.0|          2.0|     (13,[0],[1.0])|  (44,[3],[1.0])|        (27,[0],[1.0])|(7,[1],[1.0])|(2,[1],[1.0])|  (2,[1],[1.0])|(1,[0],[1.0])|   (1,[0],[1.0])|(10,[1],[1.0])|  (2,[],[])|\n",
      "| 73|Abduction, Harass...|Threatening Behav...|Harassment and Th...|      European|    5 to 9|Non-Court Action|  Auckland East Area|  Auckland City|               5 to 9|Male| 1/02/2020|                1|          1.00|    15-19|15 - 19 years inc...|             Person|Known To Victim|Known To Each Other|Non Family Member|                  1.0|               2.0|                     1.0|            1.0|      1.0|              1.0|      0.0|               0.0|            1.0|          2.0|     (13,[1],[1.0])|  (44,[2],[1.0])|        (27,[1],[1.0])|(7,[1],[1.0])|(2,[1],[1.0])|  (2,[1],[1.0])|(1,[0],[1.0])|   (1,[0],[1.0])|(10,[1],[1.0])|  (2,[],[])|\n",
      "+---+--------------------+--------------------+--------------------+--------------+----------+----------------+--------------------+---------------+---------------------+----+----------+-----------------+--------------+---------+--------------------+-------------------+---------------+-------------------+-----------------+---------------------+------------------+------------------------+---------------+---------+-----------------+---------+------------------+---------------+-------------+-------------------+----------------+----------------------+-------------+-------------+---------------+-------------+----------------+--------------+-----------+\n",
      "only showing top 20 rows\n",
      "\n"
     ]
    }
   ],
   "source": [
    "\n",
    "one_hot_encoder = OneHotEncoder(inputCol = \"ANZSOC_Division_Index\", outputCol = \"ANZSOC_Division_vec\")\n",
    "master = one_hot_encoder.transform(master)\n",
    "\n",
    "one_hot_encoder = OneHotEncoder(inputCol = \"ANZSOC_Group_Index\", outputCol = \"ANZSOC_Group_vec\")\n",
    "master = one_hot_encoder.transform(master)\n",
    "\n",
    "one_hot_encoder = OneHotEncoder(inputCol = \"ANZSOC_Subdivision_Index\", outputCol = \"ANZSOC_Subdivision_vec\")\n",
    "master = one_hot_encoder.transform(master)\n",
    "\n",
    "one_hot_encoder = OneHotEncoder(inputCol = \"Ethnicity_Index\", outputCol = \"Ethnicity_vec\")\n",
    "master = one_hot_encoder.transform(master)\n",
    "\n",
    "one_hot_encoder = OneHotEncoder(inputCol = \"Mop_Index\", outputCol = \"Mop_vec\")\n",
    "master = one_hot_encoder.transform(master)\n",
    "\n",
    "one_hot_encoder = OneHotEncoder(inputCol = \"Police_area_index\", outputCol = \"Police_Area_vec\")\n",
    "master = one_hot_encoder.transform(master)\n",
    "\n",
    "one_hot_encoder = OneHotEncoder(inputCol = \"SEX_index\", outputCol = \"SEX_vec\")\n",
    "master = one_hot_encoder.transform(master)\n",
    "\n",
    "one_hot_encoder = OneHotEncoder(inputCol = \"ROV_Division_Index\", outputCol = \"ROV_Division_vec\")\n",
    "master = one_hot_encoder.transform(master)\n",
    "\n",
    "one_hot_encoder = OneHotEncoder(inputCol = \"ROV_Group_Index\", outputCol = \"ROV_Group_vec\")\n",
    "master = one_hot_encoder.transform(master)\n",
    "\n",
    "one_hot_encoder = OneHotEncoder(inputCol = \"ROV_Sub_index\", outputCol = \"ROV_Sub_vec\")\n",
    "master = one_hot_encoder.transform(master)\n",
    "\n",
    "\n",
    "master.show()"
   ]
  },
  {
   "cell_type": "code",
   "execution_count": 44,
   "metadata": {},
   "outputs": [
    {
     "name": "stdout",
     "output_type": "stream",
     "text": [
      "+-------------+----+---------+\n",
      "|      SEX_vec| SEX|SEX_index|\n",
      "+-------------+----+---------+\n",
      "|(1,[0],[1.0])|Male|      0.0|\n",
      "|(1,[0],[1.0])|Male|      0.0|\n",
      "|(1,[0],[1.0])|Male|      0.0|\n",
      "|(1,[0],[1.0])|Male|      0.0|\n",
      "|(1,[0],[1.0])|Male|      0.0|\n",
      "|(1,[0],[1.0])|Male|      0.0|\n",
      "|(1,[0],[1.0])|Male|      0.0|\n",
      "|(1,[0],[1.0])|Male|      0.0|\n",
      "|(1,[0],[1.0])|Male|      0.0|\n",
      "|(1,[0],[1.0])|Male|      0.0|\n",
      "|(1,[0],[1.0])|Male|      0.0|\n",
      "|(1,[0],[1.0])|Male|      0.0|\n",
      "|(1,[0],[1.0])|Male|      0.0|\n",
      "|(1,[0],[1.0])|Male|      0.0|\n",
      "|(1,[0],[1.0])|Male|      0.0|\n",
      "|(1,[0],[1.0])|Male|      0.0|\n",
      "|(1,[0],[1.0])|Male|      0.0|\n",
      "|(1,[0],[1.0])|Male|      0.0|\n",
      "|(1,[0],[1.0])|Male|      0.0|\n",
      "|(1,[0],[1.0])|Male|      0.0|\n",
      "+-------------+----+---------+\n",
      "only showing top 20 rows\n",
      "\n"
     ]
    }
   ],
   "source": [
    "master.select(\"SEX_vec\", \"SEX\", \"SEX_index\").show()\n"
   ]
  },
  {
   "cell_type": "code",
   "execution_count": 45,
   "metadata": {},
   "outputs": [
    {
     "name": "stdout",
     "output_type": "stream",
     "text": [
      "+-------------+------+---------+\n",
      "|SEX_vec      |SEX   |SEX_index|\n",
      "+-------------+------+---------+\n",
      "|(1,[],[])    |Female|1.0      |\n",
      "|(1,[0],[1.0])|Male  |0.0      |\n",
      "+-------------+------+---------+\n",
      "\n"
     ]
    }
   ],
   "source": [
    "master.dropDuplicates(([\"SEX_vec\", \"SEX\", \"SEX_index\"])).select(\"SEX_vec\", \"SEX\", \"SEX_index\").show(truncate = False)"
   ]
  },
  {
   "cell_type": "code",
   "execution_count": 46,
   "metadata": {},
   "outputs": [
    {
     "data": {
      "text/plain": [
       "['ID',\n",
       " 'ANZSOC Division',\n",
       " 'ANZSOC Group',\n",
       " 'ANZSOC Subdivision',\n",
       " 'Ethnicity',\n",
       " 'Frequency',\n",
       " 'Mop Division',\n",
       " 'Police Area',\n",
       " 'Police District',\n",
       " 'Proceedings Frequency',\n",
       " 'SEX',\n",
       " 'Year Month',\n",
       " 'Number of Records',\n",
       " 'Offender Count',\n",
       " 'Age Group',\n",
       " 'Age Group 5Yr Band',\n",
       " 'Person/Organisation',\n",
       " 'ROV Division',\n",
       " 'ROV Group',\n",
       " 'ROVSubdivision',\n",
       " 'ANZSOC_Division_Index',\n",
       " 'ANZSOC_Group_Index',\n",
       " 'ANZSOC_Subdivision_Index',\n",
       " 'Ethnicity_Index',\n",
       " 'Mop_Index',\n",
       " 'Police_area_index',\n",
       " 'SEX_index',\n",
       " 'ROV_Division_Index',\n",
       " 'ROV_Group_Index',\n",
       " 'ROV_Sub_index',\n",
       " 'ANZSOC_Division_vec',\n",
       " 'ANZSOC_Group_vec',\n",
       " 'ANZSOC_Subdivision_vec',\n",
       " 'Ethnicity_vec',\n",
       " 'Mop_vec',\n",
       " 'Police_Area_vec',\n",
       " 'SEX_vec',\n",
       " 'ROV_Division_vec',\n",
       " 'ROV_Group_vec',\n",
       " 'ROV_Sub_vec']"
      ]
     },
     "execution_count": 46,
     "metadata": {},
     "output_type": "execute_result"
    }
   ],
   "source": [
    "master.columns"
   ]
  },
  {
   "cell_type": "code",
   "execution_count": 47,
   "metadata": {},
   "outputs": [],
   "source": [
    "#convert values in Age and Frequency"
   ]
  },
  {
   "cell_type": "code",
   "execution_count": 48,
   "metadata": {},
   "outputs": [
    {
     "name": "stdout",
     "output_type": "stream",
     "text": [
      "+-------------+\n",
      "|Age Group    |\n",
      "+-------------+\n",
      "|5-9          |\n",
      "|20-24        |\n",
      "|65-69        |\n",
      "|75-79        |\n",
      "|80yearsorover|\n",
      "|30-34        |\n",
      "|70-74        |\n",
      "|15-19        |\n",
      "|10-14        |\n",
      "|50-54        |\n",
      "|35-39        |\n",
      "|45-49        |\n",
      "|25-29        |\n",
      "|40-44        |\n",
      "|55-59        |\n",
      "|60-64        |\n",
      "+-------------+\n",
      "\n"
     ]
    }
   ],
   "source": [
    "master.dropDuplicates(([\"Age Group\"])).select(\"Age Group\").show(truncate = False)"
   ]
  },
  {
   "cell_type": "code",
   "execution_count": 49,
   "metadata": {},
   "outputs": [
    {
     "data": {
      "text/plain": [
       "19047"
      ]
     },
     "execution_count": 49,
     "metadata": {},
     "output_type": "execute_result"
    }
   ],
   "source": [
    "master.count()"
   ]
  },
  {
   "cell_type": "code",
   "execution_count": 50,
   "metadata": {},
   "outputs": [
    {
     "name": "stdout",
     "output_type": "stream",
     "text": [
      "+----------+--------------+\n",
      "| Frequency|Offender Count|\n",
      "+----------+--------------+\n",
      "|10 or more|          1.00|\n",
      "|10 or more|             1|\n",
      "|         2|          1.00|\n",
      "|         2|          1.00|\n",
      "|         2|          1.00|\n",
      "|         2|          1.00|\n",
      "|         2|          1.00|\n",
      "|         2|          1.00|\n",
      "|         2|          1.00|\n",
      "|         2|          1.00|\n",
      "|         2|          1.00|\n",
      "|         3|          1.00|\n",
      "|         4|          1.00|\n",
      "|         4|          1.00|\n",
      "|         4|          1.00|\n",
      "|         4|          1.00|\n",
      "|         4|          1.00|\n",
      "|         4|          1.00|\n",
      "|         4|          1.00|\n",
      "|    5 to 9|          1.00|\n",
      "+----------+--------------+\n",
      "only showing top 20 rows\n",
      "\n"
     ]
    }
   ],
   "source": [
    "master.select(\"Frequency\", \"Offender Count\" ).show()\n"
   ]
  },
  {
   "cell_type": "code",
   "execution_count": 45,
   "metadata": {},
   "outputs": [],
   "source": [
    "from pyspark.sql.functions import *\n"
   ]
  },
  {
   "cell_type": "code",
   "execution_count": 46,
   "metadata": {},
   "outputs": [
    {
     "name": "stdout",
     "output_type": "stream",
     "text": [
      "+---------+---------------------+--------------+---------+\n",
      "|Frequency|Proceedings Frequency|Offender Count|Age Group|\n",
      "+---------+---------------------+--------------+---------+\n",
      "|1        |1                    |4.00          |60       |\n",
      "|1        |1                    |4.00          |20       |\n",
      "|4        |4                    |4.00          |30       |\n",
      "|4        |4                    |2.00          |55       |\n",
      "|2        |2                    |4.00          |15       |\n",
      "|3        |3                    |2.00          |60       |\n",
      "|5        |5 to 9               |4.00          |20       |\n",
      "|5        |5 to 9               |1.00          |60       |\n",
      "|2        |2                    |1.00          |65       |\n",
      "|1        |1                    |4.00          |55       |\n",
      "|5        |5 to 9               |3.00          |40       |\n",
      "|5        |5 to 9               |2.00          |50       |\n",
      "|4        |4                    |2.00          |15       |\n",
      "|3        |3                    |3.00          |35       |\n",
      "|5        |5 to 9               |3.00          |25       |\n",
      "|4        |4                    |4.00          |15       |\n",
      "|3        |3                    |1.00          |20       |\n",
      "|1        |1                    |2.00          |20       |\n",
      "|2        |2                    |2.00          |45       |\n",
      "|1        |1                    |6.00          |50       |\n",
      "+---------+---------------------+--------------+---------+\n",
      "only showing top 20 rows\n",
      "\n"
     ]
    }
   ],
   "source": [
    "\n",
    "master = master.withColumn(\"Frequency\", regexp_replace(\"Frequency\", \"10 or more\", \"10\"))\n",
    "master = master.withColumn(\"Frequency\", regexp_replace(\"Frequency\", \"5 to 9\", \"5\"))\n",
    "\n",
    "master = master.withColumn(\"Age Group\", regexp_replace(\"Age Group\", \"5-9\", \"5\"))\n",
    "master = master.withColumn(\"Age Group\", regexp_replace(\"Age Group\", \"10-14\", \"10\"))\n",
    "master = master.withColumn(\"Age Group\", regexp_replace(\"Age Group\", \"15-19\", \"15\"))\n",
    "master = master.withColumn(\"Age Group\", regexp_replace(\"Age Group\", \"20-24\", \"20\"))\n",
    "master = master.withColumn(\"Age Group\", regexp_replace(\"Age Group\", \"25-29\", \"25\"))\n",
    "master = master.withColumn(\"Age Group\", regexp_replace(\"Age Group\", \"30-34\", \"30\"))\n",
    "master = master.withColumn(\"Age Group\", regexp_replace(\"Age Group\", \"35-39\", \"35\"))\n",
    "master = master.withColumn(\"Age Group\", regexp_replace(\"Age Group\", \"40-44\", \"40\"))\n",
    "master = master.withColumn(\"Age Group\", regexp_replace(\"Age Group\", \"45-49\", \"45\"))\n",
    "master = master.withColumn(\"Age Group\", regexp_replace(\"Age Group\", \"50-54\", \"50\"))\n",
    "master = master.withColumn(\"Age Group\", regexp_replace(\"Age Group\", \"55-59\", \"55\"))\n",
    "master = master.withColumn(\"Age Group\", regexp_replace(\"Age Group\", \"60-64\", \"60\"))\n",
    "master = master.withColumn(\"Age Group\", regexp_replace(\"Age Group\", \"65-69\", \"65\"))\n",
    "master = master.withColumn(\"Age Group\", regexp_replace(\"Age Group\", \"70-74\", \"70\"))\n",
    "master = master.withColumn(\"Age Group\", regexp_replace(\"Age Group\", \"75-79\", \"75\"))\n",
    "master = master.withColumn(\"Age Group\", regexp_replace(\"Age Group\", \"80yearsorover\", \"80\"))\n",
    "\n",
    "master.dropDuplicates(([\"Frequency\", \"Proceedings Frequency\", \"Offender Count\",\"Age Group\"])).select(\"Frequency\", \"Proceedings Frequency\", \"Offender Count\", \"Age Group\").show(truncate = False)\n"
   ]
  },
  {
   "cell_type": "code",
   "execution_count": 53,
   "metadata": {},
   "outputs": [
    {
     "name": "stdout",
     "output_type": "stream",
     "text": [
      "+---------+\n",
      "|Age Group|\n",
      "+---------+\n",
      "|15       |\n",
      "|30       |\n",
      "|35       |\n",
      "|5        |\n",
      "|70       |\n",
      "|75       |\n",
      "|60       |\n",
      "|55       |\n",
      "|40       |\n",
      "|25       |\n",
      "|20       |\n",
      "|10       |\n",
      "|65       |\n",
      "|80       |\n",
      "|50       |\n",
      "|45       |\n",
      "+---------+\n",
      "\n"
     ]
    }
   ],
   "source": [
    "master.dropDuplicates(([\"Age Group\"])).select(\"Age Group\").show(truncate = False)"
   ]
  },
  {
   "cell_type": "code",
   "execution_count": 54,
   "metadata": {},
   "outputs": [
    {
     "name": "stdout",
     "output_type": "stream",
     "text": [
      "+---------------+\n",
      "|Police District|\n",
      "+---------------+\n",
      "|Auckland City  |\n",
      "+---------------+\n",
      "\n",
      "+-----------------+\n",
      "|Number of Records|\n",
      "+-----------------+\n",
      "|1                |\n",
      "+-----------------+\n",
      "\n",
      "+-------------------+\n",
      "|Person/Organisation|\n",
      "+-------------------+\n",
      "|Person             |\n",
      "+-------------------+\n",
      "\n"
     ]
    }
   ],
   "source": [
    "master.dropDuplicates(([\"Police District\"])).select(\"Police District\").show(truncate = False)\n",
    "master.dropDuplicates(([\"Number of Records\"])).select(\"Number of Records\").show(truncate = False)\n",
    "master.dropDuplicates(([\"Person/Organisation\"])).select(\"Person/Organisation\").show(truncate = False)\n",
    "\n"
   ]
  },
  {
   "cell_type": "code",
   "execution_count": 55,
   "metadata": {},
   "outputs": [
    {
     "data": {
      "text/plain": [
       "['ID',\n",
       " 'ANZSOC Division',\n",
       " 'ANZSOC Group',\n",
       " 'ANZSOC Subdivision',\n",
       " 'Ethnicity',\n",
       " 'Frequency',\n",
       " 'Mop Division',\n",
       " 'Police Area',\n",
       " 'SEX',\n",
       " 'Year Month',\n",
       " 'Offender Count',\n",
       " 'Age Group',\n",
       " 'ROV Division',\n",
       " 'ROV Group',\n",
       " 'ROVSubdivision',\n",
       " 'ANZSOC_Division_Index',\n",
       " 'ANZSOC_Group_Index',\n",
       " 'ANZSOC_Subdivision_Index',\n",
       " 'Ethnicity_Index',\n",
       " 'Mop_Index',\n",
       " 'Police_area_index',\n",
       " 'SEX_index',\n",
       " 'ROV_Division_Index',\n",
       " 'ROV_Group_Index',\n",
       " 'ROV_Sub_index',\n",
       " 'ANZSOC_Division_vec',\n",
       " 'ANZSOC_Group_vec',\n",
       " 'ANZSOC_Subdivision_vec',\n",
       " 'Ethnicity_vec',\n",
       " 'Mop_vec',\n",
       " 'Police_Area_vec',\n",
       " 'SEX_vec',\n",
       " 'ROV_Division_vec',\n",
       " 'ROV_Group_vec',\n",
       " 'ROV_Sub_vec']"
      ]
     },
     "execution_count": 55,
     "metadata": {},
     "output_type": "execute_result"
    }
   ],
   "source": [
    "columns = (\"Police District\", \"Number of Records\", \"Age Group 5yr Band\", \"Proceedings Frequency\", \"Person/Organisation\") \n",
    "master = master.drop(*columns)\n",
    "master.columns"
   ]
  },
  {
   "cell_type": "code",
   "execution_count": 56,
   "metadata": {},
   "outputs": [
    {
     "data": {
      "text/plain": [
       "19047"
      ]
     },
     "execution_count": 56,
     "metadata": {},
     "output_type": "execute_result"
    }
   ],
   "source": [
    "master.count()"
   ]
  },
  {
   "cell_type": "code",
   "execution_count": 57,
   "metadata": {},
   "outputs": [
    {
     "data": {
      "text/plain": [
       "DataFrame[summary: string, ID: string, ANZSOC Division: string, ANZSOC Group: string, ANZSOC Subdivision: string, Ethnicity: string, Frequency: string, Mop Division: string, Police Area: string, SEX: string, Year Month: string, Offender Count: string, Age Group: string, ROV Division: string, ROV Group: string, ROVSubdivision: string, ANZSOC_Division_Index: string, ANZSOC_Group_Index: string, ANZSOC_Subdivision_Index: string, Ethnicity_Index: string, Mop_Index: string, Police_area_index: string, SEX_index: string, ROV_Division_Index: string, ROV_Group_Index: string, ROV_Sub_index: string]"
      ]
     },
     "execution_count": 57,
     "metadata": {},
     "output_type": "execute_result"
    }
   ],
   "source": [
    "#finding outlier on Frequency, Offender Count and Age\n",
    "import matplotlib.pyplot as plt\n",
    "import numpy as np\n",
    "master.describe()\n",
    "\n"
   ]
  },
  {
   "cell_type": "code",
   "execution_count": 47,
   "metadata": {},
   "outputs": [],
   "source": [
    "\n",
    "\n",
    "from pyspark.sql.types import StructField,IntegerType, StructType,StringType"
   ]
  },
  {
   "cell_type": "code",
   "execution_count": 48,
   "metadata": {},
   "outputs": [
    {
     "data": {
      "text/plain": [
       "[('ID', 'string'),\n",
       " ('ANZSOC Division', 'string'),\n",
       " ('ANZSOC Group', 'string'),\n",
       " ('ANZSOC Subdivision', 'string'),\n",
       " ('Ethnicity', 'string'),\n",
       " ('Frequency', 'int'),\n",
       " ('Mop Division', 'string'),\n",
       " ('Police Area', 'string'),\n",
       " ('Police District', 'string'),\n",
       " ('Proceedings Frequency', 'string'),\n",
       " ('SEX', 'string'),\n",
       " ('Year Month', 'string'),\n",
       " ('Number of Records', 'string'),\n",
       " ('Offender Count', 'int'),\n",
       " ('Age Group', 'int'),\n",
       " ('Age Group 5Yr Band', 'string'),\n",
       " ('Person/Organisation', 'string'),\n",
       " ('ROV Division', 'string'),\n",
       " ('ROV Group', 'string'),\n",
       " ('ROVSubdivision', 'string'),\n",
       " ('ANZSOC_Division_Index', 'double'),\n",
       " ('ANZSOC_Group_Index', 'double'),\n",
       " ('ANZSOC_Subdivision_Index', 'double'),\n",
       " ('Ethnicity_Index', 'double'),\n",
       " ('Mop_Index', 'double'),\n",
       " ('Police_area_index', 'double'),\n",
       " ('SEX_index', 'double'),\n",
       " ('ROV_Division_Index', 'double'),\n",
       " ('ROV_Group_Index', 'double'),\n",
       " ('ROV_Sub_index', 'double'),\n",
       " ('ANZSOC_Division_vec', 'vector'),\n",
       " ('ANZSOC_Group_vec', 'vector'),\n",
       " ('ANZSOC_Subdivision_vec', 'vector'),\n",
       " ('Ethnicity_vec', 'vector'),\n",
       " ('Mop_vec', 'vector'),\n",
       " ('Police_Area_vec', 'vector'),\n",
       " ('SEX_vec', 'vector'),\n",
       " ('ROV_Division_vec', 'vector'),\n",
       " ('ROV_Group_vec', 'vector'),\n",
       " ('ROV_Sub_vec', 'vector')]"
      ]
     },
     "execution_count": 48,
     "metadata": {},
     "output_type": "execute_result"
    }
   ],
   "source": [
    "column_list = (\"Frequency\", \"Offender Count\", \"Age Group\")\n",
    "for x in column_list:\n",
    "    master = master.withColumn(x, master[x].cast(IntegerType()))\n",
    "master.dtypes"
   ]
  },
  {
   "cell_type": "code",
   "execution_count": 60,
   "metadata": {},
   "outputs": [
    {
     "data": {
      "text/plain": [
       "19047"
      ]
     },
     "execution_count": 60,
     "metadata": {},
     "output_type": "execute_result"
    }
   ],
   "source": [
    "master.count()"
   ]
  },
  {
   "cell_type": "code",
   "execution_count": 61,
   "metadata": {},
   "outputs": [
    {
     "name": "stdout",
     "output_type": "stream",
     "text": [
      "+---------+\n",
      "|Frequency|\n",
      "+---------+\n",
      "|1        |\n",
      "|3        |\n",
      "|5        |\n",
      "|4        |\n",
      "|10       |\n",
      "|2        |\n",
      "+---------+\n",
      "\n"
     ]
    }
   ],
   "source": [
    "master.dropDuplicates(([\"Frequency\"])).select(\"Frequency\").show(truncate = False)"
   ]
  },
  {
   "cell_type": "code",
   "execution_count": 62,
   "metadata": {
    "scrolled": true
   },
   "outputs": [
    {
     "name": "stdout",
     "output_type": "stream",
     "text": [
      "Frequency IQR  2.0\n",
      "Frequency lower  -2.0\n",
      "Frequency upper  6.0\n",
      "Offender Count IQR  0.0\n",
      "Offender Count lower  1.0\n",
      "Offender Count upper  1.0\n",
      "Age Group IQR  49.0\n",
      "Age Group lower  -48.5\n",
      "Age Group upper  123.5\n"
     ]
    }
   ],
   "source": [
    "for x in column_list:\n",
    "    \n",
    "    frequency = master.select(x)\n",
    "    quantiles = master.approxQuantile(x, [0.25, 0.75], 0.00)\n",
    "    q1 = quantiles[0]\n",
    "    q3 = quantiles[1]\n",
    "    iqr = q3 - 1\n",
    "    print(x, \"IQR \", iqr)\n",
    "    lower = q1 - 1.5 * iqr\n",
    "    upper = q3 + 1.5 * iqr\n",
    "    print(x, \"lower \", lower)\n",
    "    print(x, \"upper \", upper)"
   ]
  },
  {
   "cell_type": "code",
   "execution_count": 63,
   "metadata": {},
   "outputs": [
    {
     "data": {
      "text/plain": [
       "\"\\nimport seaborn as sns\\nx = sns.boxplot(x=Frequency)\\nage_group = master['Age Group']\\ny = sns.boxplot(x=age_group)\\nz = sns.boxplot(x=offender)\\n\""
      ]
     },
     "execution_count": 63,
     "metadata": {},
     "output_type": "execute_result"
    }
   ],
   "source": [
    "#Code used in Python for Box plot\n",
    "\"\"\"\n",
    "import seaborn as sns\n",
    "x = sns.boxplot(x=Frequency)\n",
    "age_group = master['Age Group']\n",
    "y = sns.boxplot(x=age_group)\n",
    "z = sns.boxplot(x=offender)\n",
    "\"\"\""
   ]
  },
  {
   "cell_type": "code",
   "execution_count": 49,
   "metadata": {},
   "outputs": [],
   "source": [
    "master = master.filter(master.Frequency < 10)"
   ]
  },
  {
   "cell_type": "code",
   "execution_count": 65,
   "metadata": {},
   "outputs": [
    {
     "name": "stdout",
     "output_type": "stream",
     "text": [
      "+-------+------------------+\n",
      "|summary|                ID|\n",
      "+-------+------------------+\n",
      "|  count|             18754|\n",
      "|   mean| 48453.32526394369|\n",
      "| stddev|26901.012008291033|\n",
      "|    min|                10|\n",
      "|    max|               971|\n",
      "+-------+------------------+\n",
      "\n"
     ]
    }
   ],
   "source": [
    "master.select(\"ID\").describe().show()"
   ]
  },
  {
   "cell_type": "code",
   "execution_count": 66,
   "metadata": {},
   "outputs": [
    {
     "data": {
      "text/plain": [
       "18754"
      ]
     },
     "execution_count": 66,
     "metadata": {},
     "output_type": "execute_result"
    }
   ],
   "source": [
    "master.count()"
   ]
  },
  {
   "cell_type": "code",
   "execution_count": 67,
   "metadata": {},
   "outputs": [
    {
     "name": "stdout",
     "output_type": "stream",
     "text": [
      "+---------+\n",
      "|Frequency|\n",
      "+---------+\n",
      "|1        |\n",
      "|3        |\n",
      "|5        |\n",
      "|4        |\n",
      "|2        |\n",
      "+---------+\n",
      "\n"
     ]
    }
   ],
   "source": [
    "master.dropDuplicates(([\"Frequency\"])).select(\"Frequency\").show(truncate = False)"
   ]
  },
  {
   "cell_type": "code",
   "execution_count": 68,
   "metadata": {},
   "outputs": [],
   "source": [
    "#Feature Selection"
   ]
  },
  {
   "cell_type": "code",
   "execution_count": 70,
   "metadata": {},
   "outputs": [
    {
     "data": {
      "text/plain": [
       "['ID',\n",
       " 'ANZSOC Division',\n",
       " 'ANZSOC Group',\n",
       " 'ANZSOC Subdivision',\n",
       " 'Ethnicity',\n",
       " 'Frequency',\n",
       " 'Mop Division',\n",
       " 'Police Area',\n",
       " 'SEX',\n",
       " 'Year Month',\n",
       " 'Offender Count',\n",
       " 'Age Group',\n",
       " 'ROV Division',\n",
       " 'ROV Group',\n",
       " 'ROVSubdivision',\n",
       " 'ANZSOC_Division_Index',\n",
       " 'ANZSOC_Group_Index',\n",
       " 'ANZSOC_Subdivision_Index',\n",
       " 'Ethnicity_Index',\n",
       " 'Mop_Index',\n",
       " 'Police_area_index',\n",
       " 'SEX_index',\n",
       " 'ROV_Division_Index',\n",
       " 'ROV_Group_Index',\n",
       " 'ROV_Sub_index',\n",
       " 'ANZSOC_Division_vec',\n",
       " 'ANZSOC_Group_vec',\n",
       " 'ANZSOC_Subdivision_vec',\n",
       " 'Ethnicity_vec',\n",
       " 'Mop_vec',\n",
       " 'Police_Area_vec',\n",
       " 'SEX_vec',\n",
       " 'ROV_Division_vec',\n",
       " 'ROV_Group_vec',\n",
       " 'ROV_Sub_vec']"
      ]
     },
     "execution_count": 70,
     "metadata": {},
     "output_type": "execute_result"
    }
   ],
   "source": [
    "master.columns"
   ]
  },
  {
   "cell_type": "code",
   "execution_count": 50,
   "metadata": {},
   "outputs": [],
   "source": [
    "from pyspark.ml.feature import VectorAssembler"
   ]
  },
  {
   "cell_type": "code",
   "execution_count": 51,
   "metadata": {},
   "outputs": [
    {
     "name": "stdout",
     "output_type": "stream",
     "text": [
      "+---+-----------------------------------------------------------------+---------------------------------------+------------------------------------+--------------+---------+----------------+---------------------+---------------+---------------------+----+----------+-----------------+--------------+---------+-----------------------+-------------------+---------------+-------------------+-----------------+---------------------+------------------+------------------------+---------------+---------+-----------------+---------+------------------+---------------+-------------+-------------------+----------------+----------------------+-------------+-------------+---------------+-------------+----------------+--------------+-----------+-----------------------------------------+\n",
      "|ID |ANZSOC Division                                                  |ANZSOC Group                           |ANZSOC Subdivision                  |Ethnicity     |Frequency|Mop Division    |Police Area          |Police District|Proceedings Frequency|SEX |Year Month|Number of Records|Offender Count|Age Group|Age Group 5Yr Band     |Person/Organisation|ROV Division   |ROV Group          |ROVSubdivision   |ANZSOC_Division_Index|ANZSOC_Group_Index|ANZSOC_Subdivision_Index|Ethnicity_Index|Mop_Index|Police_area_index|SEX_index|ROV_Division_Index|ROV_Group_Index|ROV_Sub_index|ANZSOC_Division_vec|ANZSOC_Group_vec|ANZSOC_Subdivision_vec|Ethnicity_vec|Mop_vec      |Police_Area_vec|SEX_vec      |ROV_Division_vec|ROV_Group_vec |ROV_Sub_vec|features                                 |\n",
      "+---+-----------------------------------------------------------------+---------------------------------------+------------------------------------+--------------+---------+----------------+---------------------+---------------+---------------------+----+----------+-----------------+--------------+---------+-----------------------+-------------------+---------------+-------------------+-----------------+---------------------+------------------+------------------------+---------------+---------+-----------------+---------+------------------+---------------+-------------+-------------------+----------------+----------------------+-------------+-------------+---------------+-------------+----------------+--------------+-----------+-----------------------------------------+\n",
      "|4  |Acts Intended to Cause Injury                                    |Serious Assault Not Resulting in Injury|Assault                             |Pacific Island|2        |Non-Court Action|Auckland East Area   |Auckland City  |2                    |Male|1/02/2020 |1                |1             |15       |15 - 19 years inclusive|Person             |Known To Victim|Known To Each Other|Non Family Member|0.0                  |0.0               |0.0                     |0.0            |1.0      |1.0              |0.0      |0.0               |1.0            |2.0          |(13,[0],[1.0])     |(44,[0],[1.0])  |(27,[0],[1.0])        |(7,[0],[1.0])|(2,[1],[1.0])|(2,[1],[1.0])  |(1,[0],[1.0])|(1,[0],[1.0])   |(10,[1],[1.0])|(2,[],[])  |(10,[4,5,8,9],[1.0,1.0,1.0,2.0])         |\n",
      "|5  |Acts Intended to Cause Injury                                    |Serious Assault Not Resulting in Injury|Assault                             |Pacific Island|2        |Non-Court Action|Auckland East Area   |Auckland City  |2                    |Male|1/02/2020 |1                |1             |25       |25 - 29 years inclusive|Person             |Known To Victim|Known To Each Other|Non Family Member|0.0                  |0.0               |0.0                     |0.0            |1.0      |1.0              |0.0      |0.0               |1.0            |2.0          |(13,[0],[1.0])     |(44,[0],[1.0])  |(27,[0],[1.0])        |(7,[0],[1.0])|(2,[1],[1.0])|(2,[1],[1.0])  |(1,[0],[1.0])|(1,[0],[1.0])   |(10,[1],[1.0])|(2,[],[])  |(10,[4,5,8,9],[1.0,1.0,1.0,2.0])         |\n",
      "|6  |Acts Intended to Cause Injury                                    |Serious Assault Not Resulting in Injury|Assault                             |Pacific Island|2        |Non-Court Action|Auckland East Area   |Auckland City  |2                    |Male|1/02/2020 |1                |1             |40       |40 - 44 years inclusive|Person             |Known To Victim|Known To Each Other|Non Family Member|0.0                  |0.0               |0.0                     |0.0            |1.0      |1.0              |0.0      |0.0               |1.0            |2.0          |(13,[0],[1.0])     |(44,[0],[1.0])  |(27,[0],[1.0])        |(7,[0],[1.0])|(2,[1],[1.0])|(2,[1],[1.0])  |(1,[0],[1.0])|(1,[0],[1.0])   |(10,[1],[1.0])|(2,[],[])  |(10,[4,5,8,9],[1.0,1.0,1.0,2.0])         |\n",
      "|7  |Acts Intended to Cause Injury                                    |Common Assault                         |Assault                             |Indian        |2        |Non-Court Action|Auckland West Area   |Auckland City  |2                    |Male|1/02/2020 |1                |1             |20       |20 - 24 years inclusive|Person             |Known To Victim|Known To Each Other|Non Family Member|0.0                  |3.0               |0.0                     |3.0            |1.0      |0.0              |0.0      |0.0               |1.0            |2.0          |(13,[0],[1.0])     |(44,[3],[1.0])  |(27,[0],[1.0])        |(7,[3],[1.0])|(2,[1],[1.0])|(2,[0],[1.0])  |(1,[0],[1.0])|(1,[0],[1.0])   |(10,[1],[1.0])|(2,[],[])  |(10,[1,3,4,8,9],[3.0,3.0,1.0,1.0,2.0])   |\n",
      "|8  |Acts Intended to Cause Injury                                    |Common Assault                         |Assault                             |Indian        |2        |Non-Court Action|Auckland West Area   |Auckland City  |2                    |Male|1/02/2020 |1                |1             |40       |40 - 44 years inclusive|Person             |Known To Victim|Known To Each Other|Non Family Member|0.0                  |3.0               |0.0                     |3.0            |1.0      |0.0              |0.0      |0.0               |1.0            |2.0          |(13,[0],[1.0])     |(44,[3],[1.0])  |(27,[0],[1.0])        |(7,[3],[1.0])|(2,[1],[1.0])|(2,[0],[1.0])  |(1,[0],[1.0])|(1,[0],[1.0])   |(10,[1],[1.0])|(2,[],[])  |(10,[1,3,4,8,9],[3.0,3.0,1.0,1.0,2.0])   |\n",
      "|9  |Acts Intended to Cause Injury                                    |Common Assault                         |Assault                             |Pacific Island|2        |Non-Court Action|Auckland West Area   |Auckland City  |2                    |Male|1/02/2020 |1                |1             |15       |15 - 19 years inclusive|Person             |Known To Victim|Known To Each Other|Non Family Member|0.0                  |3.0               |0.0                     |0.0            |1.0      |0.0              |0.0      |0.0               |1.0            |2.0          |(13,[0],[1.0])     |(44,[3],[1.0])  |(27,[0],[1.0])        |(7,[0],[1.0])|(2,[1],[1.0])|(2,[0],[1.0])  |(1,[0],[1.0])|(1,[0],[1.0])   |(10,[1],[1.0])|(2,[],[])  |(10,[1,4,8,9],[3.0,1.0,1.0,2.0])         |\n",
      "|10 |Acts Intended to Cause Injury                                    |Serious Assault Not Resulting in Injury|Assault                             |Pacific Island|2        |Non-Court Action|Auckland West Area   |Auckland City  |2                    |Male|1/02/2020 |1                |1             |15       |15 - 19 years inclusive|Person             |Known To Victim|Known To Each Other|Non Family Member|0.0                  |0.0               |0.0                     |0.0            |1.0      |0.0              |0.0      |0.0               |1.0            |2.0          |(13,[0],[1.0])     |(44,[0],[1.0])  |(27,[0],[1.0])        |(7,[0],[1.0])|(2,[1],[1.0])|(2,[0],[1.0])  |(1,[0],[1.0])|(1,[0],[1.0])   |(10,[1],[1.0])|(2,[],[])  |(10,[4,8,9],[1.0,1.0,2.0])               |\n",
      "|11 |Acts Intended to Cause Injury                                    |Serious Assault Not Resulting in Injury|Assault                             |Pacific Island|2        |Non-Court Action|Auckland West Area   |Auckland City  |2                    |Male|1/02/2020 |1                |1             |25       |25 - 29 years inclusive|Person             |Known To Victim|Known To Each Other|Non Family Member|0.0                  |0.0               |0.0                     |0.0            |1.0      |0.0              |0.0      |0.0               |1.0            |2.0          |(13,[0],[1.0])     |(44,[0],[1.0])  |(27,[0],[1.0])        |(7,[0],[1.0])|(2,[1],[1.0])|(2,[0],[1.0])  |(1,[0],[1.0])|(1,[0],[1.0])   |(10,[1],[1.0])|(2,[],[])  |(10,[4,8,9],[1.0,1.0,2.0])               |\n",
      "|12 |Acts Intended to Cause Injury                                    |Serious Assault Not Resulting in Injury|Assault                             |Pacific Island|2        |Non-Court Action|Auckland West Area   |Auckland City  |2                    |Male|1/02/2020 |1                |1             |40       |40 - 44 years inclusive|Person             |Known To Victim|Known To Each Other|Non Family Member|0.0                  |0.0               |0.0                     |0.0            |1.0      |0.0              |0.0      |0.0               |1.0            |2.0          |(13,[0],[1.0])     |(44,[0],[1.0])  |(27,[0],[1.0])        |(7,[0],[1.0])|(2,[1],[1.0])|(2,[0],[1.0])  |(1,[0],[1.0])|(1,[0],[1.0])   |(10,[1],[1.0])|(2,[],[])  |(10,[4,8,9],[1.0,1.0,2.0])               |\n",
      "|53 |Abduction, Harassment and Other Related Offences Against a Person|Threatening Behaviour                  |Harassment and Threatening Behaviour|Pacific Island|3        |Non-Court Action|Auckland East Area   |Auckland City  |3                    |Male|1/02/2020 |1                |1             |45       |45 - 49 years inclusive|Person             |Known To Victim|Known To Each Other|Non Family Member|1.0                  |2.0               |1.0                     |0.0            |1.0      |1.0              |0.0      |0.0               |1.0            |2.0          |(13,[1],[1.0])     |(44,[2],[1.0])  |(27,[1],[1.0])        |(7,[0],[1.0])|(2,[1],[1.0])|(2,[1],[1.0])  |(1,[0],[1.0])|(1,[0],[1.0])   |(10,[1],[1.0])|(2,[],[])  |[1.0,2.0,1.0,0.0,1.0,1.0,0.0,0.0,1.0,2.0]|\n",
      "|65 |Acts Intended to Cause Injury                                    |Common Assault                         |Assault                             |Maori         |4        |Non-Court Action|Auckland Central Area|Auckland City  |4                    |Male|1/02/2020 |1                |1             |25       |25 - 29 years inclusive|Person             |Known To Victim|Known To Each Other|Non Family Member|0.0                  |3.0               |0.0                     |2.0            |1.0      |2.0              |0.0      |0.0               |1.0            |2.0          |(13,[0],[1.0])     |(44,[3],[1.0])  |(27,[0],[1.0])        |(7,[2],[1.0])|(2,[1],[1.0])|(2,[],[])      |(1,[0],[1.0])|(1,[0],[1.0])   |(10,[1],[1.0])|(2,[],[])  |[0.0,3.0,0.0,2.0,1.0,2.0,0.0,0.0,1.0,2.0]|\n",
      "|66 |Acts Intended to Cause Injury                                    |Common Assault                         |Assault                             |Maori         |4        |Non-Court Action|Auckland Central Area|Auckland City  |4                    |Male|1/02/2020 |1                |1             |35       |35 - 39 years inclusive|Person             |Known To Victim|Known To Each Other|Non Family Member|0.0                  |3.0               |0.0                     |2.0            |1.0      |2.0              |0.0      |0.0               |1.0            |2.0          |(13,[0],[1.0])     |(44,[3],[1.0])  |(27,[0],[1.0])        |(7,[2],[1.0])|(2,[1],[1.0])|(2,[],[])      |(1,[0],[1.0])|(1,[0],[1.0])   |(10,[1],[1.0])|(2,[],[])  |[0.0,3.0,0.0,2.0,1.0,2.0,0.0,0.0,1.0,2.0]|\n",
      "|67 |Acts Intended to Cause Injury                                    |Common Assault                         |Assault                             |Maori         |4        |Non-Court Action|Auckland Central Area|Auckland City  |4                    |Male|1/02/2020 |1                |1             |45       |45 - 49 years inclusive|Person             |Known To Victim|Known To Each Other|Non Family Member|0.0                  |3.0               |0.0                     |2.0            |1.0      |2.0              |0.0      |0.0               |1.0            |2.0          |(13,[0],[1.0])     |(44,[3],[1.0])  |(27,[0],[1.0])        |(7,[2],[1.0])|(2,[1],[1.0])|(2,[],[])      |(1,[0],[1.0])|(1,[0],[1.0])   |(10,[1],[1.0])|(2,[],[])  |[0.0,3.0,0.0,2.0,1.0,2.0,0.0,0.0,1.0,2.0]|\n",
      "|68 |Acts Intended to Cause Injury                                    |Common Assault                         |Assault                             |European      |4        |Non-Court Action|Auckland East Area   |Auckland City  |4                    |Male|1/02/2020 |1                |1             |10       |10 - 14 years inclusive|Person             |Known To Victim|Known To Each Other|Non Family Member|0.0                  |3.0               |0.0                     |1.0            |1.0      |1.0              |0.0      |0.0               |1.0            |2.0          |(13,[0],[1.0])     |(44,[3],[1.0])  |(27,[0],[1.0])        |(7,[1],[1.0])|(2,[1],[1.0])|(2,[1],[1.0])  |(1,[0],[1.0])|(1,[0],[1.0])   |(10,[1],[1.0])|(2,[],[])  |[0.0,3.0,0.0,1.0,1.0,1.0,0.0,0.0,1.0,2.0]|\n",
      "|69 |Acts Intended to Cause Injury                                    |Common Assault                         |Assault                             |European      |4        |Non-Court Action|Auckland East Area   |Auckland City  |4                    |Male|1/02/2020 |1                |1             |20       |20 - 24 years inclusive|Person             |Known To Victim|Known To Each Other|Non Family Member|0.0                  |3.0               |0.0                     |1.0            |1.0      |1.0              |0.0      |0.0               |1.0            |2.0          |(13,[0],[1.0])     |(44,[3],[1.0])  |(27,[0],[1.0])        |(7,[1],[1.0])|(2,[1],[1.0])|(2,[1],[1.0])  |(1,[0],[1.0])|(1,[0],[1.0])   |(10,[1],[1.0])|(2,[],[])  |[0.0,3.0,0.0,1.0,1.0,1.0,0.0,0.0,1.0,2.0]|\n",
      "|70 |Acts Intended to Cause Injury                                    |Common Assault                         |Assault                             |European      |4        |Non-Court Action|Auckland East Area   |Auckland City  |4                    |Male|1/02/2020 |1                |1             |25       |25 - 29 years inclusive|Person             |Known To Victim|Known To Each Other|Non Family Member|0.0                  |3.0               |0.0                     |1.0            |1.0      |1.0              |0.0      |0.0               |1.0            |2.0          |(13,[0],[1.0])     |(44,[3],[1.0])  |(27,[0],[1.0])        |(7,[1],[1.0])|(2,[1],[1.0])|(2,[1],[1.0])  |(1,[0],[1.0])|(1,[0],[1.0])   |(10,[1],[1.0])|(2,[],[])  |[0.0,3.0,0.0,1.0,1.0,1.0,0.0,0.0,1.0,2.0]|\n",
      "|71 |Acts Intended to Cause Injury                                    |Common Assault                         |Assault                             |European      |4        |Non-Court Action|Auckland East Area   |Auckland City  |4                    |Male|1/02/2020 |1                |1             |30       |30 - 34 years inclusive|Person             |Known To Victim|Known To Each Other|Non Family Member|0.0                  |3.0               |0.0                     |1.0            |1.0      |1.0              |0.0      |0.0               |1.0            |2.0          |(13,[0],[1.0])     |(44,[3],[1.0])  |(27,[0],[1.0])        |(7,[1],[1.0])|(2,[1],[1.0])|(2,[1],[1.0])  |(1,[0],[1.0])|(1,[0],[1.0])   |(10,[1],[1.0])|(2,[],[])  |[0.0,3.0,0.0,1.0,1.0,1.0,0.0,0.0,1.0,2.0]|\n",
      "|73 |Abduction, Harassment and Other Related Offences Against a Person|Threatening Behaviour                  |Harassment and Threatening Behaviour|European      |5        |Non-Court Action|Auckland East Area   |Auckland City  |5 to 9               |Male|1/02/2020 |1                |1             |15       |15 - 19 years inclusive|Person             |Known To Victim|Known To Each Other|Non Family Member|1.0                  |2.0               |1.0                     |1.0            |1.0      |1.0              |0.0      |0.0               |1.0            |2.0          |(13,[1],[1.0])     |(44,[2],[1.0])  |(27,[1],[1.0])        |(7,[1],[1.0])|(2,[1],[1.0])|(2,[1],[1.0])  |(1,[0],[1.0])|(1,[0],[1.0])   |(10,[1],[1.0])|(2,[],[])  |[1.0,2.0,1.0,1.0,1.0,1.0,0.0,0.0,1.0,2.0]|\n",
      "|74 |Abduction, Harassment and Other Related Offences Against a Person|Threatening Behaviour                  |Harassment and Threatening Behaviour|European      |5        |Non-Court Action|Auckland East Area   |Auckland City  |5 to 9               |Male|1/02/2020 |1                |1             |30       |30 - 34 years inclusive|Person             |Known To Victim|Known To Each Other|Non Family Member|1.0                  |2.0               |1.0                     |1.0            |1.0      |1.0              |0.0      |0.0               |1.0            |2.0          |(13,[1],[1.0])     |(44,[2],[1.0])  |(27,[1],[1.0])        |(7,[1],[1.0])|(2,[1],[1.0])|(2,[1],[1.0])  |(1,[0],[1.0])|(1,[0],[1.0])   |(10,[1],[1.0])|(2,[],[])  |[1.0,2.0,1.0,1.0,1.0,1.0,0.0,0.0,1.0,2.0]|\n",
      "|75 |Abduction, Harassment and Other Related Offences Against a Person|Threatening Behaviour                  |Harassment and Threatening Behaviour|European      |5        |Non-Court Action|Auckland East Area   |Auckland City  |5 to 9               |Male|1/02/2020 |1                |1             |40       |40 - 44 years inclusive|Person             |Known To Victim|Known To Each Other|Non Family Member|1.0                  |2.0               |1.0                     |1.0            |1.0      |1.0              |0.0      |0.0               |1.0            |2.0          |(13,[1],[1.0])     |(44,[2],[1.0])  |(27,[1],[1.0])        |(7,[1],[1.0])|(2,[1],[1.0])|(2,[1],[1.0])  |(1,[0],[1.0])|(1,[0],[1.0])   |(10,[1],[1.0])|(2,[],[])  |[1.0,2.0,1.0,1.0,1.0,1.0,0.0,0.0,1.0,2.0]|\n",
      "+---+-----------------------------------------------------------------+---------------------------------------+------------------------------------+--------------+---------+----------------+---------------------+---------------+---------------------+----+----------+-----------------+--------------+---------+-----------------------+-------------------+---------------+-------------------+-----------------+---------------------+------------------+------------------------+---------------+---------+-----------------+---------+------------------+---------------+-------------+-------------------+----------------+----------------------+-------------+-------------+---------------+-------------+----------------+--------------+-----------+-----------------------------------------+\n",
      "only showing top 20 rows\n",
      "\n"
     ]
    },
    {
     "name": "stdout",
     "output_type": "stream",
     "text": [
      "+-----------------------------------------+\n",
      "|features                                 |\n",
      "+-----------------------------------------+\n",
      "|(10,[4,5,8,9],[1.0,1.0,1.0,2.0])         |\n",
      "|(10,[4,5,8,9],[1.0,1.0,1.0,2.0])         |\n",
      "|(10,[4,5,8,9],[1.0,1.0,1.0,2.0])         |\n",
      "|(10,[1,3,4,8,9],[3.0,3.0,1.0,1.0,2.0])   |\n",
      "|(10,[1,3,4,8,9],[3.0,3.0,1.0,1.0,2.0])   |\n",
      "|(10,[1,4,8,9],[3.0,1.0,1.0,2.0])         |\n",
      "|(10,[4,8,9],[1.0,1.0,2.0])               |\n",
      "|(10,[4,8,9],[1.0,1.0,2.0])               |\n",
      "|(10,[4,8,9],[1.0,1.0,2.0])               |\n",
      "|[1.0,2.0,1.0,0.0,1.0,1.0,0.0,0.0,1.0,2.0]|\n",
      "|[0.0,3.0,0.0,2.0,1.0,2.0,0.0,0.0,1.0,2.0]|\n",
      "|[0.0,3.0,0.0,2.0,1.0,2.0,0.0,0.0,1.0,2.0]|\n",
      "|[0.0,3.0,0.0,2.0,1.0,2.0,0.0,0.0,1.0,2.0]|\n",
      "|[0.0,3.0,0.0,1.0,1.0,1.0,0.0,0.0,1.0,2.0]|\n",
      "|[0.0,3.0,0.0,1.0,1.0,1.0,0.0,0.0,1.0,2.0]|\n",
      "|[0.0,3.0,0.0,1.0,1.0,1.0,0.0,0.0,1.0,2.0]|\n",
      "|[0.0,3.0,0.0,1.0,1.0,1.0,0.0,0.0,1.0,2.0]|\n",
      "|[1.0,2.0,1.0,1.0,1.0,1.0,0.0,0.0,1.0,2.0]|\n",
      "|[1.0,2.0,1.0,1.0,1.0,1.0,0.0,0.0,1.0,2.0]|\n",
      "|[1.0,2.0,1.0,1.0,1.0,1.0,0.0,0.0,1.0,2.0]|\n",
      "+-----------------------------------------+\n",
      "only showing top 20 rows\n",
      "\n"
     ]
    },
    {
     "data": {
      "text/plain": [
       "['ID',\n",
       " 'ANZSOC Division',\n",
       " 'ANZSOC Group',\n",
       " 'ANZSOC Subdivision',\n",
       " 'Ethnicity',\n",
       " 'Frequency',\n",
       " 'Mop Division',\n",
       " 'Police Area',\n",
       " 'Police District',\n",
       " 'Proceedings Frequency',\n",
       " 'SEX',\n",
       " 'Year Month',\n",
       " 'Number of Records',\n",
       " 'Offender Count',\n",
       " 'Age Group',\n",
       " 'Age Group 5Yr Band',\n",
       " 'Person/Organisation',\n",
       " 'ROV Division',\n",
       " 'ROV Group',\n",
       " 'ROVSubdivision',\n",
       " 'ANZSOC_Division_Index',\n",
       " 'ANZSOC_Group_Index',\n",
       " 'ANZSOC_Subdivision_Index',\n",
       " 'Ethnicity_Index',\n",
       " 'Mop_Index',\n",
       " 'Police_area_index',\n",
       " 'SEX_index',\n",
       " 'ROV_Division_Index',\n",
       " 'ROV_Group_Index',\n",
       " 'ROV_Sub_index',\n",
       " 'ANZSOC_Division_vec',\n",
       " 'ANZSOC_Group_vec',\n",
       " 'ANZSOC_Subdivision_vec',\n",
       " 'Ethnicity_vec',\n",
       " 'Mop_vec',\n",
       " 'Police_Area_vec',\n",
       " 'SEX_vec',\n",
       " 'ROV_Division_vec',\n",
       " 'ROV_Group_vec',\n",
       " 'ROV_Sub_vec',\n",
       " 'features']"
      ]
     },
     "execution_count": 51,
     "metadata": {},
     "output_type": "execute_result"
    }
   ],
   "source": [
    "assembler = VectorAssembler(inputCols = [\"ANZSOC_Division_Index\", \"ANZSOC_Group_Index\", \"ANZSOC_Subdivision_Index\", \"Ethnicity_Index\", \"Mop_Index\", \"Police_area_index\", \"SEX_index\", \"ROV_Division_Index\",  \"ROV_Group_Index\", \"ROV_Sub_index\"], outputCol = \"features\")\n",
    "\n",
    "output = assembler.transform(master)\n",
    "output.show(truncate = False)\n",
    "output.select(\"features\").show(truncate = False)\n",
    "output.columns"
   ]
  },
  {
   "cell_type": "code",
   "execution_count": 73,
   "metadata": {},
   "outputs": [
    {
     "name": "stdout",
     "output_type": "stream",
     "text": [
      "+---------------------------------+\n",
      "|selectedFeatures                 |\n",
      "+---------------------------------+\n",
      "|(8,[4,5],[1.0,1.0])              |\n",
      "|(8,[4,5],[1.0,1.0])              |\n",
      "|(8,[4,5],[1.0,1.0])              |\n",
      "|(8,[1,3,4],[3.0,3.0,1.0])        |\n",
      "|(8,[1,3,4],[3.0,3.0,1.0])        |\n",
      "|(8,[1,4],[3.0,1.0])              |\n",
      "|(8,[4],[1.0])                    |\n",
      "|(8,[4],[1.0])                    |\n",
      "|(8,[4],[1.0])                    |\n",
      "|[1.0,2.0,1.0,0.0,1.0,1.0,0.0,0.0]|\n",
      "|[0.0,3.0,0.0,2.0,1.0,2.0,0.0,0.0]|\n",
      "|[0.0,3.0,0.0,2.0,1.0,2.0,0.0,0.0]|\n",
      "|[0.0,3.0,0.0,2.0,1.0,2.0,0.0,0.0]|\n",
      "|[0.0,3.0,0.0,1.0,1.0,1.0,0.0,0.0]|\n",
      "|[0.0,3.0,0.0,1.0,1.0,1.0,0.0,0.0]|\n",
      "|[0.0,3.0,0.0,1.0,1.0,1.0,0.0,0.0]|\n",
      "|[0.0,3.0,0.0,1.0,1.0,1.0,0.0,0.0]|\n",
      "|[1.0,2.0,1.0,1.0,1.0,1.0,0.0,0.0]|\n",
      "|[1.0,2.0,1.0,1.0,1.0,1.0,0.0,0.0]|\n",
      "|[1.0,2.0,1.0,1.0,1.0,1.0,0.0,0.0]|\n",
      "+---------------------------------+\n",
      "only showing top 20 rows\n",
      "\n"
     ]
    }
   ],
   "source": [
    "selector = ChiSqSelector(numTopFeatures = 8, featuresCol = \"features\", outputCol = \"selectedFeatures\", labelCol = \"Ethnicity_Index\")\n",
    "\n",
    "result = selector.fit(output).transform(output)\n",
    "\n",
    "result.select(\"selectedFeatures\").show(truncate = False)\n",
    "\n"
   ]
  },
  {
   "cell_type": "code",
   "execution_count": 52,
   "metadata": {},
   "outputs": [
    {
     "name": "stdout",
     "output_type": "stream",
     "text": [
      "+---+-----------------------------------------------------------------+---------------------------------------+------------------------------------+--------------+---------+----------------+---------------------+---------------+---------------------+----+----------+-----------------+--------------+---------+-----------------------+-------------------+---------------+-------------------+-----------------+---------------------+------------------+------------------------+---------------+---------+-----------------+---------+------------------+---------------+-------------+-------------------+----------------+----------------------+-------------+-------------+---------------+-------------+----------------+--------------+-----------+-----------------------------------------------------------------------+\n",
      "|ID |ANZSOC Division                                                  |ANZSOC Group                           |ANZSOC Subdivision                  |Ethnicity     |Frequency|Mop Division    |Police Area          |Police District|Proceedings Frequency|SEX |Year Month|Number of Records|Offender Count|Age Group|Age Group 5Yr Band     |Person/Organisation|ROV Division   |ROV Group          |ROVSubdivision   |ANZSOC_Division_Index|ANZSOC_Group_Index|ANZSOC_Subdivision_Index|Ethnicity_Index|Mop_Index|Police_area_index|SEX_index|ROV_Division_Index|ROV_Group_Index|ROV_Sub_index|ANZSOC_Division_vec|ANZSOC_Group_vec|ANZSOC_Subdivision_vec|Ethnicity_vec|Mop_vec      |Police_Area_vec|SEX_vec      |ROV_Division_vec|ROV_Group_vec |ROV_Sub_vec|features_VEC                                                           |\n",
      "+---+-----------------------------------------------------------------+---------------------------------------+------------------------------------+--------------+---------+----------------+---------------------+---------------+---------------------+----+----------+-----------------+--------------+---------+-----------------------+-------------------+---------------+-------------------+-----------------+---------------------+------------------+------------------------+---------------+---------+-----------------+---------+------------------+---------------+-------------+-------------------+----------------+----------------------+-------------+-------------+---------------+-------------+----------------+--------------+-----------+-----------------------------------------------------------------------+\n",
      "|4  |Acts Intended to Cause Injury                                    |Serious Assault Not Resulting in Injury|Assault                             |Pacific Island|2        |Non-Court Action|Auckland East Area   |Auckland City  |2                    |Male|1/02/2020 |1                |1             |15       |15 - 19 years inclusive|Person             |Known To Victim|Known To Each Other|Non Family Member|0.0                  |0.0               |0.0                     |0.0            |1.0      |1.0              |0.0      |0.0               |1.0            |2.0          |(13,[0],[1.0])     |(44,[0],[1.0])  |(27,[0],[1.0])        |(7,[0],[1.0])|(2,[1],[1.0])|(2,[1],[1.0])  |(1,[0],[1.0])|(1,[0],[1.0])   |(10,[1],[1.0])|(2,[],[])  |(109,[0,13,57,84,92,94,95,96,98],[1.0,1.0,1.0,1.0,1.0,1.0,1.0,1.0,1.0])|\n",
      "|5  |Acts Intended to Cause Injury                                    |Serious Assault Not Resulting in Injury|Assault                             |Pacific Island|2        |Non-Court Action|Auckland East Area   |Auckland City  |2                    |Male|1/02/2020 |1                |1             |25       |25 - 29 years inclusive|Person             |Known To Victim|Known To Each Other|Non Family Member|0.0                  |0.0               |0.0                     |0.0            |1.0      |1.0              |0.0      |0.0               |1.0            |2.0          |(13,[0],[1.0])     |(44,[0],[1.0])  |(27,[0],[1.0])        |(7,[0],[1.0])|(2,[1],[1.0])|(2,[1],[1.0])  |(1,[0],[1.0])|(1,[0],[1.0])   |(10,[1],[1.0])|(2,[],[])  |(109,[0,13,57,84,92,94,95,96,98],[1.0,1.0,1.0,1.0,1.0,1.0,1.0,1.0,1.0])|\n",
      "|6  |Acts Intended to Cause Injury                                    |Serious Assault Not Resulting in Injury|Assault                             |Pacific Island|2        |Non-Court Action|Auckland East Area   |Auckland City  |2                    |Male|1/02/2020 |1                |1             |40       |40 - 44 years inclusive|Person             |Known To Victim|Known To Each Other|Non Family Member|0.0                  |0.0               |0.0                     |0.0            |1.0      |1.0              |0.0      |0.0               |1.0            |2.0          |(13,[0],[1.0])     |(44,[0],[1.0])  |(27,[0],[1.0])        |(7,[0],[1.0])|(2,[1],[1.0])|(2,[1],[1.0])  |(1,[0],[1.0])|(1,[0],[1.0])   |(10,[1],[1.0])|(2,[],[])  |(109,[0,13,57,84,92,94,95,96,98],[1.0,1.0,1.0,1.0,1.0,1.0,1.0,1.0,1.0])|\n",
      "|7  |Acts Intended to Cause Injury                                    |Common Assault                         |Assault                             |Indian        |2        |Non-Court Action|Auckland West Area   |Auckland City  |2                    |Male|1/02/2020 |1                |1             |20       |20 - 24 years inclusive|Person             |Known To Victim|Known To Each Other|Non Family Member|0.0                  |3.0               |0.0                     |3.0            |1.0      |0.0              |0.0      |0.0               |1.0            |2.0          |(13,[0],[1.0])     |(44,[3],[1.0])  |(27,[0],[1.0])        |(7,[3],[1.0])|(2,[1],[1.0])|(2,[0],[1.0])  |(1,[0],[1.0])|(1,[0],[1.0])   |(10,[1],[1.0])|(2,[],[])  |(109,[0,16,57,87,92,93,95,96,98],[1.0,1.0,1.0,1.0,1.0,1.0,1.0,1.0,1.0])|\n",
      "|8  |Acts Intended to Cause Injury                                    |Common Assault                         |Assault                             |Indian        |2        |Non-Court Action|Auckland West Area   |Auckland City  |2                    |Male|1/02/2020 |1                |1             |40       |40 - 44 years inclusive|Person             |Known To Victim|Known To Each Other|Non Family Member|0.0                  |3.0               |0.0                     |3.0            |1.0      |0.0              |0.0      |0.0               |1.0            |2.0          |(13,[0],[1.0])     |(44,[3],[1.0])  |(27,[0],[1.0])        |(7,[3],[1.0])|(2,[1],[1.0])|(2,[0],[1.0])  |(1,[0],[1.0])|(1,[0],[1.0])   |(10,[1],[1.0])|(2,[],[])  |(109,[0,16,57,87,92,93,95,96,98],[1.0,1.0,1.0,1.0,1.0,1.0,1.0,1.0,1.0])|\n",
      "|9  |Acts Intended to Cause Injury                                    |Common Assault                         |Assault                             |Pacific Island|2        |Non-Court Action|Auckland West Area   |Auckland City  |2                    |Male|1/02/2020 |1                |1             |15       |15 - 19 years inclusive|Person             |Known To Victim|Known To Each Other|Non Family Member|0.0                  |3.0               |0.0                     |0.0            |1.0      |0.0              |0.0      |0.0               |1.0            |2.0          |(13,[0],[1.0])     |(44,[3],[1.0])  |(27,[0],[1.0])        |(7,[0],[1.0])|(2,[1],[1.0])|(2,[0],[1.0])  |(1,[0],[1.0])|(1,[0],[1.0])   |(10,[1],[1.0])|(2,[],[])  |(109,[0,16,57,84,92,93,95,96,98],[1.0,1.0,1.0,1.0,1.0,1.0,1.0,1.0,1.0])|\n",
      "|10 |Acts Intended to Cause Injury                                    |Serious Assault Not Resulting in Injury|Assault                             |Pacific Island|2        |Non-Court Action|Auckland West Area   |Auckland City  |2                    |Male|1/02/2020 |1                |1             |15       |15 - 19 years inclusive|Person             |Known To Victim|Known To Each Other|Non Family Member|0.0                  |0.0               |0.0                     |0.0            |1.0      |0.0              |0.0      |0.0               |1.0            |2.0          |(13,[0],[1.0])     |(44,[0],[1.0])  |(27,[0],[1.0])        |(7,[0],[1.0])|(2,[1],[1.0])|(2,[0],[1.0])  |(1,[0],[1.0])|(1,[0],[1.0])   |(10,[1],[1.0])|(2,[],[])  |(109,[0,13,57,84,92,93,95,96,98],[1.0,1.0,1.0,1.0,1.0,1.0,1.0,1.0,1.0])|\n",
      "|11 |Acts Intended to Cause Injury                                    |Serious Assault Not Resulting in Injury|Assault                             |Pacific Island|2        |Non-Court Action|Auckland West Area   |Auckland City  |2                    |Male|1/02/2020 |1                |1             |25       |25 - 29 years inclusive|Person             |Known To Victim|Known To Each Other|Non Family Member|0.0                  |0.0               |0.0                     |0.0            |1.0      |0.0              |0.0      |0.0               |1.0            |2.0          |(13,[0],[1.0])     |(44,[0],[1.0])  |(27,[0],[1.0])        |(7,[0],[1.0])|(2,[1],[1.0])|(2,[0],[1.0])  |(1,[0],[1.0])|(1,[0],[1.0])   |(10,[1],[1.0])|(2,[],[])  |(109,[0,13,57,84,92,93,95,96,98],[1.0,1.0,1.0,1.0,1.0,1.0,1.0,1.0,1.0])|\n",
      "|12 |Acts Intended to Cause Injury                                    |Serious Assault Not Resulting in Injury|Assault                             |Pacific Island|2        |Non-Court Action|Auckland West Area   |Auckland City  |2                    |Male|1/02/2020 |1                |1             |40       |40 - 44 years inclusive|Person             |Known To Victim|Known To Each Other|Non Family Member|0.0                  |0.0               |0.0                     |0.0            |1.0      |0.0              |0.0      |0.0               |1.0            |2.0          |(13,[0],[1.0])     |(44,[0],[1.0])  |(27,[0],[1.0])        |(7,[0],[1.0])|(2,[1],[1.0])|(2,[0],[1.0])  |(1,[0],[1.0])|(1,[0],[1.0])   |(10,[1],[1.0])|(2,[],[])  |(109,[0,13,57,84,92,93,95,96,98],[1.0,1.0,1.0,1.0,1.0,1.0,1.0,1.0,1.0])|\n",
      "|53 |Abduction, Harassment and Other Related Offences Against a Person|Threatening Behaviour                  |Harassment and Threatening Behaviour|Pacific Island|3        |Non-Court Action|Auckland East Area   |Auckland City  |3                    |Male|1/02/2020 |1                |1             |45       |45 - 49 years inclusive|Person             |Known To Victim|Known To Each Other|Non Family Member|1.0                  |2.0               |1.0                     |0.0            |1.0      |1.0              |0.0      |0.0               |1.0            |2.0          |(13,[1],[1.0])     |(44,[2],[1.0])  |(27,[1],[1.0])        |(7,[0],[1.0])|(2,[1],[1.0])|(2,[1],[1.0])  |(1,[0],[1.0])|(1,[0],[1.0])   |(10,[1],[1.0])|(2,[],[])  |(109,[1,15,58,84,92,94,95,96,98],[1.0,1.0,1.0,1.0,1.0,1.0,1.0,1.0,1.0])|\n",
      "|65 |Acts Intended to Cause Injury                                    |Common Assault                         |Assault                             |Maori         |4        |Non-Court Action|Auckland Central Area|Auckland City  |4                    |Male|1/02/2020 |1                |1             |25       |25 - 29 years inclusive|Person             |Known To Victim|Known To Each Other|Non Family Member|0.0                  |3.0               |0.0                     |2.0            |1.0      |2.0              |0.0      |0.0               |1.0            |2.0          |(13,[0],[1.0])     |(44,[3],[1.0])  |(27,[0],[1.0])        |(7,[2],[1.0])|(2,[1],[1.0])|(2,[],[])      |(1,[0],[1.0])|(1,[0],[1.0])   |(10,[1],[1.0])|(2,[],[])  |(109,[0,16,57,86,92,95,96,98],[1.0,1.0,1.0,1.0,1.0,1.0,1.0,1.0])       |\n",
      "|66 |Acts Intended to Cause Injury                                    |Common Assault                         |Assault                             |Maori         |4        |Non-Court Action|Auckland Central Area|Auckland City  |4                    |Male|1/02/2020 |1                |1             |35       |35 - 39 years inclusive|Person             |Known To Victim|Known To Each Other|Non Family Member|0.0                  |3.0               |0.0                     |2.0            |1.0      |2.0              |0.0      |0.0               |1.0            |2.0          |(13,[0],[1.0])     |(44,[3],[1.0])  |(27,[0],[1.0])        |(7,[2],[1.0])|(2,[1],[1.0])|(2,[],[])      |(1,[0],[1.0])|(1,[0],[1.0])   |(10,[1],[1.0])|(2,[],[])  |(109,[0,16,57,86,92,95,96,98],[1.0,1.0,1.0,1.0,1.0,1.0,1.0,1.0])       |\n",
      "|67 |Acts Intended to Cause Injury                                    |Common Assault                         |Assault                             |Maori         |4        |Non-Court Action|Auckland Central Area|Auckland City  |4                    |Male|1/02/2020 |1                |1             |45       |45 - 49 years inclusive|Person             |Known To Victim|Known To Each Other|Non Family Member|0.0                  |3.0               |0.0                     |2.0            |1.0      |2.0              |0.0      |0.0               |1.0            |2.0          |(13,[0],[1.0])     |(44,[3],[1.0])  |(27,[0],[1.0])        |(7,[2],[1.0])|(2,[1],[1.0])|(2,[],[])      |(1,[0],[1.0])|(1,[0],[1.0])   |(10,[1],[1.0])|(2,[],[])  |(109,[0,16,57,86,92,95,96,98],[1.0,1.0,1.0,1.0,1.0,1.0,1.0,1.0])       |\n",
      "|68 |Acts Intended to Cause Injury                                    |Common Assault                         |Assault                             |European      |4        |Non-Court Action|Auckland East Area   |Auckland City  |4                    |Male|1/02/2020 |1                |1             |10       |10 - 14 years inclusive|Person             |Known To Victim|Known To Each Other|Non Family Member|0.0                  |3.0               |0.0                     |1.0            |1.0      |1.0              |0.0      |0.0               |1.0            |2.0          |(13,[0],[1.0])     |(44,[3],[1.0])  |(27,[0],[1.0])        |(7,[1],[1.0])|(2,[1],[1.0])|(2,[1],[1.0])  |(1,[0],[1.0])|(1,[0],[1.0])   |(10,[1],[1.0])|(2,[],[])  |(109,[0,16,57,85,92,94,95,96,98],[1.0,1.0,1.0,1.0,1.0,1.0,1.0,1.0,1.0])|\n",
      "|69 |Acts Intended to Cause Injury                                    |Common Assault                         |Assault                             |European      |4        |Non-Court Action|Auckland East Area   |Auckland City  |4                    |Male|1/02/2020 |1                |1             |20       |20 - 24 years inclusive|Person             |Known To Victim|Known To Each Other|Non Family Member|0.0                  |3.0               |0.0                     |1.0            |1.0      |1.0              |0.0      |0.0               |1.0            |2.0          |(13,[0],[1.0])     |(44,[3],[1.0])  |(27,[0],[1.0])        |(7,[1],[1.0])|(2,[1],[1.0])|(2,[1],[1.0])  |(1,[0],[1.0])|(1,[0],[1.0])   |(10,[1],[1.0])|(2,[],[])  |(109,[0,16,57,85,92,94,95,96,98],[1.0,1.0,1.0,1.0,1.0,1.0,1.0,1.0,1.0])|\n",
      "|70 |Acts Intended to Cause Injury                                    |Common Assault                         |Assault                             |European      |4        |Non-Court Action|Auckland East Area   |Auckland City  |4                    |Male|1/02/2020 |1                |1             |25       |25 - 29 years inclusive|Person             |Known To Victim|Known To Each Other|Non Family Member|0.0                  |3.0               |0.0                     |1.0            |1.0      |1.0              |0.0      |0.0               |1.0            |2.0          |(13,[0],[1.0])     |(44,[3],[1.0])  |(27,[0],[1.0])        |(7,[1],[1.0])|(2,[1],[1.0])|(2,[1],[1.0])  |(1,[0],[1.0])|(1,[0],[1.0])   |(10,[1],[1.0])|(2,[],[])  |(109,[0,16,57,85,92,94,95,96,98],[1.0,1.0,1.0,1.0,1.0,1.0,1.0,1.0,1.0])|\n",
      "|71 |Acts Intended to Cause Injury                                    |Common Assault                         |Assault                             |European      |4        |Non-Court Action|Auckland East Area   |Auckland City  |4                    |Male|1/02/2020 |1                |1             |30       |30 - 34 years inclusive|Person             |Known To Victim|Known To Each Other|Non Family Member|0.0                  |3.0               |0.0                     |1.0            |1.0      |1.0              |0.0      |0.0               |1.0            |2.0          |(13,[0],[1.0])     |(44,[3],[1.0])  |(27,[0],[1.0])        |(7,[1],[1.0])|(2,[1],[1.0])|(2,[1],[1.0])  |(1,[0],[1.0])|(1,[0],[1.0])   |(10,[1],[1.0])|(2,[],[])  |(109,[0,16,57,85,92,94,95,96,98],[1.0,1.0,1.0,1.0,1.0,1.0,1.0,1.0,1.0])|\n",
      "|73 |Abduction, Harassment and Other Related Offences Against a Person|Threatening Behaviour                  |Harassment and Threatening Behaviour|European      |5        |Non-Court Action|Auckland East Area   |Auckland City  |5 to 9               |Male|1/02/2020 |1                |1             |15       |15 - 19 years inclusive|Person             |Known To Victim|Known To Each Other|Non Family Member|1.0                  |2.0               |1.0                     |1.0            |1.0      |1.0              |0.0      |0.0               |1.0            |2.0          |(13,[1],[1.0])     |(44,[2],[1.0])  |(27,[1],[1.0])        |(7,[1],[1.0])|(2,[1],[1.0])|(2,[1],[1.0])  |(1,[0],[1.0])|(1,[0],[1.0])   |(10,[1],[1.0])|(2,[],[])  |(109,[1,15,58,85,92,94,95,96,98],[1.0,1.0,1.0,1.0,1.0,1.0,1.0,1.0,1.0])|\n",
      "|74 |Abduction, Harassment and Other Related Offences Against a Person|Threatening Behaviour                  |Harassment and Threatening Behaviour|European      |5        |Non-Court Action|Auckland East Area   |Auckland City  |5 to 9               |Male|1/02/2020 |1                |1             |30       |30 - 34 years inclusive|Person             |Known To Victim|Known To Each Other|Non Family Member|1.0                  |2.0               |1.0                     |1.0            |1.0      |1.0              |0.0      |0.0               |1.0            |2.0          |(13,[1],[1.0])     |(44,[2],[1.0])  |(27,[1],[1.0])        |(7,[1],[1.0])|(2,[1],[1.0])|(2,[1],[1.0])  |(1,[0],[1.0])|(1,[0],[1.0])   |(10,[1],[1.0])|(2,[],[])  |(109,[1,15,58,85,92,94,95,96,98],[1.0,1.0,1.0,1.0,1.0,1.0,1.0,1.0,1.0])|\n",
      "|75 |Abduction, Harassment and Other Related Offences Against a Person|Threatening Behaviour                  |Harassment and Threatening Behaviour|European      |5        |Non-Court Action|Auckland East Area   |Auckland City  |5 to 9               |Male|1/02/2020 |1                |1             |40       |40 - 44 years inclusive|Person             |Known To Victim|Known To Each Other|Non Family Member|1.0                  |2.0               |1.0                     |1.0            |1.0      |1.0              |0.0      |0.0               |1.0            |2.0          |(13,[1],[1.0])     |(44,[2],[1.0])  |(27,[1],[1.0])        |(7,[1],[1.0])|(2,[1],[1.0])|(2,[1],[1.0])  |(1,[0],[1.0])|(1,[0],[1.0])   |(10,[1],[1.0])|(2,[],[])  |(109,[1,15,58,85,92,94,95,96,98],[1.0,1.0,1.0,1.0,1.0,1.0,1.0,1.0,1.0])|\n",
      "+---+-----------------------------------------------------------------+---------------------------------------+------------------------------------+--------------+---------+----------------+---------------------+---------------+---------------------+----+----------+-----------------+--------------+---------+-----------------------+-------------------+---------------+-------------------+-----------------+---------------------+------------------+------------------------+---------------+---------+-----------------+---------+------------------+---------------+-------------+-------------------+----------------+----------------------+-------------+-------------+---------------+-------------+----------------+--------------+-----------+-----------------------------------------------------------------------+\n",
      "only showing top 20 rows\n",
      "\n"
     ]
    },
    {
     "name": "stdout",
     "output_type": "stream",
     "text": [
      "+-----------------------------------------------------------------------+\n",
      "|features_VEC                                                           |\n",
      "+-----------------------------------------------------------------------+\n",
      "|(109,[0,13,57,84,92,94,95,96,98],[1.0,1.0,1.0,1.0,1.0,1.0,1.0,1.0,1.0])|\n",
      "|(109,[0,13,57,84,92,94,95,96,98],[1.0,1.0,1.0,1.0,1.0,1.0,1.0,1.0,1.0])|\n",
      "|(109,[0,13,57,84,92,94,95,96,98],[1.0,1.0,1.0,1.0,1.0,1.0,1.0,1.0,1.0])|\n",
      "|(109,[0,16,57,87,92,93,95,96,98],[1.0,1.0,1.0,1.0,1.0,1.0,1.0,1.0,1.0])|\n",
      "|(109,[0,16,57,87,92,93,95,96,98],[1.0,1.0,1.0,1.0,1.0,1.0,1.0,1.0,1.0])|\n",
      "|(109,[0,16,57,84,92,93,95,96,98],[1.0,1.0,1.0,1.0,1.0,1.0,1.0,1.0,1.0])|\n",
      "|(109,[0,13,57,84,92,93,95,96,98],[1.0,1.0,1.0,1.0,1.0,1.0,1.0,1.0,1.0])|\n",
      "|(109,[0,13,57,84,92,93,95,96,98],[1.0,1.0,1.0,1.0,1.0,1.0,1.0,1.0,1.0])|\n",
      "|(109,[0,13,57,84,92,93,95,96,98],[1.0,1.0,1.0,1.0,1.0,1.0,1.0,1.0,1.0])|\n",
      "|(109,[1,15,58,84,92,94,95,96,98],[1.0,1.0,1.0,1.0,1.0,1.0,1.0,1.0,1.0])|\n",
      "|(109,[0,16,57,86,92,95,96,98],[1.0,1.0,1.0,1.0,1.0,1.0,1.0,1.0])       |\n",
      "|(109,[0,16,57,86,92,95,96,98],[1.0,1.0,1.0,1.0,1.0,1.0,1.0,1.0])       |\n",
      "|(109,[0,16,57,86,92,95,96,98],[1.0,1.0,1.0,1.0,1.0,1.0,1.0,1.0])       |\n",
      "|(109,[0,16,57,85,92,94,95,96,98],[1.0,1.0,1.0,1.0,1.0,1.0,1.0,1.0,1.0])|\n",
      "|(109,[0,16,57,85,92,94,95,96,98],[1.0,1.0,1.0,1.0,1.0,1.0,1.0,1.0,1.0])|\n",
      "|(109,[0,16,57,85,92,94,95,96,98],[1.0,1.0,1.0,1.0,1.0,1.0,1.0,1.0,1.0])|\n",
      "|(109,[0,16,57,85,92,94,95,96,98],[1.0,1.0,1.0,1.0,1.0,1.0,1.0,1.0,1.0])|\n",
      "|(109,[1,15,58,85,92,94,95,96,98],[1.0,1.0,1.0,1.0,1.0,1.0,1.0,1.0,1.0])|\n",
      "|(109,[1,15,58,85,92,94,95,96,98],[1.0,1.0,1.0,1.0,1.0,1.0,1.0,1.0,1.0])|\n",
      "|(109,[1,15,58,85,92,94,95,96,98],[1.0,1.0,1.0,1.0,1.0,1.0,1.0,1.0,1.0])|\n",
      "+-----------------------------------------------------------------------+\n",
      "only showing top 20 rows\n",
      "\n"
     ]
    },
    {
     "data": {
      "text/plain": [
       "['ID',\n",
       " 'ANZSOC Division',\n",
       " 'ANZSOC Group',\n",
       " 'ANZSOC Subdivision',\n",
       " 'Ethnicity',\n",
       " 'Frequency',\n",
       " 'Mop Division',\n",
       " 'Police Area',\n",
       " 'Police District',\n",
       " 'Proceedings Frequency',\n",
       " 'SEX',\n",
       " 'Year Month',\n",
       " 'Number of Records',\n",
       " 'Offender Count',\n",
       " 'Age Group',\n",
       " 'Age Group 5Yr Band',\n",
       " 'Person/Organisation',\n",
       " 'ROV Division',\n",
       " 'ROV Group',\n",
       " 'ROVSubdivision',\n",
       " 'ANZSOC_Division_Index',\n",
       " 'ANZSOC_Group_Index',\n",
       " 'ANZSOC_Subdivision_Index',\n",
       " 'Ethnicity_Index',\n",
       " 'Mop_Index',\n",
       " 'Police_area_index',\n",
       " 'SEX_index',\n",
       " 'ROV_Division_Index',\n",
       " 'ROV_Group_Index',\n",
       " 'ROV_Sub_index',\n",
       " 'ANZSOC_Division_vec',\n",
       " 'ANZSOC_Group_vec',\n",
       " 'ANZSOC_Subdivision_vec',\n",
       " 'Ethnicity_vec',\n",
       " 'Mop_vec',\n",
       " 'Police_Area_vec',\n",
       " 'SEX_vec',\n",
       " 'ROV_Division_vec',\n",
       " 'ROV_Group_vec',\n",
       " 'ROV_Sub_vec',\n",
       " 'features_VEC']"
      ]
     },
     "execution_count": 52,
     "metadata": {},
     "output_type": "execute_result"
    }
   ],
   "source": [
    "assembler = VectorAssembler(inputCols = [\"ANZSOC_Division_vec\", \"ANZSOC_Group_vec\", \"ANZSOC_Subdivision_vec\", \"Ethnicity_vec\", \"Mop_vec\", \"Police_Area_vec\", \"SEX_vec\", \"ROV_Division_vec\",  \"ROV_Group_vec\", \"ROV_Sub_vec\"], outputCol = \"features_VEC\")\n",
    "\n",
    "output = assembler.transform(master)\n",
    "output.show(truncate = False)\n",
    "output.select(\"features_VEC\").show(truncate = False)\n",
    "output.columns\n"
   ]
  },
  {
   "cell_type": "code",
   "execution_count": 75,
   "metadata": {},
   "outputs": [
    {
     "name": "stderr",
     "output_type": "stream",
     "text": [
      "ERROR:root:Exception while sending command.\n",
      "Traceback (most recent call last):\n",
      "  File \"/home/ubuntu/spark-2.1.1-bin-hadoop2.7/python/lib/py4j-0.10.4-src.zip/py4j/java_gateway.py\", line 1035, in send_command\n",
      "    raise Py4JNetworkError(\"Answer from Java side is empty\")\n",
      "py4j.protocol.Py4JNetworkError: Answer from Java side is empty\n",
      "\n",
      "During handling of the above exception, another exception occurred:\n",
      "\n",
      "Traceback (most recent call last):\n",
      "  File \"/home/ubuntu/spark-2.1.1-bin-hadoop2.7/python/lib/py4j-0.10.4-src.zip/py4j/java_gateway.py\", line 883, in send_command\n",
      "    response = connection.send_command(command)\n",
      "  File \"/home/ubuntu/spark-2.1.1-bin-hadoop2.7/python/lib/py4j-0.10.4-src.zip/py4j/java_gateway.py\", line 1040, in send_command\n",
      "    \"Error while receiving\", e, proto.ERROR_ON_RECEIVE)\n",
      "py4j.protocol.Py4JNetworkError: Error while receiving\n",
      "ERROR:root:Exception while sending command.\n",
      "Traceback (most recent call last):\n",
      "  File \"/home/ubuntu/.local/lib/python3.5/site-packages/IPython/core/interactiveshell.py\", line 2963, in run_code\n",
      "    exec(code_obj, self.user_global_ns, self.user_ns)\n",
      "  File \"<ipython-input-75-2d824722bc64>\", line 5, in <module>\n",
      "    result.select(\"selectedFeatures\").show(truncate = False)\n",
      "  File \"/home/ubuntu/spark-2.1.1-bin-hadoop2.7/python/pyspark/sql/dataframe.py\", line 320, in show\n",
      "    print(self._jdf.showString(n, int(truncate)))\n",
      "  File \"/home/ubuntu/spark-2.1.1-bin-hadoop2.7/python/lib/py4j-0.10.4-src.zip/py4j/java_gateway.py\", line 1133, in __call__\n",
      "    answer, self.gateway_client, self.target_id, self.name)\n",
      "  File \"/home/ubuntu/spark-2.1.1-bin-hadoop2.7/python/pyspark/sql/utils.py\", line 63, in deco\n",
      "    return f(*a, **kw)\n",
      "  File \"/home/ubuntu/spark-2.1.1-bin-hadoop2.7/python/lib/py4j-0.10.4-src.zip/py4j/protocol.py\", line 327, in get_return_value\n",
      "    format(target_id, \".\", name))\n",
      "py4j.protocol.Py4JError: An error occurred while calling o1125.showString\n",
      "\n",
      "During handling of the above exception, another exception occurred:\n",
      "\n",
      "Traceback (most recent call last):\n",
      "  File \"/home/ubuntu/.local/lib/python3.5/site-packages/IPython/core/interactiveshell.py\", line 1863, in showtraceback\n",
      "    stb = value._render_traceback_()\n",
      "AttributeError: 'Py4JError' object has no attribute '_render_traceback_'\n",
      "\n",
      "During handling of the above exception, another exception occurred:\n",
      "\n",
      "Traceback (most recent call last):\n",
      "  File \"/home/ubuntu/spark-2.1.1-bin-hadoop2.7/python/lib/py4j-0.10.4-src.zip/py4j/java_gateway.py\", line 1035, in send_command\n",
      "    raise Py4JNetworkError(\"Answer from Java side is empty\")\n",
      "py4j.protocol.Py4JNetworkError: Answer from Java side is empty\n",
      "\n",
      "During handling of the above exception, another exception occurred:\n",
      "\n",
      "Traceback (most recent call last):\n",
      "  File \"/home/ubuntu/spark-2.1.1-bin-hadoop2.7/python/lib/py4j-0.10.4-src.zip/py4j/java_gateway.py\", line 883, in send_command\n",
      "    response = connection.send_command(command)\n",
      "  File \"/home/ubuntu/spark-2.1.1-bin-hadoop2.7/python/lib/py4j-0.10.4-src.zip/py4j/java_gateway.py\", line 1040, in send_command\n",
      "    \"Error while receiving\", e, proto.ERROR_ON_RECEIVE)\n",
      "py4j.protocol.Py4JNetworkError: Error while receiving\n",
      "Traceback (most recent call last):\n",
      "  File \"/usr/lib/python3.5/socketserver.py\", line 313, in _handle_request_noblock\n",
      "    self.process_request(request, client_address)\n",
      "  File \"/usr/lib/python3.5/socketserver.py\", line 341, in process_request\n",
      "    self.finish_request(request, client_address)\n",
      "  File \"/usr/lib/python3.5/socketserver.py\", line 354, in finish_request\n",
      "    self.RequestHandlerClass(request, client_address, self)\n",
      "  File \"/usr/lib/python3.5/socketserver.py\", line 681, in __init__\n",
      "    self.handle()\n",
      "  File \"/home/ubuntu/spark-2.1.1-bin-hadoop2.7/python/pyspark/accumulators.py\", line 235, in handle\n",
      "    num_updates = read_int(self.rfile)\n",
      "  File \"/home/ubuntu/spark-2.1.1-bin-hadoop2.7/python/pyspark/serializers.py\", line 577, in read_int\n",
      "    raise EOFError\n",
      "EOFError\n",
      "ERROR:py4j.java_gateway:An error occurred while trying to connect to the Java server (127.0.0.1:40412)\n",
      "Traceback (most recent call last):\n",
      "  File \"/home/ubuntu/.local/lib/python3.5/site-packages/IPython/core/interactiveshell.py\", line 2963, in run_code\n",
      "    exec(code_obj, self.user_global_ns, self.user_ns)\n",
      "  File \"<ipython-input-75-2d824722bc64>\", line 5, in <module>\n",
      "    result.select(\"selectedFeatures\").show(truncate = False)\n",
      "  File \"/home/ubuntu/spark-2.1.1-bin-hadoop2.7/python/pyspark/sql/dataframe.py\", line 320, in show\n",
      "    print(self._jdf.showString(n, int(truncate)))\n",
      "  File \"/home/ubuntu/spark-2.1.1-bin-hadoop2.7/python/lib/py4j-0.10.4-src.zip/py4j/java_gateway.py\", line 1133, in __call__\n",
      "    answer, self.gateway_client, self.target_id, self.name)\n",
      "  File \"/home/ubuntu/spark-2.1.1-bin-hadoop2.7/python/pyspark/sql/utils.py\", line 63, in deco\n",
      "    return f(*a, **kw)\n",
      "  File \"/home/ubuntu/spark-2.1.1-bin-hadoop2.7/python/lib/py4j-0.10.4-src.zip/py4j/protocol.py\", line 327, in get_return_value\n",
      "    format(target_id, \".\", name))\n",
      "py4j.protocol.Py4JError: An error occurred while calling o1125.showString\n",
      "\n",
      "During handling of the above exception, another exception occurred:\n",
      "\n",
      "Traceback (most recent call last):\n",
      "  File \"/home/ubuntu/.local/lib/python3.5/site-packages/IPython/core/interactiveshell.py\", line 1863, in showtraceback\n",
      "    stb = value._render_traceback_()\n",
      "AttributeError: 'Py4JError' object has no attribute '_render_traceback_'\n",
      "\n",
      "During handling of the above exception, another exception occurred:\n",
      "\n",
      "Traceback (most recent call last):\n",
      "  File \"/home/ubuntu/spark-2.1.1-bin-hadoop2.7/python/lib/py4j-0.10.4-src.zip/py4j/java_gateway.py\", line 827, in _get_connection\n",
      "    connection = self.deque.pop()\n",
      "IndexError: pop from an empty deque\n",
      "\n",
      "During handling of the above exception, another exception occurred:\n",
      "\n",
      "Traceback (most recent call last):\n",
      "  File \"/home/ubuntu/spark-2.1.1-bin-hadoop2.7/python/lib/py4j-0.10.4-src.zip/py4j/java_gateway.py\", line 963, in start\n",
      "    self.socket.connect((self.address, self.port))\n",
      "ConnectionRefusedError: [Errno 111] Connection refused\n",
      "ERROR:py4j.java_gateway:An error occurred while trying to connect to the Java server (127.0.0.1:40412)\n",
      "Traceback (most recent call last):\n",
      "  File \"/home/ubuntu/.local/lib/python3.5/site-packages/IPython/core/interactiveshell.py\", line 2963, in run_code\n",
      "    exec(code_obj, self.user_global_ns, self.user_ns)\n",
      "  File \"<ipython-input-75-2d824722bc64>\", line 5, in <module>\n",
      "    result.select(\"selectedFeatures\").show(truncate = False)\n",
      "  File \"/home/ubuntu/spark-2.1.1-bin-hadoop2.7/python/pyspark/sql/dataframe.py\", line 320, in show\n",
      "    print(self._jdf.showString(n, int(truncate)))\n",
      "  File \"/home/ubuntu/spark-2.1.1-bin-hadoop2.7/python/lib/py4j-0.10.4-src.zip/py4j/java_gateway.py\", line 1133, in __call__\n",
      "    answer, self.gateway_client, self.target_id, self.name)\n",
      "  File \"/home/ubuntu/spark-2.1.1-bin-hadoop2.7/python/pyspark/sql/utils.py\", line 63, in deco\n",
      "    return f(*a, **kw)\n",
      "  File \"/home/ubuntu/spark-2.1.1-bin-hadoop2.7/python/lib/py4j-0.10.4-src.zip/py4j/protocol.py\", line 327, in get_return_value\n",
      "    format(target_id, \".\", name))\n",
      "py4j.protocol.Py4JError: An error occurred while calling o1125.showString\n",
      "\n",
      "During handling of the above exception, another exception occurred:\n",
      "\n",
      "Traceback (most recent call last):\n",
      "  File \"/home/ubuntu/.local/lib/python3.5/site-packages/IPython/core/interactiveshell.py\", line 1863, in showtraceback\n",
      "    stb = value._render_traceback_()\n",
      "AttributeError: 'Py4JError' object has no attribute '_render_traceback_'\n",
      "\n",
      "During handling of the above exception, another exception occurred:\n",
      "\n",
      "Traceback (most recent call last):\n",
      "  File \"/home/ubuntu/spark-2.1.1-bin-hadoop2.7/python/lib/py4j-0.10.4-src.zip/py4j/java_gateway.py\", line 827, in _get_connection\n",
      "    connection = self.deque.pop()\n",
      "IndexError: pop from an empty deque\n",
      "\n",
      "During handling of the above exception, another exception occurred:\n",
      "\n",
      "Traceback (most recent call last):\n",
      "  File \"/home/ubuntu/spark-2.1.1-bin-hadoop2.7/python/lib/py4j-0.10.4-src.zip/py4j/java_gateway.py\", line 963, in start\n",
      "    self.socket.connect((self.address, self.port))\n",
      "ConnectionRefusedError: [Errno 111] Connection refused\n",
      "ERROR:py4j.java_gateway:An error occurred while trying to connect to the Java server (127.0.0.1:40412)\n",
      "Traceback (most recent call last):\n",
      "  File \"/home/ubuntu/.local/lib/python3.5/site-packages/IPython/core/interactiveshell.py\", line 2963, in run_code\n",
      "    exec(code_obj, self.user_global_ns, self.user_ns)\n",
      "  File \"<ipython-input-75-2d824722bc64>\", line 5, in <module>\n",
      "    result.select(\"selectedFeatures\").show(truncate = False)\n",
      "  File \"/home/ubuntu/spark-2.1.1-bin-hadoop2.7/python/pyspark/sql/dataframe.py\", line 320, in show\n",
      "    print(self._jdf.showString(n, int(truncate)))\n",
      "  File \"/home/ubuntu/spark-2.1.1-bin-hadoop2.7/python/lib/py4j-0.10.4-src.zip/py4j/java_gateway.py\", line 1133, in __call__\n",
      "    answer, self.gateway_client, self.target_id, self.name)\n",
      "  File \"/home/ubuntu/spark-2.1.1-bin-hadoop2.7/python/pyspark/sql/utils.py\", line 63, in deco\n",
      "    return f(*a, **kw)\n",
      "  File \"/home/ubuntu/spark-2.1.1-bin-hadoop2.7/python/lib/py4j-0.10.4-src.zip/py4j/protocol.py\", line 327, in get_return_value\n",
      "    format(target_id, \".\", name))\n",
      "py4j.protocol.Py4JError: An error occurred while calling o1125.showString\n",
      "\n",
      "During handling of the above exception, another exception occurred:\n",
      "\n",
      "Traceback (most recent call last):\n",
      "  File \"/home/ubuntu/.local/lib/python3.5/site-packages/IPython/core/interactiveshell.py\", line 1863, in showtraceback\n",
      "    stb = value._render_traceback_()\n",
      "AttributeError: 'Py4JError' object has no attribute '_render_traceback_'\n",
      "\n",
      "During handling of the above exception, another exception occurred:\n",
      "\n",
      "Traceback (most recent call last):\n",
      "  File \"/home/ubuntu/spark-2.1.1-bin-hadoop2.7/python/lib/py4j-0.10.4-src.zip/py4j/java_gateway.py\", line 827, in _get_connection\n",
      "    connection = self.deque.pop()\n",
      "IndexError: pop from an empty deque\n",
      "\n",
      "During handling of the above exception, another exception occurred:\n",
      "\n",
      "Traceback (most recent call last):\n",
      "  File \"/home/ubuntu/spark-2.1.1-bin-hadoop2.7/python/lib/py4j-0.10.4-src.zip/py4j/java_gateway.py\", line 963, in start\n",
      "    self.socket.connect((self.address, self.port))\n",
      "ConnectionRefusedError: [Errno 111] Connection refused\n"
     ]
    },
    {
     "name": "stderr",
     "output_type": "stream",
     "text": [
      "ERROR:py4j.java_gateway:An error occurred while trying to connect to the Java server (127.0.0.1:40412)\n",
      "Traceback (most recent call last):\n",
      "  File \"/home/ubuntu/.local/lib/python3.5/site-packages/IPython/core/interactiveshell.py\", line 2963, in run_code\n",
      "    exec(code_obj, self.user_global_ns, self.user_ns)\n",
      "  File \"<ipython-input-75-2d824722bc64>\", line 5, in <module>\n",
      "    result.select(\"selectedFeatures\").show(truncate = False)\n",
      "  File \"/home/ubuntu/spark-2.1.1-bin-hadoop2.7/python/pyspark/sql/dataframe.py\", line 320, in show\n",
      "    print(self._jdf.showString(n, int(truncate)))\n",
      "  File \"/home/ubuntu/spark-2.1.1-bin-hadoop2.7/python/lib/py4j-0.10.4-src.zip/py4j/java_gateway.py\", line 1133, in __call__\n",
      "    answer, self.gateway_client, self.target_id, self.name)\n",
      "  File \"/home/ubuntu/spark-2.1.1-bin-hadoop2.7/python/pyspark/sql/utils.py\", line 63, in deco\n",
      "    return f(*a, **kw)\n",
      "  File \"/home/ubuntu/spark-2.1.1-bin-hadoop2.7/python/lib/py4j-0.10.4-src.zip/py4j/protocol.py\", line 327, in get_return_value\n",
      "    format(target_id, \".\", name))\n",
      "py4j.protocol.Py4JError: An error occurred while calling o1125.showString\n",
      "\n",
      "During handling of the above exception, another exception occurred:\n",
      "\n",
      "Traceback (most recent call last):\n",
      "  File \"/home/ubuntu/.local/lib/python3.5/site-packages/IPython/core/interactiveshell.py\", line 1863, in showtraceback\n",
      "    stb = value._render_traceback_()\n",
      "AttributeError: 'Py4JError' object has no attribute '_render_traceback_'\n",
      "\n",
      "During handling of the above exception, another exception occurred:\n",
      "\n",
      "Traceback (most recent call last):\n",
      "  File \"/home/ubuntu/spark-2.1.1-bin-hadoop2.7/python/lib/py4j-0.10.4-src.zip/py4j/java_gateway.py\", line 827, in _get_connection\n",
      "    connection = self.deque.pop()\n",
      "IndexError: pop from an empty deque\n",
      "\n",
      "During handling of the above exception, another exception occurred:\n",
      "\n",
      "Traceback (most recent call last):\n",
      "  File \"/home/ubuntu/spark-2.1.1-bin-hadoop2.7/python/lib/py4j-0.10.4-src.zip/py4j/java_gateway.py\", line 963, in start\n",
      "    self.socket.connect((self.address, self.port))\n",
      "ConnectionRefusedError: [Errno 111] Connection refused\n",
      "ERROR:py4j.java_gateway:An error occurred while trying to connect to the Java server (127.0.0.1:40412)\n",
      "Traceback (most recent call last):\n",
      "  File \"/home/ubuntu/.local/lib/python3.5/site-packages/IPython/core/interactiveshell.py\", line 2963, in run_code\n",
      "    exec(code_obj, self.user_global_ns, self.user_ns)\n",
      "  File \"<ipython-input-75-2d824722bc64>\", line 5, in <module>\n",
      "    result.select(\"selectedFeatures\").show(truncate = False)\n",
      "  File \"/home/ubuntu/spark-2.1.1-bin-hadoop2.7/python/pyspark/sql/dataframe.py\", line 320, in show\n",
      "    print(self._jdf.showString(n, int(truncate)))\n",
      "  File \"/home/ubuntu/spark-2.1.1-bin-hadoop2.7/python/lib/py4j-0.10.4-src.zip/py4j/java_gateway.py\", line 1133, in __call__\n",
      "    answer, self.gateway_client, self.target_id, self.name)\n",
      "  File \"/home/ubuntu/spark-2.1.1-bin-hadoop2.7/python/pyspark/sql/utils.py\", line 63, in deco\n",
      "    return f(*a, **kw)\n",
      "  File \"/home/ubuntu/spark-2.1.1-bin-hadoop2.7/python/lib/py4j-0.10.4-src.zip/py4j/protocol.py\", line 327, in get_return_value\n",
      "    format(target_id, \".\", name))\n",
      "py4j.protocol.Py4JError: An error occurred while calling o1125.showString\n",
      "\n",
      "During handling of the above exception, another exception occurred:\n",
      "\n",
      "Traceback (most recent call last):\n",
      "  File \"/home/ubuntu/.local/lib/python3.5/site-packages/IPython/core/interactiveshell.py\", line 1863, in showtraceback\n",
      "    stb = value._render_traceback_()\n",
      "AttributeError: 'Py4JError' object has no attribute '_render_traceback_'\n",
      "\n",
      "During handling of the above exception, another exception occurred:\n",
      "\n",
      "Traceback (most recent call last):\n",
      "  File \"/home/ubuntu/spark-2.1.1-bin-hadoop2.7/python/lib/py4j-0.10.4-src.zip/py4j/java_gateway.py\", line 827, in _get_connection\n",
      "    connection = self.deque.pop()\n",
      "IndexError: pop from an empty deque\n",
      "\n",
      "During handling of the above exception, another exception occurred:\n",
      "\n",
      "Traceback (most recent call last):\n",
      "  File \"/home/ubuntu/spark-2.1.1-bin-hadoop2.7/python/lib/py4j-0.10.4-src.zip/py4j/java_gateway.py\", line 963, in start\n",
      "    self.socket.connect((self.address, self.port))\n",
      "ConnectionRefusedError: [Errno 111] Connection refused\n",
      "ERROR:py4j.java_gateway:An error occurred while trying to connect to the Java server (127.0.0.1:40412)\n",
      "Traceback (most recent call last):\n",
      "  File \"/home/ubuntu/.local/lib/python3.5/site-packages/IPython/core/interactiveshell.py\", line 2963, in run_code\n",
      "    exec(code_obj, self.user_global_ns, self.user_ns)\n",
      "  File \"<ipython-input-75-2d824722bc64>\", line 5, in <module>\n",
      "    result.select(\"selectedFeatures\").show(truncate = False)\n",
      "  File \"/home/ubuntu/spark-2.1.1-bin-hadoop2.7/python/pyspark/sql/dataframe.py\", line 320, in show\n",
      "    print(self._jdf.showString(n, int(truncate)))\n",
      "  File \"/home/ubuntu/spark-2.1.1-bin-hadoop2.7/python/lib/py4j-0.10.4-src.zip/py4j/java_gateway.py\", line 1133, in __call__\n",
      "    answer, self.gateway_client, self.target_id, self.name)\n",
      "  File \"/home/ubuntu/spark-2.1.1-bin-hadoop2.7/python/pyspark/sql/utils.py\", line 63, in deco\n",
      "    return f(*a, **kw)\n",
      "  File \"/home/ubuntu/spark-2.1.1-bin-hadoop2.7/python/lib/py4j-0.10.4-src.zip/py4j/protocol.py\", line 327, in get_return_value\n",
      "    format(target_id, \".\", name))\n",
      "py4j.protocol.Py4JError: An error occurred while calling o1125.showString\n",
      "\n",
      "During handling of the above exception, another exception occurred:\n",
      "\n",
      "Traceback (most recent call last):\n",
      "  File \"/home/ubuntu/.local/lib/python3.5/site-packages/IPython/core/interactiveshell.py\", line 1863, in showtraceback\n",
      "    stb = value._render_traceback_()\n",
      "AttributeError: 'Py4JError' object has no attribute '_render_traceback_'\n",
      "\n",
      "During handling of the above exception, another exception occurred:\n",
      "\n",
      "Traceback (most recent call last):\n",
      "  File \"/home/ubuntu/spark-2.1.1-bin-hadoop2.7/python/lib/py4j-0.10.4-src.zip/py4j/java_gateway.py\", line 827, in _get_connection\n",
      "    connection = self.deque.pop()\n",
      "IndexError: pop from an empty deque\n",
      "\n",
      "During handling of the above exception, another exception occurred:\n",
      "\n",
      "Traceback (most recent call last):\n",
      "  File \"/home/ubuntu/spark-2.1.1-bin-hadoop2.7/python/lib/py4j-0.10.4-src.zip/py4j/java_gateway.py\", line 963, in start\n",
      "    self.socket.connect((self.address, self.port))\n",
      "ConnectionRefusedError: [Errno 111] Connection refused\n",
      "ERROR:py4j.java_gateway:An error occurred while trying to connect to the Java server (127.0.0.1:40412)\n",
      "Traceback (most recent call last):\n",
      "  File \"/home/ubuntu/.local/lib/python3.5/site-packages/IPython/core/interactiveshell.py\", line 2963, in run_code\n",
      "    exec(code_obj, self.user_global_ns, self.user_ns)\n",
      "  File \"<ipython-input-75-2d824722bc64>\", line 5, in <module>\n",
      "    result.select(\"selectedFeatures\").show(truncate = False)\n",
      "  File \"/home/ubuntu/spark-2.1.1-bin-hadoop2.7/python/pyspark/sql/dataframe.py\", line 320, in show\n",
      "    print(self._jdf.showString(n, int(truncate)))\n",
      "  File \"/home/ubuntu/spark-2.1.1-bin-hadoop2.7/python/lib/py4j-0.10.4-src.zip/py4j/java_gateway.py\", line 1133, in __call__\n",
      "    answer, self.gateway_client, self.target_id, self.name)\n",
      "  File \"/home/ubuntu/spark-2.1.1-bin-hadoop2.7/python/pyspark/sql/utils.py\", line 63, in deco\n",
      "    return f(*a, **kw)\n",
      "  File \"/home/ubuntu/spark-2.1.1-bin-hadoop2.7/python/lib/py4j-0.10.4-src.zip/py4j/protocol.py\", line 327, in get_return_value\n",
      "    format(target_id, \".\", name))\n",
      "py4j.protocol.Py4JError: An error occurred while calling o1125.showString\n",
      "\n",
      "During handling of the above exception, another exception occurred:\n",
      "\n",
      "Traceback (most recent call last):\n",
      "  File \"/home/ubuntu/.local/lib/python3.5/site-packages/IPython/core/interactiveshell.py\", line 1863, in showtraceback\n",
      "    stb = value._render_traceback_()\n",
      "AttributeError: 'Py4JError' object has no attribute '_render_traceback_'\n",
      "\n",
      "During handling of the above exception, another exception occurred:\n",
      "\n",
      "Traceback (most recent call last):\n",
      "  File \"/home/ubuntu/spark-2.1.1-bin-hadoop2.7/python/lib/py4j-0.10.4-src.zip/py4j/java_gateway.py\", line 827, in _get_connection\n",
      "    connection = self.deque.pop()\n",
      "IndexError: pop from an empty deque\n",
      "\n",
      "During handling of the above exception, another exception occurred:\n",
      "\n",
      "Traceback (most recent call last):\n",
      "  File \"/home/ubuntu/spark-2.1.1-bin-hadoop2.7/python/lib/py4j-0.10.4-src.zip/py4j/java_gateway.py\", line 963, in start\n",
      "    self.socket.connect((self.address, self.port))\n",
      "ConnectionRefusedError: [Errno 111] Connection refused\n"
     ]
    },
    {
     "name": "stderr",
     "output_type": "stream",
     "text": [
      "ERROR:py4j.java_gateway:An error occurred while trying to connect to the Java server (127.0.0.1:40412)\n",
      "Traceback (most recent call last):\n",
      "  File \"/home/ubuntu/.local/lib/python3.5/site-packages/IPython/core/interactiveshell.py\", line 2963, in run_code\n",
      "    exec(code_obj, self.user_global_ns, self.user_ns)\n",
      "  File \"<ipython-input-75-2d824722bc64>\", line 5, in <module>\n",
      "    result.select(\"selectedFeatures\").show(truncate = False)\n",
      "  File \"/home/ubuntu/spark-2.1.1-bin-hadoop2.7/python/pyspark/sql/dataframe.py\", line 320, in show\n",
      "    print(self._jdf.showString(n, int(truncate)))\n",
      "  File \"/home/ubuntu/spark-2.1.1-bin-hadoop2.7/python/lib/py4j-0.10.4-src.zip/py4j/java_gateway.py\", line 1133, in __call__\n",
      "    answer, self.gateway_client, self.target_id, self.name)\n",
      "  File \"/home/ubuntu/spark-2.1.1-bin-hadoop2.7/python/pyspark/sql/utils.py\", line 63, in deco\n",
      "    return f(*a, **kw)\n",
      "  File \"/home/ubuntu/spark-2.1.1-bin-hadoop2.7/python/lib/py4j-0.10.4-src.zip/py4j/protocol.py\", line 327, in get_return_value\n",
      "    format(target_id, \".\", name))\n",
      "py4j.protocol.Py4JError: An error occurred while calling o1125.showString\n",
      "\n",
      "During handling of the above exception, another exception occurred:\n",
      "\n",
      "Traceback (most recent call last):\n",
      "  File \"/home/ubuntu/.local/lib/python3.5/site-packages/IPython/core/interactiveshell.py\", line 1863, in showtraceback\n",
      "    stb = value._render_traceback_()\n",
      "AttributeError: 'Py4JError' object has no attribute '_render_traceback_'\n",
      "\n",
      "During handling of the above exception, another exception occurred:\n",
      "\n",
      "Traceback (most recent call last):\n",
      "  File \"/home/ubuntu/spark-2.1.1-bin-hadoop2.7/python/lib/py4j-0.10.4-src.zip/py4j/java_gateway.py\", line 827, in _get_connection\n",
      "    connection = self.deque.pop()\n",
      "IndexError: pop from an empty deque\n",
      "\n",
      "During handling of the above exception, another exception occurred:\n",
      "\n",
      "Traceback (most recent call last):\n",
      "  File \"/home/ubuntu/spark-2.1.1-bin-hadoop2.7/python/lib/py4j-0.10.4-src.zip/py4j/java_gateway.py\", line 963, in start\n",
      "    self.socket.connect((self.address, self.port))\n",
      "ConnectionRefusedError: [Errno 111] Connection refused\n",
      "ERROR:py4j.java_gateway:An error occurred while trying to connect to the Java server (127.0.0.1:40412)\n",
      "Traceback (most recent call last):\n",
      "  File \"/home/ubuntu/.local/lib/python3.5/site-packages/IPython/core/interactiveshell.py\", line 2963, in run_code\n",
      "    exec(code_obj, self.user_global_ns, self.user_ns)\n",
      "  File \"<ipython-input-75-2d824722bc64>\", line 5, in <module>\n",
      "    result.select(\"selectedFeatures\").show(truncate = False)\n",
      "  File \"/home/ubuntu/spark-2.1.1-bin-hadoop2.7/python/pyspark/sql/dataframe.py\", line 320, in show\n",
      "    print(self._jdf.showString(n, int(truncate)))\n",
      "  File \"/home/ubuntu/spark-2.1.1-bin-hadoop2.7/python/lib/py4j-0.10.4-src.zip/py4j/java_gateway.py\", line 1133, in __call__\n",
      "    answer, self.gateway_client, self.target_id, self.name)\n",
      "  File \"/home/ubuntu/spark-2.1.1-bin-hadoop2.7/python/pyspark/sql/utils.py\", line 63, in deco\n",
      "    return f(*a, **kw)\n",
      "  File \"/home/ubuntu/spark-2.1.1-bin-hadoop2.7/python/lib/py4j-0.10.4-src.zip/py4j/protocol.py\", line 327, in get_return_value\n",
      "    format(target_id, \".\", name))\n",
      "py4j.protocol.Py4JError: An error occurred while calling o1125.showString\n",
      "\n",
      "During handling of the above exception, another exception occurred:\n",
      "\n",
      "Traceback (most recent call last):\n",
      "  File \"/home/ubuntu/.local/lib/python3.5/site-packages/IPython/core/interactiveshell.py\", line 1863, in showtraceback\n",
      "    stb = value._render_traceback_()\n",
      "AttributeError: 'Py4JError' object has no attribute '_render_traceback_'\n",
      "\n",
      "During handling of the above exception, another exception occurred:\n",
      "\n",
      "Traceback (most recent call last):\n",
      "  File \"/home/ubuntu/spark-2.1.1-bin-hadoop2.7/python/lib/py4j-0.10.4-src.zip/py4j/java_gateway.py\", line 827, in _get_connection\n",
      "    connection = self.deque.pop()\n",
      "IndexError: pop from an empty deque\n",
      "\n",
      "During handling of the above exception, another exception occurred:\n",
      "\n",
      "Traceback (most recent call last):\n",
      "  File \"/home/ubuntu/spark-2.1.1-bin-hadoop2.7/python/lib/py4j-0.10.4-src.zip/py4j/java_gateway.py\", line 963, in start\n",
      "    self.socket.connect((self.address, self.port))\n",
      "ConnectionRefusedError: [Errno 111] Connection refused\n",
      "ERROR:py4j.java_gateway:An error occurred while trying to connect to the Java server (127.0.0.1:40412)\n",
      "Traceback (most recent call last):\n",
      "  File \"/home/ubuntu/.local/lib/python3.5/site-packages/IPython/core/interactiveshell.py\", line 2963, in run_code\n",
      "    exec(code_obj, self.user_global_ns, self.user_ns)\n",
      "  File \"<ipython-input-75-2d824722bc64>\", line 5, in <module>\n",
      "    result.select(\"selectedFeatures\").show(truncate = False)\n",
      "  File \"/home/ubuntu/spark-2.1.1-bin-hadoop2.7/python/pyspark/sql/dataframe.py\", line 320, in show\n",
      "    print(self._jdf.showString(n, int(truncate)))\n",
      "  File \"/home/ubuntu/spark-2.1.1-bin-hadoop2.7/python/lib/py4j-0.10.4-src.zip/py4j/java_gateway.py\", line 1133, in __call__\n",
      "    answer, self.gateway_client, self.target_id, self.name)\n",
      "  File \"/home/ubuntu/spark-2.1.1-bin-hadoop2.7/python/pyspark/sql/utils.py\", line 63, in deco\n",
      "    return f(*a, **kw)\n",
      "  File \"/home/ubuntu/spark-2.1.1-bin-hadoop2.7/python/lib/py4j-0.10.4-src.zip/py4j/protocol.py\", line 327, in get_return_value\n",
      "    format(target_id, \".\", name))\n",
      "py4j.protocol.Py4JError: An error occurred while calling o1125.showString\n",
      "\n",
      "During handling of the above exception, another exception occurred:\n",
      "\n",
      "Traceback (most recent call last):\n",
      "  File \"/home/ubuntu/.local/lib/python3.5/site-packages/IPython/core/interactiveshell.py\", line 1863, in showtraceback\n",
      "    stb = value._render_traceback_()\n",
      "AttributeError: 'Py4JError' object has no attribute '_render_traceback_'\n",
      "\n",
      "During handling of the above exception, another exception occurred:\n",
      "\n",
      "Traceback (most recent call last):\n",
      "  File \"/home/ubuntu/spark-2.1.1-bin-hadoop2.7/python/lib/py4j-0.10.4-src.zip/py4j/java_gateway.py\", line 827, in _get_connection\n",
      "    connection = self.deque.pop()\n",
      "IndexError: pop from an empty deque\n",
      "\n",
      "During handling of the above exception, another exception occurred:\n",
      "\n",
      "Traceback (most recent call last):\n",
      "  File \"/home/ubuntu/spark-2.1.1-bin-hadoop2.7/python/lib/py4j-0.10.4-src.zip/py4j/java_gateway.py\", line 963, in start\n",
      "    self.socket.connect((self.address, self.port))\n",
      "ConnectionRefusedError: [Errno 111] Connection refused\n",
      "ERROR:py4j.java_gateway:An error occurred while trying to connect to the Java server (127.0.0.1:40412)\n",
      "Traceback (most recent call last):\n",
      "  File \"/home/ubuntu/.local/lib/python3.5/site-packages/IPython/core/interactiveshell.py\", line 2963, in run_code\n",
      "    exec(code_obj, self.user_global_ns, self.user_ns)\n",
      "  File \"<ipython-input-75-2d824722bc64>\", line 5, in <module>\n",
      "    result.select(\"selectedFeatures\").show(truncate = False)\n",
      "  File \"/home/ubuntu/spark-2.1.1-bin-hadoop2.7/python/pyspark/sql/dataframe.py\", line 320, in show\n",
      "    print(self._jdf.showString(n, int(truncate)))\n",
      "  File \"/home/ubuntu/spark-2.1.1-bin-hadoop2.7/python/lib/py4j-0.10.4-src.zip/py4j/java_gateway.py\", line 1133, in __call__\n",
      "    answer, self.gateway_client, self.target_id, self.name)\n",
      "  File \"/home/ubuntu/spark-2.1.1-bin-hadoop2.7/python/pyspark/sql/utils.py\", line 63, in deco\n",
      "    return f(*a, **kw)\n",
      "  File \"/home/ubuntu/spark-2.1.1-bin-hadoop2.7/python/lib/py4j-0.10.4-src.zip/py4j/protocol.py\", line 327, in get_return_value\n",
      "    format(target_id, \".\", name))\n",
      "py4j.protocol.Py4JError: An error occurred while calling o1125.showString\n",
      "\n",
      "During handling of the above exception, another exception occurred:\n",
      "\n",
      "Traceback (most recent call last):\n",
      "  File \"/home/ubuntu/.local/lib/python3.5/site-packages/IPython/core/interactiveshell.py\", line 1863, in showtraceback\n",
      "    stb = value._render_traceback_()\n",
      "AttributeError: 'Py4JError' object has no attribute '_render_traceback_'\n",
      "\n",
      "During handling of the above exception, another exception occurred:\n",
      "\n",
      "Traceback (most recent call last):\n",
      "  File \"/home/ubuntu/spark-2.1.1-bin-hadoop2.7/python/lib/py4j-0.10.4-src.zip/py4j/java_gateway.py\", line 827, in _get_connection\n",
      "    connection = self.deque.pop()\n",
      "IndexError: pop from an empty deque\n",
      "\n",
      "During handling of the above exception, another exception occurred:\n",
      "\n",
      "Traceback (most recent call last):\n",
      "  File \"/home/ubuntu/spark-2.1.1-bin-hadoop2.7/python/lib/py4j-0.10.4-src.zip/py4j/java_gateway.py\", line 963, in start\n",
      "    self.socket.connect((self.address, self.port))\n",
      "ConnectionRefusedError: [Errno 111] Connection refused\n"
     ]
    },
    {
     "name": "stderr",
     "output_type": "stream",
     "text": [
      "ERROR:py4j.java_gateway:An error occurred while trying to connect to the Java server (127.0.0.1:40412)\n",
      "Traceback (most recent call last):\n",
      "  File \"/home/ubuntu/.local/lib/python3.5/site-packages/IPython/core/interactiveshell.py\", line 2963, in run_code\n",
      "    exec(code_obj, self.user_global_ns, self.user_ns)\n",
      "  File \"<ipython-input-75-2d824722bc64>\", line 5, in <module>\n",
      "    result.select(\"selectedFeatures\").show(truncate = False)\n",
      "  File \"/home/ubuntu/spark-2.1.1-bin-hadoop2.7/python/pyspark/sql/dataframe.py\", line 320, in show\n",
      "    print(self._jdf.showString(n, int(truncate)))\n",
      "  File \"/home/ubuntu/spark-2.1.1-bin-hadoop2.7/python/lib/py4j-0.10.4-src.zip/py4j/java_gateway.py\", line 1133, in __call__\n",
      "    answer, self.gateway_client, self.target_id, self.name)\n",
      "  File \"/home/ubuntu/spark-2.1.1-bin-hadoop2.7/python/pyspark/sql/utils.py\", line 63, in deco\n",
      "    return f(*a, **kw)\n",
      "  File \"/home/ubuntu/spark-2.1.1-bin-hadoop2.7/python/lib/py4j-0.10.4-src.zip/py4j/protocol.py\", line 327, in get_return_value\n",
      "    format(target_id, \".\", name))\n",
      "py4j.protocol.Py4JError: An error occurred while calling o1125.showString\n",
      "\n",
      "During handling of the above exception, another exception occurred:\n",
      "\n",
      "Traceback (most recent call last):\n",
      "  File \"/home/ubuntu/.local/lib/python3.5/site-packages/IPython/core/interactiveshell.py\", line 1863, in showtraceback\n",
      "    stb = value._render_traceback_()\n",
      "AttributeError: 'Py4JError' object has no attribute '_render_traceback_'\n",
      "\n",
      "During handling of the above exception, another exception occurred:\n",
      "\n",
      "Traceback (most recent call last):\n",
      "  File \"/home/ubuntu/spark-2.1.1-bin-hadoop2.7/python/lib/py4j-0.10.4-src.zip/py4j/java_gateway.py\", line 827, in _get_connection\n",
      "    connection = self.deque.pop()\n",
      "IndexError: pop from an empty deque\n",
      "\n",
      "During handling of the above exception, another exception occurred:\n",
      "\n",
      "Traceback (most recent call last):\n",
      "  File \"/home/ubuntu/spark-2.1.1-bin-hadoop2.7/python/lib/py4j-0.10.4-src.zip/py4j/java_gateway.py\", line 963, in start\n",
      "    self.socket.connect((self.address, self.port))\n",
      "ConnectionRefusedError: [Errno 111] Connection refused\n",
      "ERROR:py4j.java_gateway:An error occurred while trying to connect to the Java server (127.0.0.1:40412)\n",
      "Traceback (most recent call last):\n",
      "  File \"/home/ubuntu/.local/lib/python3.5/site-packages/IPython/core/interactiveshell.py\", line 2963, in run_code\n",
      "    exec(code_obj, self.user_global_ns, self.user_ns)\n",
      "  File \"<ipython-input-75-2d824722bc64>\", line 5, in <module>\n",
      "    result.select(\"selectedFeatures\").show(truncate = False)\n",
      "  File \"/home/ubuntu/spark-2.1.1-bin-hadoop2.7/python/pyspark/sql/dataframe.py\", line 320, in show\n",
      "    print(self._jdf.showString(n, int(truncate)))\n",
      "  File \"/home/ubuntu/spark-2.1.1-bin-hadoop2.7/python/lib/py4j-0.10.4-src.zip/py4j/java_gateway.py\", line 1133, in __call__\n",
      "    answer, self.gateway_client, self.target_id, self.name)\n",
      "  File \"/home/ubuntu/spark-2.1.1-bin-hadoop2.7/python/pyspark/sql/utils.py\", line 63, in deco\n",
      "    return f(*a, **kw)\n",
      "  File \"/home/ubuntu/spark-2.1.1-bin-hadoop2.7/python/lib/py4j-0.10.4-src.zip/py4j/protocol.py\", line 327, in get_return_value\n",
      "    format(target_id, \".\", name))\n",
      "py4j.protocol.Py4JError: An error occurred while calling o1125.showString\n",
      "\n",
      "During handling of the above exception, another exception occurred:\n",
      "\n",
      "Traceback (most recent call last):\n",
      "  File \"/home/ubuntu/.local/lib/python3.5/site-packages/IPython/core/interactiveshell.py\", line 1863, in showtraceback\n",
      "    stb = value._render_traceback_()\n",
      "AttributeError: 'Py4JError' object has no attribute '_render_traceback_'\n",
      "\n",
      "During handling of the above exception, another exception occurred:\n",
      "\n",
      "Traceback (most recent call last):\n",
      "  File \"/home/ubuntu/spark-2.1.1-bin-hadoop2.7/python/lib/py4j-0.10.4-src.zip/py4j/java_gateway.py\", line 827, in _get_connection\n",
      "    connection = self.deque.pop()\n",
      "IndexError: pop from an empty deque\n",
      "\n",
      "During handling of the above exception, another exception occurred:\n",
      "\n",
      "Traceback (most recent call last):\n",
      "  File \"/home/ubuntu/spark-2.1.1-bin-hadoop2.7/python/lib/py4j-0.10.4-src.zip/py4j/java_gateway.py\", line 963, in start\n",
      "    self.socket.connect((self.address, self.port))\n",
      "ConnectionRefusedError: [Errno 111] Connection refused\n",
      "ERROR:py4j.java_gateway:An error occurred while trying to connect to the Java server (127.0.0.1:40412)\n",
      "Traceback (most recent call last):\n",
      "  File \"/home/ubuntu/.local/lib/python3.5/site-packages/IPython/core/interactiveshell.py\", line 2963, in run_code\n",
      "    exec(code_obj, self.user_global_ns, self.user_ns)\n",
      "  File \"<ipython-input-75-2d824722bc64>\", line 5, in <module>\n",
      "    result.select(\"selectedFeatures\").show(truncate = False)\n",
      "  File \"/home/ubuntu/spark-2.1.1-bin-hadoop2.7/python/pyspark/sql/dataframe.py\", line 320, in show\n",
      "    print(self._jdf.showString(n, int(truncate)))\n",
      "  File \"/home/ubuntu/spark-2.1.1-bin-hadoop2.7/python/lib/py4j-0.10.4-src.zip/py4j/java_gateway.py\", line 1133, in __call__\n",
      "    answer, self.gateway_client, self.target_id, self.name)\n",
      "  File \"/home/ubuntu/spark-2.1.1-bin-hadoop2.7/python/pyspark/sql/utils.py\", line 63, in deco\n",
      "    return f(*a, **kw)\n",
      "  File \"/home/ubuntu/spark-2.1.1-bin-hadoop2.7/python/lib/py4j-0.10.4-src.zip/py4j/protocol.py\", line 327, in get_return_value\n",
      "    format(target_id, \".\", name))\n",
      "py4j.protocol.Py4JError: An error occurred while calling o1125.showString\n",
      "\n",
      "During handling of the above exception, another exception occurred:\n",
      "\n",
      "Traceback (most recent call last):\n",
      "  File \"/home/ubuntu/.local/lib/python3.5/site-packages/IPython/core/interactiveshell.py\", line 1863, in showtraceback\n",
      "    stb = value._render_traceback_()\n",
      "AttributeError: 'Py4JError' object has no attribute '_render_traceback_'\n",
      "\n",
      "During handling of the above exception, another exception occurred:\n",
      "\n",
      "Traceback (most recent call last):\n",
      "  File \"/home/ubuntu/spark-2.1.1-bin-hadoop2.7/python/lib/py4j-0.10.4-src.zip/py4j/java_gateway.py\", line 827, in _get_connection\n",
      "    connection = self.deque.pop()\n",
      "IndexError: pop from an empty deque\n",
      "\n",
      "During handling of the above exception, another exception occurred:\n",
      "\n",
      "Traceback (most recent call last):\n",
      "  File \"/home/ubuntu/spark-2.1.1-bin-hadoop2.7/python/lib/py4j-0.10.4-src.zip/py4j/java_gateway.py\", line 963, in start\n",
      "    self.socket.connect((self.address, self.port))\n",
      "ConnectionRefusedError: [Errno 111] Connection refused\n",
      "ERROR:py4j.java_gateway:An error occurred while trying to connect to the Java server (127.0.0.1:40412)\n",
      "Traceback (most recent call last):\n",
      "  File \"/home/ubuntu/.local/lib/python3.5/site-packages/IPython/core/interactiveshell.py\", line 2963, in run_code\n",
      "    exec(code_obj, self.user_global_ns, self.user_ns)\n",
      "  File \"<ipython-input-75-2d824722bc64>\", line 5, in <module>\n",
      "    result.select(\"selectedFeatures\").show(truncate = False)\n",
      "  File \"/home/ubuntu/spark-2.1.1-bin-hadoop2.7/python/pyspark/sql/dataframe.py\", line 320, in show\n",
      "    print(self._jdf.showString(n, int(truncate)))\n",
      "  File \"/home/ubuntu/spark-2.1.1-bin-hadoop2.7/python/lib/py4j-0.10.4-src.zip/py4j/java_gateway.py\", line 1133, in __call__\n",
      "    answer, self.gateway_client, self.target_id, self.name)\n",
      "  File \"/home/ubuntu/spark-2.1.1-bin-hadoop2.7/python/pyspark/sql/utils.py\", line 63, in deco\n",
      "    return f(*a, **kw)\n",
      "  File \"/home/ubuntu/spark-2.1.1-bin-hadoop2.7/python/lib/py4j-0.10.4-src.zip/py4j/protocol.py\", line 327, in get_return_value\n",
      "    format(target_id, \".\", name))\n",
      "py4j.protocol.Py4JError: An error occurred while calling o1125.showString\n",
      "\n",
      "During handling of the above exception, another exception occurred:\n",
      "\n",
      "Traceback (most recent call last):\n",
      "  File \"/home/ubuntu/.local/lib/python3.5/site-packages/IPython/core/interactiveshell.py\", line 1863, in showtraceback\n",
      "    stb = value._render_traceback_()\n",
      "AttributeError: 'Py4JError' object has no attribute '_render_traceback_'\n",
      "\n",
      "During handling of the above exception, another exception occurred:\n",
      "\n",
      "Traceback (most recent call last):\n",
      "  File \"/home/ubuntu/spark-2.1.1-bin-hadoop2.7/python/lib/py4j-0.10.4-src.zip/py4j/java_gateway.py\", line 827, in _get_connection\n",
      "    connection = self.deque.pop()\n",
      "IndexError: pop from an empty deque\n",
      "\n",
      "During handling of the above exception, another exception occurred:\n",
      "\n",
      "Traceback (most recent call last):\n",
      "  File \"/home/ubuntu/spark-2.1.1-bin-hadoop2.7/python/lib/py4j-0.10.4-src.zip/py4j/java_gateway.py\", line 963, in start\n",
      "    self.socket.connect((self.address, self.port))\n",
      "ConnectionRefusedError: [Errno 111] Connection refused\n"
     ]
    },
    {
     "name": "stderr",
     "output_type": "stream",
     "text": [
      "ERROR:py4j.java_gateway:An error occurred while trying to connect to the Java server (127.0.0.1:40412)\n",
      "Traceback (most recent call last):\n",
      "  File \"/home/ubuntu/.local/lib/python3.5/site-packages/IPython/core/interactiveshell.py\", line 2963, in run_code\n",
      "    exec(code_obj, self.user_global_ns, self.user_ns)\n",
      "  File \"<ipython-input-75-2d824722bc64>\", line 5, in <module>\n",
      "    result.select(\"selectedFeatures\").show(truncate = False)\n",
      "  File \"/home/ubuntu/spark-2.1.1-bin-hadoop2.7/python/pyspark/sql/dataframe.py\", line 320, in show\n",
      "    print(self._jdf.showString(n, int(truncate)))\n",
      "  File \"/home/ubuntu/spark-2.1.1-bin-hadoop2.7/python/lib/py4j-0.10.4-src.zip/py4j/java_gateway.py\", line 1133, in __call__\n",
      "    answer, self.gateway_client, self.target_id, self.name)\n",
      "  File \"/home/ubuntu/spark-2.1.1-bin-hadoop2.7/python/pyspark/sql/utils.py\", line 63, in deco\n",
      "    return f(*a, **kw)\n",
      "  File \"/home/ubuntu/spark-2.1.1-bin-hadoop2.7/python/lib/py4j-0.10.4-src.zip/py4j/protocol.py\", line 327, in get_return_value\n",
      "    format(target_id, \".\", name))\n",
      "py4j.protocol.Py4JError: An error occurred while calling o1125.showString\n",
      "\n",
      "During handling of the above exception, another exception occurred:\n",
      "\n",
      "Traceback (most recent call last):\n",
      "  File \"/home/ubuntu/.local/lib/python3.5/site-packages/IPython/core/interactiveshell.py\", line 1863, in showtraceback\n",
      "    stb = value._render_traceback_()\n",
      "AttributeError: 'Py4JError' object has no attribute '_render_traceback_'\n",
      "\n",
      "During handling of the above exception, another exception occurred:\n",
      "\n",
      "Traceback (most recent call last):\n",
      "  File \"/home/ubuntu/spark-2.1.1-bin-hadoop2.7/python/lib/py4j-0.10.4-src.zip/py4j/java_gateway.py\", line 827, in _get_connection\n",
      "    connection = self.deque.pop()\n",
      "IndexError: pop from an empty deque\n",
      "\n",
      "During handling of the above exception, another exception occurred:\n",
      "\n",
      "Traceback (most recent call last):\n",
      "  File \"/home/ubuntu/spark-2.1.1-bin-hadoop2.7/python/lib/py4j-0.10.4-src.zip/py4j/java_gateway.py\", line 963, in start\n",
      "    self.socket.connect((self.address, self.port))\n",
      "ConnectionRefusedError: [Errno 111] Connection refused\n",
      "ERROR:py4j.java_gateway:An error occurred while trying to connect to the Java server (127.0.0.1:40412)\n",
      "Traceback (most recent call last):\n",
      "  File \"/home/ubuntu/.local/lib/python3.5/site-packages/IPython/core/interactiveshell.py\", line 2963, in run_code\n",
      "    exec(code_obj, self.user_global_ns, self.user_ns)\n",
      "  File \"<ipython-input-75-2d824722bc64>\", line 5, in <module>\n",
      "    result.select(\"selectedFeatures\").show(truncate = False)\n",
      "  File \"/home/ubuntu/spark-2.1.1-bin-hadoop2.7/python/pyspark/sql/dataframe.py\", line 320, in show\n",
      "    print(self._jdf.showString(n, int(truncate)))\n",
      "  File \"/home/ubuntu/spark-2.1.1-bin-hadoop2.7/python/lib/py4j-0.10.4-src.zip/py4j/java_gateway.py\", line 1133, in __call__\n",
      "    answer, self.gateway_client, self.target_id, self.name)\n",
      "  File \"/home/ubuntu/spark-2.1.1-bin-hadoop2.7/python/pyspark/sql/utils.py\", line 63, in deco\n",
      "    return f(*a, **kw)\n",
      "  File \"/home/ubuntu/spark-2.1.1-bin-hadoop2.7/python/lib/py4j-0.10.4-src.zip/py4j/protocol.py\", line 327, in get_return_value\n",
      "    format(target_id, \".\", name))\n",
      "py4j.protocol.Py4JError: An error occurred while calling o1125.showString\n",
      "\n",
      "During handling of the above exception, another exception occurred:\n",
      "\n",
      "Traceback (most recent call last):\n",
      "  File \"/home/ubuntu/.local/lib/python3.5/site-packages/IPython/core/interactiveshell.py\", line 1863, in showtraceback\n",
      "    stb = value._render_traceback_()\n",
      "AttributeError: 'Py4JError' object has no attribute '_render_traceback_'\n",
      "\n",
      "During handling of the above exception, another exception occurred:\n",
      "\n",
      "Traceback (most recent call last):\n",
      "  File \"/home/ubuntu/spark-2.1.1-bin-hadoop2.7/python/lib/py4j-0.10.4-src.zip/py4j/java_gateway.py\", line 827, in _get_connection\n",
      "    connection = self.deque.pop()\n",
      "IndexError: pop from an empty deque\n",
      "\n",
      "During handling of the above exception, another exception occurred:\n",
      "\n",
      "Traceback (most recent call last):\n",
      "  File \"/home/ubuntu/spark-2.1.1-bin-hadoop2.7/python/lib/py4j-0.10.4-src.zip/py4j/java_gateway.py\", line 963, in start\n",
      "    self.socket.connect((self.address, self.port))\n",
      "ConnectionRefusedError: [Errno 111] Connection refused\n",
      "ERROR:py4j.java_gateway:An error occurred while trying to connect to the Java server (127.0.0.1:40412)\n",
      "Traceback (most recent call last):\n",
      "  File \"/home/ubuntu/.local/lib/python3.5/site-packages/IPython/core/interactiveshell.py\", line 2963, in run_code\n",
      "    exec(code_obj, self.user_global_ns, self.user_ns)\n",
      "  File \"<ipython-input-75-2d824722bc64>\", line 5, in <module>\n",
      "    result.select(\"selectedFeatures\").show(truncate = False)\n",
      "  File \"/home/ubuntu/spark-2.1.1-bin-hadoop2.7/python/pyspark/sql/dataframe.py\", line 320, in show\n",
      "    print(self._jdf.showString(n, int(truncate)))\n",
      "  File \"/home/ubuntu/spark-2.1.1-bin-hadoop2.7/python/lib/py4j-0.10.4-src.zip/py4j/java_gateway.py\", line 1133, in __call__\n",
      "    answer, self.gateway_client, self.target_id, self.name)\n",
      "  File \"/home/ubuntu/spark-2.1.1-bin-hadoop2.7/python/pyspark/sql/utils.py\", line 63, in deco\n",
      "    return f(*a, **kw)\n",
      "  File \"/home/ubuntu/spark-2.1.1-bin-hadoop2.7/python/lib/py4j-0.10.4-src.zip/py4j/protocol.py\", line 327, in get_return_value\n",
      "    format(target_id, \".\", name))\n",
      "py4j.protocol.Py4JError: An error occurred while calling o1125.showString\n",
      "\n",
      "During handling of the above exception, another exception occurred:\n",
      "\n",
      "Traceback (most recent call last):\n",
      "  File \"/home/ubuntu/.local/lib/python3.5/site-packages/IPython/core/interactiveshell.py\", line 1863, in showtraceback\n",
      "    stb = value._render_traceback_()\n",
      "AttributeError: 'Py4JError' object has no attribute '_render_traceback_'\n",
      "\n",
      "During handling of the above exception, another exception occurred:\n",
      "\n",
      "Traceback (most recent call last):\n",
      "  File \"/home/ubuntu/spark-2.1.1-bin-hadoop2.7/python/lib/py4j-0.10.4-src.zip/py4j/java_gateway.py\", line 827, in _get_connection\n",
      "    connection = self.deque.pop()\n",
      "IndexError: pop from an empty deque\n",
      "\n",
      "During handling of the above exception, another exception occurred:\n",
      "\n",
      "Traceback (most recent call last):\n",
      "  File \"/home/ubuntu/spark-2.1.1-bin-hadoop2.7/python/lib/py4j-0.10.4-src.zip/py4j/java_gateway.py\", line 963, in start\n",
      "    self.socket.connect((self.address, self.port))\n",
      "ConnectionRefusedError: [Errno 111] Connection refused\n",
      "ERROR:py4j.java_gateway:An error occurred while trying to connect to the Java server (127.0.0.1:40412)\n",
      "Traceback (most recent call last):\n",
      "  File \"/home/ubuntu/.local/lib/python3.5/site-packages/IPython/core/interactiveshell.py\", line 2963, in run_code\n",
      "    exec(code_obj, self.user_global_ns, self.user_ns)\n",
      "  File \"<ipython-input-75-2d824722bc64>\", line 5, in <module>\n",
      "    result.select(\"selectedFeatures\").show(truncate = False)\n",
      "  File \"/home/ubuntu/spark-2.1.1-bin-hadoop2.7/python/pyspark/sql/dataframe.py\", line 320, in show\n",
      "    print(self._jdf.showString(n, int(truncate)))\n",
      "  File \"/home/ubuntu/spark-2.1.1-bin-hadoop2.7/python/lib/py4j-0.10.4-src.zip/py4j/java_gateway.py\", line 1133, in __call__\n",
      "    answer, self.gateway_client, self.target_id, self.name)\n",
      "  File \"/home/ubuntu/spark-2.1.1-bin-hadoop2.7/python/pyspark/sql/utils.py\", line 63, in deco\n",
      "    return f(*a, **kw)\n",
      "  File \"/home/ubuntu/spark-2.1.1-bin-hadoop2.7/python/lib/py4j-0.10.4-src.zip/py4j/protocol.py\", line 327, in get_return_value\n",
      "    format(target_id, \".\", name))\n",
      "py4j.protocol.Py4JError: An error occurred while calling o1125.showString\n",
      "\n",
      "During handling of the above exception, another exception occurred:\n",
      "\n",
      "Traceback (most recent call last):\n",
      "  File \"/home/ubuntu/.local/lib/python3.5/site-packages/IPython/core/interactiveshell.py\", line 1863, in showtraceback\n",
      "    stb = value._render_traceback_()\n",
      "AttributeError: 'Py4JError' object has no attribute '_render_traceback_'\n",
      "\n",
      "During handling of the above exception, another exception occurred:\n",
      "\n",
      "Traceback (most recent call last):\n",
      "  File \"/home/ubuntu/spark-2.1.1-bin-hadoop2.7/python/lib/py4j-0.10.4-src.zip/py4j/java_gateway.py\", line 827, in _get_connection\n",
      "    connection = self.deque.pop()\n",
      "IndexError: pop from an empty deque\n",
      "\n",
      "During handling of the above exception, another exception occurred:\n",
      "\n",
      "Traceback (most recent call last):\n",
      "  File \"/home/ubuntu/spark-2.1.1-bin-hadoop2.7/python/lib/py4j-0.10.4-src.zip/py4j/java_gateway.py\", line 963, in start\n",
      "    self.socket.connect((self.address, self.port))\n",
      "ConnectionRefusedError: [Errno 111] Connection refused\n"
     ]
    },
    {
     "name": "stdout",
     "output_type": "stream",
     "text": [
      "----------------------------------------\n",
      "Exception happened during processing of request from ('127.0.0.1', 54542)\n",
      "----------------------------------------\n"
     ]
    },
    {
     "ename": "Py4JError",
     "evalue": "An error occurred while calling o1125.showString",
     "output_type": "error",
     "traceback": [
      "\u001b[0;31m---------------------------------------------------------------------------\u001b[0m",
      "\u001b[0;31mPy4JError\u001b[0m                                 Traceback (most recent call last)",
      "\u001b[0;32m<ipython-input-75-2d824722bc64>\u001b[0m in \u001b[0;36m<module>\u001b[0;34m()\u001b[0m\n\u001b[1;32m      3\u001b[0m \u001b[0mresult\u001b[0m \u001b[0;34m=\u001b[0m \u001b[0mselector\u001b[0m\u001b[0;34m.\u001b[0m\u001b[0mfit\u001b[0m\u001b[0;34m(\u001b[0m\u001b[0moutput\u001b[0m\u001b[0;34m)\u001b[0m\u001b[0;34m.\u001b[0m\u001b[0mtransform\u001b[0m\u001b[0;34m(\u001b[0m\u001b[0moutput\u001b[0m\u001b[0;34m)\u001b[0m\u001b[0;34m\u001b[0m\u001b[0m\n\u001b[1;32m      4\u001b[0m \u001b[0;34m\u001b[0m\u001b[0m\n\u001b[0;32m----> 5\u001b[0;31m \u001b[0mresult\u001b[0m\u001b[0;34m.\u001b[0m\u001b[0mselect\u001b[0m\u001b[0;34m(\u001b[0m\u001b[0;34m\"selectedFeatures\"\u001b[0m\u001b[0;34m)\u001b[0m\u001b[0;34m.\u001b[0m\u001b[0mshow\u001b[0m\u001b[0;34m(\u001b[0m\u001b[0mtruncate\u001b[0m \u001b[0;34m=\u001b[0m \u001b[0;32mFalse\u001b[0m\u001b[0;34m)\u001b[0m\u001b[0;34m\u001b[0m\u001b[0m\n\u001b[0m",
      "\u001b[0;32m~/spark-2.1.1-bin-hadoop2.7/python/pyspark/sql/dataframe.py\u001b[0m in \u001b[0;36mshow\u001b[0;34m(self, n, truncate)\u001b[0m\n\u001b[1;32m    318\u001b[0m             \u001b[0mprint\u001b[0m\u001b[0;34m(\u001b[0m\u001b[0mself\u001b[0m\u001b[0;34m.\u001b[0m\u001b[0m_jdf\u001b[0m\u001b[0;34m.\u001b[0m\u001b[0mshowString\u001b[0m\u001b[0;34m(\u001b[0m\u001b[0mn\u001b[0m\u001b[0;34m,\u001b[0m \u001b[0;36m20\u001b[0m\u001b[0;34m)\u001b[0m\u001b[0;34m)\u001b[0m\u001b[0;34m\u001b[0m\u001b[0m\n\u001b[1;32m    319\u001b[0m         \u001b[0;32melse\u001b[0m\u001b[0;34m:\u001b[0m\u001b[0;34m\u001b[0m\u001b[0m\n\u001b[0;32m--> 320\u001b[0;31m             \u001b[0mprint\u001b[0m\u001b[0;34m(\u001b[0m\u001b[0mself\u001b[0m\u001b[0;34m.\u001b[0m\u001b[0m_jdf\u001b[0m\u001b[0;34m.\u001b[0m\u001b[0mshowString\u001b[0m\u001b[0;34m(\u001b[0m\u001b[0mn\u001b[0m\u001b[0;34m,\u001b[0m \u001b[0mint\u001b[0m\u001b[0;34m(\u001b[0m\u001b[0mtruncate\u001b[0m\u001b[0;34m)\u001b[0m\u001b[0;34m)\u001b[0m\u001b[0;34m)\u001b[0m\u001b[0;34m\u001b[0m\u001b[0m\n\u001b[0m\u001b[1;32m    321\u001b[0m \u001b[0;34m\u001b[0m\u001b[0m\n\u001b[1;32m    322\u001b[0m     \u001b[0;32mdef\u001b[0m \u001b[0m__repr__\u001b[0m\u001b[0;34m(\u001b[0m\u001b[0mself\u001b[0m\u001b[0;34m)\u001b[0m\u001b[0;34m:\u001b[0m\u001b[0;34m\u001b[0m\u001b[0m\n",
      "\u001b[0;32m~/spark-2.1.1-bin-hadoop2.7/python/lib/py4j-0.10.4-src.zip/py4j/java_gateway.py\u001b[0m in \u001b[0;36m__call__\u001b[0;34m(self, *args)\u001b[0m\n\u001b[1;32m   1131\u001b[0m         \u001b[0manswer\u001b[0m \u001b[0;34m=\u001b[0m \u001b[0mself\u001b[0m\u001b[0;34m.\u001b[0m\u001b[0mgateway_client\u001b[0m\u001b[0;34m.\u001b[0m\u001b[0msend_command\u001b[0m\u001b[0;34m(\u001b[0m\u001b[0mcommand\u001b[0m\u001b[0;34m)\u001b[0m\u001b[0;34m\u001b[0m\u001b[0m\n\u001b[1;32m   1132\u001b[0m         return_value = get_return_value(\n\u001b[0;32m-> 1133\u001b[0;31m             answer, self.gateway_client, self.target_id, self.name)\n\u001b[0m\u001b[1;32m   1134\u001b[0m \u001b[0;34m\u001b[0m\u001b[0m\n\u001b[1;32m   1135\u001b[0m         \u001b[0;32mfor\u001b[0m \u001b[0mtemp_arg\u001b[0m \u001b[0;32min\u001b[0m \u001b[0mtemp_args\u001b[0m\u001b[0;34m:\u001b[0m\u001b[0;34m\u001b[0m\u001b[0m\n",
      "\u001b[0;32m~/spark-2.1.1-bin-hadoop2.7/python/pyspark/sql/utils.py\u001b[0m in \u001b[0;36mdeco\u001b[0;34m(*a, **kw)\u001b[0m\n\u001b[1;32m     61\u001b[0m     \u001b[0;32mdef\u001b[0m \u001b[0mdeco\u001b[0m\u001b[0;34m(\u001b[0m\u001b[0;34m*\u001b[0m\u001b[0ma\u001b[0m\u001b[0;34m,\u001b[0m \u001b[0;34m**\u001b[0m\u001b[0mkw\u001b[0m\u001b[0;34m)\u001b[0m\u001b[0;34m:\u001b[0m\u001b[0;34m\u001b[0m\u001b[0m\n\u001b[1;32m     62\u001b[0m         \u001b[0;32mtry\u001b[0m\u001b[0;34m:\u001b[0m\u001b[0;34m\u001b[0m\u001b[0m\n\u001b[0;32m---> 63\u001b[0;31m             \u001b[0;32mreturn\u001b[0m \u001b[0mf\u001b[0m\u001b[0;34m(\u001b[0m\u001b[0;34m*\u001b[0m\u001b[0ma\u001b[0m\u001b[0;34m,\u001b[0m \u001b[0;34m**\u001b[0m\u001b[0mkw\u001b[0m\u001b[0;34m)\u001b[0m\u001b[0;34m\u001b[0m\u001b[0m\n\u001b[0m\u001b[1;32m     64\u001b[0m         \u001b[0;32mexcept\u001b[0m \u001b[0mpy4j\u001b[0m\u001b[0;34m.\u001b[0m\u001b[0mprotocol\u001b[0m\u001b[0;34m.\u001b[0m\u001b[0mPy4JJavaError\u001b[0m \u001b[0;32mas\u001b[0m \u001b[0me\u001b[0m\u001b[0;34m:\u001b[0m\u001b[0;34m\u001b[0m\u001b[0m\n\u001b[1;32m     65\u001b[0m             \u001b[0ms\u001b[0m \u001b[0;34m=\u001b[0m \u001b[0me\u001b[0m\u001b[0;34m.\u001b[0m\u001b[0mjava_exception\u001b[0m\u001b[0;34m.\u001b[0m\u001b[0mtoString\u001b[0m\u001b[0;34m(\u001b[0m\u001b[0;34m)\u001b[0m\u001b[0;34m\u001b[0m\u001b[0m\n",
      "\u001b[0;32m~/spark-2.1.1-bin-hadoop2.7/python/lib/py4j-0.10.4-src.zip/py4j/protocol.py\u001b[0m in \u001b[0;36mget_return_value\u001b[0;34m(answer, gateway_client, target_id, name)\u001b[0m\n\u001b[1;32m    325\u001b[0m             raise Py4JError(\n\u001b[1;32m    326\u001b[0m                 \u001b[0;34m\"An error occurred while calling {0}{1}{2}\"\u001b[0m\u001b[0;34m.\u001b[0m\u001b[0;34m\u001b[0m\u001b[0m\n\u001b[0;32m--> 327\u001b[0;31m                 format(target_id, \".\", name))\n\u001b[0m\u001b[1;32m    328\u001b[0m     \u001b[0;32melse\u001b[0m\u001b[0;34m:\u001b[0m\u001b[0;34m\u001b[0m\u001b[0m\n\u001b[1;32m    329\u001b[0m         \u001b[0mtype\u001b[0m \u001b[0;34m=\u001b[0m \u001b[0manswer\u001b[0m\u001b[0;34m[\u001b[0m\u001b[0;36m1\u001b[0m\u001b[0;34m]\u001b[0m\u001b[0;34m\u001b[0m\u001b[0m\n",
      "\u001b[0;31mPy4JError\u001b[0m: An error occurred while calling o1125.showString"
     ]
    }
   ],
   "source": [
    "selector = ChiSqSelector(numTopFeatures = 5, featuresCol = \"features_VEC\", outputCol = \"selectedFeatures\", labelCol = \"Age Group\")\n",
    "\n",
    "result = selector.fit(output).transform(output)\n",
    "\n",
    "result.select(\"selectedFeatures\").show(truncate = False)\n",
    "\n"
   ]
  },
  {
   "cell_type": "code",
   "execution_count": null,
   "metadata": {},
   "outputs": [],
   "source": [
    "import numpy as np\n",
    "import matplotlib.pyplot as plt"
   ]
  },
  {
   "cell_type": "code",
   "execution_count": null,
   "metadata": {},
   "outputs": [],
   "source": [
    "#import kmeans\n",
    "from pyspark.ml.clustering import KMeans"
   ]
  },
  {
   "cell_type": "code",
   "execution_count": null,
   "metadata": {},
   "outputs": [],
   "source": [
    "#with the integer value\n",
    "assembler = VectorAssembler(inputCols = [\"ANZSOC_Division_Index\", \"ANZSOC_Group_Index\", \"ANZSOC_Subdivision_Index\", \"Ethnicity_Index\", \"Mop_Index\", \"Police_area_index\", \"SEX_index\", \"ROV_Division_Index\",  \"ROV_Group_Index\", \"ROV_Sub_index\", \"Age Group\", \"Frequency\", \"Offender Count\"], outputCol = \"features\")\n",
    "\n",
    "output = assembler.transform(master)\n",
    "output.show(truncate = False)\n",
    "output.select(\"features\").show(truncate = False)\n",
    "output.columns"
   ]
  },
  {
   "cell_type": "code",
   "execution_count": null,
   "metadata": {},
   "outputs": [],
   "source": [
    "kmeans = KMeans().setK(2).setSeed(1)\n",
    "model = kmeans.fit(output)\n",
    "wssse = model.computeCost(output)\n",
    "print(\"Within Set Sum of Squared Errors = \" + str(wssse))\n",
    "\n",
    "centers = model.clusterCenters()\n",
    "print(\"Cluster Centers: \")\n",
    "for center in centers:\n",
    "    print(center)"
   ]
  },
  {
   "cell_type": "code",
   "execution_count": null,
   "metadata": {},
   "outputs": [],
   "source": [
    "kmeans = KMeans().setK(3).setSeed(1)\n",
    "model = kmeans.fit(output)\n",
    "wssse = model.computeCost(output)\n",
    "print(\"Within Set Sum of Squared Errors = \" + str(wssse))\n",
    "\n",
    "centers = model.clusterCenters()\n",
    "print(\"Cluster Centers: \")\n",
    "for center in centers:\n",
    "    print(center)"
   ]
  },
  {
   "cell_type": "code",
   "execution_count": null,
   "metadata": {},
   "outputs": [],
   "source": [
    "kmeans = KMeans().setK(4).setSeed(1)\n",
    "model = kmeans.fit(output)\n",
    "wssse = model.computeCost(output)\n",
    "print(\"Within Set Sum of Squared Errors = \" + str(wssse))\n",
    "\n",
    "centers = model.clusterCenters()\n",
    "print(\"Cluster Centers: \")\n",
    "for center in centers:\n",
    "    print(center)"
   ]
  },
  {
   "cell_type": "code",
   "execution_count": null,
   "metadata": {},
   "outputs": [],
   "source": [
    "kmeans = KMeans().setK(5).setSeed(1)\n",
    "model = kmeans.fit(output)\n",
    "wssse = model.computeCost(output)\n",
    "print(\"Within Set Sum of Squared Errors = \" + str(wssse))\n",
    "\n",
    "centers = model.clusterCenters()\n",
    "print(\"Cluster Centers: \")\n",
    "for center in centers:\n",
    "    print(center)"
   ]
  },
  {
   "cell_type": "code",
   "execution_count": null,
   "metadata": {
    "scrolled": false
   },
   "outputs": [],
   "source": [
    "#kmean with vectors\n",
    "assembler = VectorAssembler(inputCols = [\"ANZSOC_Division_vec\", \"ANZSOC_Group_vec\", \"ANZSOC_Subdivision_vec\", \"Ethnicity_vec\", \"Mop_vec\", \"Police_Area_vec\", \"SEX_vec\", \"ROV_Division_vec\",  \"ROV_Group_vec\", \"ROV_Sub_vec\"], outputCol = \"features\")\n",
    "\n",
    "output1 = assembler.transform(master)\n",
    "output1.show(truncate = False)\n",
    "output1.select(\"features\").show(truncate = False)\n",
    "output1.columns\n"
   ]
  },
  {
   "cell_type": "code",
   "execution_count": null,
   "metadata": {},
   "outputs": [],
   "source": [
    "from pyspark.ml.clustering import KMeans\n",
    "kmeansv = KMeans().setK(2).setSeed(1)\n",
    "modelv = kmeans.fit(output1)\n",
    "wsssev = modelv.computeCost(output1)\n",
    "print(\"Within Set Sum of Squared Errors = \" + str(wssse))\n",
    "\n",
    "centersv = model.clusterCenters()\n",
    "print(\"Cluster Centers: \")\n",
    "for center in centersv:\n",
    "    print(center)"
   ]
  },
  {
   "cell_type": "code",
   "execution_count": null,
   "metadata": {},
   "outputs": [],
   "source": [
    "column_list = ('ANZSOC Division', 'ANZSOC Group', 'ANZSOC Subdivision', 'Ethnicity', 'Frequency', 'Mop Division', 'Police Area', 'SEX', 'Year Month', 'Offender Count', 'Age Group', 'ROV Division', 'ROV Group', 'ROVSubdivision')\n",
    "\n",
    "for x in column_list:\n",
    "    \n",
    "    master.dropDuplicates(([x])).select(x).show(truncate = False)\n",
    "\n"
   ]
  },
  {
   "cell_type": "code",
   "execution_count": 53,
   "metadata": {},
   "outputs": [
    {
     "name": "stdout",
     "output_type": "stream",
     "text": [
      "+---+-----------------------------------------------------------------+---------------------------------------+------------------------------------+--------------+---------+----------------+---------------------+---------------+---------------------+----+----------+-----------------+--------------+---------+-----------------------+-------------------+---------------+-------------------+-----------------+---------------------+------------------+------------------------+---------------+---------+-----------------+---------+------------------+---------------+-------------+-------------------+----------------+----------------------+-------------+-------------+---------------+-------------+----------------+--------------+-----------+----------------------------------------------------------------+\n",
      "|ID |ANZSOC Division                                                  |ANZSOC Group                           |ANZSOC Subdivision                  |Ethnicity     |Frequency|Mop Division    |Police Area          |Police District|Proceedings Frequency|SEX |Year Month|Number of Records|Offender Count|Age Group|Age Group 5Yr Band     |Person/Organisation|ROV Division   |ROV Group          |ROVSubdivision   |ANZSOC_Division_Index|ANZSOC_Group_Index|ANZSOC_Subdivision_Index|Ethnicity_Index|Mop_Index|Police_area_index|SEX_index|ROV_Division_Index|ROV_Group_Index|ROV_Sub_index|ANZSOC_Division_vec|ANZSOC_Group_vec|ANZSOC_Subdivision_vec|Ethnicity_vec|Mop_vec      |Police_Area_vec|SEX_vec      |ROV_Division_vec|ROV_Group_vec |ROV_Sub_vec|features                                                        |\n",
      "+---+-----------------------------------------------------------------+---------------------------------------+------------------------------------+--------------+---------+----------------+---------------------+---------------+---------------------+----+----------+-----------------+--------------+---------+-----------------------+-------------------+---------------+-------------------+-----------------+---------------------+------------------+------------------------+---------------+---------+-----------------+---------+------------------+---------------+-------------+-------------------+----------------+----------------------+-------------+-------------+---------------+-------------+----------------+--------------+-----------+----------------------------------------------------------------+\n",
      "|4  |Acts Intended to Cause Injury                                    |Serious Assault Not Resulting in Injury|Assault                             |Pacific Island|2        |Non-Court Action|Auckland East Area   |Auckland City  |2                    |Male|1/02/2020 |1                |1             |15       |15 - 19 years inclusive|Person             |Known To Victim|Known To Each Other|Non Family Member|0.0                  |0.0               |0.0                     |0.0            |1.0      |1.0              |0.0      |0.0               |1.0            |2.0          |(13,[0],[1.0])     |(44,[0],[1.0])  |(27,[0],[1.0])        |(7,[0],[1.0])|(2,[1],[1.0])|(2,[1],[1.0])  |(1,[0],[1.0])|(1,[0],[1.0])   |(10,[1],[1.0])|(2,[],[])  |(107,[0,13,57,84,92,93,94,96],[1.0,1.0,1.0,1.0,1.0,1.0,1.0,1.0])|\n",
      "|5  |Acts Intended to Cause Injury                                    |Serious Assault Not Resulting in Injury|Assault                             |Pacific Island|2        |Non-Court Action|Auckland East Area   |Auckland City  |2                    |Male|1/02/2020 |1                |1             |25       |25 - 29 years inclusive|Person             |Known To Victim|Known To Each Other|Non Family Member|0.0                  |0.0               |0.0                     |0.0            |1.0      |1.0              |0.0      |0.0               |1.0            |2.0          |(13,[0],[1.0])     |(44,[0],[1.0])  |(27,[0],[1.0])        |(7,[0],[1.0])|(2,[1],[1.0])|(2,[1],[1.0])  |(1,[0],[1.0])|(1,[0],[1.0])   |(10,[1],[1.0])|(2,[],[])  |(107,[0,13,57,84,92,93,94,96],[1.0,1.0,1.0,1.0,1.0,1.0,1.0,1.0])|\n",
      "|6  |Acts Intended to Cause Injury                                    |Serious Assault Not Resulting in Injury|Assault                             |Pacific Island|2        |Non-Court Action|Auckland East Area   |Auckland City  |2                    |Male|1/02/2020 |1                |1             |40       |40 - 44 years inclusive|Person             |Known To Victim|Known To Each Other|Non Family Member|0.0                  |0.0               |0.0                     |0.0            |1.0      |1.0              |0.0      |0.0               |1.0            |2.0          |(13,[0],[1.0])     |(44,[0],[1.0])  |(27,[0],[1.0])        |(7,[0],[1.0])|(2,[1],[1.0])|(2,[1],[1.0])  |(1,[0],[1.0])|(1,[0],[1.0])   |(10,[1],[1.0])|(2,[],[])  |(107,[0,13,57,84,92,93,94,96],[1.0,1.0,1.0,1.0,1.0,1.0,1.0,1.0])|\n",
      "|7  |Acts Intended to Cause Injury                                    |Common Assault                         |Assault                             |Indian        |2        |Non-Court Action|Auckland West Area   |Auckland City  |2                    |Male|1/02/2020 |1                |1             |20       |20 - 24 years inclusive|Person             |Known To Victim|Known To Each Other|Non Family Member|0.0                  |3.0               |0.0                     |3.0            |1.0      |0.0              |0.0      |0.0               |1.0            |2.0          |(13,[0],[1.0])     |(44,[3],[1.0])  |(27,[0],[1.0])        |(7,[3],[1.0])|(2,[1],[1.0])|(2,[0],[1.0])  |(1,[0],[1.0])|(1,[0],[1.0])   |(10,[1],[1.0])|(2,[],[])  |(107,[0,16,57,87,91,93,94,96],[1.0,1.0,1.0,1.0,1.0,1.0,1.0,1.0])|\n",
      "|8  |Acts Intended to Cause Injury                                    |Common Assault                         |Assault                             |Indian        |2        |Non-Court Action|Auckland West Area   |Auckland City  |2                    |Male|1/02/2020 |1                |1             |40       |40 - 44 years inclusive|Person             |Known To Victim|Known To Each Other|Non Family Member|0.0                  |3.0               |0.0                     |3.0            |1.0      |0.0              |0.0      |0.0               |1.0            |2.0          |(13,[0],[1.0])     |(44,[3],[1.0])  |(27,[0],[1.0])        |(7,[3],[1.0])|(2,[1],[1.0])|(2,[0],[1.0])  |(1,[0],[1.0])|(1,[0],[1.0])   |(10,[1],[1.0])|(2,[],[])  |(107,[0,16,57,87,91,93,94,96],[1.0,1.0,1.0,1.0,1.0,1.0,1.0,1.0])|\n",
      "|9  |Acts Intended to Cause Injury                                    |Common Assault                         |Assault                             |Pacific Island|2        |Non-Court Action|Auckland West Area   |Auckland City  |2                    |Male|1/02/2020 |1                |1             |15       |15 - 19 years inclusive|Person             |Known To Victim|Known To Each Other|Non Family Member|0.0                  |3.0               |0.0                     |0.0            |1.0      |0.0              |0.0      |0.0               |1.0            |2.0          |(13,[0],[1.0])     |(44,[3],[1.0])  |(27,[0],[1.0])        |(7,[0],[1.0])|(2,[1],[1.0])|(2,[0],[1.0])  |(1,[0],[1.0])|(1,[0],[1.0])   |(10,[1],[1.0])|(2,[],[])  |(107,[0,16,57,84,91,93,94,96],[1.0,1.0,1.0,1.0,1.0,1.0,1.0,1.0])|\n",
      "|10 |Acts Intended to Cause Injury                                    |Serious Assault Not Resulting in Injury|Assault                             |Pacific Island|2        |Non-Court Action|Auckland West Area   |Auckland City  |2                    |Male|1/02/2020 |1                |1             |15       |15 - 19 years inclusive|Person             |Known To Victim|Known To Each Other|Non Family Member|0.0                  |0.0               |0.0                     |0.0            |1.0      |0.0              |0.0      |0.0               |1.0            |2.0          |(13,[0],[1.0])     |(44,[0],[1.0])  |(27,[0],[1.0])        |(7,[0],[1.0])|(2,[1],[1.0])|(2,[0],[1.0])  |(1,[0],[1.0])|(1,[0],[1.0])   |(10,[1],[1.0])|(2,[],[])  |(107,[0,13,57,84,91,93,94,96],[1.0,1.0,1.0,1.0,1.0,1.0,1.0,1.0])|\n",
      "|11 |Acts Intended to Cause Injury                                    |Serious Assault Not Resulting in Injury|Assault                             |Pacific Island|2        |Non-Court Action|Auckland West Area   |Auckland City  |2                    |Male|1/02/2020 |1                |1             |25       |25 - 29 years inclusive|Person             |Known To Victim|Known To Each Other|Non Family Member|0.0                  |0.0               |0.0                     |0.0            |1.0      |0.0              |0.0      |0.0               |1.0            |2.0          |(13,[0],[1.0])     |(44,[0],[1.0])  |(27,[0],[1.0])        |(7,[0],[1.0])|(2,[1],[1.0])|(2,[0],[1.0])  |(1,[0],[1.0])|(1,[0],[1.0])   |(10,[1],[1.0])|(2,[],[])  |(107,[0,13,57,84,91,93,94,96],[1.0,1.0,1.0,1.0,1.0,1.0,1.0,1.0])|\n",
      "|12 |Acts Intended to Cause Injury                                    |Serious Assault Not Resulting in Injury|Assault                             |Pacific Island|2        |Non-Court Action|Auckland West Area   |Auckland City  |2                    |Male|1/02/2020 |1                |1             |40       |40 - 44 years inclusive|Person             |Known To Victim|Known To Each Other|Non Family Member|0.0                  |0.0               |0.0                     |0.0            |1.0      |0.0              |0.0      |0.0               |1.0            |2.0          |(13,[0],[1.0])     |(44,[0],[1.0])  |(27,[0],[1.0])        |(7,[0],[1.0])|(2,[1],[1.0])|(2,[0],[1.0])  |(1,[0],[1.0])|(1,[0],[1.0])   |(10,[1],[1.0])|(2,[],[])  |(107,[0,13,57,84,91,93,94,96],[1.0,1.0,1.0,1.0,1.0,1.0,1.0,1.0])|\n",
      "|53 |Abduction, Harassment and Other Related Offences Against a Person|Threatening Behaviour                  |Harassment and Threatening Behaviour|Pacific Island|3        |Non-Court Action|Auckland East Area   |Auckland City  |3                    |Male|1/02/2020 |1                |1             |45       |45 - 49 years inclusive|Person             |Known To Victim|Known To Each Other|Non Family Member|1.0                  |2.0               |1.0                     |0.0            |1.0      |1.0              |0.0      |0.0               |1.0            |2.0          |(13,[1],[1.0])     |(44,[2],[1.0])  |(27,[1],[1.0])        |(7,[0],[1.0])|(2,[1],[1.0])|(2,[1],[1.0])  |(1,[0],[1.0])|(1,[0],[1.0])   |(10,[1],[1.0])|(2,[],[])  |(107,[1,15,58,84,92,93,94,96],[1.0,1.0,1.0,1.0,1.0,1.0,1.0,1.0])|\n",
      "|65 |Acts Intended to Cause Injury                                    |Common Assault                         |Assault                             |Maori         |4        |Non-Court Action|Auckland Central Area|Auckland City  |4                    |Male|1/02/2020 |1                |1             |25       |25 - 29 years inclusive|Person             |Known To Victim|Known To Each Other|Non Family Member|0.0                  |3.0               |0.0                     |2.0            |1.0      |2.0              |0.0      |0.0               |1.0            |2.0          |(13,[0],[1.0])     |(44,[3],[1.0])  |(27,[0],[1.0])        |(7,[2],[1.0])|(2,[1],[1.0])|(2,[],[])      |(1,[0],[1.0])|(1,[0],[1.0])   |(10,[1],[1.0])|(2,[],[])  |(107,[0,16,57,86,93,94,96],[1.0,1.0,1.0,1.0,1.0,1.0,1.0])       |\n",
      "|66 |Acts Intended to Cause Injury                                    |Common Assault                         |Assault                             |Maori         |4        |Non-Court Action|Auckland Central Area|Auckland City  |4                    |Male|1/02/2020 |1                |1             |35       |35 - 39 years inclusive|Person             |Known To Victim|Known To Each Other|Non Family Member|0.0                  |3.0               |0.0                     |2.0            |1.0      |2.0              |0.0      |0.0               |1.0            |2.0          |(13,[0],[1.0])     |(44,[3],[1.0])  |(27,[0],[1.0])        |(7,[2],[1.0])|(2,[1],[1.0])|(2,[],[])      |(1,[0],[1.0])|(1,[0],[1.0])   |(10,[1],[1.0])|(2,[],[])  |(107,[0,16,57,86,93,94,96],[1.0,1.0,1.0,1.0,1.0,1.0,1.0])       |\n",
      "|67 |Acts Intended to Cause Injury                                    |Common Assault                         |Assault                             |Maori         |4        |Non-Court Action|Auckland Central Area|Auckland City  |4                    |Male|1/02/2020 |1                |1             |45       |45 - 49 years inclusive|Person             |Known To Victim|Known To Each Other|Non Family Member|0.0                  |3.0               |0.0                     |2.0            |1.0      |2.0              |0.0      |0.0               |1.0            |2.0          |(13,[0],[1.0])     |(44,[3],[1.0])  |(27,[0],[1.0])        |(7,[2],[1.0])|(2,[1],[1.0])|(2,[],[])      |(1,[0],[1.0])|(1,[0],[1.0])   |(10,[1],[1.0])|(2,[],[])  |(107,[0,16,57,86,93,94,96],[1.0,1.0,1.0,1.0,1.0,1.0,1.0])       |\n",
      "|68 |Acts Intended to Cause Injury                                    |Common Assault                         |Assault                             |European      |4        |Non-Court Action|Auckland East Area   |Auckland City  |4                    |Male|1/02/2020 |1                |1             |10       |10 - 14 years inclusive|Person             |Known To Victim|Known To Each Other|Non Family Member|0.0                  |3.0               |0.0                     |1.0            |1.0      |1.0              |0.0      |0.0               |1.0            |2.0          |(13,[0],[1.0])     |(44,[3],[1.0])  |(27,[0],[1.0])        |(7,[1],[1.0])|(2,[1],[1.0])|(2,[1],[1.0])  |(1,[0],[1.0])|(1,[0],[1.0])   |(10,[1],[1.0])|(2,[],[])  |(107,[0,16,57,85,92,93,94,96],[1.0,1.0,1.0,1.0,1.0,1.0,1.0,1.0])|\n",
      "|69 |Acts Intended to Cause Injury                                    |Common Assault                         |Assault                             |European      |4        |Non-Court Action|Auckland East Area   |Auckland City  |4                    |Male|1/02/2020 |1                |1             |20       |20 - 24 years inclusive|Person             |Known To Victim|Known To Each Other|Non Family Member|0.0                  |3.0               |0.0                     |1.0            |1.0      |1.0              |0.0      |0.0               |1.0            |2.0          |(13,[0],[1.0])     |(44,[3],[1.0])  |(27,[0],[1.0])        |(7,[1],[1.0])|(2,[1],[1.0])|(2,[1],[1.0])  |(1,[0],[1.0])|(1,[0],[1.0])   |(10,[1],[1.0])|(2,[],[])  |(107,[0,16,57,85,92,93,94,96],[1.0,1.0,1.0,1.0,1.0,1.0,1.0,1.0])|\n",
      "|70 |Acts Intended to Cause Injury                                    |Common Assault                         |Assault                             |European      |4        |Non-Court Action|Auckland East Area   |Auckland City  |4                    |Male|1/02/2020 |1                |1             |25       |25 - 29 years inclusive|Person             |Known To Victim|Known To Each Other|Non Family Member|0.0                  |3.0               |0.0                     |1.0            |1.0      |1.0              |0.0      |0.0               |1.0            |2.0          |(13,[0],[1.0])     |(44,[3],[1.0])  |(27,[0],[1.0])        |(7,[1],[1.0])|(2,[1],[1.0])|(2,[1],[1.0])  |(1,[0],[1.0])|(1,[0],[1.0])   |(10,[1],[1.0])|(2,[],[])  |(107,[0,16,57,85,92,93,94,96],[1.0,1.0,1.0,1.0,1.0,1.0,1.0,1.0])|\n",
      "|71 |Acts Intended to Cause Injury                                    |Common Assault                         |Assault                             |European      |4        |Non-Court Action|Auckland East Area   |Auckland City  |4                    |Male|1/02/2020 |1                |1             |30       |30 - 34 years inclusive|Person             |Known To Victim|Known To Each Other|Non Family Member|0.0                  |3.0               |0.0                     |1.0            |1.0      |1.0              |0.0      |0.0               |1.0            |2.0          |(13,[0],[1.0])     |(44,[3],[1.0])  |(27,[0],[1.0])        |(7,[1],[1.0])|(2,[1],[1.0])|(2,[1],[1.0])  |(1,[0],[1.0])|(1,[0],[1.0])   |(10,[1],[1.0])|(2,[],[])  |(107,[0,16,57,85,92,93,94,96],[1.0,1.0,1.0,1.0,1.0,1.0,1.0,1.0])|\n",
      "|73 |Abduction, Harassment and Other Related Offences Against a Person|Threatening Behaviour                  |Harassment and Threatening Behaviour|European      |5        |Non-Court Action|Auckland East Area   |Auckland City  |5 to 9               |Male|1/02/2020 |1                |1             |15       |15 - 19 years inclusive|Person             |Known To Victim|Known To Each Other|Non Family Member|1.0                  |2.0               |1.0                     |1.0            |1.0      |1.0              |0.0      |0.0               |1.0            |2.0          |(13,[1],[1.0])     |(44,[2],[1.0])  |(27,[1],[1.0])        |(7,[1],[1.0])|(2,[1],[1.0])|(2,[1],[1.0])  |(1,[0],[1.0])|(1,[0],[1.0])   |(10,[1],[1.0])|(2,[],[])  |(107,[1,15,58,85,92,93,94,96],[1.0,1.0,1.0,1.0,1.0,1.0,1.0,1.0])|\n",
      "|74 |Abduction, Harassment and Other Related Offences Against a Person|Threatening Behaviour                  |Harassment and Threatening Behaviour|European      |5        |Non-Court Action|Auckland East Area   |Auckland City  |5 to 9               |Male|1/02/2020 |1                |1             |30       |30 - 34 years inclusive|Person             |Known To Victim|Known To Each Other|Non Family Member|1.0                  |2.0               |1.0                     |1.0            |1.0      |1.0              |0.0      |0.0               |1.0            |2.0          |(13,[1],[1.0])     |(44,[2],[1.0])  |(27,[1],[1.0])        |(7,[1],[1.0])|(2,[1],[1.0])|(2,[1],[1.0])  |(1,[0],[1.0])|(1,[0],[1.0])   |(10,[1],[1.0])|(2,[],[])  |(107,[1,15,58,85,92,93,94,96],[1.0,1.0,1.0,1.0,1.0,1.0,1.0,1.0])|\n",
      "|75 |Abduction, Harassment and Other Related Offences Against a Person|Threatening Behaviour                  |Harassment and Threatening Behaviour|European      |5        |Non-Court Action|Auckland East Area   |Auckland City  |5 to 9               |Male|1/02/2020 |1                |1             |40       |40 - 44 years inclusive|Person             |Known To Victim|Known To Each Other|Non Family Member|1.0                  |2.0               |1.0                     |1.0            |1.0      |1.0              |0.0      |0.0               |1.0            |2.0          |(13,[1],[1.0])     |(44,[2],[1.0])  |(27,[1],[1.0])        |(7,[1],[1.0])|(2,[1],[1.0])|(2,[1],[1.0])  |(1,[0],[1.0])|(1,[0],[1.0])   |(10,[1],[1.0])|(2,[],[])  |(107,[1,15,58,85,92,93,94,96],[1.0,1.0,1.0,1.0,1.0,1.0,1.0,1.0])|\n",
      "+---+-----------------------------------------------------------------+---------------------------------------+------------------------------------+--------------+---------+----------------+---------------------+---------------+---------------------+----+----------+-----------------+--------------+---------+-----------------------+-------------------+---------------+-------------------+-----------------+---------------------+------------------+------------------------+---------------+---------+-----------------+---------+------------------+---------------+-------------+-------------------+----------------+----------------------+-------------+-------------+---------------+-------------+----------------+--------------+-----------+----------------------------------------------------------------+\n",
      "only showing top 20 rows\n",
      "\n"
     ]
    },
    {
     "name": "stdout",
     "output_type": "stream",
     "text": [
      "+----------------------------------------------------------------+\n",
      "|features                                                        |\n",
      "+----------------------------------------------------------------+\n",
      "|(107,[0,13,57,84,92,93,94,96],[1.0,1.0,1.0,1.0,1.0,1.0,1.0,1.0])|\n",
      "|(107,[0,13,57,84,92,93,94,96],[1.0,1.0,1.0,1.0,1.0,1.0,1.0,1.0])|\n",
      "|(107,[0,13,57,84,92,93,94,96],[1.0,1.0,1.0,1.0,1.0,1.0,1.0,1.0])|\n",
      "|(107,[0,16,57,87,91,93,94,96],[1.0,1.0,1.0,1.0,1.0,1.0,1.0,1.0])|\n",
      "|(107,[0,16,57,87,91,93,94,96],[1.0,1.0,1.0,1.0,1.0,1.0,1.0,1.0])|\n",
      "|(107,[0,16,57,84,91,93,94,96],[1.0,1.0,1.0,1.0,1.0,1.0,1.0,1.0])|\n",
      "|(107,[0,13,57,84,91,93,94,96],[1.0,1.0,1.0,1.0,1.0,1.0,1.0,1.0])|\n",
      "|(107,[0,13,57,84,91,93,94,96],[1.0,1.0,1.0,1.0,1.0,1.0,1.0,1.0])|\n",
      "|(107,[0,13,57,84,91,93,94,96],[1.0,1.0,1.0,1.0,1.0,1.0,1.0,1.0])|\n",
      "|(107,[1,15,58,84,92,93,94,96],[1.0,1.0,1.0,1.0,1.0,1.0,1.0,1.0])|\n",
      "|(107,[0,16,57,86,93,94,96],[1.0,1.0,1.0,1.0,1.0,1.0,1.0])       |\n",
      "|(107,[0,16,57,86,93,94,96],[1.0,1.0,1.0,1.0,1.0,1.0,1.0])       |\n",
      "|(107,[0,16,57,86,93,94,96],[1.0,1.0,1.0,1.0,1.0,1.0,1.0])       |\n",
      "|(107,[0,16,57,85,92,93,94,96],[1.0,1.0,1.0,1.0,1.0,1.0,1.0,1.0])|\n",
      "|(107,[0,16,57,85,92,93,94,96],[1.0,1.0,1.0,1.0,1.0,1.0,1.0,1.0])|\n",
      "|(107,[0,16,57,85,92,93,94,96],[1.0,1.0,1.0,1.0,1.0,1.0,1.0,1.0])|\n",
      "|(107,[0,16,57,85,92,93,94,96],[1.0,1.0,1.0,1.0,1.0,1.0,1.0,1.0])|\n",
      "|(107,[1,15,58,85,92,93,94,96],[1.0,1.0,1.0,1.0,1.0,1.0,1.0,1.0])|\n",
      "|(107,[1,15,58,85,92,93,94,96],[1.0,1.0,1.0,1.0,1.0,1.0,1.0,1.0])|\n",
      "|(107,[1,15,58,85,92,93,94,96],[1.0,1.0,1.0,1.0,1.0,1.0,1.0,1.0])|\n",
      "+----------------------------------------------------------------+\n",
      "only showing top 20 rows\n",
      "\n"
     ]
    },
    {
     "data": {
      "text/plain": [
       "['ID',\n",
       " 'ANZSOC Division',\n",
       " 'ANZSOC Group',\n",
       " 'ANZSOC Subdivision',\n",
       " 'Ethnicity',\n",
       " 'Frequency',\n",
       " 'Mop Division',\n",
       " 'Police Area',\n",
       " 'Police District',\n",
       " 'Proceedings Frequency',\n",
       " 'SEX',\n",
       " 'Year Month',\n",
       " 'Number of Records',\n",
       " 'Offender Count',\n",
       " 'Age Group',\n",
       " 'Age Group 5Yr Band',\n",
       " 'Person/Organisation',\n",
       " 'ROV Division',\n",
       " 'ROV Group',\n",
       " 'ROVSubdivision',\n",
       " 'ANZSOC_Division_Index',\n",
       " 'ANZSOC_Group_Index',\n",
       " 'ANZSOC_Subdivision_Index',\n",
       " 'Ethnicity_Index',\n",
       " 'label',\n",
       " 'Police_area_index',\n",
       " 'SEX_index',\n",
       " 'ROV_Division_Index',\n",
       " 'ROV_Group_Index',\n",
       " 'ROV_Sub_index',\n",
       " 'ANZSOC_Division_vec',\n",
       " 'ANZSOC_Group_vec',\n",
       " 'ANZSOC_Subdivision_vec',\n",
       " 'Ethnicity_vec',\n",
       " 'Mop_vec',\n",
       " 'Police_Area_vec',\n",
       " 'SEX_vec',\n",
       " 'ROV_Division_vec',\n",
       " 'ROV_Group_vec',\n",
       " 'ROV_Sub_vec',\n",
       " 'features']"
      ]
     },
     "execution_count": 53,
     "metadata": {},
     "output_type": "execute_result"
    }
   ],
   "source": [
    "#making label column for naive bayes\n",
    "assembler = VectorAssembler(inputCols = [\"ANZSOC_Division_vec\", \"ANZSOC_Group_vec\", \"ANZSOC_Subdivision_vec\", \"Ethnicity_vec\", \"Police_Area_vec\", \"SEX_vec\", \"ROV_Division_vec\",  \"ROV_Group_vec\", \"ROV_Sub_vec\"], outputCol = \"features\")\n",
    "\n",
    "output1 = assembler.transform(master)\n",
    "output1.show(truncate = False)\n",
    "output1.select(\"features\").show(truncate = False)\n",
    "output1.columns\n",
    "output2 = output1.withColumnRenamed(\"Mop_Index\", \"label\")\n",
    "output2.columns"
   ]
  },
  {
   "cell_type": "code",
   "execution_count": 54,
   "metadata": {},
   "outputs": [
    {
     "name": "stdout",
     "output_type": "stream",
     "text": [
      "test\n",
      "+-----+--------------------+--------------------+--------------------+--------------+---------+----------------+--------------------+---------------+---------------------+------+----------+-----------------+--------------+---------+--------------------+-------------------+---------------+-------------------+-----------------+---------------------+------------------+------------------------+---------------+-----+-----------------+---------+------------------+---------------+-------------+-------------------+----------------+----------------------+-------------+-------------+---------------+-------------+----------------+--------------+-------------+--------------------+--------------------+--------------------+----------+\n",
      "|   ID|     ANZSOC Division|        ANZSOC Group|  ANZSOC Subdivision|     Ethnicity|Frequency|    Mop Division|         Police Area|Police District|Proceedings Frequency|   SEX|Year Month|Number of Records|Offender Count|Age Group|  Age Group 5Yr Band|Person/Organisation|   ROV Division|          ROV Group|   ROVSubdivision|ANZSOC_Division_Index|ANZSOC_Group_Index|ANZSOC_Subdivision_Index|Ethnicity_Index|label|Police_area_index|SEX_index|ROV_Division_Index|ROV_Group_Index|ROV_Sub_index|ANZSOC_Division_vec|ANZSOC_Group_vec|ANZSOC_Subdivision_vec|Ethnicity_vec|      Mop_vec|Police_Area_vec|      SEX_vec|ROV_Division_vec| ROV_Group_vec|  ROV_Sub_vec|            features|       rawPrediction|         probability|prediction|\n",
      "+-----+--------------------+--------------------+--------------------+--------------+---------+----------------+--------------------+---------------+---------------------+------+----------+-----------------+--------------+---------+--------------------+-------------------+---------------+-------------------+-----------------+---------------------+------------------+------------------------+---------------+-----+-----------------+---------+------------------+---------------+-------------+-------------------+----------------+----------------------+-------------+-------------+---------------+-------------+----------------+--------------+-------------+--------------------+--------------------+--------------------+----------+\n",
      "|10227|Property Damage a...|Property Damage, ...|     Property Damage|      European|        2|    Court Action|  Auckland West Area|  Auckland City|                    2|  Male| 1/05/2020|                1|             1|       55|55 - 59 years inc...|             Person|Known To Victim|     Boy/Girlfriend|    Family Member|                  3.0|               4.0|                     3.0|            1.0|  0.0|              0.0|      0.0|               0.0|            4.0|          0.0|     (13,[3],[1.0])|  (44,[4],[1.0])|        (27,[3],[1.0])|(7,[1],[1.0])|(2,[0],[1.0])|  (2,[0],[1.0])|(1,[0],[1.0])|   (1,[0],[1.0])|(10,[4],[1.0])|(2,[0],[1.0])|(107,[3,17,60,85,...|[-33.442095735470...|[0.63770399550857...|       0.0|\n",
      "|10237|Acts Intended to ...|Serious Assault N...|             Assault|Pacific Island|        2|    Court Action|  Auckland West Area|  Auckland City|                    2|  Male| 1/05/2020|                1|             1|       50|50 - 54 years inc...|             Person|Known To Victim|              Child|    Family Member|                  0.0|               0.0|                     0.0|            0.0|  0.0|              0.0|      0.0|               0.0|            3.0|          0.0|     (13,[0],[1.0])|  (44,[0],[1.0])|        (27,[0],[1.0])|(7,[0],[1.0])|(2,[0],[1.0])|  (2,[0],[1.0])|(1,[0],[1.0])|   (1,[0],[1.0])|(10,[3],[1.0])|(2,[0],[1.0])|(107,[0,13,57,84,...|[-29.955672883945...|[0.67270769304752...|       0.0|\n",
      "|10272|Acts Intended to ...|      Common Assault|             Assault|        Indian|        2|    Court Action|  Auckland West Area|  Auckland City|                    2|  Male| 1/05/2020|                1|             1|       20|20 - 24 years inc...|             Person|Known To Victim|            Partner|    Family Member|                  0.0|               3.0|                     0.0|            3.0|  0.0|              0.0|      0.0|               0.0|            5.0|          0.0|     (13,[0],[1.0])|  (44,[3],[1.0])|        (27,[0],[1.0])|(7,[3],[1.0])|(2,[0],[1.0])|  (2,[0],[1.0])|(1,[0],[1.0])|   (1,[0],[1.0])|(10,[5],[1.0])|(2,[0],[1.0])|(107,[0,16,57,87,...|[-30.550501917549...|[0.81338101028444...|       0.0|\n",
      "|10273|Acts Intended to ...|      Common Assault|             Assault|        Indian|        2|    Court Action|  Auckland West Area|  Auckland City|                    2|  Male| 1/05/2020|                1|             1|       30|30 - 34 years inc...|             Person|Known To Victim|            Partner|    Family Member|                  0.0|               3.0|                     0.0|            3.0|  0.0|              0.0|      0.0|               0.0|            5.0|          0.0|     (13,[0],[1.0])|  (44,[3],[1.0])|        (27,[0],[1.0])|(7,[3],[1.0])|(2,[0],[1.0])|  (2,[0],[1.0])|(1,[0],[1.0])|   (1,[0],[1.0])|(10,[5],[1.0])|(2,[0],[1.0])|(107,[0,16,57,87,...|[-30.550501917549...|[0.81338101028444...|       0.0|\n",
      "|10277|Acts Intended to ...|      Common Assault|             Assault|Middle Eastern|        2|    Court Action|  Auckland West Area|  Auckland City|                    2|  Male| 1/05/2020|                1|             1|       40|40 - 44 years inc...|             Person|Known To Victim|            Partner|    Family Member|                  0.0|               3.0|                     0.0|            5.0|  0.0|              0.0|      0.0|               0.0|            5.0|          0.0|     (13,[0],[1.0])|  (44,[3],[1.0])|        (27,[0],[1.0])|(7,[5],[1.0])|(2,[0],[1.0])|  (2,[0],[1.0])|(1,[0],[1.0])|   (1,[0],[1.0])|(10,[5],[1.0])|(2,[0],[1.0])|(107,[0,16,57,89,...|[-31.501584074195...|[0.72309594807317...|       0.0|\n",
      "|10440|Acts Intended to ...|Serious Assault N...|             Assault|Pacific Island|        3|    Court Action|Auckland Central ...|  Auckland City|                    3|  Male| 1/05/2020|                1|             2|       35|35 - 39 years inc...|             Person|Known To Victim|     Boy/Girlfriend|    Family Member|                  0.0|               0.0|                     0.0|            0.0|  0.0|              2.0|      0.0|               0.0|            4.0|          0.0|     (13,[0],[1.0])|  (44,[0],[1.0])|        (27,[0],[1.0])|(7,[0],[1.0])|(2,[0],[1.0])|      (2,[],[])|(1,[0],[1.0])|   (1,[0],[1.0])|(10,[4],[1.0])|(2,[0],[1.0])|(107,[0,13,57,84,...|[-26.634860910146...|[0.83104351218700...|       0.0|\n",
      "|10442|Acts Intended to ...|Serious Assault R...|             Assault|Pacific Island|        3|    Court Action|Auckland Central ...|  Auckland City|                    3|  Male| 1/05/2020|                1|             2|       55|55 - 59 years inc...|             Person|Known To Victim|     Boy/Girlfriend|    Family Member|                  0.0|               1.0|                     0.0|            0.0|  0.0|              2.0|      0.0|               0.0|            4.0|          0.0|     (13,[0],[1.0])|  (44,[1],[1.0])|        (27,[0],[1.0])|(7,[0],[1.0])|(2,[0],[1.0])|      (2,[],[])|(1,[0],[1.0])|   (1,[0],[1.0])|(10,[4],[1.0])|(2,[0],[1.0])|(107,[0,14,57,84,...|[-26.788585695588...|[0.75230681973802...|       0.0|\n",
      "|10449|Theft and Related...|Theft (Except Mot...|Theft (Except Mot...|         Maori|        3|    Court Action|  Auckland West Area|  Auckland City|                    3|  Male| 1/05/2020|                1|             1|       45|45 - 49 years inc...|             Person|Known To Victim|     Boy/Girlfriend|    Family Member|                  4.0|               7.0|                     5.0|            2.0|  0.0|              0.0|      0.0|               0.0|            4.0|          0.0|     (13,[4],[1.0])|  (44,[7],[1.0])|        (27,[5],[1.0])|(7,[2],[1.0])|(2,[0],[1.0])|  (2,[0],[1.0])|(1,[0],[1.0])|   (1,[0],[1.0])|(10,[4],[1.0])|(2,[0],[1.0])|(107,[4,20,62,86,...|[-35.846979854400...|[0.28734427003948...|       1.0|\n",
      "|10476|Acts Intended to ...|Serious Assault R...|             Assault|        Indian|        3|    Court Action|  Auckland West Area|  Auckland City|                    3|  Male| 1/05/2020|                1|             1|       40|40 - 44 years inc...|             Person|Known To Victim|            Sibling|    Family Member|                  0.0|               1.0|                     0.0|            3.0|  0.0|              0.0|      0.0|               0.0|            7.0|          0.0|     (13,[0],[1.0])|  (44,[1],[1.0])|        (27,[0],[1.0])|(7,[3],[1.0])|(2,[0],[1.0])|  (2,[0],[1.0])|(1,[0],[1.0])|   (1,[0],[1.0])|(10,[7],[1.0])|(2,[0],[1.0])|(107,[0,14,57,87,...|[-30.675633028376...|[0.75788311405994...|       0.0|\n",
      "|10602|Acts Intended to ...|Serious Assault N...|             Assault|      European|        4|    Court Action|  Auckland East Area|  Auckland City|                    4|  Male| 1/05/2020|                1|             1|       50|50 - 54 years inc...|             Person|Known To Victim|              Child|    Family Member|                  0.0|               0.0|                     0.0|            1.0|  0.0|              1.0|      0.0|               0.0|            3.0|          0.0|     (13,[0],[1.0])|  (44,[0],[1.0])|        (27,[0],[1.0])|(7,[1],[1.0])|(2,[0],[1.0])|  (2,[1],[1.0])|(1,[0],[1.0])|   (1,[0],[1.0])|(10,[3],[1.0])|(2,[0],[1.0])|(107,[0,13,57,85,...|[-30.222147580240...|[0.61043419474636...|       0.0|\n",
      "|10603|Acts Intended to ...|Serious Assault N...|             Assault|         Maori|        4|    Court Action|  Auckland East Area|  Auckland City|                    4|  Male| 1/05/2020|                1|             1|       55|55 - 59 years inc...|             Person|Known To Victim|              Child|    Family Member|                  0.0|               0.0|                     0.0|            2.0|  0.0|              1.0|      0.0|               0.0|            3.0|          0.0|     (13,[0],[1.0])|  (44,[0],[1.0])|        (27,[0],[1.0])|(7,[2],[1.0])|(2,[0],[1.0])|  (2,[1],[1.0])|(1,[0],[1.0])|   (1,[0],[1.0])|(10,[3],[1.0])|(2,[0],[1.0])|(107,[0,13,57,86,...|[-30.322535754271...|[0.60534233158033...|       0.0|\n",
      "|10606|Acts Intended to ...|Serious Assault R...|             Assault|        Indian|        4|    Court Action|  Auckland East Area|  Auckland City|                    4|  Male| 1/05/2020|                1|             1|       50|50 - 54 years inc...|             Person|Known To Victim|              Child|    Family Member|                  0.0|               1.0|                     0.0|            3.0|  0.0|              1.0|      0.0|               0.0|            3.0|          0.0|     (13,[0],[1.0])|  (44,[1],[1.0])|        (27,[0],[1.0])|(7,[3],[1.0])|(2,[0],[1.0])|  (2,[1],[1.0])|(1,[0],[1.0])|   (1,[0],[1.0])|(10,[3],[1.0])|(2,[0],[1.0])|(107,[0,14,57,87,...|[-30.593843595368...|[0.63583698698517...|       0.0|\n",
      "|10750|Sexual Assault an...|Aggravated Sexual...|      Sexual Assault|         Asian|        1|    Court Action|  Auckland East Area|  Auckland City|                    1|  Male| 1/05/2020|                1|             1|       40|40 - 44 years inc...|             Person|Known To Victim|  Ex-Boy/Girlfriend|Non Family Member|                  2.0|               5.0|                     2.0|            4.0|  0.0|              1.0|      0.0|               0.0|            2.0|          2.0|     (13,[2],[1.0])|  (44,[5],[1.0])|        (27,[2],[1.0])|(7,[4],[1.0])|(2,[0],[1.0])|  (2,[1],[1.0])|(1,[0],[1.0])|   (1,[0],[1.0])|(10,[2],[1.0])|    (2,[],[])|(107,[2,18,59,88,...|[-29.236038605455...|[0.99852432825336...|       0.0|\n",
      "|10753|Sexual Assault an...|Aggravated Sexual...|      Sexual Assault|         Asian|        1|    Court Action|  Auckland East Area|  Auckland City|                    1|  Male| 1/05/2020|                1|             1|       55|55 - 59 years inc...|             Person|Known To Victim|  Ex-Boy/Girlfriend|Non Family Member|                  2.0|               5.0|                     2.0|            4.0|  0.0|              1.0|      0.0|               0.0|            2.0|          2.0|     (13,[2],[1.0])|  (44,[5],[1.0])|        (27,[2],[1.0])|(7,[4],[1.0])|(2,[0],[1.0])|  (2,[1],[1.0])|(1,[0],[1.0])|   (1,[0],[1.0])|(10,[2],[1.0])|    (2,[],[])|(107,[2,18,59,88,...|[-29.236038605455...|[0.99852432825336...|       0.0|\n",
      "|10791|Homicide and Rela...|              Murder|              Murder|         Maori|        1|    Court Action|  Auckland West Area|  Auckland City|                    1|  Male| 1/05/2020|                1|             1|       30|30 - 34 years inc...|             Person|Known To Victim|Known To Each Other|Non Family Member|                 11.0|              26.0|                    17.0|            2.0|  0.0|              0.0|      0.0|               0.0|            1.0|          2.0|    (13,[11],[1.0])| (44,[26],[1.0])|       (27,[17],[1.0])|(7,[2],[1.0])|(2,[0],[1.0])|  (2,[0],[1.0])|(1,[0],[1.0])|   (1,[0],[1.0])|(10,[1],[1.0])|    (2,[],[])|(107,[11,39,74,86...|[-36.572313229664...|       [1.0,0.0,0.0]|       0.0|\n",
      "|10821|Robbery, Extortio...|  Aggravated Robbery|             Robbery|      European|        1|    Court Action|  Auckland East Area|  Auckland City|                    1|  Male| 1/05/2020|                1|             1|       40|40 - 44 years inc...|             Person|Known To Victim|Known To Each Other|Non Family Member|                 10.0|              16.0|                    10.0|            1.0|  0.0|              1.0|      0.0|               0.0|            1.0|          2.0|    (13,[10],[1.0])| (44,[16],[1.0])|       (27,[10],[1.0])|(7,[1],[1.0])|(2,[0],[1.0])|  (2,[1],[1.0])|(1,[0],[1.0])|   (1,[0],[1.0])|(10,[1],[1.0])|    (2,[],[])|(107,[10,29,67,85...|[-32.771767648959...|[0.31594033681194...|       2.0|\n",
      "|10831|Theft and Related...|Theft (Except Mot...|Theft (Except Mot...|         Asian|        1|    Court Action|Auckland Central ...|  Auckland City|                    1|  Male| 1/05/2020|                1|             1|       60|60 - 64 years inc...|             Person|Known To Victim|Known To Each Other|Non Family Member|                  4.0|               7.0|                     5.0|            4.0|  0.0|              2.0|      0.0|               0.0|            1.0|          2.0|     (13,[4],[1.0])|  (44,[7],[1.0])|        (27,[5],[1.0])|(7,[4],[1.0])|(2,[0],[1.0])|      (2,[],[])|(1,[0],[1.0])|   (1,[0],[1.0])|(10,[1],[1.0])|    (2,[],[])|(107,[4,20,62,88,...|[-29.433495580374...|[0.14980598269918...|       1.0|\n",
      "|11682|Acts Intended to ...|Serious Assault R...|             Assault|      European|        1|Non-Court Action|Auckland Central ...|  Auckland City|                    1|Female| 1/04/2020|                1|             1|       60|60 - 64 years inc...|             Person|       Stranger|           Stranger|         Stranger|                  0.0|               1.0|                     0.0|            1.0|  1.0|              2.0|      1.0|               1.0|            0.0|          1.0|     (13,[0],[1.0])|  (44,[1],[1.0])|        (27,[0],[1.0])|(7,[1],[1.0])|(2,[1],[1.0])|      (2,[],[])|    (1,[],[])|       (1,[],[])|(10,[0],[1.0])|(2,[1],[1.0])|(107,[0,14,57,85,...|[-20.939978589976...|[0.52349368376254...|       0.0|\n",
      "|11714|Theft and Related...|Theft (Except Mot...|Theft (Except Mot...|        Indian|        1|Non-Court Action|Auckland Central ...|  Auckland City|                    1|Female| 1/04/2020|                1|             1|       45|45 - 49 years inc...|             Person|       Stranger|           Stranger|         Stranger|                  4.0|               7.0|                     5.0|            3.0|  1.0|              2.0|      1.0|               1.0|            0.0|          1.0|     (13,[4],[1.0])|  (44,[7],[1.0])|        (27,[5],[1.0])|(7,[3],[1.0])|(2,[1],[1.0])|      (2,[],[])|    (1,[],[])|       (1,[],[])|(10,[0],[1.0])|(2,[1],[1.0])|(107,[4,20,62,87,...|[-27.156713800684...|[0.18301049186994...|       1.0|\n",
      "|11721|Theft and Related...|Theft (Except Mot...|Theft (Except Mot...|         Asian|        1|Non-Court Action|  Auckland East Area|  Auckland City|                    1|Female| 1/04/2020|                1|             1|       30|30 - 34 years inc...|             Person|       Stranger|           Stranger|         Stranger|                  4.0|               7.0|                     5.0|            4.0|  1.0|              1.0|      1.0|               1.0|            0.0|          1.0|     (13,[4],[1.0])|  (44,[7],[1.0])|        (27,[5],[1.0])|(7,[4],[1.0])|(2,[1],[1.0])|  (2,[1],[1.0])|    (1,[],[])|       (1,[],[])|(10,[0],[1.0])|(2,[1],[1.0])|(107,[4,20,62,88,...|[-30.738388810951...|[0.07468546983811...|       1.0|\n",
      "+-----+--------------------+--------------------+--------------------+--------------+---------+----------------+--------------------+---------------+---------------------+------+----------+-----------------+--------------+---------+--------------------+-------------------+---------------+-------------------+-----------------+---------------------+------------------+------------------------+---------------+-----+-----------------+---------+------------------+---------------+-------------+-------------------+----------------+----------------------+-------------+-------------+---------------+-------------+----------------+--------------+-------------+--------------------+--------------------+--------------------+----------+\n",
      "only showing top 20 rows\n",
      "\n"
     ]
    },
    {
     "name": "stdout",
     "output_type": "stream",
     "text": [
      "Test set accuracy = 0.6250642013353878\n"
     ]
    }
   ],
   "source": [
    "#Naive Bayes\n",
    "from pyspark.ml.classification import NaiveBayes\n",
    "from pyspark.ml.evaluation import MulticlassClassificationEvaluator\n",
    "\n",
    "#Split the data into and trest\n",
    "splits = output2.randomSplit([0.9, 0.1])\n",
    "train = splits[0]\n",
    "test = splits[1]\n",
    "\n",
    "nb = NaiveBayes(smoothing=0, modelType=\"multinomial\")\n",
    "\n",
    "model = nb.fit(train)\n",
    "print(\"test\")\n",
    "predictions = model.transform(test)\n",
    "predictions.show()\n",
    "\n",
    "evaluator = MulticlassClassificationEvaluator(labelCol=\"label\", predictionCol=\"prediction\",\n",
    "                                              metricName=\"accuracy\")\n",
    "accuracy = evaluator.evaluate(predictions)\n",
    "print(\"Test set accuracy = \" + str(accuracy))"
   ]
  },
  {
   "cell_type": "code",
   "execution_count": 55,
   "metadata": {},
   "outputs": [
    {
     "name": "stdout",
     "output_type": "stream",
     "text": [
      "test\n",
      "Test set accuracy = 0.6120095837076969\n"
     ]
    }
   ],
   "source": [
    "#Naive Bayes\n",
    "from pyspark.ml.classification import NaiveBayes\n",
    "from pyspark.ml.evaluation import MulticlassClassificationEvaluator\n",
    "\n",
    "#Split the data into and trest\n",
    "splits = output2.randomSplit([0.65, 0.35])\n",
    "train = splits[0]\n",
    "test = splits[1]\n",
    "\n",
    "nb = NaiveBayes(smoothing=1, modelType=\"multinomial\")\n",
    "\n",
    "model = nb.fit(train)\n",
    "print(\"test\")\n",
    "predictions = model.transform(test)\n",
    "#predictions.show()\n",
    "\n",
    "evaluator = MulticlassClassificationEvaluator(labelCol=\"label\", predictionCol=\"prediction\",\n",
    "                                              metricName=\"accuracy\")\n",
    "accuracy = evaluator.evaluate(predictions)\n",
    "print(\"Test set accuracy = \" + str(accuracy))"
   ]
  },
  {
   "cell_type": "code",
   "execution_count": 56,
   "metadata": {},
   "outputs": [
    {
     "name": "stdout",
     "output_type": "stream",
     "text": [
      "+---+-----------------------------------------------------------------+---------------------------------------+------------------------------------+--------------+---------+----------------+---------------------+---------------+---------------------+----+----------+-----------------+--------------+---------+-----------------------+-------------------+---------------+-------------------+-----------------+---------------------+------------------+------------------------+---------------+---------+-----------------+---------+------------------+---------------+-------------+-------------------+----------------+----------------------+-------------+-------------+---------------+-------------+----------------+--------------+-----------+-----------------------------------------------------------------------------------------+\n",
      "|ID |ANZSOC Division                                                  |ANZSOC Group                           |ANZSOC Subdivision                  |Ethnicity     |Frequency|Mop Division    |Police Area          |Police District|Proceedings Frequency|SEX |Year Month|Number of Records|Offender Count|Age Group|Age Group 5Yr Band     |Person/Organisation|ROV Division   |ROV Group          |ROVSubdivision   |ANZSOC_Division_Index|ANZSOC_Group_Index|ANZSOC_Subdivision_Index|Ethnicity_Index|Mop_Index|Police_area_index|SEX_index|ROV_Division_Index|ROV_Group_Index|ROV_Sub_index|ANZSOC_Division_vec|ANZSOC_Group_vec|ANZSOC_Subdivision_vec|Ethnicity_vec|Mop_vec      |Police_Area_vec|SEX_vec      |ROV_Division_vec|ROV_Group_vec |ROV_Sub_vec|features                                                                                 |\n",
      "+---+-----------------------------------------------------------------+---------------------------------------+------------------------------------+--------------+---------+----------------+---------------------+---------------+---------------------+----+----------+-----------------+--------------+---------+-----------------------+-------------------+---------------+-------------------+-----------------+---------------------+------------------+------------------------+---------------+---------+-----------------+---------+------------------+---------------+-------------+-------------------+----------------+----------------------+-------------+-------------+---------------+-------------+----------------+--------------+-----------+-----------------------------------------------------------------------------------------+\n",
      "|4  |Acts Intended to Cause Injury                                    |Serious Assault Not Resulting in Injury|Assault                             |Pacific Island|2        |Non-Court Action|Auckland East Area   |Auckland City  |2                    |Male|1/02/2020 |1                |1             |15       |15 - 19 years inclusive|Person             |Known To Victim|Known To Each Other|Non Family Member|0.0                  |0.0               |0.0                     |0.0            |1.0      |1.0              |0.0      |0.0               |1.0            |2.0          |(13,[0],[1.0])     |(44,[0],[1.0])  |(27,[0],[1.0])        |(7,[0],[1.0])|(2,[1],[1.0])|(2,[1],[1.0])  |(1,[0],[1.0])|(1,[0],[1.0])   |(10,[1],[1.0])|(2,[],[])  |(110,[0,13,57,84,92,93,94,96,107,108,109],[1.0,1.0,1.0,1.0,1.0,1.0,1.0,1.0,15.0,2.0,1.0])|\n",
      "|5  |Acts Intended to Cause Injury                                    |Serious Assault Not Resulting in Injury|Assault                             |Pacific Island|2        |Non-Court Action|Auckland East Area   |Auckland City  |2                    |Male|1/02/2020 |1                |1             |25       |25 - 29 years inclusive|Person             |Known To Victim|Known To Each Other|Non Family Member|0.0                  |0.0               |0.0                     |0.0            |1.0      |1.0              |0.0      |0.0               |1.0            |2.0          |(13,[0],[1.0])     |(44,[0],[1.0])  |(27,[0],[1.0])        |(7,[0],[1.0])|(2,[1],[1.0])|(2,[1],[1.0])  |(1,[0],[1.0])|(1,[0],[1.0])   |(10,[1],[1.0])|(2,[],[])  |(110,[0,13,57,84,92,93,94,96,107,108,109],[1.0,1.0,1.0,1.0,1.0,1.0,1.0,1.0,25.0,2.0,1.0])|\n",
      "|6  |Acts Intended to Cause Injury                                    |Serious Assault Not Resulting in Injury|Assault                             |Pacific Island|2        |Non-Court Action|Auckland East Area   |Auckland City  |2                    |Male|1/02/2020 |1                |1             |40       |40 - 44 years inclusive|Person             |Known To Victim|Known To Each Other|Non Family Member|0.0                  |0.0               |0.0                     |0.0            |1.0      |1.0              |0.0      |0.0               |1.0            |2.0          |(13,[0],[1.0])     |(44,[0],[1.0])  |(27,[0],[1.0])        |(7,[0],[1.0])|(2,[1],[1.0])|(2,[1],[1.0])  |(1,[0],[1.0])|(1,[0],[1.0])   |(10,[1],[1.0])|(2,[],[])  |(110,[0,13,57,84,92,93,94,96,107,108,109],[1.0,1.0,1.0,1.0,1.0,1.0,1.0,1.0,40.0,2.0,1.0])|\n",
      "|7  |Acts Intended to Cause Injury                                    |Common Assault                         |Assault                             |Indian        |2        |Non-Court Action|Auckland West Area   |Auckland City  |2                    |Male|1/02/2020 |1                |1             |20       |20 - 24 years inclusive|Person             |Known To Victim|Known To Each Other|Non Family Member|0.0                  |3.0               |0.0                     |3.0            |1.0      |0.0              |0.0      |0.0               |1.0            |2.0          |(13,[0],[1.0])     |(44,[3],[1.0])  |(27,[0],[1.0])        |(7,[3],[1.0])|(2,[1],[1.0])|(2,[0],[1.0])  |(1,[0],[1.0])|(1,[0],[1.0])   |(10,[1],[1.0])|(2,[],[])  |(110,[0,16,57,87,91,93,94,96,107,108,109],[1.0,1.0,1.0,1.0,1.0,1.0,1.0,1.0,20.0,2.0,1.0])|\n",
      "|8  |Acts Intended to Cause Injury                                    |Common Assault                         |Assault                             |Indian        |2        |Non-Court Action|Auckland West Area   |Auckland City  |2                    |Male|1/02/2020 |1                |1             |40       |40 - 44 years inclusive|Person             |Known To Victim|Known To Each Other|Non Family Member|0.0                  |3.0               |0.0                     |3.0            |1.0      |0.0              |0.0      |0.0               |1.0            |2.0          |(13,[0],[1.0])     |(44,[3],[1.0])  |(27,[0],[1.0])        |(7,[3],[1.0])|(2,[1],[1.0])|(2,[0],[1.0])  |(1,[0],[1.0])|(1,[0],[1.0])   |(10,[1],[1.0])|(2,[],[])  |(110,[0,16,57,87,91,93,94,96,107,108,109],[1.0,1.0,1.0,1.0,1.0,1.0,1.0,1.0,40.0,2.0,1.0])|\n",
      "|9  |Acts Intended to Cause Injury                                    |Common Assault                         |Assault                             |Pacific Island|2        |Non-Court Action|Auckland West Area   |Auckland City  |2                    |Male|1/02/2020 |1                |1             |15       |15 - 19 years inclusive|Person             |Known To Victim|Known To Each Other|Non Family Member|0.0                  |3.0               |0.0                     |0.0            |1.0      |0.0              |0.0      |0.0               |1.0            |2.0          |(13,[0],[1.0])     |(44,[3],[1.0])  |(27,[0],[1.0])        |(7,[0],[1.0])|(2,[1],[1.0])|(2,[0],[1.0])  |(1,[0],[1.0])|(1,[0],[1.0])   |(10,[1],[1.0])|(2,[],[])  |(110,[0,16,57,84,91,93,94,96,107,108,109],[1.0,1.0,1.0,1.0,1.0,1.0,1.0,1.0,15.0,2.0,1.0])|\n",
      "|10 |Acts Intended to Cause Injury                                    |Serious Assault Not Resulting in Injury|Assault                             |Pacific Island|2        |Non-Court Action|Auckland West Area   |Auckland City  |2                    |Male|1/02/2020 |1                |1             |15       |15 - 19 years inclusive|Person             |Known To Victim|Known To Each Other|Non Family Member|0.0                  |0.0               |0.0                     |0.0            |1.0      |0.0              |0.0      |0.0               |1.0            |2.0          |(13,[0],[1.0])     |(44,[0],[1.0])  |(27,[0],[1.0])        |(7,[0],[1.0])|(2,[1],[1.0])|(2,[0],[1.0])  |(1,[0],[1.0])|(1,[0],[1.0])   |(10,[1],[1.0])|(2,[],[])  |(110,[0,13,57,84,91,93,94,96,107,108,109],[1.0,1.0,1.0,1.0,1.0,1.0,1.0,1.0,15.0,2.0,1.0])|\n",
      "|11 |Acts Intended to Cause Injury                                    |Serious Assault Not Resulting in Injury|Assault                             |Pacific Island|2        |Non-Court Action|Auckland West Area   |Auckland City  |2                    |Male|1/02/2020 |1                |1             |25       |25 - 29 years inclusive|Person             |Known To Victim|Known To Each Other|Non Family Member|0.0                  |0.0               |0.0                     |0.0            |1.0      |0.0              |0.0      |0.0               |1.0            |2.0          |(13,[0],[1.0])     |(44,[0],[1.0])  |(27,[0],[1.0])        |(7,[0],[1.0])|(2,[1],[1.0])|(2,[0],[1.0])  |(1,[0],[1.0])|(1,[0],[1.0])   |(10,[1],[1.0])|(2,[],[])  |(110,[0,13,57,84,91,93,94,96,107,108,109],[1.0,1.0,1.0,1.0,1.0,1.0,1.0,1.0,25.0,2.0,1.0])|\n",
      "|12 |Acts Intended to Cause Injury                                    |Serious Assault Not Resulting in Injury|Assault                             |Pacific Island|2        |Non-Court Action|Auckland West Area   |Auckland City  |2                    |Male|1/02/2020 |1                |1             |40       |40 - 44 years inclusive|Person             |Known To Victim|Known To Each Other|Non Family Member|0.0                  |0.0               |0.0                     |0.0            |1.0      |0.0              |0.0      |0.0               |1.0            |2.0          |(13,[0],[1.0])     |(44,[0],[1.0])  |(27,[0],[1.0])        |(7,[0],[1.0])|(2,[1],[1.0])|(2,[0],[1.0])  |(1,[0],[1.0])|(1,[0],[1.0])   |(10,[1],[1.0])|(2,[],[])  |(110,[0,13,57,84,91,93,94,96,107,108,109],[1.0,1.0,1.0,1.0,1.0,1.0,1.0,1.0,40.0,2.0,1.0])|\n",
      "|53 |Abduction, Harassment and Other Related Offences Against a Person|Threatening Behaviour                  |Harassment and Threatening Behaviour|Pacific Island|3        |Non-Court Action|Auckland East Area   |Auckland City  |3                    |Male|1/02/2020 |1                |1             |45       |45 - 49 years inclusive|Person             |Known To Victim|Known To Each Other|Non Family Member|1.0                  |2.0               |1.0                     |0.0            |1.0      |1.0              |0.0      |0.0               |1.0            |2.0          |(13,[1],[1.0])     |(44,[2],[1.0])  |(27,[1],[1.0])        |(7,[0],[1.0])|(2,[1],[1.0])|(2,[1],[1.0])  |(1,[0],[1.0])|(1,[0],[1.0])   |(10,[1],[1.0])|(2,[],[])  |(110,[1,15,58,84,92,93,94,96,107,108,109],[1.0,1.0,1.0,1.0,1.0,1.0,1.0,1.0,45.0,3.0,1.0])|\n",
      "|65 |Acts Intended to Cause Injury                                    |Common Assault                         |Assault                             |Maori         |4        |Non-Court Action|Auckland Central Area|Auckland City  |4                    |Male|1/02/2020 |1                |1             |25       |25 - 29 years inclusive|Person             |Known To Victim|Known To Each Other|Non Family Member|0.0                  |3.0               |0.0                     |2.0            |1.0      |2.0              |0.0      |0.0               |1.0            |2.0          |(13,[0],[1.0])     |(44,[3],[1.0])  |(27,[0],[1.0])        |(7,[2],[1.0])|(2,[1],[1.0])|(2,[],[])      |(1,[0],[1.0])|(1,[0],[1.0])   |(10,[1],[1.0])|(2,[],[])  |(110,[0,16,57,86,93,94,96,107,108,109],[1.0,1.0,1.0,1.0,1.0,1.0,1.0,25.0,4.0,1.0])       |\n",
      "|66 |Acts Intended to Cause Injury                                    |Common Assault                         |Assault                             |Maori         |4        |Non-Court Action|Auckland Central Area|Auckland City  |4                    |Male|1/02/2020 |1                |1             |35       |35 - 39 years inclusive|Person             |Known To Victim|Known To Each Other|Non Family Member|0.0                  |3.0               |0.0                     |2.0            |1.0      |2.0              |0.0      |0.0               |1.0            |2.0          |(13,[0],[1.0])     |(44,[3],[1.0])  |(27,[0],[1.0])        |(7,[2],[1.0])|(2,[1],[1.0])|(2,[],[])      |(1,[0],[1.0])|(1,[0],[1.0])   |(10,[1],[1.0])|(2,[],[])  |(110,[0,16,57,86,93,94,96,107,108,109],[1.0,1.0,1.0,1.0,1.0,1.0,1.0,35.0,4.0,1.0])       |\n",
      "|67 |Acts Intended to Cause Injury                                    |Common Assault                         |Assault                             |Maori         |4        |Non-Court Action|Auckland Central Area|Auckland City  |4                    |Male|1/02/2020 |1                |1             |45       |45 - 49 years inclusive|Person             |Known To Victim|Known To Each Other|Non Family Member|0.0                  |3.0               |0.0                     |2.0            |1.0      |2.0              |0.0      |0.0               |1.0            |2.0          |(13,[0],[1.0])     |(44,[3],[1.0])  |(27,[0],[1.0])        |(7,[2],[1.0])|(2,[1],[1.0])|(2,[],[])      |(1,[0],[1.0])|(1,[0],[1.0])   |(10,[1],[1.0])|(2,[],[])  |(110,[0,16,57,86,93,94,96,107,108,109],[1.0,1.0,1.0,1.0,1.0,1.0,1.0,45.0,4.0,1.0])       |\n",
      "|68 |Acts Intended to Cause Injury                                    |Common Assault                         |Assault                             |European      |4        |Non-Court Action|Auckland East Area   |Auckland City  |4                    |Male|1/02/2020 |1                |1             |10       |10 - 14 years inclusive|Person             |Known To Victim|Known To Each Other|Non Family Member|0.0                  |3.0               |0.0                     |1.0            |1.0      |1.0              |0.0      |0.0               |1.0            |2.0          |(13,[0],[1.0])     |(44,[3],[1.0])  |(27,[0],[1.0])        |(7,[1],[1.0])|(2,[1],[1.0])|(2,[1],[1.0])  |(1,[0],[1.0])|(1,[0],[1.0])   |(10,[1],[1.0])|(2,[],[])  |(110,[0,16,57,85,92,93,94,96,107,108,109],[1.0,1.0,1.0,1.0,1.0,1.0,1.0,1.0,10.0,4.0,1.0])|\n",
      "|69 |Acts Intended to Cause Injury                                    |Common Assault                         |Assault                             |European      |4        |Non-Court Action|Auckland East Area   |Auckland City  |4                    |Male|1/02/2020 |1                |1             |20       |20 - 24 years inclusive|Person             |Known To Victim|Known To Each Other|Non Family Member|0.0                  |3.0               |0.0                     |1.0            |1.0      |1.0              |0.0      |0.0               |1.0            |2.0          |(13,[0],[1.0])     |(44,[3],[1.0])  |(27,[0],[1.0])        |(7,[1],[1.0])|(2,[1],[1.0])|(2,[1],[1.0])  |(1,[0],[1.0])|(1,[0],[1.0])   |(10,[1],[1.0])|(2,[],[])  |(110,[0,16,57,85,92,93,94,96,107,108,109],[1.0,1.0,1.0,1.0,1.0,1.0,1.0,1.0,20.0,4.0,1.0])|\n",
      "|70 |Acts Intended to Cause Injury                                    |Common Assault                         |Assault                             |European      |4        |Non-Court Action|Auckland East Area   |Auckland City  |4                    |Male|1/02/2020 |1                |1             |25       |25 - 29 years inclusive|Person             |Known To Victim|Known To Each Other|Non Family Member|0.0                  |3.0               |0.0                     |1.0            |1.0      |1.0              |0.0      |0.0               |1.0            |2.0          |(13,[0],[1.0])     |(44,[3],[1.0])  |(27,[0],[1.0])        |(7,[1],[1.0])|(2,[1],[1.0])|(2,[1],[1.0])  |(1,[0],[1.0])|(1,[0],[1.0])   |(10,[1],[1.0])|(2,[],[])  |(110,[0,16,57,85,92,93,94,96,107,108,109],[1.0,1.0,1.0,1.0,1.0,1.0,1.0,1.0,25.0,4.0,1.0])|\n",
      "|71 |Acts Intended to Cause Injury                                    |Common Assault                         |Assault                             |European      |4        |Non-Court Action|Auckland East Area   |Auckland City  |4                    |Male|1/02/2020 |1                |1             |30       |30 - 34 years inclusive|Person             |Known To Victim|Known To Each Other|Non Family Member|0.0                  |3.0               |0.0                     |1.0            |1.0      |1.0              |0.0      |0.0               |1.0            |2.0          |(13,[0],[1.0])     |(44,[3],[1.0])  |(27,[0],[1.0])        |(7,[1],[1.0])|(2,[1],[1.0])|(2,[1],[1.0])  |(1,[0],[1.0])|(1,[0],[1.0])   |(10,[1],[1.0])|(2,[],[])  |(110,[0,16,57,85,92,93,94,96,107,108,109],[1.0,1.0,1.0,1.0,1.0,1.0,1.0,1.0,30.0,4.0,1.0])|\n",
      "|73 |Abduction, Harassment and Other Related Offences Against a Person|Threatening Behaviour                  |Harassment and Threatening Behaviour|European      |5        |Non-Court Action|Auckland East Area   |Auckland City  |5 to 9               |Male|1/02/2020 |1                |1             |15       |15 - 19 years inclusive|Person             |Known To Victim|Known To Each Other|Non Family Member|1.0                  |2.0               |1.0                     |1.0            |1.0      |1.0              |0.0      |0.0               |1.0            |2.0          |(13,[1],[1.0])     |(44,[2],[1.0])  |(27,[1],[1.0])        |(7,[1],[1.0])|(2,[1],[1.0])|(2,[1],[1.0])  |(1,[0],[1.0])|(1,[0],[1.0])   |(10,[1],[1.0])|(2,[],[])  |(110,[1,15,58,85,92,93,94,96,107,108,109],[1.0,1.0,1.0,1.0,1.0,1.0,1.0,1.0,15.0,5.0,1.0])|\n",
      "|74 |Abduction, Harassment and Other Related Offences Against a Person|Threatening Behaviour                  |Harassment and Threatening Behaviour|European      |5        |Non-Court Action|Auckland East Area   |Auckland City  |5 to 9               |Male|1/02/2020 |1                |1             |30       |30 - 34 years inclusive|Person             |Known To Victim|Known To Each Other|Non Family Member|1.0                  |2.0               |1.0                     |1.0            |1.0      |1.0              |0.0      |0.0               |1.0            |2.0          |(13,[1],[1.0])     |(44,[2],[1.0])  |(27,[1],[1.0])        |(7,[1],[1.0])|(2,[1],[1.0])|(2,[1],[1.0])  |(1,[0],[1.0])|(1,[0],[1.0])   |(10,[1],[1.0])|(2,[],[])  |(110,[1,15,58,85,92,93,94,96,107,108,109],[1.0,1.0,1.0,1.0,1.0,1.0,1.0,1.0,30.0,5.0,1.0])|\n",
      "|75 |Abduction, Harassment and Other Related Offences Against a Person|Threatening Behaviour                  |Harassment and Threatening Behaviour|European      |5        |Non-Court Action|Auckland East Area   |Auckland City  |5 to 9               |Male|1/02/2020 |1                |1             |40       |40 - 44 years inclusive|Person             |Known To Victim|Known To Each Other|Non Family Member|1.0                  |2.0               |1.0                     |1.0            |1.0      |1.0              |0.0      |0.0               |1.0            |2.0          |(13,[1],[1.0])     |(44,[2],[1.0])  |(27,[1],[1.0])        |(7,[1],[1.0])|(2,[1],[1.0])|(2,[1],[1.0])  |(1,[0],[1.0])|(1,[0],[1.0])   |(10,[1],[1.0])|(2,[],[])  |(110,[1,15,58,85,92,93,94,96,107,108,109],[1.0,1.0,1.0,1.0,1.0,1.0,1.0,1.0,40.0,5.0,1.0])|\n",
      "+---+-----------------------------------------------------------------+---------------------------------------+------------------------------------+--------------+---------+----------------+---------------------+---------------+---------------------+----+----------+-----------------+--------------+---------+-----------------------+-------------------+---------------+-------------------+-----------------+---------------------+------------------+------------------------+---------------+---------+-----------------+---------+------------------+---------------+-------------+-------------------+----------------+----------------------+-------------+-------------+---------------+-------------+----------------+--------------+-----------+-----------------------------------------------------------------------------------------+\n",
      "only showing top 20 rows\n",
      "\n"
     ]
    },
    {
     "name": "stdout",
     "output_type": "stream",
     "text": [
      "+-----------------------------------------------------------------------------------------+\n",
      "|features                                                                                 |\n",
      "+-----------------------------------------------------------------------------------------+\n",
      "|(110,[0,13,57,84,92,93,94,96,107,108,109],[1.0,1.0,1.0,1.0,1.0,1.0,1.0,1.0,15.0,2.0,1.0])|\n",
      "|(110,[0,13,57,84,92,93,94,96,107,108,109],[1.0,1.0,1.0,1.0,1.0,1.0,1.0,1.0,25.0,2.0,1.0])|\n",
      "|(110,[0,13,57,84,92,93,94,96,107,108,109],[1.0,1.0,1.0,1.0,1.0,1.0,1.0,1.0,40.0,2.0,1.0])|\n",
      "|(110,[0,16,57,87,91,93,94,96,107,108,109],[1.0,1.0,1.0,1.0,1.0,1.0,1.0,1.0,20.0,2.0,1.0])|\n",
      "|(110,[0,16,57,87,91,93,94,96,107,108,109],[1.0,1.0,1.0,1.0,1.0,1.0,1.0,1.0,40.0,2.0,1.0])|\n",
      "|(110,[0,16,57,84,91,93,94,96,107,108,109],[1.0,1.0,1.0,1.0,1.0,1.0,1.0,1.0,15.0,2.0,1.0])|\n",
      "|(110,[0,13,57,84,91,93,94,96,107,108,109],[1.0,1.0,1.0,1.0,1.0,1.0,1.0,1.0,15.0,2.0,1.0])|\n",
      "|(110,[0,13,57,84,91,93,94,96,107,108,109],[1.0,1.0,1.0,1.0,1.0,1.0,1.0,1.0,25.0,2.0,1.0])|\n",
      "|(110,[0,13,57,84,91,93,94,96,107,108,109],[1.0,1.0,1.0,1.0,1.0,1.0,1.0,1.0,40.0,2.0,1.0])|\n",
      "|(110,[1,15,58,84,92,93,94,96,107,108,109],[1.0,1.0,1.0,1.0,1.0,1.0,1.0,1.0,45.0,3.0,1.0])|\n",
      "|(110,[0,16,57,86,93,94,96,107,108,109],[1.0,1.0,1.0,1.0,1.0,1.0,1.0,25.0,4.0,1.0])       |\n",
      "|(110,[0,16,57,86,93,94,96,107,108,109],[1.0,1.0,1.0,1.0,1.0,1.0,1.0,35.0,4.0,1.0])       |\n",
      "|(110,[0,16,57,86,93,94,96,107,108,109],[1.0,1.0,1.0,1.0,1.0,1.0,1.0,45.0,4.0,1.0])       |\n",
      "|(110,[0,16,57,85,92,93,94,96,107,108,109],[1.0,1.0,1.0,1.0,1.0,1.0,1.0,1.0,10.0,4.0,1.0])|\n",
      "|(110,[0,16,57,85,92,93,94,96,107,108,109],[1.0,1.0,1.0,1.0,1.0,1.0,1.0,1.0,20.0,4.0,1.0])|\n",
      "|(110,[0,16,57,85,92,93,94,96,107,108,109],[1.0,1.0,1.0,1.0,1.0,1.0,1.0,1.0,25.0,4.0,1.0])|\n",
      "|(110,[0,16,57,85,92,93,94,96,107,108,109],[1.0,1.0,1.0,1.0,1.0,1.0,1.0,1.0,30.0,4.0,1.0])|\n",
      "|(110,[1,15,58,85,92,93,94,96,107,108,109],[1.0,1.0,1.0,1.0,1.0,1.0,1.0,1.0,15.0,5.0,1.0])|\n",
      "|(110,[1,15,58,85,92,93,94,96,107,108,109],[1.0,1.0,1.0,1.0,1.0,1.0,1.0,1.0,30.0,5.0,1.0])|\n",
      "|(110,[1,15,58,85,92,93,94,96,107,108,109],[1.0,1.0,1.0,1.0,1.0,1.0,1.0,1.0,40.0,5.0,1.0])|\n",
      "+-----------------------------------------------------------------------------------------+\n",
      "only showing top 20 rows\n",
      "\n"
     ]
    },
    {
     "data": {
      "text/plain": [
       "['ID',\n",
       " 'ANZSOC Division',\n",
       " 'ANZSOC Group',\n",
       " 'ANZSOC Subdivision',\n",
       " 'Ethnicity',\n",
       " 'Frequency',\n",
       " 'Mop Division',\n",
       " 'Police Area',\n",
       " 'Police District',\n",
       " 'Proceedings Frequency',\n",
       " 'SEX',\n",
       " 'Year Month',\n",
       " 'Number of Records',\n",
       " 'Offender Count',\n",
       " 'Age Group',\n",
       " 'Age Group 5Yr Band',\n",
       " 'Person/Organisation',\n",
       " 'ROV Division',\n",
       " 'ROV Group',\n",
       " 'ROVSubdivision',\n",
       " 'ANZSOC_Division_Index',\n",
       " 'ANZSOC_Group_Index',\n",
       " 'ANZSOC_Subdivision_Index',\n",
       " 'Ethnicity_Index',\n",
       " 'label',\n",
       " 'Police_area_index',\n",
       " 'SEX_index',\n",
       " 'ROV_Division_Index',\n",
       " 'ROV_Group_Index',\n",
       " 'ROV_Sub_index',\n",
       " 'ANZSOC_Division_vec',\n",
       " 'ANZSOC_Group_vec',\n",
       " 'ANZSOC_Subdivision_vec',\n",
       " 'Ethnicity_vec',\n",
       " 'Mop_vec',\n",
       " 'Police_Area_vec',\n",
       " 'SEX_vec',\n",
       " 'ROV_Division_vec',\n",
       " 'ROV_Group_vec',\n",
       " 'ROV_Sub_vec',\n",
       " 'features']"
      ]
     },
     "execution_count": 56,
     "metadata": {},
     "output_type": "execute_result"
    }
   ],
   "source": [
    "#making label column for naive bayes with Continuos values\n",
    "assembler = VectorAssembler(inputCols = [\"ANZSOC_Division_vec\", \"ANZSOC_Group_vec\", \"ANZSOC_Subdivision_vec\", \"Ethnicity_vec\", \"Police_Area_vec\", \"SEX_vec\", \"ROV_Division_vec\",  \"ROV_Group_vec\", \"ROV_Sub_vec\", \"Age Group\", \"Frequency\", \"Offender Count\"], outputCol = \"features\")\n",
    "\n",
    "output1 = assembler.transform(master)\n",
    "output1.show(truncate = False)\n",
    "output1.select(\"features\").show(truncate = False)\n",
    "output1.columns\n",
    "output2 = output1.withColumnRenamed(\"Mop_Index\", \"label\")\n",
    "output2.columns"
   ]
  },
  {
   "cell_type": "code",
   "execution_count": 57,
   "metadata": {},
   "outputs": [
    {
     "name": "stdout",
     "output_type": "stream",
     "text": [
      "test\n",
      "Test set accuracy = 0.6553428042001236\n"
     ]
    }
   ],
   "source": [
    "#Naive Bayes with the conitnuous data\n",
    "from pyspark.ml.classification import NaiveBayes\n",
    "from pyspark.ml.evaluation import MulticlassClassificationEvaluator\n",
    "\n",
    "#Split the data into and trest\n",
    "splits = output2.randomSplit([0.65, 0.35])\n",
    "train = splits[0]\n",
    "test = splits[1]\n",
    "\n",
    "nb = NaiveBayes(smoothing=1, modelType=\"multinomial\")\n",
    "\n",
    "model = nb.fit(train)\n",
    "print(\"test\")\n",
    "predictions = model.transform(test)\n",
    "#predictions.show()\n",
    "\n",
    "evaluator = MulticlassClassificationEvaluator(labelCol=\"label\", predictionCol=\"prediction\",\n",
    "                                              metricName=\"accuracy\")\n",
    "accuracy = evaluator.evaluate(predictions)\n",
    "print(\"Test set accuracy = \" + str(accuracy))"
   ]
  },
  {
   "cell_type": "code",
   "execution_count": 75,
   "metadata": {},
   "outputs": [
    {
     "name": "stdout",
     "output_type": "stream",
     "text": [
      "+---+-----------------------------------------------------------------+---------------------------------------+------------------------------------+--------------+---------+----------------+---------------------+---------------+---------------------+----+----------+-----------------+--------------+---------+-----------------------+-------------------+---------------+-------------------+-----------------+---------------------+------------------+------------------------+---------------+---------+-----------------+---------+------------------+---------------+-------------+-------------------+----------------+----------------------+-------------+-------------+---------------+-------------+----------------+--------------+-----------+---------------------------------------------------------+\n",
      "|ID |ANZSOC Division                                                  |ANZSOC Group                           |ANZSOC Subdivision                  |Ethnicity     |Frequency|Mop Division    |Police Area          |Police District|Proceedings Frequency|SEX |Year Month|Number of Records|Offender Count|Age Group|Age Group 5Yr Band     |Person/Organisation|ROV Division   |ROV Group          |ROVSubdivision   |ANZSOC_Division_Index|ANZSOC_Group_Index|ANZSOC_Subdivision_Index|Ethnicity_Index|Mop_Index|Police_area_index|SEX_index|ROV_Division_Index|ROV_Group_Index|ROV_Sub_index|ANZSOC_Division_vec|ANZSOC_Group_vec|ANZSOC_Subdivision_vec|Ethnicity_vec|Mop_vec      |Police_Area_vec|SEX_vec      |ROV_Division_vec|ROV_Group_vec |ROV_Sub_vec|features                                                 |\n",
      "+---+-----------------------------------------------------------------+---------------------------------------+------------------------------------+--------------+---------+----------------+---------------------+---------------+---------------------+----+----------+-----------------+--------------+---------+-----------------------+-------------------+---------------+-------------------+-----------------+---------------------+------------------+------------------------+---------------+---------+-----------------+---------+------------------+---------------+-------------+-------------------+----------------+----------------------+-------------+-------------+---------------+-------------+----------------+--------------+-----------+---------------------------------------------------------+\n",
      "|4  |Acts Intended to Cause Injury                                    |Serious Assault Not Resulting in Injury|Assault                             |Pacific Island|2        |Non-Court Action|Auckland East Area   |Auckland City  |2                    |Male|1/02/2020 |1                |1             |15       |15 - 19 years inclusive|Person             |Known To Victim|Known To Each Other|Non Family Member|0.0                  |0.0               |0.0                     |0.0            |1.0      |1.0              |0.0      |0.0               |1.0            |2.0          |(13,[0],[1.0])     |(44,[0],[1.0])  |(27,[0],[1.0])        |(7,[0],[1.0])|(2,[1],[1.0])|(2,[1],[1.0])  |(1,[0],[1.0])|(1,[0],[1.0])   |(10,[1],[1.0])|(2,[],[])  |(94,[0,13,57,84,85,86,87],[1.0,1.0,1.0,15.0,2.0,1.0,1.0])|\n",
      "|5  |Acts Intended to Cause Injury                                    |Serious Assault Not Resulting in Injury|Assault                             |Pacific Island|2        |Non-Court Action|Auckland East Area   |Auckland City  |2                    |Male|1/02/2020 |1                |1             |25       |25 - 29 years inclusive|Person             |Known To Victim|Known To Each Other|Non Family Member|0.0                  |0.0               |0.0                     |0.0            |1.0      |1.0              |0.0      |0.0               |1.0            |2.0          |(13,[0],[1.0])     |(44,[0],[1.0])  |(27,[0],[1.0])        |(7,[0],[1.0])|(2,[1],[1.0])|(2,[1],[1.0])  |(1,[0],[1.0])|(1,[0],[1.0])   |(10,[1],[1.0])|(2,[],[])  |(94,[0,13,57,84,85,86,87],[1.0,1.0,1.0,25.0,2.0,1.0,1.0])|\n",
      "|6  |Acts Intended to Cause Injury                                    |Serious Assault Not Resulting in Injury|Assault                             |Pacific Island|2        |Non-Court Action|Auckland East Area   |Auckland City  |2                    |Male|1/02/2020 |1                |1             |40       |40 - 44 years inclusive|Person             |Known To Victim|Known To Each Other|Non Family Member|0.0                  |0.0               |0.0                     |0.0            |1.0      |1.0              |0.0      |0.0               |1.0            |2.0          |(13,[0],[1.0])     |(44,[0],[1.0])  |(27,[0],[1.0])        |(7,[0],[1.0])|(2,[1],[1.0])|(2,[1],[1.0])  |(1,[0],[1.0])|(1,[0],[1.0])   |(10,[1],[1.0])|(2,[],[])  |(94,[0,13,57,84,85,86,87],[1.0,1.0,1.0,40.0,2.0,1.0,1.0])|\n",
      "|7  |Acts Intended to Cause Injury                                    |Common Assault                         |Assault                             |Indian        |2        |Non-Court Action|Auckland West Area   |Auckland City  |2                    |Male|1/02/2020 |1                |1             |20       |20 - 24 years inclusive|Person             |Known To Victim|Known To Each Other|Non Family Member|0.0                  |3.0               |0.0                     |3.0            |1.0      |0.0              |0.0      |0.0               |1.0            |2.0          |(13,[0],[1.0])     |(44,[3],[1.0])  |(27,[0],[1.0])        |(7,[3],[1.0])|(2,[1],[1.0])|(2,[0],[1.0])  |(1,[0],[1.0])|(1,[0],[1.0])   |(10,[1],[1.0])|(2,[],[])  |(94,[0,16,57,84,85,86,90],[1.0,1.0,1.0,20.0,2.0,1.0,1.0])|\n",
      "|8  |Acts Intended to Cause Injury                                    |Common Assault                         |Assault                             |Indian        |2        |Non-Court Action|Auckland West Area   |Auckland City  |2                    |Male|1/02/2020 |1                |1             |40       |40 - 44 years inclusive|Person             |Known To Victim|Known To Each Other|Non Family Member|0.0                  |3.0               |0.0                     |3.0            |1.0      |0.0              |0.0      |0.0               |1.0            |2.0          |(13,[0],[1.0])     |(44,[3],[1.0])  |(27,[0],[1.0])        |(7,[3],[1.0])|(2,[1],[1.0])|(2,[0],[1.0])  |(1,[0],[1.0])|(1,[0],[1.0])   |(10,[1],[1.0])|(2,[],[])  |(94,[0,16,57,84,85,86,90],[1.0,1.0,1.0,40.0,2.0,1.0,1.0])|\n",
      "|9  |Acts Intended to Cause Injury                                    |Common Assault                         |Assault                             |Pacific Island|2        |Non-Court Action|Auckland West Area   |Auckland City  |2                    |Male|1/02/2020 |1                |1             |15       |15 - 19 years inclusive|Person             |Known To Victim|Known To Each Other|Non Family Member|0.0                  |3.0               |0.0                     |0.0            |1.0      |0.0              |0.0      |0.0               |1.0            |2.0          |(13,[0],[1.0])     |(44,[3],[1.0])  |(27,[0],[1.0])        |(7,[0],[1.0])|(2,[1],[1.0])|(2,[0],[1.0])  |(1,[0],[1.0])|(1,[0],[1.0])   |(10,[1],[1.0])|(2,[],[])  |(94,[0,16,57,84,85,86,87],[1.0,1.0,1.0,15.0,2.0,1.0,1.0])|\n",
      "|10 |Acts Intended to Cause Injury                                    |Serious Assault Not Resulting in Injury|Assault                             |Pacific Island|2        |Non-Court Action|Auckland West Area   |Auckland City  |2                    |Male|1/02/2020 |1                |1             |15       |15 - 19 years inclusive|Person             |Known To Victim|Known To Each Other|Non Family Member|0.0                  |0.0               |0.0                     |0.0            |1.0      |0.0              |0.0      |0.0               |1.0            |2.0          |(13,[0],[1.0])     |(44,[0],[1.0])  |(27,[0],[1.0])        |(7,[0],[1.0])|(2,[1],[1.0])|(2,[0],[1.0])  |(1,[0],[1.0])|(1,[0],[1.0])   |(10,[1],[1.0])|(2,[],[])  |(94,[0,13,57,84,85,86,87],[1.0,1.0,1.0,15.0,2.0,1.0,1.0])|\n",
      "|11 |Acts Intended to Cause Injury                                    |Serious Assault Not Resulting in Injury|Assault                             |Pacific Island|2        |Non-Court Action|Auckland West Area   |Auckland City  |2                    |Male|1/02/2020 |1                |1             |25       |25 - 29 years inclusive|Person             |Known To Victim|Known To Each Other|Non Family Member|0.0                  |0.0               |0.0                     |0.0            |1.0      |0.0              |0.0      |0.0               |1.0            |2.0          |(13,[0],[1.0])     |(44,[0],[1.0])  |(27,[0],[1.0])        |(7,[0],[1.0])|(2,[1],[1.0])|(2,[0],[1.0])  |(1,[0],[1.0])|(1,[0],[1.0])   |(10,[1],[1.0])|(2,[],[])  |(94,[0,13,57,84,85,86,87],[1.0,1.0,1.0,25.0,2.0,1.0,1.0])|\n",
      "|12 |Acts Intended to Cause Injury                                    |Serious Assault Not Resulting in Injury|Assault                             |Pacific Island|2        |Non-Court Action|Auckland West Area   |Auckland City  |2                    |Male|1/02/2020 |1                |1             |40       |40 - 44 years inclusive|Person             |Known To Victim|Known To Each Other|Non Family Member|0.0                  |0.0               |0.0                     |0.0            |1.0      |0.0              |0.0      |0.0               |1.0            |2.0          |(13,[0],[1.0])     |(44,[0],[1.0])  |(27,[0],[1.0])        |(7,[0],[1.0])|(2,[1],[1.0])|(2,[0],[1.0])  |(1,[0],[1.0])|(1,[0],[1.0])   |(10,[1],[1.0])|(2,[],[])  |(94,[0,13,57,84,85,86,87],[1.0,1.0,1.0,40.0,2.0,1.0,1.0])|\n",
      "|53 |Abduction, Harassment and Other Related Offences Against a Person|Threatening Behaviour                  |Harassment and Threatening Behaviour|Pacific Island|3        |Non-Court Action|Auckland East Area   |Auckland City  |3                    |Male|1/02/2020 |1                |1             |45       |45 - 49 years inclusive|Person             |Known To Victim|Known To Each Other|Non Family Member|1.0                  |2.0               |1.0                     |0.0            |1.0      |1.0              |0.0      |0.0               |1.0            |2.0          |(13,[1],[1.0])     |(44,[2],[1.0])  |(27,[1],[1.0])        |(7,[0],[1.0])|(2,[1],[1.0])|(2,[1],[1.0])  |(1,[0],[1.0])|(1,[0],[1.0])   |(10,[1],[1.0])|(2,[],[])  |(94,[1,15,58,84,85,86,87],[1.0,1.0,1.0,45.0,3.0,1.0,1.0])|\n",
      "|65 |Acts Intended to Cause Injury                                    |Common Assault                         |Assault                             |Maori         |4        |Non-Court Action|Auckland Central Area|Auckland City  |4                    |Male|1/02/2020 |1                |1             |25       |25 - 29 years inclusive|Person             |Known To Victim|Known To Each Other|Non Family Member|0.0                  |3.0               |0.0                     |2.0            |1.0      |2.0              |0.0      |0.0               |1.0            |2.0          |(13,[0],[1.0])     |(44,[3],[1.0])  |(27,[0],[1.0])        |(7,[2],[1.0])|(2,[1],[1.0])|(2,[],[])      |(1,[0],[1.0])|(1,[0],[1.0])   |(10,[1],[1.0])|(2,[],[])  |(94,[0,16,57,84,85,86,89],[1.0,1.0,1.0,25.0,4.0,1.0,1.0])|\n",
      "|66 |Acts Intended to Cause Injury                                    |Common Assault                         |Assault                             |Maori         |4        |Non-Court Action|Auckland Central Area|Auckland City  |4                    |Male|1/02/2020 |1                |1             |35       |35 - 39 years inclusive|Person             |Known To Victim|Known To Each Other|Non Family Member|0.0                  |3.0               |0.0                     |2.0            |1.0      |2.0              |0.0      |0.0               |1.0            |2.0          |(13,[0],[1.0])     |(44,[3],[1.0])  |(27,[0],[1.0])        |(7,[2],[1.0])|(2,[1],[1.0])|(2,[],[])      |(1,[0],[1.0])|(1,[0],[1.0])   |(10,[1],[1.0])|(2,[],[])  |(94,[0,16,57,84,85,86,89],[1.0,1.0,1.0,35.0,4.0,1.0,1.0])|\n",
      "|67 |Acts Intended to Cause Injury                                    |Common Assault                         |Assault                             |Maori         |4        |Non-Court Action|Auckland Central Area|Auckland City  |4                    |Male|1/02/2020 |1                |1             |45       |45 - 49 years inclusive|Person             |Known To Victim|Known To Each Other|Non Family Member|0.0                  |3.0               |0.0                     |2.0            |1.0      |2.0              |0.0      |0.0               |1.0            |2.0          |(13,[0],[1.0])     |(44,[3],[1.0])  |(27,[0],[1.0])        |(7,[2],[1.0])|(2,[1],[1.0])|(2,[],[])      |(1,[0],[1.0])|(1,[0],[1.0])   |(10,[1],[1.0])|(2,[],[])  |(94,[0,16,57,84,85,86,89],[1.0,1.0,1.0,45.0,4.0,1.0,1.0])|\n",
      "|68 |Acts Intended to Cause Injury                                    |Common Assault                         |Assault                             |European      |4        |Non-Court Action|Auckland East Area   |Auckland City  |4                    |Male|1/02/2020 |1                |1             |10       |10 - 14 years inclusive|Person             |Known To Victim|Known To Each Other|Non Family Member|0.0                  |3.0               |0.0                     |1.0            |1.0      |1.0              |0.0      |0.0               |1.0            |2.0          |(13,[0],[1.0])     |(44,[3],[1.0])  |(27,[0],[1.0])        |(7,[1],[1.0])|(2,[1],[1.0])|(2,[1],[1.0])  |(1,[0],[1.0])|(1,[0],[1.0])   |(10,[1],[1.0])|(2,[],[])  |(94,[0,16,57,84,85,86,88],[1.0,1.0,1.0,10.0,4.0,1.0,1.0])|\n",
      "|69 |Acts Intended to Cause Injury                                    |Common Assault                         |Assault                             |European      |4        |Non-Court Action|Auckland East Area   |Auckland City  |4                    |Male|1/02/2020 |1                |1             |20       |20 - 24 years inclusive|Person             |Known To Victim|Known To Each Other|Non Family Member|0.0                  |3.0               |0.0                     |1.0            |1.0      |1.0              |0.0      |0.0               |1.0            |2.0          |(13,[0],[1.0])     |(44,[3],[1.0])  |(27,[0],[1.0])        |(7,[1],[1.0])|(2,[1],[1.0])|(2,[1],[1.0])  |(1,[0],[1.0])|(1,[0],[1.0])   |(10,[1],[1.0])|(2,[],[])  |(94,[0,16,57,84,85,86,88],[1.0,1.0,1.0,20.0,4.0,1.0,1.0])|\n",
      "|70 |Acts Intended to Cause Injury                                    |Common Assault                         |Assault                             |European      |4        |Non-Court Action|Auckland East Area   |Auckland City  |4                    |Male|1/02/2020 |1                |1             |25       |25 - 29 years inclusive|Person             |Known To Victim|Known To Each Other|Non Family Member|0.0                  |3.0               |0.0                     |1.0            |1.0      |1.0              |0.0      |0.0               |1.0            |2.0          |(13,[0],[1.0])     |(44,[3],[1.0])  |(27,[0],[1.0])        |(7,[1],[1.0])|(2,[1],[1.0])|(2,[1],[1.0])  |(1,[0],[1.0])|(1,[0],[1.0])   |(10,[1],[1.0])|(2,[],[])  |(94,[0,16,57,84,85,86,88],[1.0,1.0,1.0,25.0,4.0,1.0,1.0])|\n",
      "|71 |Acts Intended to Cause Injury                                    |Common Assault                         |Assault                             |European      |4        |Non-Court Action|Auckland East Area   |Auckland City  |4                    |Male|1/02/2020 |1                |1             |30       |30 - 34 years inclusive|Person             |Known To Victim|Known To Each Other|Non Family Member|0.0                  |3.0               |0.0                     |1.0            |1.0      |1.0              |0.0      |0.0               |1.0            |2.0          |(13,[0],[1.0])     |(44,[3],[1.0])  |(27,[0],[1.0])        |(7,[1],[1.0])|(2,[1],[1.0])|(2,[1],[1.0])  |(1,[0],[1.0])|(1,[0],[1.0])   |(10,[1],[1.0])|(2,[],[])  |(94,[0,16,57,84,85,86,88],[1.0,1.0,1.0,30.0,4.0,1.0,1.0])|\n",
      "|73 |Abduction, Harassment and Other Related Offences Against a Person|Threatening Behaviour                  |Harassment and Threatening Behaviour|European      |5        |Non-Court Action|Auckland East Area   |Auckland City  |5 to 9               |Male|1/02/2020 |1                |1             |15       |15 - 19 years inclusive|Person             |Known To Victim|Known To Each Other|Non Family Member|1.0                  |2.0               |1.0                     |1.0            |1.0      |1.0              |0.0      |0.0               |1.0            |2.0          |(13,[1],[1.0])     |(44,[2],[1.0])  |(27,[1],[1.0])        |(7,[1],[1.0])|(2,[1],[1.0])|(2,[1],[1.0])  |(1,[0],[1.0])|(1,[0],[1.0])   |(10,[1],[1.0])|(2,[],[])  |(94,[1,15,58,84,85,86,88],[1.0,1.0,1.0,15.0,5.0,1.0,1.0])|\n",
      "|74 |Abduction, Harassment and Other Related Offences Against a Person|Threatening Behaviour                  |Harassment and Threatening Behaviour|European      |5        |Non-Court Action|Auckland East Area   |Auckland City  |5 to 9               |Male|1/02/2020 |1                |1             |30       |30 - 34 years inclusive|Person             |Known To Victim|Known To Each Other|Non Family Member|1.0                  |2.0               |1.0                     |1.0            |1.0      |1.0              |0.0      |0.0               |1.0            |2.0          |(13,[1],[1.0])     |(44,[2],[1.0])  |(27,[1],[1.0])        |(7,[1],[1.0])|(2,[1],[1.0])|(2,[1],[1.0])  |(1,[0],[1.0])|(1,[0],[1.0])   |(10,[1],[1.0])|(2,[],[])  |(94,[1,15,58,84,85,86,88],[1.0,1.0,1.0,30.0,5.0,1.0,1.0])|\n",
      "|75 |Abduction, Harassment and Other Related Offences Against a Person|Threatening Behaviour                  |Harassment and Threatening Behaviour|European      |5        |Non-Court Action|Auckland East Area   |Auckland City  |5 to 9               |Male|1/02/2020 |1                |1             |40       |40 - 44 years inclusive|Person             |Known To Victim|Known To Each Other|Non Family Member|1.0                  |2.0               |1.0                     |1.0            |1.0      |1.0              |0.0      |0.0               |1.0            |2.0          |(13,[1],[1.0])     |(44,[2],[1.0])  |(27,[1],[1.0])        |(7,[1],[1.0])|(2,[1],[1.0])|(2,[1],[1.0])  |(1,[0],[1.0])|(1,[0],[1.0])   |(10,[1],[1.0])|(2,[],[])  |(94,[1,15,58,84,85,86,88],[1.0,1.0,1.0,40.0,5.0,1.0,1.0])|\n",
      "+---+-----------------------------------------------------------------+---------------------------------------+------------------------------------+--------------+---------+----------------+---------------------+---------------+---------------------+----+----------+-----------------+--------------+---------+-----------------------+-------------------+---------------+-------------------+-----------------+---------------------+------------------+------------------------+---------------+---------+-----------------+---------+------------------+---------------+-------------+-------------------+----------------+----------------------+-------------+-------------+---------------+-------------+----------------+--------------+-----------+---------------------------------------------------------+\n",
      "only showing top 20 rows\n",
      "\n"
     ]
    },
    {
     "name": "stdout",
     "output_type": "stream",
     "text": [
      "+---------------------------------------------------------+\n",
      "|features                                                 |\n",
      "+---------------------------------------------------------+\n",
      "|(94,[0,13,57,84,85,86,87],[1.0,1.0,1.0,15.0,2.0,1.0,1.0])|\n",
      "|(94,[0,13,57,84,85,86,87],[1.0,1.0,1.0,25.0,2.0,1.0,1.0])|\n",
      "|(94,[0,13,57,84,85,86,87],[1.0,1.0,1.0,40.0,2.0,1.0,1.0])|\n",
      "|(94,[0,16,57,84,85,86,90],[1.0,1.0,1.0,20.0,2.0,1.0,1.0])|\n",
      "|(94,[0,16,57,84,85,86,90],[1.0,1.0,1.0,40.0,2.0,1.0,1.0])|\n",
      "|(94,[0,16,57,84,85,86,87],[1.0,1.0,1.0,15.0,2.0,1.0,1.0])|\n",
      "|(94,[0,13,57,84,85,86,87],[1.0,1.0,1.0,15.0,2.0,1.0,1.0])|\n",
      "|(94,[0,13,57,84,85,86,87],[1.0,1.0,1.0,25.0,2.0,1.0,1.0])|\n",
      "|(94,[0,13,57,84,85,86,87],[1.0,1.0,1.0,40.0,2.0,1.0,1.0])|\n",
      "|(94,[1,15,58,84,85,86,87],[1.0,1.0,1.0,45.0,3.0,1.0,1.0])|\n",
      "|(94,[0,16,57,84,85,86,89],[1.0,1.0,1.0,25.0,4.0,1.0,1.0])|\n",
      "|(94,[0,16,57,84,85,86,89],[1.0,1.0,1.0,35.0,4.0,1.0,1.0])|\n",
      "|(94,[0,16,57,84,85,86,89],[1.0,1.0,1.0,45.0,4.0,1.0,1.0])|\n",
      "|(94,[0,16,57,84,85,86,88],[1.0,1.0,1.0,10.0,4.0,1.0,1.0])|\n",
      "|(94,[0,16,57,84,85,86,88],[1.0,1.0,1.0,20.0,4.0,1.0,1.0])|\n",
      "|(94,[0,16,57,84,85,86,88],[1.0,1.0,1.0,25.0,4.0,1.0,1.0])|\n",
      "|(94,[0,16,57,84,85,86,88],[1.0,1.0,1.0,30.0,4.0,1.0,1.0])|\n",
      "|(94,[1,15,58,84,85,86,88],[1.0,1.0,1.0,15.0,5.0,1.0,1.0])|\n",
      "|(94,[1,15,58,84,85,86,88],[1.0,1.0,1.0,30.0,5.0,1.0,1.0])|\n",
      "|(94,[1,15,58,84,85,86,88],[1.0,1.0,1.0,40.0,5.0,1.0,1.0])|\n",
      "+---------------------------------------------------------+\n",
      "only showing top 20 rows\n",
      "\n"
     ]
    },
    {
     "data": {
      "text/plain": [
       "['ID',\n",
       " 'ANZSOC Division',\n",
       " 'ANZSOC Group',\n",
       " 'ANZSOC Subdivision',\n",
       " 'Ethnicity',\n",
       " 'Frequency',\n",
       " 'Mop Division',\n",
       " 'Police Area',\n",
       " 'Police District',\n",
       " 'Proceedings Frequency',\n",
       " 'SEX',\n",
       " 'Year Month',\n",
       " 'Number of Records',\n",
       " 'Offender Count',\n",
       " 'Age Group',\n",
       " 'Age Group 5Yr Band',\n",
       " 'Person/Organisation',\n",
       " 'ROV Division',\n",
       " 'ROV Group',\n",
       " 'ROVSubdivision',\n",
       " 'ANZSOC_Division_Index',\n",
       " 'ANZSOC_Group_Index',\n",
       " 'ANZSOC_Subdivision_Index',\n",
       " 'Ethnicity_Index',\n",
       " 'label',\n",
       " 'Police_area_index',\n",
       " 'SEX_index',\n",
       " 'ROV_Division_Index',\n",
       " 'ROV_Group_Index',\n",
       " 'ROV_Sub_index',\n",
       " 'ANZSOC_Division_vec',\n",
       " 'ANZSOC_Group_vec',\n",
       " 'ANZSOC_Subdivision_vec',\n",
       " 'Ethnicity_vec',\n",
       " 'Mop_vec',\n",
       " 'Police_Area_vec',\n",
       " 'SEX_vec',\n",
       " 'ROV_Division_vec',\n",
       " 'ROV_Group_vec',\n",
       " 'ROV_Sub_vec',\n",
       " 'features']"
      ]
     },
     "execution_count": 75,
     "metadata": {},
     "output_type": "execute_result"
    }
   ],
   "source": [
    "#making label column for naive bayes with Continuos values without Ethnicity Vector\n",
    "assembler = VectorAssembler(inputCols = [\"ANZSOC_Division_vec\", \"ANZSOC_Group_vec\", \"ANZSOC_Subdivision_vec\", \"Age Group\", \"Frequency\", \"Offender Count\", \"Ethnicity_vec\" ], outputCol = \"features\")\n",
    "\n",
    "output1 = assembler.transform(master)\n",
    "output1.show(truncate = False)\n",
    "output1.select(\"features\").show(truncate = False)\n",
    "output1.columns\n",
    "output2 = output1.withColumnRenamed(\"Mop_Index\", \"label\")\n",
    "output2.columns"
   ]
  },
  {
   "cell_type": "code",
   "execution_count": 76,
   "metadata": {},
   "outputs": [
    {
     "name": "stdout",
     "output_type": "stream",
     "text": [
      "test\n",
      "Test set accuracy = 0.6692624828218049\n"
     ]
    }
   ],
   "source": [
    "#Naive Bayes with the conitnuous data\n",
    "from pyspark.ml.classification import NaiveBayes\n",
    "from pyspark.ml.evaluation import MulticlassClassificationEvaluator\n",
    "\n",
    "#Split the data into and trest\n",
    "splits = output2.randomSplit([0.65, 0.35])\n",
    "train = splits[0]\n",
    "test = splits[1]\n",
    "\n",
    "nb = NaiveBayes(smoothing=1, modelType=\"multinomial\")\n",
    "\n",
    "model = nb.fit(train)\n",
    "print(\"test\")\n",
    "predictions = model.transform(test)\n",
    "#predictions.show()\n",
    "\n",
    "evaluator = MulticlassClassificationEvaluator(labelCol=\"label\", predictionCol=\"prediction\",\n",
    "                                              metricName=\"accuracy\")\n",
    "accuracy = evaluator.evaluate(predictions)\n",
    "print(\"Test set accuracy = \" + str(accuracy))"
   ]
  },
  {
   "cell_type": "code",
   "execution_count": null,
   "metadata": {},
   "outputs": [],
   "source": []
  }
 ],
 "metadata": {
  "kernelspec": {
   "display_name": "Python 3",
   "language": "python",
   "name": "python3"
  },
  "language_info": {
   "codemirror_mode": {
    "name": "ipython",
    "version": 3
   },
   "file_extension": ".py",
   "mimetype": "text/x-python",
   "name": "python",
   "nbconvert_exporter": "python",
   "pygments_lexer": "ipython3",
   "version": "3.5.2"
  }
 },
 "nbformat": 4,
 "nbformat_minor": 2
}
