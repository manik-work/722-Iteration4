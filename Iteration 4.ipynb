{
 "cells": [
  {
   "cell_type": "code",
   "execution_count": 1,
   "metadata": {},
   "outputs": [],
   "source": [
    "import findspark\n",
    "findspark.init('/home/ubuntu/spark-2.1.1-bin-hadoop2.7')\n",
    "import pyspark\n",
    "from pyspark.sql import SparkSession\n",
    "spark = SparkSession.builder.appName('police_data_analysis').getOrCreate()"
   ]
  },
  {
   "cell_type": "code",
   "execution_count": 2,
   "metadata": {},
   "outputs": [],
   "source": [
    "df1 = spark.read.load('Datasets/ANSZOC_E_Area.csv', format = 'csv', header = 'true')"
   ]
  },
  {
   "cell_type": "code",
   "execution_count": 3,
   "metadata": {},
   "outputs": [],
   "source": [
    "df2 = spark.read.load('Datasets/Offender_A_ROV.csv', format = 'csv', header = 'true')"
   ]
  },
  {
   "cell_type": "code",
   "execution_count": 4,
   "metadata": {
    "scrolled": false
   },
   "outputs": [
    {
     "name": "stdout",
     "output_type": "stream",
     "text": [
      "+---+--------------------+--------------------+--------------------+--------------+----------+----------------+--------------------+---------------+---------------------+----+----------+\n",
      "| ID|     ANZSOC Division|        ANZSOC Group|  ANZSOC Subdivision|     Ethnicity| Frequency|    Mop Division|         Police Area|Police District|Proceedings Frequency| SEX|Year Month|\n",
      "+---+--------------------+--------------------+--------------------+--------------+----------+----------------+--------------------+---------------+---------------------+----+----------+\n",
      "|  1|Acts Intended to ...|      Common Assault|             Assault|Pacific Island|10 or more|Non-Court Action|Auckland Central ...|  Auckland City|           10 or more|Male| 1/02/2020|\n",
      "|  2|Acts Intended to ...|      Common Assault|             Assault|Pacific Island|10 or more|Non-Court Action|Auckland Central ...|  Auckland City|           10 or more|Male| 1/02/2020|\n",
      "|  3|Acts Intended to ...|      Common Assault|             Assault|      European|         2|Non-Court Action|Auckland Central ...|  Auckland City|                    2|Male| 1/02/2020|\n",
      "|  4|Acts Intended to ...|Serious Assault N...|             Assault|Pacific Island|         2|Non-Court Action|  Auckland East Area|  Auckland City|                    2|Male| 1/02/2020|\n",
      "|  5|Acts Intended to ...|Serious Assault N...|             Assault|Pacific Island|         2|Non-Court Action|  Auckland East Area|  Auckland City|                    2|Male| 1/02/2020|\n",
      "|  6|Acts Intended to ...|Serious Assault N...|             Assault|Pacific Island|         2|Non-Court Action|  Auckland East Area|  Auckland City|                    2|Male| 1/02/2020|\n",
      "|  7|Acts Intended to ...|      Common Assault|             Assault|        Indian|         2|Non-Court Action|  Auckland West Area|  Auckland City|                    2|Male| 1/02/2020|\n",
      "|  8|Acts Intended to ...|      Common Assault|             Assault|        Indian|         2|Non-Court Action|  Auckland West Area|  Auckland City|                    2|Male| 1/02/2020|\n",
      "|  9|Acts Intended to ...|      Common Assault|             Assault|Pacific Island|         2|Non-Court Action|  Auckland West Area|  Auckland City|                    2|Male| 1/02/2020|\n",
      "| 10|Acts Intended to ...|Serious Assault N...|             Assault|Pacific Island|         2|Non-Court Action|  Auckland West Area|  Auckland City|                    2|Male| 1/02/2020|\n",
      "| 11|Acts Intended to ...|Serious Assault N...|             Assault|Pacific Island|         2|Non-Court Action|  Auckland West Area|  Auckland City|                    2|Male| 1/02/2020|\n",
      "| 12|Acts Intended to ...|Serious Assault N...|             Assault|Pacific Island|         2|Non-Court Action|  Auckland West Area|  Auckland City|                    2|Male| 1/02/2020|\n",
      "| 13|Robbery, Extortio...|  Aggravated Robbery|             Robbery|      European|         2|Non-Court Action|  Auckland West Area|  Auckland City|                    2|Male| 1/02/2020|\n",
      "| 14|Robbery, Extortio...|  Aggravated Robbery|             Robbery|         Maori|         2|Non-Court Action|  Auckland West Area|  Auckland City|                    2|Male| 1/02/2020|\n",
      "| 53|Abduction, Harass...|Threatening Behav...|Harassment and Th...|Pacific Island|         3|Non-Court Action|  Auckland East Area|  Auckland City|                    3|Male| 1/02/2020|\n",
      "| 65|Acts Intended to ...|      Common Assault|             Assault|         Maori|         4|Non-Court Action|Auckland Central ...|  Auckland City|                    4|Male| 1/02/2020|\n",
      "| 66|Acts Intended to ...|      Common Assault|             Assault|         Maori|         4|Non-Court Action|Auckland Central ...|  Auckland City|                    4|Male| 1/02/2020|\n",
      "| 67|Acts Intended to ...|      Common Assault|             Assault|         Maori|         4|Non-Court Action|Auckland Central ...|  Auckland City|                    4|Male| 1/02/2020|\n",
      "| 68|Acts Intended to ...|      Common Assault|             Assault|      European|         4|Non-Court Action|  Auckland East Area|  Auckland City|                    4|Male| 1/02/2020|\n",
      "| 69|Acts Intended to ...|      Common Assault|             Assault|      European|         4|Non-Court Action|  Auckland East Area|  Auckland City|                    4|Male| 1/02/2020|\n",
      "+---+--------------------+--------------------+--------------------+--------------+----------+----------------+--------------------+---------------+---------------------+----+----------+\n",
      "only showing top 20 rows\n",
      "\n"
     ]
    }
   ],
   "source": [
    "df1.show()"
   ]
  },
  {
   "cell_type": "code",
   "execution_count": 5,
   "metadata": {},
   "outputs": [
    {
     "name": "stdout",
     "output_type": "stream",
     "text": [
      "+---+-----------------+--------------+---------+--------------------+-------------------+---------------+-------------------+-----------------+\n",
      "| ID|Number of Records|Offender Count|Age Group|  Age Group 5Yr Band|Person/Organisation|   ROV Division|          ROV Group|   ROVSubdivision|\n",
      "+---+-----------------+--------------+---------+--------------------+-------------------+---------------+-------------------+-----------------+\n",
      "|  1|                1|          1.00|    15-19|15 - 19 years inc...|             Person|Known To Victim|Known To Each Other|Non Family Member|\n",
      "|  2|                1|             1|    20-24|20 - 24 years inc...|             Person|Known To Victim|Known To Each Other|Non Family Member|\n",
      "|  3|                1|          2.00|     null|                null|               null|Known To Victim|Known To Each Other|Non Family Member|\n",
      "|  4|                1|          1.00|    15-19|15 - 19 years inc...|             Person|Known To Victim|Known To Each Other|Non Family Member|\n",
      "|  5|                1|          1.00|    25-29|25 - 29 years inc...|             Person|Known To Victim|Known To Each Other|Non Family Member|\n",
      "|  6|                1|          1.00|    40-44|40 - 44 years inc...|             Person|Known To Victim|Known To Each Other|Non Family Member|\n",
      "|  7|                1|          1.00|    20-24|20 - 24 years inc...|             Person|Known To Victim|Known To Each Other|Non Family Member|\n",
      "|  8|                1|          1.00|    40-44|40 - 44 years inc...|             Person|Known To Victim|Known To Each Other|Non Family Member|\n",
      "|  9|                1|          1.00|    15-19|15 - 19 years inc...|             Person|Known To Victim|Known To Each Other|Non Family Member|\n",
      "| 10|                1|          1.00|    15-19|15 - 19 years inc...|             Person|Known To Victim|Known To Each Other|Non Family Member|\n",
      "| 11|                1|          1.00|    25-29|25 - 29 years inc...|             Person|Known To Victim|Known To Each Other|Non Family Member|\n",
      "| 12|                1|          1.00|    40-44|40 - 44 years inc...|             Person|Known To Victim|Known To Each Other|Non Family Member|\n",
      "| 13|                1|          1.00|     null|                null|               null|Known To Victim|Known To Each Other|Non Family Member|\n",
      "| 14|                1|          1.00|     null|                null|               null|Known To Victim|Known To Each Other|Non Family Member|\n",
      "| 53|                1|          1.00|    45-49|45 - 49 years inc...|             Person|Known To Victim|Known To Each Other|Non Family Member|\n",
      "| 65|                1|          1.00|    25-29|25 - 29 years inc...|             Person|Known To Victim|Known To Each Other|Non Family Member|\n",
      "| 66|                1|          1.00|    35-39|35 - 39 years inc...|             Person|Known To Victim|Known To Each Other|Non Family Member|\n",
      "| 67|                1|          1.00|    45-49|45 - 49 years inc...|             Person|Known To Victim|Known To Each Other|Non Family Member|\n",
      "| 68|                1|          1.00|    10-14|10 - 14 years inc...|             Person|Known To Victim|Known To Each Other|Non Family Member|\n",
      "| 69|                1|          1.00|    20-24|20 - 24 years inc...|             Person|Known To Victim|Known To Each Other|Non Family Member|\n",
      "+---+-----------------+--------------+---------+--------------------+-------------------+---------------+-------------------+-----------------+\n",
      "only showing top 20 rows\n",
      "\n"
     ]
    }
   ],
   "source": [
    "df2.show()"
   ]
  },
  {
   "cell_type": "code",
   "execution_count": 6,
   "metadata": {
    "scrolled": true
   },
   "outputs": [
    {
     "data": {
      "text/plain": [
       "['ID',\n",
       " 'ANZSOC Division',\n",
       " 'ANZSOC Group',\n",
       " 'ANZSOC Subdivision',\n",
       " 'Ethnicity',\n",
       " 'Frequency',\n",
       " 'Mop Division',\n",
       " 'Police Area',\n",
       " 'Police District',\n",
       " 'Proceedings Frequency',\n",
       " 'SEX',\n",
       " 'Year Month']"
      ]
     },
     "execution_count": 6,
     "metadata": {},
     "output_type": "execute_result"
    }
   ],
   "source": [
    "df1.columns"
   ]
  },
  {
   "cell_type": "code",
   "execution_count": 7,
   "metadata": {},
   "outputs": [
    {
     "name": "stdout",
     "output_type": "stream",
     "text": [
      "+-------+-----------------+\n",
      "|summary|               ID|\n",
      "+-------+-----------------+\n",
      "|  count|            67788|\n",
      "|   mean|81035.48884758365|\n",
      "| stddev|45521.36948604581|\n",
      "|    min|                1|\n",
      "|    max|            99999|\n",
      "+-------+-----------------+\n",
      "\n"
     ]
    }
   ],
   "source": [
    "df1.select(\"ID\").describe().show()"
   ]
  },
  {
   "cell_type": "code",
   "execution_count": 8,
   "metadata": {},
   "outputs": [
    {
     "name": "stdout",
     "output_type": "stream",
     "text": [
      "+-------+-----------------+\n",
      "|summary|               ID|\n",
      "+-------+-----------------+\n",
      "|  count|            67788|\n",
      "|   mean|81035.48884758365|\n",
      "| stddev|45521.36948604581|\n",
      "|    min|                1|\n",
      "|    max|            99999|\n",
      "+-------+-----------------+\n",
      "\n"
     ]
    }
   ],
   "source": [
    "df2.select(\"ID\").describe().show()"
   ]
  },
  {
   "cell_type": "code",
   "execution_count": 9,
   "metadata": {
    "scrolled": false
   },
   "outputs": [
    {
     "data": {
      "text/plain": [
       "['ID',\n",
       " 'Number of Records',\n",
       " 'Offender Count',\n",
       " 'Age Group',\n",
       " 'Age Group 5Yr Band',\n",
       " 'Person/Organisation',\n",
       " 'ROV Division',\n",
       " 'ROV Group',\n",
       " 'ROVSubdivision']"
      ]
     },
     "execution_count": 9,
     "metadata": {},
     "output_type": "execute_result"
    }
   ],
   "source": [
    "df2.columns"
   ]
  },
  {
   "cell_type": "code",
   "execution_count": 10,
   "metadata": {},
   "outputs": [
    {
     "name": "stdout",
     "output_type": "stream",
     "text": [
      "+-------+-----------------+--------------------+--------------------+--------------------+--------------+------------------+------------------+--------------------+---------------+---------------------+----------+----------+\n",
      "|summary|               ID|     ANZSOC Division|        ANZSOC Group|  ANZSOC Subdivision|     Ethnicity|         Frequency|      Mop Division|         Police Area|Police District|Proceedings Frequency|       SEX|Year Month|\n",
      "+-------+-----------------+--------------------+--------------------+--------------------+--------------+------------------+------------------+--------------------+---------------+---------------------+----------+----------+\n",
      "|  count|            67788|               67788|               67788|               67788|         67788|             67788|             67788|               67788|          67788|                67788|     67788|     67788|\n",
      "|   mean|81035.48884758365|                null|                null|                null|          null|  1.65028027262883|              null|                null|           null|     1.65028027262883|      null|      null|\n",
      "| stddev|45521.36948604581|                null|                null|                null|          null|0.9199750484505007|              null|                null|           null|   0.9199750484505007|      null|      null|\n",
      "|    min|                1|Abduction, Harass...|Abduction and Kid...|Abduction and Kid...|       African|                 1|      Court Action|Auckland Central ...|  Auckland City|                    1|    Female| 1/01/2021|\n",
      "|    max|            99999|Unlawful Entry Wi...|    Use Illicit Drug|Unlawful Entry Wi...|Pacific Island|            5 to 9|Not Proceeded With|  Auckland West Area|  Auckland City|               5 to 9|Not Stated| 1/12/2020|\n",
      "+-------+-----------------+--------------------+--------------------+--------------------+--------------+------------------+------------------+--------------------+---------------+---------------------+----------+----------+\n",
      "\n"
     ]
    }
   ],
   "source": [
    "df1.describe().show()"
   ]
  },
  {
   "cell_type": "code",
   "execution_count": 11,
   "metadata": {},
   "outputs": [
    {
     "name": "stdout",
     "output_type": "stream",
     "text": [
      "+-------+-----------------+-----------------+------------------+------------+--------------------+-------------------+---------------+--------------+--------------+\n",
      "|summary|               ID|Number of Records|    Offender Count|   Age Group|  Age Group 5Yr Band|Person/Organisation|   ROV Division|     ROV Group|ROVSubdivision|\n",
      "+-------+-----------------+-----------------+------------------+------------+--------------------+-------------------+---------------+--------------+--------------+\n",
      "|  count|            67788|            67788|             67788|       58976|               58976|              58976|          39337|         39337|         39337|\n",
      "|   mean|81035.48884758365|              1.0|1.9323626600578274|        null|                null|               null|           null|          null|          null|\n",
      "| stddev|45521.36948604581|              0.0|3.3938705408996217|        null|                null|               null|           null|          null|          null|\n",
      "|    min|                1|                1|                 1|       10-14|10 - 14 years inc...|             Person|Known To Victim|Boy/Girlfriend| Family Member|\n",
      "|    max|            99999|                1|             98.00|NotSpecified|       Not Specified|             Person|       Stranger|      Stranger|      Stranger|\n",
      "+-------+-----------------+-----------------+------------------+------------+--------------------+-------------------+---------------+--------------+--------------+\n",
      "\n"
     ]
    }
   ],
   "source": [
    "df2.describe().show()"
   ]
  },
  {
   "cell_type": "code",
   "execution_count": 12,
   "metadata": {},
   "outputs": [
    {
     "data": {
      "text/plain": [
       "DataFrame[summary: string, ID: string, ANZSOC Division: string, ANZSOC Group: string, ANZSOC Subdivision: string, Ethnicity: string, Frequency: string, Mop Division: string, Police Area: string, Police District: string, Proceedings Frequency: string, SEX: string, Year Month: string]"
      ]
     },
     "execution_count": 12,
     "metadata": {},
     "output_type": "execute_result"
    }
   ],
   "source": [
    "df1.describe()"
   ]
  },
  {
   "cell_type": "code",
   "execution_count": 13,
   "metadata": {},
   "outputs": [],
   "source": [
    "master = df1.join(df2, \"ID\", how = 'left_outer')"
   ]
  },
  {
   "cell_type": "code",
   "execution_count": 14,
   "metadata": {},
   "outputs": [
    {
     "data": {
      "text/plain": [
       "['ID',\n",
       " 'ANZSOC Division',\n",
       " 'ANZSOC Group',\n",
       " 'ANZSOC Subdivision',\n",
       " 'Ethnicity',\n",
       " 'Frequency',\n",
       " 'Mop Division',\n",
       " 'Police Area',\n",
       " 'Police District',\n",
       " 'Proceedings Frequency',\n",
       " 'SEX',\n",
       " 'Year Month',\n",
       " 'Number of Records',\n",
       " 'Offender Count',\n",
       " 'Age Group',\n",
       " 'Age Group 5Yr Band',\n",
       " 'Person/Organisation',\n",
       " 'ROV Division',\n",
       " 'ROV Group',\n",
       " 'ROVSubdivision']"
      ]
     },
     "execution_count": 14,
     "metadata": {},
     "output_type": "execute_result"
    }
   ],
   "source": [
    "master.columns"
   ]
  },
  {
   "cell_type": "code",
   "execution_count": 15,
   "metadata": {},
   "outputs": [
    {
     "name": "stdout",
     "output_type": "stream",
     "text": [
      "+-------+-----------------+\n",
      "|summary|               ID|\n",
      "+-------+-----------------+\n",
      "|  count|            67788|\n",
      "|   mean|81035.48884758365|\n",
      "| stddev|45521.36948604581|\n",
      "|    min|                1|\n",
      "|    max|            99999|\n",
      "+-------+-----------------+\n",
      "\n"
     ]
    },
    {
     "data": {
      "text/plain": [
       "DataFrame[summary: string, ID: string, ANZSOC Division: string, ANZSOC Group: string, ANZSOC Subdivision: string, Ethnicity: string, Frequency: string, Mop Division: string, Police Area: string, Police District: string, Proceedings Frequency: string, SEX: string, Year Month: string, Number of Records: string, Offender Count: string, Age Group: string, Age Group 5Yr Band: string, Person/Organisation: string, ROV Division: string, ROV Group: string, ROVSubdivision: string]"
      ]
     },
     "execution_count": 15,
     "metadata": {},
     "output_type": "execute_result"
    }
   ],
   "source": [
    "master.select(\"ID\").describe().show()\n",
    "master.describe()"
   ]
  },
  {
   "cell_type": "code",
   "execution_count": 16,
   "metadata": {
    "scrolled": true
   },
   "outputs": [
    {
     "name": "stdout",
     "output_type": "stream",
     "text": [
      "+---+---------------+------------+------------------+---------+---------+------------+-----------+---------------+---------------------+---+----------+-----------------+--------------+---------+------------------+-------------------+------------+---------+--------------+\n",
      "| ID|ANZSOC Division|ANZSOC Group|ANZSOC Subdivision|Ethnicity|Frequency|Mop Division|Police Area|Police District|Proceedings Frequency|SEX|Year Month|Number of Records|Offender Count|Age Group|Age Group 5Yr Band|Person/Organisation|ROV Division|ROV Group|ROVSubdivision|\n",
      "+---+---------------+------------+------------------+---------+---------+------------+-----------+---------------+---------------------+---+----------+-----------------+--------------+---------+------------------+-------------------+------------+---------+--------------+\n",
      "|  0|              0|           0|                 0|        0|        0|           0|          0|              0|                    0|  0|         0|                0|             0|     8812|              8812|               8812|       28451|    28451|         28451|\n",
      "+---+---------------+------------+------------------+---------+---------+------------+-----------+---------------+---------------------+---+----------+-----------------+--------------+---------+------------------+-------------------+------------+---------+--------------+\n",
      "\n"
     ]
    }
   ],
   "source": [
    "#find count of null,Nan\n",
    "from pyspark.sql.functions import col,isnan, when, count\n",
    "master.select([count(when(isnan(c) | col(c).isNull(), c)).alias(c) for c in master.columns]).show()"
   ]
  },
  {
   "cell_type": "code",
   "execution_count": 17,
   "metadata": {},
   "outputs": [
    {
     "data": {
      "text/plain": [
       "[Row(Number of Records='1'),\n",
       " Row(Number of Records='1'),\n",
       " Row(Number of Records='1'),\n",
       " Row(Number of Records='1'),\n",
       " Row(Number of Records='1')]"
      ]
     },
     "execution_count": 17,
     "metadata": {},
     "output_type": "execute_result"
    }
   ],
   "source": [
    "master.select(\"Number of Records\").head(5)\n"
   ]
  },
  {
   "cell_type": "code",
   "execution_count": 18,
   "metadata": {},
   "outputs": [
    {
     "name": "stdout",
     "output_type": "stream",
     "text": [
      "+-------+-----------------+\n",
      "|summary|Number of Records|\n",
      "+-------+-----------------+\n",
      "|  count|            67788|\n",
      "|   mean|              1.0|\n",
      "| stddev|              0.0|\n",
      "|    min|                1|\n",
      "|    max|                1|\n",
      "+-------+-----------------+\n",
      "\n"
     ]
    }
   ],
   "source": [
    "master.select(\"Number of Records\").describe().show()\n"
   ]
  },
  {
   "cell_type": "code",
   "execution_count": 19,
   "metadata": {},
   "outputs": [
    {
     "name": "stdout",
     "output_type": "stream",
     "text": [
      "+--------------+\n",
      "|SEX           |\n",
      "+--------------+\n",
      "|Female        |\n",
      "|Male          |\n",
      "|Not Applicable|\n",
      "|Not Stated    |\n",
      "+--------------+\n",
      "\n"
     ]
    }
   ],
   "source": [
    "#showing the Unique values in the data\n",
    "master.dropDuplicates(([\"SEX\"])).select(\"SEX\").show(truncate = False)"
   ]
  },
  {
   "cell_type": "code",
   "execution_count": 20,
   "metadata": {},
   "outputs": [
    {
     "name": "stdout",
     "output_type": "stream",
     "text": [
      "+-------------------+\n",
      "|Person/Organisation|\n",
      "+-------------------+\n",
      "|null               |\n",
      "|Person             |\n",
      "+-------------------+\n",
      "\n"
     ]
    }
   ],
   "source": [
    "master.dropDuplicates(([\"Person/Organisation\"])).select(\"Person/Organisation\").show(truncate = False)"
   ]
  },
  {
   "cell_type": "code",
   "execution_count": 21,
   "metadata": {},
   "outputs": [],
   "source": [
    "#data cleaning begins here:\n",
    "\n",
    "master = master.dropna()"
   ]
  },
  {
   "cell_type": "code",
   "execution_count": 22,
   "metadata": {},
   "outputs": [
    {
     "name": "stdout",
     "output_type": "stream",
     "text": [
      "+---+---------------+------------+------------------+---------+---------+------------+-----------+---------------+---------------------+---+----------+-----------------+--------------+---------+------------------+-------------------+------------+---------+--------------+\n",
      "| ID|ANZSOC Division|ANZSOC Group|ANZSOC Subdivision|Ethnicity|Frequency|Mop Division|Police Area|Police District|Proceedings Frequency|SEX|Year Month|Number of Records|Offender Count|Age Group|Age Group 5Yr Band|Person/Organisation|ROV Division|ROV Group|ROVSubdivision|\n",
      "+---+---------------+------------+------------------+---------+---------+------------+-----------+---------------+---------------------+---+----------+-----------------+--------------+---------+------------------+-------------------+------------+---------+--------------+\n",
      "|  0|              0|           0|                 0|        0|        0|           0|          0|              0|                    0|  0|         0|                0|             0|        0|                 0|                  0|           0|        0|             0|\n",
      "+---+---------------+------------+------------------+---------+---------+------------+-----------+---------------+---------------------+---+----------+-----------------+--------------+---------+------------------+-------------------+------------+---------+--------------+\n",
      "\n"
     ]
    }
   ],
   "source": [
    "master.select([count(when(isnan(c) | col(c).isNull(), c)).alias(c) for c in master.columns]).show()"
   ]
  },
  {
   "cell_type": "code",
   "execution_count": 23,
   "metadata": {},
   "outputs": [
    {
     "name": "stdout",
     "output_type": "stream",
     "text": [
      "+-------+------------------+\n",
      "|summary|                ID|\n",
      "+-------+------------------+\n",
      "|  count|             36530|\n",
      "|   mean| 48175.14202025732|\n",
      "| stddev|27827.329162468708|\n",
      "|    min|                 1|\n",
      "|    max|               999|\n",
      "+-------+------------------+\n",
      "\n"
     ]
    }
   ],
   "source": [
    "master.select(\"ID\").describe().show()"
   ]
  },
  {
   "cell_type": "code",
   "execution_count": 24,
   "metadata": {},
   "outputs": [],
   "source": [
    "master = master.filter((master.Ethnicity != \"Not Elsewhere Classified\") &  (master.Ethnicity != \"Not Stated\") & (master.Ethnicity != \"Organisation\"))"
   ]
  },
  {
   "cell_type": "code",
   "execution_count": 25,
   "metadata": {},
   "outputs": [
    {
     "name": "stdout",
     "output_type": "stream",
     "text": [
      "+-------+--------------+\n",
      "|summary|     Ethnicity|\n",
      "+-------+--------------+\n",
      "|  count|         32392|\n",
      "|   mean|          null|\n",
      "| stddev|          null|\n",
      "|    min|       African|\n",
      "|    max|Pacific Island|\n",
      "+-------+--------------+\n",
      "\n"
     ]
    }
   ],
   "source": [
    "master.select(\"Ethnicity\").describe().show()"
   ]
  },
  {
   "cell_type": "code",
   "execution_count": 26,
   "metadata": {},
   "outputs": [],
   "source": [
    "master = master.filter((master.SEX != \"Not Applicable\") & (master.SEX != \"Not Stated\") )"
   ]
  },
  {
   "cell_type": "code",
   "execution_count": 27,
   "metadata": {},
   "outputs": [
    {
     "name": "stdout",
     "output_type": "stream",
     "text": [
      "+-------+------+\n",
      "|summary|   SEX|\n",
      "+-------+------+\n",
      "|  count| 32347|\n",
      "|   mean|  null|\n",
      "| stddev|  null|\n",
      "|    min|Female|\n",
      "|    max|  Male|\n",
      "+-------+------+\n",
      "\n"
     ]
    }
   ],
   "source": [
    "master.select(\"SEX\").describe().show()"
   ]
  },
  {
   "cell_type": "code",
   "execution_count": 28,
   "metadata": {},
   "outputs": [],
   "source": [
    "age = \"Age Group\""
   ]
  },
  {
   "cell_type": "code",
   "execution_count": 29,
   "metadata": {},
   "outputs": [],
   "source": [
    "master = master[master[\"Age Group\"] != \"NotSpecified\"]"
   ]
  },
  {
   "cell_type": "code",
   "execution_count": 30,
   "metadata": {},
   "outputs": [
    {
     "name": "stdout",
     "output_type": "stream",
     "text": [
      "+-------+-------------+\n",
      "|summary|    Age Group|\n",
      "+-------+-------------+\n",
      "|  count|        32313|\n",
      "|   mean|         null|\n",
      "| stddev|         null|\n",
      "|    min|        10-14|\n",
      "|    max|80yearsorover|\n",
      "+-------+-------------+\n",
      "\n"
     ]
    }
   ],
   "source": [
    "master.select(\"Age Group\").describe().show()"
   ]
  },
  {
   "cell_type": "code",
   "execution_count": 31,
   "metadata": {},
   "outputs": [],
   "source": [
    "master = master[master[\"Age Group 5Yr Band\"] != \"NotSpecified\"]"
   ]
  },
  {
   "cell_type": "code",
   "execution_count": 32,
   "metadata": {},
   "outputs": [
    {
     "name": "stdout",
     "output_type": "stream",
     "text": [
      "+-------------+\n",
      "|Age Group    |\n",
      "+-------------+\n",
      "|5-9          |\n",
      "|20-24        |\n",
      "|65-69        |\n",
      "|75-79        |\n",
      "|80yearsorover|\n",
      "|30-34        |\n",
      "|70-74        |\n",
      "|15-19        |\n",
      "|10-14        |\n",
      "|50-54        |\n",
      "|35-39        |\n",
      "|45-49        |\n",
      "|25-29        |\n",
      "|40-44        |\n",
      "|55-59        |\n",
      "|60-64        |\n",
      "+-------------+\n",
      "\n"
     ]
    }
   ],
   "source": [
    "master.dropDuplicates(([\"Age Group\"])).select(\"Age Group\").show(truncate = False)"
   ]
  },
  {
   "cell_type": "code",
   "execution_count": 33,
   "metadata": {},
   "outputs": [
    {
     "name": "stdout",
     "output_type": "stream",
     "text": [
      "+---------------------------------+\n",
      "|ROV Division                     |\n",
      "+---------------------------------+\n",
      "|Stranger                         |\n",
      "|Known To Victim                  |\n",
      "|Not Applicable                   |\n",
      "|Not Stated/Inadequately Described|\n",
      "+---------------------------------+\n",
      "\n"
     ]
    }
   ],
   "source": [
    "master.dropDuplicates(([\"ROV Division\"])).select(\"ROV Division\").show(truncate = False)"
   ]
  },
  {
   "cell_type": "code",
   "execution_count": 34,
   "metadata": {},
   "outputs": [
    {
     "name": "stdout",
     "output_type": "stream",
     "text": [
      "+---------------------------------+\n",
      "|ROV Group                        |\n",
      "+---------------------------------+\n",
      "|Known To Each Other              |\n",
      "|Partner                          |\n",
      "|Stranger                         |\n",
      "|Parent                           |\n",
      "|Family Member N.F.D.             |\n",
      "|Child                            |\n",
      "|Ex-Boy/Girlfriend                |\n",
      "|Boy/Girlfriend                   |\n",
      "|Sibling                          |\n",
      "|Not Applicable                   |\n",
      "|Not Stated/Inadequately Described|\n",
      "|Other Relative                   |\n",
      "|Ex-Partner                       |\n",
      "+---------------------------------+\n",
      "\n"
     ]
    }
   ],
   "source": [
    "master.dropDuplicates(([\"ROV Group\"])).select(\"ROV Group\").show(truncate = False)"
   ]
  },
  {
   "cell_type": "code",
   "execution_count": 35,
   "metadata": {},
   "outputs": [],
   "source": [
    "master = master[master[\"ROV Group\"] != \"Not Applicable\"]"
   ]
  },
  {
   "cell_type": "code",
   "execution_count": 36,
   "metadata": {},
   "outputs": [],
   "source": [
    "master = master[master[\"ROV Group\"] != \"Not Stated/Inadequately Described\"]"
   ]
  },
  {
   "cell_type": "code",
   "execution_count": 37,
   "metadata": {},
   "outputs": [
    {
     "name": "stdout",
     "output_type": "stream",
     "text": [
      "+-------+--------------+\n",
      "|summary|     ROV Group|\n",
      "+-------+--------------+\n",
      "|  count|         19047|\n",
      "|   mean|          null|\n",
      "| stddev|          null|\n",
      "|    min|Boy/Girlfriend|\n",
      "|    max|      Stranger|\n",
      "+-------+--------------+\n",
      "\n"
     ]
    }
   ],
   "source": [
    "master.select(\"ROV Group\").describe().show()"
   ]
  },
  {
   "cell_type": "code",
   "execution_count": 38,
   "metadata": {},
   "outputs": [
    {
     "name": "stdout",
     "output_type": "stream",
     "text": [
      "+-----------------+\n",
      "|ROVSubdivision   |\n",
      "+-----------------+\n",
      "|Stranger         |\n",
      "|Family Member    |\n",
      "|Non Family Member|\n",
      "+-----------------+\n",
      "\n"
     ]
    }
   ],
   "source": [
    "master.dropDuplicates(([\"ROVSubdivision\"])).select(\"ROVSubdivision\").show(truncate = False)"
   ]
  },
  {
   "cell_type": "code",
   "execution_count": 39,
   "metadata": {},
   "outputs": [
    {
     "data": {
      "text/plain": [
       "19047"
      ]
     },
     "execution_count": 39,
     "metadata": {},
     "output_type": "execute_result"
    }
   ],
   "source": [
    "master.count()"
   ]
  },
  {
   "cell_type": "code",
   "execution_count": 40,
   "metadata": {},
   "outputs": [],
   "source": [
    "from pyspark.ml.feature import StringIndexer\n"
   ]
  },
  {
   "cell_type": "code",
   "execution_count": 41,
   "metadata": {},
   "outputs": [
    {
     "name": "stdout",
     "output_type": "stream",
     "text": [
      "+---+--------------------+--------------------+--------------------+--------------+----------+----------------+--------------------+---------------+---------------------+----+----------+-----------------+--------------+---------+--------------------+-------------------+---------------+-------------------+-----------------+---------------------+------------------+------------------------+---------------+---------+-----------------+---------+------------------+---------------+-------------+\n",
      "| ID|     ANZSOC Division|        ANZSOC Group|  ANZSOC Subdivision|     Ethnicity| Frequency|    Mop Division|         Police Area|Police District|Proceedings Frequency| SEX|Year Month|Number of Records|Offender Count|Age Group|  Age Group 5Yr Band|Person/Organisation|   ROV Division|          ROV Group|   ROVSubdivision|ANZSOC_Division_Index|ANZSOC_Group_Index|ANZSOC_Subdivision_Index|Ethnicity_Index|Mop_Index|Police_area_index|SEX_index|ROV_Division_Index|ROV_Group_Index|ROV_Sub_index|\n",
      "+---+--------------------+--------------------+--------------------+--------------+----------+----------------+--------------------+---------------+---------------------+----+----------+-----------------+--------------+---------+--------------------+-------------------+---------------+-------------------+-----------------+---------------------+------------------+------------------------+---------------+---------+-----------------+---------+------------------+---------------+-------------+\n",
      "|  1|Acts Intended to ...|      Common Assault|             Assault|Pacific Island|10 or more|Non-Court Action|Auckland Central ...|  Auckland City|           10 or more|Male| 1/02/2020|                1|          1.00|    15-19|15 - 19 years inc...|             Person|Known To Victim|Known To Each Other|Non Family Member|                  0.0|               3.0|                     0.0|            0.0|      1.0|              2.0|      0.0|               0.0|            1.0|          2.0|\n",
      "|  2|Acts Intended to ...|      Common Assault|             Assault|Pacific Island|10 or more|Non-Court Action|Auckland Central ...|  Auckland City|           10 or more|Male| 1/02/2020|                1|             1|    20-24|20 - 24 years inc...|             Person|Known To Victim|Known To Each Other|Non Family Member|                  0.0|               3.0|                     0.0|            0.0|      1.0|              2.0|      0.0|               0.0|            1.0|          2.0|\n",
      "|  4|Acts Intended to ...|Serious Assault N...|             Assault|Pacific Island|         2|Non-Court Action|  Auckland East Area|  Auckland City|                    2|Male| 1/02/2020|                1|          1.00|    15-19|15 - 19 years inc...|             Person|Known To Victim|Known To Each Other|Non Family Member|                  0.0|               0.0|                     0.0|            0.0|      1.0|              1.0|      0.0|               0.0|            1.0|          2.0|\n",
      "|  5|Acts Intended to ...|Serious Assault N...|             Assault|Pacific Island|         2|Non-Court Action|  Auckland East Area|  Auckland City|                    2|Male| 1/02/2020|                1|          1.00|    25-29|25 - 29 years inc...|             Person|Known To Victim|Known To Each Other|Non Family Member|                  0.0|               0.0|                     0.0|            0.0|      1.0|              1.0|      0.0|               0.0|            1.0|          2.0|\n",
      "|  6|Acts Intended to ...|Serious Assault N...|             Assault|Pacific Island|         2|Non-Court Action|  Auckland East Area|  Auckland City|                    2|Male| 1/02/2020|                1|          1.00|    40-44|40 - 44 years inc...|             Person|Known To Victim|Known To Each Other|Non Family Member|                  0.0|               0.0|                     0.0|            0.0|      1.0|              1.0|      0.0|               0.0|            1.0|          2.0|\n",
      "|  7|Acts Intended to ...|      Common Assault|             Assault|        Indian|         2|Non-Court Action|  Auckland West Area|  Auckland City|                    2|Male| 1/02/2020|                1|          1.00|    20-24|20 - 24 years inc...|             Person|Known To Victim|Known To Each Other|Non Family Member|                  0.0|               3.0|                     0.0|            3.0|      1.0|              0.0|      0.0|               0.0|            1.0|          2.0|\n",
      "|  8|Acts Intended to ...|      Common Assault|             Assault|        Indian|         2|Non-Court Action|  Auckland West Area|  Auckland City|                    2|Male| 1/02/2020|                1|          1.00|    40-44|40 - 44 years inc...|             Person|Known To Victim|Known To Each Other|Non Family Member|                  0.0|               3.0|                     0.0|            3.0|      1.0|              0.0|      0.0|               0.0|            1.0|          2.0|\n",
      "|  9|Acts Intended to ...|      Common Assault|             Assault|Pacific Island|         2|Non-Court Action|  Auckland West Area|  Auckland City|                    2|Male| 1/02/2020|                1|          1.00|    15-19|15 - 19 years inc...|             Person|Known To Victim|Known To Each Other|Non Family Member|                  0.0|               3.0|                     0.0|            0.0|      1.0|              0.0|      0.0|               0.0|            1.0|          2.0|\n",
      "| 10|Acts Intended to ...|Serious Assault N...|             Assault|Pacific Island|         2|Non-Court Action|  Auckland West Area|  Auckland City|                    2|Male| 1/02/2020|                1|          1.00|    15-19|15 - 19 years inc...|             Person|Known To Victim|Known To Each Other|Non Family Member|                  0.0|               0.0|                     0.0|            0.0|      1.0|              0.0|      0.0|               0.0|            1.0|          2.0|\n",
      "| 11|Acts Intended to ...|Serious Assault N...|             Assault|Pacific Island|         2|Non-Court Action|  Auckland West Area|  Auckland City|                    2|Male| 1/02/2020|                1|          1.00|    25-29|25 - 29 years inc...|             Person|Known To Victim|Known To Each Other|Non Family Member|                  0.0|               0.0|                     0.0|            0.0|      1.0|              0.0|      0.0|               0.0|            1.0|          2.0|\n",
      "| 12|Acts Intended to ...|Serious Assault N...|             Assault|Pacific Island|         2|Non-Court Action|  Auckland West Area|  Auckland City|                    2|Male| 1/02/2020|                1|          1.00|    40-44|40 - 44 years inc...|             Person|Known To Victim|Known To Each Other|Non Family Member|                  0.0|               0.0|                     0.0|            0.0|      1.0|              0.0|      0.0|               0.0|            1.0|          2.0|\n",
      "| 53|Abduction, Harass...|Threatening Behav...|Harassment and Th...|Pacific Island|         3|Non-Court Action|  Auckland East Area|  Auckland City|                    3|Male| 1/02/2020|                1|          1.00|    45-49|45 - 49 years inc...|             Person|Known To Victim|Known To Each Other|Non Family Member|                  1.0|               2.0|                     1.0|            0.0|      1.0|              1.0|      0.0|               0.0|            1.0|          2.0|\n",
      "| 65|Acts Intended to ...|      Common Assault|             Assault|         Maori|         4|Non-Court Action|Auckland Central ...|  Auckland City|                    4|Male| 1/02/2020|                1|          1.00|    25-29|25 - 29 years inc...|             Person|Known To Victim|Known To Each Other|Non Family Member|                  0.0|               3.0|                     0.0|            2.0|      1.0|              2.0|      0.0|               0.0|            1.0|          2.0|\n",
      "| 66|Acts Intended to ...|      Common Assault|             Assault|         Maori|         4|Non-Court Action|Auckland Central ...|  Auckland City|                    4|Male| 1/02/2020|                1|          1.00|    35-39|35 - 39 years inc...|             Person|Known To Victim|Known To Each Other|Non Family Member|                  0.0|               3.0|                     0.0|            2.0|      1.0|              2.0|      0.0|               0.0|            1.0|          2.0|\n",
      "| 67|Acts Intended to ...|      Common Assault|             Assault|         Maori|         4|Non-Court Action|Auckland Central ...|  Auckland City|                    4|Male| 1/02/2020|                1|          1.00|    45-49|45 - 49 years inc...|             Person|Known To Victim|Known To Each Other|Non Family Member|                  0.0|               3.0|                     0.0|            2.0|      1.0|              2.0|      0.0|               0.0|            1.0|          2.0|\n",
      "| 68|Acts Intended to ...|      Common Assault|             Assault|      European|         4|Non-Court Action|  Auckland East Area|  Auckland City|                    4|Male| 1/02/2020|                1|          1.00|    10-14|10 - 14 years inc...|             Person|Known To Victim|Known To Each Other|Non Family Member|                  0.0|               3.0|                     0.0|            1.0|      1.0|              1.0|      0.0|               0.0|            1.0|          2.0|\n",
      "| 69|Acts Intended to ...|      Common Assault|             Assault|      European|         4|Non-Court Action|  Auckland East Area|  Auckland City|                    4|Male| 1/02/2020|                1|          1.00|    20-24|20 - 24 years inc...|             Person|Known To Victim|Known To Each Other|Non Family Member|                  0.0|               3.0|                     0.0|            1.0|      1.0|              1.0|      0.0|               0.0|            1.0|          2.0|\n",
      "| 70|Acts Intended to ...|      Common Assault|             Assault|      European|         4|Non-Court Action|  Auckland East Area|  Auckland City|                    4|Male| 1/02/2020|                1|          1.00|    25-29|25 - 29 years inc...|             Person|Known To Victim|Known To Each Other|Non Family Member|                  0.0|               3.0|                     0.0|            1.0|      1.0|              1.0|      0.0|               0.0|            1.0|          2.0|\n",
      "| 71|Acts Intended to ...|      Common Assault|             Assault|      European|         4|Non-Court Action|  Auckland East Area|  Auckland City|                    4|Male| 1/02/2020|                1|          1.00|    30-34|30 - 34 years inc...|             Person|Known To Victim|Known To Each Other|Non Family Member|                  0.0|               3.0|                     0.0|            1.0|      1.0|              1.0|      0.0|               0.0|            1.0|          2.0|\n",
      "| 73|Abduction, Harass...|Threatening Behav...|Harassment and Th...|      European|    5 to 9|Non-Court Action|  Auckland East Area|  Auckland City|               5 to 9|Male| 1/02/2020|                1|          1.00|    15-19|15 - 19 years inc...|             Person|Known To Victim|Known To Each Other|Non Family Member|                  1.0|               2.0|                     1.0|            1.0|      1.0|              1.0|      0.0|               0.0|            1.0|          2.0|\n",
      "+---+--------------------+--------------------+--------------------+--------------+----------+----------------+--------------------+---------------+---------------------+----+----------+-----------------+--------------+---------+--------------------+-------------------+---------------+-------------------+-----------------+---------------------+------------------+------------------------+---------------+---------+-----------------+---------+------------------+---------------+-------------+\n",
      "only showing top 20 rows\n",
      "\n"
     ]
    }
   ],
   "source": [
    "#Step 3.3 Data Construction. One Hote encoding.\n",
    "indexer = StringIndexer(inputCol = \"ANZSOC Division\", outputCol = \"ANZSOC_Division_Index\")\n",
    "master = indexer.fit(master).transform(master)\n",
    "\n",
    "indexer = StringIndexer(inputCol = \"ANZSOC Group\", outputCol = \"ANZSOC_Group_Index\")\n",
    "master = indexer.fit(master).transform(master)\n",
    "\n",
    "indexer = StringIndexer(inputCol = \"ANZSOC Subdivision\", outputCol = \"ANZSOC_Subdivision_Index\")\n",
    "master = indexer.fit(master).transform(master)\n",
    "\n",
    "indexer = StringIndexer(inputCol = \"Ethnicity\", outputCol = \"Ethnicity_Index\")\n",
    "master = indexer.fit(master).transform(master)\n",
    "\n",
    "indexer = StringIndexer(inputCol = \"Mop Division\", outputCol = \"Mop_Index\")\n",
    "master = indexer.fit(master).transform(master)\n",
    "\n",
    "indexer = StringIndexer(inputCol = \"Police Area\", outputCol = \"Police_area_index\")\n",
    "master = indexer.fit(master).transform(master)\n",
    "\n",
    "indexer = StringIndexer(inputCol = \"SEX\", outputCol = \"SEX_index\")\n",
    "master = indexer.fit(master).transform(master)\n",
    "\n",
    "indexer = StringIndexer(inputCol = \"ROV Division\", outputCol = \"ROV_Division_Index\")\n",
    "master = indexer.fit(master).transform(master)\n",
    "\n",
    "indexer = StringIndexer(inputCol = \"ROV Group\", outputCol = \"ROV_Group_Index\")\n",
    "master = indexer.fit(master).transform(master)\n",
    "\n",
    "indexer = StringIndexer(inputCol = \"ROVSubdivision\", outputCol = \"ROV_Sub_index\")\n",
    "master = indexer.fit(master).transform(master)\n",
    "\n",
    "master.show()"
   ]
  },
  {
   "cell_type": "code",
   "execution_count": 42,
   "metadata": {},
   "outputs": [],
   "source": [
    "#One Hot Encoding\n",
    "from pyspark.ml.feature import OneHotEncoder"
   ]
  },
  {
   "cell_type": "code",
   "execution_count": 43,
   "metadata": {},
   "outputs": [
    {
     "name": "stdout",
     "output_type": "stream",
     "text": [
      "+---+--------------------+--------------------+--------------------+--------------+----------+----------------+--------------------+---------------+---------------------+----+----------+-----------------+--------------+---------+--------------------+-------------------+---------------+-------------------+-----------------+---------------------+------------------+------------------------+---------------+---------+-----------------+---------+------------------+---------------+-------------+-------------------+----------------+----------------------+-------------+-------------+---------------+-------------+----------------+--------------+-----------+\n",
      "| ID|     ANZSOC Division|        ANZSOC Group|  ANZSOC Subdivision|     Ethnicity| Frequency|    Mop Division|         Police Area|Police District|Proceedings Frequency| SEX|Year Month|Number of Records|Offender Count|Age Group|  Age Group 5Yr Band|Person/Organisation|   ROV Division|          ROV Group|   ROVSubdivision|ANZSOC_Division_Index|ANZSOC_Group_Index|ANZSOC_Subdivision_Index|Ethnicity_Index|Mop_Index|Police_area_index|SEX_index|ROV_Division_Index|ROV_Group_Index|ROV_Sub_index|ANZSOC_Division_vec|ANZSOC_Group_vec|ANZSOC_Subdivision_vec|Ethnicity_vec|      Mop_vec|Police_Area_vec|      SEX_vec|ROV_Division_vec| ROV_Group_vec|ROV_Sub_vec|\n",
      "+---+--------------------+--------------------+--------------------+--------------+----------+----------------+--------------------+---------------+---------------------+----+----------+-----------------+--------------+---------+--------------------+-------------------+---------------+-------------------+-----------------+---------------------+------------------+------------------------+---------------+---------+-----------------+---------+------------------+---------------+-------------+-------------------+----------------+----------------------+-------------+-------------+---------------+-------------+----------------+--------------+-----------+\n",
      "|  1|Acts Intended to ...|      Common Assault|             Assault|Pacific Island|10 or more|Non-Court Action|Auckland Central ...|  Auckland City|           10 or more|Male| 1/02/2020|                1|          1.00|    15-19|15 - 19 years inc...|             Person|Known To Victim|Known To Each Other|Non Family Member|                  0.0|               3.0|                     0.0|            0.0|      1.0|              2.0|      0.0|               0.0|            1.0|          2.0|     (13,[0],[1.0])|  (44,[3],[1.0])|        (27,[0],[1.0])|(7,[0],[1.0])|(2,[1],[1.0])|      (2,[],[])|(1,[0],[1.0])|   (1,[0],[1.0])|(10,[1],[1.0])|  (2,[],[])|\n",
      "|  2|Acts Intended to ...|      Common Assault|             Assault|Pacific Island|10 or more|Non-Court Action|Auckland Central ...|  Auckland City|           10 or more|Male| 1/02/2020|                1|             1|    20-24|20 - 24 years inc...|             Person|Known To Victim|Known To Each Other|Non Family Member|                  0.0|               3.0|                     0.0|            0.0|      1.0|              2.0|      0.0|               0.0|            1.0|          2.0|     (13,[0],[1.0])|  (44,[3],[1.0])|        (27,[0],[1.0])|(7,[0],[1.0])|(2,[1],[1.0])|      (2,[],[])|(1,[0],[1.0])|   (1,[0],[1.0])|(10,[1],[1.0])|  (2,[],[])|\n",
      "|  4|Acts Intended to ...|Serious Assault N...|             Assault|Pacific Island|         2|Non-Court Action|  Auckland East Area|  Auckland City|                    2|Male| 1/02/2020|                1|          1.00|    15-19|15 - 19 years inc...|             Person|Known To Victim|Known To Each Other|Non Family Member|                  0.0|               0.0|                     0.0|            0.0|      1.0|              1.0|      0.0|               0.0|            1.0|          2.0|     (13,[0],[1.0])|  (44,[0],[1.0])|        (27,[0],[1.0])|(7,[0],[1.0])|(2,[1],[1.0])|  (2,[1],[1.0])|(1,[0],[1.0])|   (1,[0],[1.0])|(10,[1],[1.0])|  (2,[],[])|\n",
      "|  5|Acts Intended to ...|Serious Assault N...|             Assault|Pacific Island|         2|Non-Court Action|  Auckland East Area|  Auckland City|                    2|Male| 1/02/2020|                1|          1.00|    25-29|25 - 29 years inc...|             Person|Known To Victim|Known To Each Other|Non Family Member|                  0.0|               0.0|                     0.0|            0.0|      1.0|              1.0|      0.0|               0.0|            1.0|          2.0|     (13,[0],[1.0])|  (44,[0],[1.0])|        (27,[0],[1.0])|(7,[0],[1.0])|(2,[1],[1.0])|  (2,[1],[1.0])|(1,[0],[1.0])|   (1,[0],[1.0])|(10,[1],[1.0])|  (2,[],[])|\n",
      "|  6|Acts Intended to ...|Serious Assault N...|             Assault|Pacific Island|         2|Non-Court Action|  Auckland East Area|  Auckland City|                    2|Male| 1/02/2020|                1|          1.00|    40-44|40 - 44 years inc...|             Person|Known To Victim|Known To Each Other|Non Family Member|                  0.0|               0.0|                     0.0|            0.0|      1.0|              1.0|      0.0|               0.0|            1.0|          2.0|     (13,[0],[1.0])|  (44,[0],[1.0])|        (27,[0],[1.0])|(7,[0],[1.0])|(2,[1],[1.0])|  (2,[1],[1.0])|(1,[0],[1.0])|   (1,[0],[1.0])|(10,[1],[1.0])|  (2,[],[])|\n",
      "|  7|Acts Intended to ...|      Common Assault|             Assault|        Indian|         2|Non-Court Action|  Auckland West Area|  Auckland City|                    2|Male| 1/02/2020|                1|          1.00|    20-24|20 - 24 years inc...|             Person|Known To Victim|Known To Each Other|Non Family Member|                  0.0|               3.0|                     0.0|            3.0|      1.0|              0.0|      0.0|               0.0|            1.0|          2.0|     (13,[0],[1.0])|  (44,[3],[1.0])|        (27,[0],[1.0])|(7,[3],[1.0])|(2,[1],[1.0])|  (2,[0],[1.0])|(1,[0],[1.0])|   (1,[0],[1.0])|(10,[1],[1.0])|  (2,[],[])|\n",
      "|  8|Acts Intended to ...|      Common Assault|             Assault|        Indian|         2|Non-Court Action|  Auckland West Area|  Auckland City|                    2|Male| 1/02/2020|                1|          1.00|    40-44|40 - 44 years inc...|             Person|Known To Victim|Known To Each Other|Non Family Member|                  0.0|               3.0|                     0.0|            3.0|      1.0|              0.0|      0.0|               0.0|            1.0|          2.0|     (13,[0],[1.0])|  (44,[3],[1.0])|        (27,[0],[1.0])|(7,[3],[1.0])|(2,[1],[1.0])|  (2,[0],[1.0])|(1,[0],[1.0])|   (1,[0],[1.0])|(10,[1],[1.0])|  (2,[],[])|\n",
      "|  9|Acts Intended to ...|      Common Assault|             Assault|Pacific Island|         2|Non-Court Action|  Auckland West Area|  Auckland City|                    2|Male| 1/02/2020|                1|          1.00|    15-19|15 - 19 years inc...|             Person|Known To Victim|Known To Each Other|Non Family Member|                  0.0|               3.0|                     0.0|            0.0|      1.0|              0.0|      0.0|               0.0|            1.0|          2.0|     (13,[0],[1.0])|  (44,[3],[1.0])|        (27,[0],[1.0])|(7,[0],[1.0])|(2,[1],[1.0])|  (2,[0],[1.0])|(1,[0],[1.0])|   (1,[0],[1.0])|(10,[1],[1.0])|  (2,[],[])|\n",
      "| 10|Acts Intended to ...|Serious Assault N...|             Assault|Pacific Island|         2|Non-Court Action|  Auckland West Area|  Auckland City|                    2|Male| 1/02/2020|                1|          1.00|    15-19|15 - 19 years inc...|             Person|Known To Victim|Known To Each Other|Non Family Member|                  0.0|               0.0|                     0.0|            0.0|      1.0|              0.0|      0.0|               0.0|            1.0|          2.0|     (13,[0],[1.0])|  (44,[0],[1.0])|        (27,[0],[1.0])|(7,[0],[1.0])|(2,[1],[1.0])|  (2,[0],[1.0])|(1,[0],[1.0])|   (1,[0],[1.0])|(10,[1],[1.0])|  (2,[],[])|\n",
      "| 11|Acts Intended to ...|Serious Assault N...|             Assault|Pacific Island|         2|Non-Court Action|  Auckland West Area|  Auckland City|                    2|Male| 1/02/2020|                1|          1.00|    25-29|25 - 29 years inc...|             Person|Known To Victim|Known To Each Other|Non Family Member|                  0.0|               0.0|                     0.0|            0.0|      1.0|              0.0|      0.0|               0.0|            1.0|          2.0|     (13,[0],[1.0])|  (44,[0],[1.0])|        (27,[0],[1.0])|(7,[0],[1.0])|(2,[1],[1.0])|  (2,[0],[1.0])|(1,[0],[1.0])|   (1,[0],[1.0])|(10,[1],[1.0])|  (2,[],[])|\n",
      "| 12|Acts Intended to ...|Serious Assault N...|             Assault|Pacific Island|         2|Non-Court Action|  Auckland West Area|  Auckland City|                    2|Male| 1/02/2020|                1|          1.00|    40-44|40 - 44 years inc...|             Person|Known To Victim|Known To Each Other|Non Family Member|                  0.0|               0.0|                     0.0|            0.0|      1.0|              0.0|      0.0|               0.0|            1.0|          2.0|     (13,[0],[1.0])|  (44,[0],[1.0])|        (27,[0],[1.0])|(7,[0],[1.0])|(2,[1],[1.0])|  (2,[0],[1.0])|(1,[0],[1.0])|   (1,[0],[1.0])|(10,[1],[1.0])|  (2,[],[])|\n",
      "| 53|Abduction, Harass...|Threatening Behav...|Harassment and Th...|Pacific Island|         3|Non-Court Action|  Auckland East Area|  Auckland City|                    3|Male| 1/02/2020|                1|          1.00|    45-49|45 - 49 years inc...|             Person|Known To Victim|Known To Each Other|Non Family Member|                  1.0|               2.0|                     1.0|            0.0|      1.0|              1.0|      0.0|               0.0|            1.0|          2.0|     (13,[1],[1.0])|  (44,[2],[1.0])|        (27,[1],[1.0])|(7,[0],[1.0])|(2,[1],[1.0])|  (2,[1],[1.0])|(1,[0],[1.0])|   (1,[0],[1.0])|(10,[1],[1.0])|  (2,[],[])|\n",
      "| 65|Acts Intended to ...|      Common Assault|             Assault|         Maori|         4|Non-Court Action|Auckland Central ...|  Auckland City|                    4|Male| 1/02/2020|                1|          1.00|    25-29|25 - 29 years inc...|             Person|Known To Victim|Known To Each Other|Non Family Member|                  0.0|               3.0|                     0.0|            2.0|      1.0|              2.0|      0.0|               0.0|            1.0|          2.0|     (13,[0],[1.0])|  (44,[3],[1.0])|        (27,[0],[1.0])|(7,[2],[1.0])|(2,[1],[1.0])|      (2,[],[])|(1,[0],[1.0])|   (1,[0],[1.0])|(10,[1],[1.0])|  (2,[],[])|\n",
      "| 66|Acts Intended to ...|      Common Assault|             Assault|         Maori|         4|Non-Court Action|Auckland Central ...|  Auckland City|                    4|Male| 1/02/2020|                1|          1.00|    35-39|35 - 39 years inc...|             Person|Known To Victim|Known To Each Other|Non Family Member|                  0.0|               3.0|                     0.0|            2.0|      1.0|              2.0|      0.0|               0.0|            1.0|          2.0|     (13,[0],[1.0])|  (44,[3],[1.0])|        (27,[0],[1.0])|(7,[2],[1.0])|(2,[1],[1.0])|      (2,[],[])|(1,[0],[1.0])|   (1,[0],[1.0])|(10,[1],[1.0])|  (2,[],[])|\n",
      "| 67|Acts Intended to ...|      Common Assault|             Assault|         Maori|         4|Non-Court Action|Auckland Central ...|  Auckland City|                    4|Male| 1/02/2020|                1|          1.00|    45-49|45 - 49 years inc...|             Person|Known To Victim|Known To Each Other|Non Family Member|                  0.0|               3.0|                     0.0|            2.0|      1.0|              2.0|      0.0|               0.0|            1.0|          2.0|     (13,[0],[1.0])|  (44,[3],[1.0])|        (27,[0],[1.0])|(7,[2],[1.0])|(2,[1],[1.0])|      (2,[],[])|(1,[0],[1.0])|   (1,[0],[1.0])|(10,[1],[1.0])|  (2,[],[])|\n",
      "| 68|Acts Intended to ...|      Common Assault|             Assault|      European|         4|Non-Court Action|  Auckland East Area|  Auckland City|                    4|Male| 1/02/2020|                1|          1.00|    10-14|10 - 14 years inc...|             Person|Known To Victim|Known To Each Other|Non Family Member|                  0.0|               3.0|                     0.0|            1.0|      1.0|              1.0|      0.0|               0.0|            1.0|          2.0|     (13,[0],[1.0])|  (44,[3],[1.0])|        (27,[0],[1.0])|(7,[1],[1.0])|(2,[1],[1.0])|  (2,[1],[1.0])|(1,[0],[1.0])|   (1,[0],[1.0])|(10,[1],[1.0])|  (2,[],[])|\n",
      "| 69|Acts Intended to ...|      Common Assault|             Assault|      European|         4|Non-Court Action|  Auckland East Area|  Auckland City|                    4|Male| 1/02/2020|                1|          1.00|    20-24|20 - 24 years inc...|             Person|Known To Victim|Known To Each Other|Non Family Member|                  0.0|               3.0|                     0.0|            1.0|      1.0|              1.0|      0.0|               0.0|            1.0|          2.0|     (13,[0],[1.0])|  (44,[3],[1.0])|        (27,[0],[1.0])|(7,[1],[1.0])|(2,[1],[1.0])|  (2,[1],[1.0])|(1,[0],[1.0])|   (1,[0],[1.0])|(10,[1],[1.0])|  (2,[],[])|\n",
      "| 70|Acts Intended to ...|      Common Assault|             Assault|      European|         4|Non-Court Action|  Auckland East Area|  Auckland City|                    4|Male| 1/02/2020|                1|          1.00|    25-29|25 - 29 years inc...|             Person|Known To Victim|Known To Each Other|Non Family Member|                  0.0|               3.0|                     0.0|            1.0|      1.0|              1.0|      0.0|               0.0|            1.0|          2.0|     (13,[0],[1.0])|  (44,[3],[1.0])|        (27,[0],[1.0])|(7,[1],[1.0])|(2,[1],[1.0])|  (2,[1],[1.0])|(1,[0],[1.0])|   (1,[0],[1.0])|(10,[1],[1.0])|  (2,[],[])|\n",
      "| 71|Acts Intended to ...|      Common Assault|             Assault|      European|         4|Non-Court Action|  Auckland East Area|  Auckland City|                    4|Male| 1/02/2020|                1|          1.00|    30-34|30 - 34 years inc...|             Person|Known To Victim|Known To Each Other|Non Family Member|                  0.0|               3.0|                     0.0|            1.0|      1.0|              1.0|      0.0|               0.0|            1.0|          2.0|     (13,[0],[1.0])|  (44,[3],[1.0])|        (27,[0],[1.0])|(7,[1],[1.0])|(2,[1],[1.0])|  (2,[1],[1.0])|(1,[0],[1.0])|   (1,[0],[1.0])|(10,[1],[1.0])|  (2,[],[])|\n",
      "| 73|Abduction, Harass...|Threatening Behav...|Harassment and Th...|      European|    5 to 9|Non-Court Action|  Auckland East Area|  Auckland City|               5 to 9|Male| 1/02/2020|                1|          1.00|    15-19|15 - 19 years inc...|             Person|Known To Victim|Known To Each Other|Non Family Member|                  1.0|               2.0|                     1.0|            1.0|      1.0|              1.0|      0.0|               0.0|            1.0|          2.0|     (13,[1],[1.0])|  (44,[2],[1.0])|        (27,[1],[1.0])|(7,[1],[1.0])|(2,[1],[1.0])|  (2,[1],[1.0])|(1,[0],[1.0])|   (1,[0],[1.0])|(10,[1],[1.0])|  (2,[],[])|\n",
      "+---+--------------------+--------------------+--------------------+--------------+----------+----------------+--------------------+---------------+---------------------+----+----------+-----------------+--------------+---------+--------------------+-------------------+---------------+-------------------+-----------------+---------------------+------------------+------------------------+---------------+---------+-----------------+---------+------------------+---------------+-------------+-------------------+----------------+----------------------+-------------+-------------+---------------+-------------+----------------+--------------+-----------+\n",
      "only showing top 20 rows\n",
      "\n"
     ]
    }
   ],
   "source": [
    "\n",
    "one_hot_encoder = OneHotEncoder(inputCol = \"ANZSOC_Division_Index\", outputCol = \"ANZSOC_Division_vec\")\n",
    "master = one_hot_encoder.transform(master)\n",
    "\n",
    "one_hot_encoder = OneHotEncoder(inputCol = \"ANZSOC_Group_Index\", outputCol = \"ANZSOC_Group_vec\")\n",
    "master = one_hot_encoder.transform(master)\n",
    "\n",
    "one_hot_encoder = OneHotEncoder(inputCol = \"ANZSOC_Subdivision_Index\", outputCol = \"ANZSOC_Subdivision_vec\")\n",
    "master = one_hot_encoder.transform(master)\n",
    "\n",
    "one_hot_encoder = OneHotEncoder(inputCol = \"Ethnicity_Index\", outputCol = \"Ethnicity_vec\")\n",
    "master = one_hot_encoder.transform(master)\n",
    "\n",
    "one_hot_encoder = OneHotEncoder(inputCol = \"Mop_Index\", outputCol = \"Mop_vec\")\n",
    "master = one_hot_encoder.transform(master)\n",
    "\n",
    "one_hot_encoder = OneHotEncoder(inputCol = \"Police_area_index\", outputCol = \"Police_Area_vec\")\n",
    "master = one_hot_encoder.transform(master)\n",
    "\n",
    "one_hot_encoder = OneHotEncoder(inputCol = \"SEX_index\", outputCol = \"SEX_vec\")\n",
    "master = one_hot_encoder.transform(master)\n",
    "\n",
    "one_hot_encoder = OneHotEncoder(inputCol = \"ROV_Division_Index\", outputCol = \"ROV_Division_vec\")\n",
    "master = one_hot_encoder.transform(master)\n",
    "\n",
    "one_hot_encoder = OneHotEncoder(inputCol = \"ROV_Group_Index\", outputCol = \"ROV_Group_vec\")\n",
    "master = one_hot_encoder.transform(master)\n",
    "\n",
    "one_hot_encoder = OneHotEncoder(inputCol = \"ROV_Sub_index\", outputCol = \"ROV_Sub_vec\")\n",
    "master = one_hot_encoder.transform(master)\n",
    "\n",
    "\n",
    "master.show()"
   ]
  },
  {
   "cell_type": "code",
   "execution_count": 44,
   "metadata": {},
   "outputs": [
    {
     "name": "stdout",
     "output_type": "stream",
     "text": [
      "+-------------+----+---------+\n",
      "|      SEX_vec| SEX|SEX_index|\n",
      "+-------------+----+---------+\n",
      "|(1,[0],[1.0])|Male|      0.0|\n",
      "|(1,[0],[1.0])|Male|      0.0|\n",
      "|(1,[0],[1.0])|Male|      0.0|\n",
      "|(1,[0],[1.0])|Male|      0.0|\n",
      "|(1,[0],[1.0])|Male|      0.0|\n",
      "|(1,[0],[1.0])|Male|      0.0|\n",
      "|(1,[0],[1.0])|Male|      0.0|\n",
      "|(1,[0],[1.0])|Male|      0.0|\n",
      "|(1,[0],[1.0])|Male|      0.0|\n",
      "|(1,[0],[1.0])|Male|      0.0|\n",
      "|(1,[0],[1.0])|Male|      0.0|\n",
      "|(1,[0],[1.0])|Male|      0.0|\n",
      "|(1,[0],[1.0])|Male|      0.0|\n",
      "|(1,[0],[1.0])|Male|      0.0|\n",
      "|(1,[0],[1.0])|Male|      0.0|\n",
      "|(1,[0],[1.0])|Male|      0.0|\n",
      "|(1,[0],[1.0])|Male|      0.0|\n",
      "|(1,[0],[1.0])|Male|      0.0|\n",
      "|(1,[0],[1.0])|Male|      0.0|\n",
      "|(1,[0],[1.0])|Male|      0.0|\n",
      "+-------------+----+---------+\n",
      "only showing top 20 rows\n",
      "\n"
     ]
    }
   ],
   "source": [
    "master.select(\"SEX_vec\", \"SEX\", \"SEX_index\").show()\n"
   ]
  },
  {
   "cell_type": "code",
   "execution_count": 45,
   "metadata": {},
   "outputs": [
    {
     "name": "stdout",
     "output_type": "stream",
     "text": [
      "+-------------+------+---------+\n",
      "|SEX_vec      |SEX   |SEX_index|\n",
      "+-------------+------+---------+\n",
      "|(1,[],[])    |Female|1.0      |\n",
      "|(1,[0],[1.0])|Male  |0.0      |\n",
      "+-------------+------+---------+\n",
      "\n"
     ]
    }
   ],
   "source": [
    "master.dropDuplicates(([\"SEX_vec\", \"SEX\", \"SEX_index\"])).select(\"SEX_vec\", \"SEX\", \"SEX_index\").show(truncate = False)"
   ]
  },
  {
   "cell_type": "code",
   "execution_count": 46,
   "metadata": {},
   "outputs": [
    {
     "data": {
      "text/plain": [
       "['ID',\n",
       " 'ANZSOC Division',\n",
       " 'ANZSOC Group',\n",
       " 'ANZSOC Subdivision',\n",
       " 'Ethnicity',\n",
       " 'Frequency',\n",
       " 'Mop Division',\n",
       " 'Police Area',\n",
       " 'Police District',\n",
       " 'Proceedings Frequency',\n",
       " 'SEX',\n",
       " 'Year Month',\n",
       " 'Number of Records',\n",
       " 'Offender Count',\n",
       " 'Age Group',\n",
       " 'Age Group 5Yr Band',\n",
       " 'Person/Organisation',\n",
       " 'ROV Division',\n",
       " 'ROV Group',\n",
       " 'ROVSubdivision',\n",
       " 'ANZSOC_Division_Index',\n",
       " 'ANZSOC_Group_Index',\n",
       " 'ANZSOC_Subdivision_Index',\n",
       " 'Ethnicity_Index',\n",
       " 'Mop_Index',\n",
       " 'Police_area_index',\n",
       " 'SEX_index',\n",
       " 'ROV_Division_Index',\n",
       " 'ROV_Group_Index',\n",
       " 'ROV_Sub_index',\n",
       " 'ANZSOC_Division_vec',\n",
       " 'ANZSOC_Group_vec',\n",
       " 'ANZSOC_Subdivision_vec',\n",
       " 'Ethnicity_vec',\n",
       " 'Mop_vec',\n",
       " 'Police_Area_vec',\n",
       " 'SEX_vec',\n",
       " 'ROV_Division_vec',\n",
       " 'ROV_Group_vec',\n",
       " 'ROV_Sub_vec']"
      ]
     },
     "execution_count": 46,
     "metadata": {},
     "output_type": "execute_result"
    }
   ],
   "source": [
    "master.columns"
   ]
  },
  {
   "cell_type": "code",
   "execution_count": 47,
   "metadata": {},
   "outputs": [],
   "source": [
    "#convert values in Age and Frequency"
   ]
  },
  {
   "cell_type": "code",
   "execution_count": 48,
   "metadata": {},
   "outputs": [
    {
     "name": "stdout",
     "output_type": "stream",
     "text": [
      "+-------------+\n",
      "|Age Group    |\n",
      "+-------------+\n",
      "|5-9          |\n",
      "|20-24        |\n",
      "|65-69        |\n",
      "|75-79        |\n",
      "|80yearsorover|\n",
      "|30-34        |\n",
      "|70-74        |\n",
      "|15-19        |\n",
      "|10-14        |\n",
      "|50-54        |\n",
      "|35-39        |\n",
      "|45-49        |\n",
      "|25-29        |\n",
      "|40-44        |\n",
      "|55-59        |\n",
      "|60-64        |\n",
      "+-------------+\n",
      "\n"
     ]
    }
   ],
   "source": [
    "master.dropDuplicates(([\"Age Group\"])).select(\"Age Group\").show(truncate = False)"
   ]
  },
  {
   "cell_type": "code",
   "execution_count": 49,
   "metadata": {},
   "outputs": [
    {
     "data": {
      "text/plain": [
       "19047"
      ]
     },
     "execution_count": 49,
     "metadata": {},
     "output_type": "execute_result"
    }
   ],
   "source": [
    "master.count()"
   ]
  },
  {
   "cell_type": "code",
   "execution_count": 50,
   "metadata": {},
   "outputs": [
    {
     "name": "stdout",
     "output_type": "stream",
     "text": [
      "+----------+--------------+\n",
      "| Frequency|Offender Count|\n",
      "+----------+--------------+\n",
      "|10 or more|          1.00|\n",
      "|10 or more|             1|\n",
      "|         2|          1.00|\n",
      "|         2|          1.00|\n",
      "|         2|          1.00|\n",
      "|         2|          1.00|\n",
      "|         2|          1.00|\n",
      "|         2|          1.00|\n",
      "|         2|          1.00|\n",
      "|         2|          1.00|\n",
      "|         2|          1.00|\n",
      "|         3|          1.00|\n",
      "|         4|          1.00|\n",
      "|         4|          1.00|\n",
      "|         4|          1.00|\n",
      "|         4|          1.00|\n",
      "|         4|          1.00|\n",
      "|         4|          1.00|\n",
      "|         4|          1.00|\n",
      "|    5 to 9|          1.00|\n",
      "+----------+--------------+\n",
      "only showing top 20 rows\n",
      "\n"
     ]
    }
   ],
   "source": [
    "master.select(\"Frequency\", \"Offender Count\" ).show()\n"
   ]
  },
  {
   "cell_type": "code",
   "execution_count": 51,
   "metadata": {},
   "outputs": [],
   "source": [
    "from pyspark.sql.functions import *\n"
   ]
  },
  {
   "cell_type": "code",
   "execution_count": 52,
   "metadata": {},
   "outputs": [
    {
     "name": "stdout",
     "output_type": "stream",
     "text": [
      "+---------+---------------------+--------------+---------+\n",
      "|Frequency|Proceedings Frequency|Offender Count|Age Group|\n",
      "+---------+---------------------+--------------+---------+\n",
      "|1        |1                    |4.00          |60       |\n",
      "|1        |1                    |4.00          |20       |\n",
      "|4        |4                    |4.00          |30       |\n",
      "|4        |4                    |2.00          |55       |\n",
      "|2        |2                    |4.00          |15       |\n",
      "|3        |3                    |2.00          |60       |\n",
      "|5        |5 to 9               |4.00          |20       |\n",
      "|5        |5 to 9               |1.00          |60       |\n",
      "|2        |2                    |1.00          |65       |\n",
      "|1        |1                    |4.00          |55       |\n",
      "|5        |5 to 9               |3.00          |40       |\n",
      "|5        |5 to 9               |2.00          |50       |\n",
      "|4        |4                    |2.00          |15       |\n",
      "|3        |3                    |3.00          |35       |\n",
      "|5        |5 to 9               |3.00          |25       |\n",
      "|4        |4                    |4.00          |15       |\n",
      "|3        |3                    |1.00          |20       |\n",
      "|1        |1                    |2.00          |20       |\n",
      "|2        |2                    |2.00          |45       |\n",
      "|1        |1                    |6.00          |50       |\n",
      "+---------+---------------------+--------------+---------+\n",
      "only showing top 20 rows\n",
      "\n"
     ]
    }
   ],
   "source": [
    "\n",
    "master = master.withColumn(\"Frequency\", regexp_replace(\"Frequency\", \"10 or more\", \"10\"))\n",
    "master = master.withColumn(\"Frequency\", regexp_replace(\"Frequency\", \"5 to 9\", \"5\"))\n",
    "\n",
    "master = master.withColumn(\"Age Group\", regexp_replace(\"Age Group\", \"5-9\", \"5\"))\n",
    "master = master.withColumn(\"Age Group\", regexp_replace(\"Age Group\", \"10-14\", \"10\"))\n",
    "master = master.withColumn(\"Age Group\", regexp_replace(\"Age Group\", \"15-19\", \"15\"))\n",
    "master = master.withColumn(\"Age Group\", regexp_replace(\"Age Group\", \"20-24\", \"20\"))\n",
    "master = master.withColumn(\"Age Group\", regexp_replace(\"Age Group\", \"25-29\", \"25\"))\n",
    "master = master.withColumn(\"Age Group\", regexp_replace(\"Age Group\", \"30-34\", \"30\"))\n",
    "master = master.withColumn(\"Age Group\", regexp_replace(\"Age Group\", \"35-39\", \"35\"))\n",
    "master = master.withColumn(\"Age Group\", regexp_replace(\"Age Group\", \"40-44\", \"40\"))\n",
    "master = master.withColumn(\"Age Group\", regexp_replace(\"Age Group\", \"45-49\", \"45\"))\n",
    "master = master.withColumn(\"Age Group\", regexp_replace(\"Age Group\", \"50-54\", \"50\"))\n",
    "master = master.withColumn(\"Age Group\", regexp_replace(\"Age Group\", \"55-59\", \"55\"))\n",
    "master = master.withColumn(\"Age Group\", regexp_replace(\"Age Group\", \"60-64\", \"60\"))\n",
    "master = master.withColumn(\"Age Group\", regexp_replace(\"Age Group\", \"65-69\", \"65\"))\n",
    "master = master.withColumn(\"Age Group\", regexp_replace(\"Age Group\", \"70-74\", \"70\"))\n",
    "master = master.withColumn(\"Age Group\", regexp_replace(\"Age Group\", \"75-79\", \"75\"))\n",
    "master = master.withColumn(\"Age Group\", regexp_replace(\"Age Group\", \"80yearsorover\", \"80\"))\n",
    "\n",
    "master.dropDuplicates(([\"Frequency\", \"Proceedings Frequency\", \"Offender Count\",\"Age Group\"])).select(\"Frequency\", \"Proceedings Frequency\", \"Offender Count\", \"Age Group\").show(truncate = False)\n"
   ]
  },
  {
   "cell_type": "code",
   "execution_count": 53,
   "metadata": {},
   "outputs": [
    {
     "name": "stdout",
     "output_type": "stream",
     "text": [
      "+---------+\n",
      "|Age Group|\n",
      "+---------+\n",
      "|15       |\n",
      "|30       |\n",
      "|35       |\n",
      "|5        |\n",
      "|70       |\n",
      "|75       |\n",
      "|60       |\n",
      "|55       |\n",
      "|40       |\n",
      "|25       |\n",
      "|20       |\n",
      "|10       |\n",
      "|65       |\n",
      "|80       |\n",
      "|50       |\n",
      "|45       |\n",
      "+---------+\n",
      "\n"
     ]
    }
   ],
   "source": [
    "master.dropDuplicates(([\"Age Group\"])).select(\"Age Group\").show(truncate = False)"
   ]
  },
  {
   "cell_type": "code",
   "execution_count": 54,
   "metadata": {},
   "outputs": [
    {
     "name": "stdout",
     "output_type": "stream",
     "text": [
      "+---------------+\n",
      "|Police District|\n",
      "+---------------+\n",
      "|Auckland City  |\n",
      "+---------------+\n",
      "\n",
      "+-----------------+\n",
      "|Number of Records|\n",
      "+-----------------+\n",
      "|1                |\n",
      "+-----------------+\n",
      "\n",
      "+-------------------+\n",
      "|Person/Organisation|\n",
      "+-------------------+\n",
      "|Person             |\n",
      "+-------------------+\n",
      "\n"
     ]
    }
   ],
   "source": [
    "master.dropDuplicates(([\"Police District\"])).select(\"Police District\").show(truncate = False)\n",
    "master.dropDuplicates(([\"Number of Records\"])).select(\"Number of Records\").show(truncate = False)\n",
    "master.dropDuplicates(([\"Person/Organisation\"])).select(\"Person/Organisation\").show(truncate = False)\n",
    "\n"
   ]
  },
  {
   "cell_type": "code",
   "execution_count": 55,
   "metadata": {},
   "outputs": [
    {
     "data": {
      "text/plain": [
       "['ID',\n",
       " 'ANZSOC Division',\n",
       " 'ANZSOC Group',\n",
       " 'ANZSOC Subdivision',\n",
       " 'Ethnicity',\n",
       " 'Frequency',\n",
       " 'Mop Division',\n",
       " 'Police Area',\n",
       " 'SEX',\n",
       " 'Year Month',\n",
       " 'Offender Count',\n",
       " 'Age Group',\n",
       " 'ROV Division',\n",
       " 'ROV Group',\n",
       " 'ROVSubdivision',\n",
       " 'ANZSOC_Division_Index',\n",
       " 'ANZSOC_Group_Index',\n",
       " 'ANZSOC_Subdivision_Index',\n",
       " 'Ethnicity_Index',\n",
       " 'Mop_Index',\n",
       " 'Police_area_index',\n",
       " 'SEX_index',\n",
       " 'ROV_Division_Index',\n",
       " 'ROV_Group_Index',\n",
       " 'ROV_Sub_index',\n",
       " 'ANZSOC_Division_vec',\n",
       " 'ANZSOC_Group_vec',\n",
       " 'ANZSOC_Subdivision_vec',\n",
       " 'Ethnicity_vec',\n",
       " 'Mop_vec',\n",
       " 'Police_Area_vec',\n",
       " 'SEX_vec',\n",
       " 'ROV_Division_vec',\n",
       " 'ROV_Group_vec',\n",
       " 'ROV_Sub_vec']"
      ]
     },
     "execution_count": 55,
     "metadata": {},
     "output_type": "execute_result"
    }
   ],
   "source": [
    "columns = (\"Police District\", \"Number of Records\", \"Age Group 5yr Band\", \"Proceedings Frequency\", \"Person/Organisation\") \n",
    "master = master.drop(*columns)\n",
    "master.columns"
   ]
  },
  {
   "cell_type": "code",
   "execution_count": 56,
   "metadata": {},
   "outputs": [
    {
     "data": {
      "text/plain": [
       "19047"
      ]
     },
     "execution_count": 56,
     "metadata": {},
     "output_type": "execute_result"
    }
   ],
   "source": [
    "master.count()"
   ]
  },
  {
   "cell_type": "code",
   "execution_count": 57,
   "metadata": {},
   "outputs": [
    {
     "data": {
      "text/plain": [
       "DataFrame[summary: string, ID: string, ANZSOC Division: string, ANZSOC Group: string, ANZSOC Subdivision: string, Ethnicity: string, Frequency: string, Mop Division: string, Police Area: string, SEX: string, Year Month: string, Offender Count: string, Age Group: string, ROV Division: string, ROV Group: string, ROVSubdivision: string, ANZSOC_Division_Index: string, ANZSOC_Group_Index: string, ANZSOC_Subdivision_Index: string, Ethnicity_Index: string, Mop_Index: string, Police_area_index: string, SEX_index: string, ROV_Division_Index: string, ROV_Group_Index: string, ROV_Sub_index: string]"
      ]
     },
     "execution_count": 57,
     "metadata": {},
     "output_type": "execute_result"
    }
   ],
   "source": [
    "#finding outlier on Frequency, Offender Count and Age\n",
    "import matplotlib.pyplot as plt\n",
    "import numpy as np\n",
    "master.describe()\n",
    "\n"
   ]
  },
  {
   "cell_type": "code",
   "execution_count": 58,
   "metadata": {},
   "outputs": [],
   "source": [
    "\n",
    "\n",
    "from pyspark.sql.types import StructField,IntegerType, StructType,StringType"
   ]
  },
  {
   "cell_type": "code",
   "execution_count": 59,
   "metadata": {},
   "outputs": [
    {
     "data": {
      "text/plain": [
       "[('ID', 'string'),\n",
       " ('ANZSOC Division', 'string'),\n",
       " ('ANZSOC Group', 'string'),\n",
       " ('ANZSOC Subdivision', 'string'),\n",
       " ('Ethnicity', 'string'),\n",
       " ('Frequency', 'int'),\n",
       " ('Mop Division', 'string'),\n",
       " ('Police Area', 'string'),\n",
       " ('SEX', 'string'),\n",
       " ('Year Month', 'string'),\n",
       " ('Offender Count', 'int'),\n",
       " ('Age Group', 'int'),\n",
       " ('ROV Division', 'string'),\n",
       " ('ROV Group', 'string'),\n",
       " ('ROVSubdivision', 'string'),\n",
       " ('ANZSOC_Division_Index', 'double'),\n",
       " ('ANZSOC_Group_Index', 'double'),\n",
       " ('ANZSOC_Subdivision_Index', 'double'),\n",
       " ('Ethnicity_Index', 'double'),\n",
       " ('Mop_Index', 'double'),\n",
       " ('Police_area_index', 'double'),\n",
       " ('SEX_index', 'double'),\n",
       " ('ROV_Division_Index', 'double'),\n",
       " ('ROV_Group_Index', 'double'),\n",
       " ('ROV_Sub_index', 'double'),\n",
       " ('ANZSOC_Division_vec', 'vector'),\n",
       " ('ANZSOC_Group_vec', 'vector'),\n",
       " ('ANZSOC_Subdivision_vec', 'vector'),\n",
       " ('Ethnicity_vec', 'vector'),\n",
       " ('Mop_vec', 'vector'),\n",
       " ('Police_Area_vec', 'vector'),\n",
       " ('SEX_vec', 'vector'),\n",
       " ('ROV_Division_vec', 'vector'),\n",
       " ('ROV_Group_vec', 'vector'),\n",
       " ('ROV_Sub_vec', 'vector')]"
      ]
     },
     "execution_count": 59,
     "metadata": {},
     "output_type": "execute_result"
    }
   ],
   "source": [
    "column_list = (\"Frequency\", \"Offender Count\", \"Age Group\")\n",
    "for x in column_list:\n",
    "    master = master.withColumn(x, master[x].cast(IntegerType()))\n",
    "master.dtypes"
   ]
  },
  {
   "cell_type": "code",
   "execution_count": 60,
   "metadata": {},
   "outputs": [
    {
     "data": {
      "text/plain": [
       "19047"
      ]
     },
     "execution_count": 60,
     "metadata": {},
     "output_type": "execute_result"
    }
   ],
   "source": [
    "master.count()"
   ]
  },
  {
   "cell_type": "code",
   "execution_count": 61,
   "metadata": {},
   "outputs": [
    {
     "name": "stdout",
     "output_type": "stream",
     "text": [
      "+---------+\n",
      "|Frequency|\n",
      "+---------+\n",
      "|1        |\n",
      "|3        |\n",
      "|5        |\n",
      "|4        |\n",
      "|10       |\n",
      "|2        |\n",
      "+---------+\n",
      "\n"
     ]
    }
   ],
   "source": [
    "master.dropDuplicates(([\"Frequency\"])).select(\"Frequency\").show(truncate = False)"
   ]
  },
  {
   "cell_type": "code",
   "execution_count": 62,
   "metadata": {
    "scrolled": true
   },
   "outputs": [
    {
     "name": "stdout",
     "output_type": "stream",
     "text": [
      "Frequency IQR  2.0\n",
      "Frequency lower  -2.0\n",
      "Frequency upper  6.0\n",
      "Offender Count IQR  0.0\n",
      "Offender Count lower  1.0\n",
      "Offender Count upper  1.0\n",
      "Age Group IQR  49.0\n",
      "Age Group lower  -48.5\n",
      "Age Group upper  123.5\n"
     ]
    }
   ],
   "source": [
    "for x in column_list:\n",
    "    \n",
    "    frequency = master.select(x)\n",
    "    quantiles = master.approxQuantile(x, [0.25, 0.75], 0.00)\n",
    "    q1 = quantiles[0]\n",
    "    q3 = quantiles[1]\n",
    "    iqr = q3 - 1\n",
    "    print(x, \"IQR \", iqr)\n",
    "    lower = q1 - 1.5 * iqr\n",
    "    upper = q3 + 1.5 * iqr\n",
    "    print(x, \"lower \", lower)\n",
    "    print(x, \"upper \", upper)"
   ]
  },
  {
   "cell_type": "code",
   "execution_count": 63,
   "metadata": {},
   "outputs": [
    {
     "data": {
      "text/plain": [
       "\"\\nimport seaborn as sns\\nx = sns.boxplot(x=Frequency)\\nage_group = master['Age Group']\\ny = sns.boxplot(x=age_group)\\nz = sns.boxplot(x=offender)\\n\""
      ]
     },
     "execution_count": 63,
     "metadata": {},
     "output_type": "execute_result"
    }
   ],
   "source": [
    "#Code used in Python for Box plot\n",
    "\"\"\"\n",
    "import seaborn as sns\n",
    "x = sns.boxplot(x=Frequency)\n",
    "age_group = master['Age Group']\n",
    "y = sns.boxplot(x=age_group)\n",
    "z = sns.boxplot(x=offender)\n",
    "\"\"\""
   ]
  },
  {
   "cell_type": "code",
   "execution_count": 64,
   "metadata": {},
   "outputs": [],
   "source": [
    "master = master.filter(master.Frequency < 10)"
   ]
  },
  {
   "cell_type": "code",
   "execution_count": 65,
   "metadata": {},
   "outputs": [
    {
     "name": "stdout",
     "output_type": "stream",
     "text": [
      "+-------+------------------+\n",
      "|summary|                ID|\n",
      "+-------+------------------+\n",
      "|  count|             18754|\n",
      "|   mean| 48453.32526394369|\n",
      "| stddev|26901.012008291033|\n",
      "|    min|                10|\n",
      "|    max|               971|\n",
      "+-------+------------------+\n",
      "\n"
     ]
    }
   ],
   "source": [
    "master.select(\"ID\").describe().show()"
   ]
  },
  {
   "cell_type": "code",
   "execution_count": 66,
   "metadata": {},
   "outputs": [
    {
     "data": {
      "text/plain": [
       "18754"
      ]
     },
     "execution_count": 66,
     "metadata": {},
     "output_type": "execute_result"
    }
   ],
   "source": [
    "master.count()"
   ]
  },
  {
   "cell_type": "code",
   "execution_count": 67,
   "metadata": {},
   "outputs": [
    {
     "name": "stdout",
     "output_type": "stream",
     "text": [
      "+---------+\n",
      "|Frequency|\n",
      "+---------+\n",
      "|1        |\n",
      "|3        |\n",
      "|5        |\n",
      "|4        |\n",
      "|2        |\n",
      "+---------+\n",
      "\n"
     ]
    }
   ],
   "source": [
    "master.dropDuplicates(([\"Frequency\"])).select(\"Frequency\").show(truncate = False)"
   ]
  },
  {
   "cell_type": "code",
   "execution_count": 68,
   "metadata": {},
   "outputs": [],
   "source": [
    "#Feature Selection"
   ]
  },
  {
   "cell_type": "code",
   "execution_count": 69,
   "metadata": {},
   "outputs": [
    {
     "name": "stdout",
     "output_type": "stream",
     "text": [
      "ChiSqSelector output with top 2 features selected\n",
      "+---+------------------+-------+----------------+\n",
      "| id|          features|clicked|selectedFeatures|\n",
      "+---+------------------+-------+----------------+\n",
      "|  7|[0.0,0.0,18.0,1.0]|    1.0|      [18.0,1.0]|\n",
      "|  8|[0.0,1.0,12.0,0.0]|    0.0|      [12.0,0.0]|\n",
      "|  9|[1.0,0.0,15.0,0.1]|    0.0|      [15.0,0.1]|\n",
      "+---+------------------+-------+----------------+\n",
      "\n"
     ]
    }
   ],
   "source": [
    "from pyspark.ml.feature import ChiSqSelector\n",
    "from pyspark.ml.linalg import Vectors\n",
    "\n",
    "df = spark.createDataFrame([\n",
    "    (7, Vectors.dense([0.0, 0.0, 18.0, 1.0]), 1.0,),\n",
    "    (8, Vectors.dense([0.0, 1.0, 12.0, 0.0]), 0.0,),\n",
    "    (9, Vectors.dense([1.0, 0.0, 15.0, 0.1]), 0.0,)], [\"id\", \"features\", \"clicked\"])\n",
    "\n",
    "selector = ChiSqSelector(numTopFeatures=2, featuresCol=\"features\",\n",
    "                         outputCol=\"selectedFeatures\", labelCol=\"clicked\")\n",
    "\n",
    "result = selector.fit(df).transform(df)\n",
    "\n",
    "print(\"ChiSqSelector output with top %d features selected\" % selector.getNumTopFeatures())\n",
    "result.show()"
   ]
  },
  {
   "cell_type": "code",
   "execution_count": 70,
   "metadata": {},
   "outputs": [],
   "source": [
    "master.columns"
   ]
  },
  {
   "cell_type": "code",
   "execution_count": null,
   "metadata": {},
   "outputs": [],
   "source": [
    "from pyspark.ml.feature import VectorAssembler"
   ]
  },
  {
   "cell_type": "code",
   "execution_count": null,
   "metadata": {},
   "outputs": [],
   "source": [
    "assembler = VectorAssembler(inputCols = [\"ANZSOC_Division_Index\", \"ANZSOC_Group_Index\", \"ANZSOC_Subdivision_Index\", \"Ethnicity_Index\", \"Mop_Index\", \"Police_area_index\", \"SEX_index\", \"ROV_Division_Index\",  \"ROV_Group_Index\", \"ROV_Sub_index\"], outputCol = \"features\")\n",
    "\n",
    "output = assembler.transform(master)\n",
    "output.show(truncate = False)\n",
    "output.select(\"features\").show(truncate = False)\n",
    "output.columns"
   ]
  },
  {
   "cell_type": "code",
   "execution_count": null,
   "metadata": {},
   "outputs": [],
   "source": [
    "selector = ChiSqSelector(numTopFeatures = 8, featuresCol = \"features\", outputCol = \"selectedFeatures\", labelCol = \"Ethnicity_Index\")\n",
    "\n",
    "result = selector.fit(output).transform(output)\n",
    "\n",
    "result.select(\"selectedFeatures\").show(truncate = False)\n",
    "\n"
   ]
  },
  {
   "cell_type": "code",
   "execution_count": null,
   "metadata": {},
   "outputs": [],
   "source": [
    "assembler = VectorAssembler(inputCols = [\"ANZSOC_Division_vec\", \"ANZSOC_Group_vec\", \"ANZSOC_Subdivision_vec\", \"Ethnicity_vec\", \"Mop_vec\", \"Police_Area_vec\", \"SEX_vec\", \"ROV_Division_vec\",  \"ROV_Group_vec\", \"ROV_Sub_vec\"], outputCol = \"features_VEC\")\n",
    "\n",
    "output = assembler.transform(master)\n",
    "output.show(truncate = False)\n",
    "output.select(\"features_VEC\").show(truncate = False)\n",
    "output.columns\n"
   ]
  },
  {
   "cell_type": "code",
   "execution_count": null,
   "metadata": {},
   "outputs": [],
   "source": [
    "selector = ChiSqSelector(numTopFeatures = 5, featuresCol = \"features_VEC\", outputCol = \"selectedFeatures\", labelCol = \"Age Group\")\n",
    "\n",
    "result = selector.fit(output).transform(output)\n",
    "\n",
    "result.select(\"selectedFeatures\").show(truncate = False)\n",
    "\n"
   ]
  },
  {
   "cell_type": "code",
   "execution_count": null,
   "metadata": {},
   "outputs": [],
   "source": [
    "import numpy as np\n",
    "import matplotlib.pyplot as plt"
   ]
  },
  {
   "cell_type": "code",
   "execution_count": null,
   "metadata": {},
   "outputs": [],
   "source": [
    "#import kmeans\n",
    "from pyspark.ml.clustering import KMeans"
   ]
  },
  {
   "cell_type": "code",
   "execution_count": null,
   "metadata": {},
   "outputs": [],
   "source": [
    "#with the integer value\n",
    "assembler = VectorAssembler(inputCols = [\"ANZSOC_Division_Index\", \"ANZSOC_Group_Index\", \"ANZSOC_Subdivision_Index\", \"Ethnicity_Index\", \"Mop_Index\", \"Police_area_index\", \"SEX_index\", \"ROV_Division_Index\",  \"ROV_Group_Index\", \"ROV_Sub_index\", \"Age Group\", \"Frequency\", \"Offender Count\"], outputCol = \"features\")\n",
    "\n",
    "output = assembler.transform(master)\n",
    "output.show(truncate = False)\n",
    "output.select(\"features\").show(truncate = False)\n",
    "output.columns"
   ]
  },
  {
   "cell_type": "code",
   "execution_count": null,
   "metadata": {},
   "outputs": [],
   "source": [
    "kmeans = KMeans().setK(2).setSeed(1)\n",
    "model = kmeans.fit(output)\n",
    "wssse = model.computeCost(output)\n",
    "print(\"Within Set Sum of Squared Errors = \" + str(wssse))\n",
    "\n",
    "centers = model.clusterCenters()\n",
    "print(\"Cluster Centers: \")\n",
    "for center in centers:\n",
    "    print(center)"
   ]
  },
  {
   "cell_type": "code",
   "execution_count": null,
   "metadata": {},
   "outputs": [],
   "source": [
    "kmeans = KMeans().setK(3).setSeed(1)\n",
    "model = kmeans.fit(output)\n",
    "wssse = model.computeCost(output)\n",
    "print(\"Within Set Sum of Squared Errors = \" + str(wssse))\n",
    "\n",
    "centers = model.clusterCenters()\n",
    "print(\"Cluster Centers: \")\n",
    "for center in centers:\n",
    "    print(center)"
   ]
  },
  {
   "cell_type": "code",
   "execution_count": null,
   "metadata": {},
   "outputs": [],
   "source": [
    "kmeans = KMeans().setK(4).setSeed(1)\n",
    "model = kmeans.fit(output)\n",
    "wssse = model.computeCost(output)\n",
    "print(\"Within Set Sum of Squared Errors = \" + str(wssse))\n",
    "\n",
    "centers = model.clusterCenters()\n",
    "print(\"Cluster Centers: \")\n",
    "for center in centers:\n",
    "    print(center)"
   ]
  },
  {
   "cell_type": "code",
   "execution_count": null,
   "metadata": {},
   "outputs": [],
   "source": [
    "kmeans = KMeans().setK(5).setSeed(1)\n",
    "model = kmeans.fit(output)\n",
    "wssse = model.computeCost(output)\n",
    "print(\"Within Set Sum of Squared Errors = \" + str(wssse))\n",
    "\n",
    "centers = model.clusterCenters()\n",
    "print(\"Cluster Centers: \")\n",
    "for center in centers:\n",
    "    print(center)"
   ]
  },
  {
   "cell_type": "code",
   "execution_count": null,
   "metadata": {
    "scrolled": false
   },
   "outputs": [],
   "source": [
    "#kmean with vectors\n",
    "assembler = VectorAssembler(inputCols = [\"ANZSOC_Division_vec\", \"ANZSOC_Group_vec\", \"ANZSOC_Subdivision_vec\", \"Ethnicity_vec\", \"Mop_vec\", \"Police_Area_vec\", \"SEX_vec\", \"ROV_Division_vec\",  \"ROV_Group_vec\", \"ROV_Sub_vec\"], outputCol = \"features\")\n",
    "\n",
    "output1 = assembler.transform(master)\n",
    "output1.show(truncate = False)\n",
    "output1.select(\"features\").show(truncate = False)\n",
    "output1.columns\n"
   ]
  },
  {
   "cell_type": "code",
   "execution_count": null,
   "metadata": {},
   "outputs": [],
   "source": [
    "from pyspark.ml.clustering import KMeans\n",
    "kmeansv = KMeans().setK(2).setSeed(1)\n",
    "modelv = kmeans.fit(output1)\n",
    "wsssev = modelv.computeCost(output1)\n",
    "print(\"Within Set Sum of Squared Errors = \" + str(wssse))\n",
    "\n",
    "centersv = model.clusterCenters()\n",
    "print(\"Cluster Centers: \")\n",
    "for center in centersv:\n",
    "    print(center)"
   ]
  },
  {
   "cell_type": "code",
   "execution_count": 56,
   "metadata": {},
   "outputs": [
    {
     "name": "stdout",
     "output_type": "stream",
     "text": [
      "+-----------------------------------------------------------------+\n",
      "|ANZSOC Division                                                  |\n",
      "+-----------------------------------------------------------------+\n",
      "|Abduction, Harassment and Other Related Offences Against a Person|\n",
      "|Dangerous or Negligent Acts Endangering Persons                  |\n",
      "|Property Damage and Environmental Pollution                      |\n",
      "|Unlawful Entry With Intent/Burglary, Break and Enter             |\n",
      "|Miscellaneous Offences                                           |\n",
      "|Prohibited and Regulated Weapons and Explosives Offences         |\n",
      "|Acts Intended to Cause Injury                                    |\n",
      "|Theft and Related Offences                                       |\n",
      "|Sexual Assault and Related Offences                              |\n",
      "|Offences Against Justice Procedures, Govt Sec and Govt Ops       |\n",
      "|Fraud, Deception and Related Offences                            |\n",
      "|Robbery, Extortion and Related Offences                          |\n",
      "|Public Order Offences                                            |\n",
      "|Homicide and Related Offences                                    |\n",
      "+-----------------------------------------------------------------+\n",
      "\n",
      "+---------------------------------------------------------+\n",
      "|ANZSOC Group                                             |\n",
      "+---------------------------------------------------------+\n",
      "|Illegal Use of Property (Except Motor Vehicles)          |\n",
      "|Unlawful Entry With Intent/Burglary, Break and Enter     |\n",
      "|Neglect or Ill-Treatment of Persons Under Care           |\n",
      "|Driving Causing Death                                    |\n",
      "|Offences Against Public Order Sexual Standards           |\n",
      "|Abduction and Kidnapping                                 |\n",
      "|Breach of Non-Violence Orders                            |\n",
      "|Other Acts Intended to Cause Injury, N.E.C.              |\n",
      "|Serious Assault Resulting in Injury                      |\n",
      "|Driving Under the Influence of Alcohol or Other Substance|\n",
      "|Serious Assault Not Resulting in Injury                  |\n",
      "|Theft (Except Motor Vehicles), N.E.C.                    |\n",
      "|Common Assault                                           |\n",
      "|Manslaughter                                             |\n",
      "|Non-Assaultive Sexual Offences Against a Child           |\n",
      "|Theft of Motor Vehicle Parts or Contents                 |\n",
      "|Offences Against Privacy                                 |\n",
      "|Trespass                                                 |\n",
      "|Offences Against Government Operations, N.E.C.           |\n",
      "|Harassment and Private Nuisance                          |\n",
      "+---------------------------------------------------------+\n",
      "only showing top 20 rows\n",
      "\n",
      "+------------------------------------------------------+\n",
      "|ANZSOC Subdivision                                    |\n",
      "+------------------------------------------------------+\n",
      "|Manslaughter and Driving Causing Death                |\n",
      "|Breach of Violence and Non-Violence Restraining Orders|\n",
      "|Illegal Use of Property (Except Motor Vehicles)       |\n",
      "|Other Acts Intended to Cause Injury                   |\n",
      "|Motor Vehicle Theft and Related Offences              |\n",
      "|Theft (Except Motor Vehicles)                         |\n",
      "|Sexual Assault                                        |\n",
      "|Assault                                               |\n",
      "|Unlawful Entry With Intent/Burglary, Break and Enter  |\n",
      "|Robbery                                               |\n",
      "|Abduction and Kidnapping                              |\n",
      "|Offences Against Government Operations                |\n",
      "|Property Damage                                       |\n",
      "|Regulated Weapons/Explosives Offences                 |\n",
      "|Other Fraud and Deception Offences                    |\n",
      "|Defamation, Libel and Privacy Offences                |\n",
      "|Other Miscellaneous Offences                          |\n",
      "|Regulated Public Order Offences                       |\n",
      "|Harassment and Threatening Behaviour                  |\n",
      "|Murder                                                |\n",
      "+------------------------------------------------------+\n",
      "only showing top 20 rows\n",
      "\n",
      "+-----------------------+\n",
      "|Ethnicity              |\n",
      "+-----------------------+\n",
      "|European               |\n",
      "|Indian                 |\n",
      "|African                |\n",
      "|Maori                  |\n",
      "|Pacific Island         |\n",
      "|Middle Eastern         |\n",
      "|Latin American/Hispanic|\n",
      "|Asian                  |\n",
      "+-----------------------+\n",
      "\n",
      "+---------+\n",
      "|Frequency|\n",
      "+---------+\n",
      "|3        |\n",
      "|5        |\n",
      "|1        |\n",
      "|10       |\n",
      "|4        |\n",
      "|2        |\n",
      "+---------+\n",
      "\n",
      "+------------------+\n",
      "|Mop Division      |\n",
      "+------------------+\n",
      "|Non-Court Action  |\n",
      "|Court Action      |\n",
      "|Not Proceeded With|\n",
      "+------------------+\n",
      "\n",
      "+---------------------+\n",
      "|Police Area          |\n",
      "+---------------------+\n",
      "|Auckland East Area   |\n",
      "|Auckland West Area   |\n",
      "|Auckland Central Area|\n",
      "+---------------------+\n",
      "\n",
      "+------+\n",
      "|SEX   |\n",
      "+------+\n",
      "|Female|\n",
      "|Male  |\n",
      "+------+\n",
      "\n",
      "+----------+\n",
      "|Year Month|\n",
      "+----------+\n",
      "|1/07/2020 |\n",
      "|1/02/2020 |\n",
      "|1/05/2020 |\n",
      "|1/06/2020 |\n",
      "|1/10/2020 |\n",
      "|1/01/2021 |\n",
      "|1/04/2020 |\n",
      "|1/09/2020 |\n",
      "|1/03/2020 |\n",
      "|1/11/2020 |\n",
      "|1/08/2020 |\n",
      "|1/12/2020 |\n",
      "+----------+\n",
      "\n",
      "+--------------+\n",
      "|Offender Count|\n",
      "+--------------+\n",
      "|5.00          |\n",
      "|7.00          |\n",
      "|3.00          |\n",
      "|2.00          |\n",
      "|8.00          |\n",
      "|10.00         |\n",
      "|12.00         |\n",
      "|1             |\n",
      "|4.00          |\n",
      "|1.00          |\n",
      "|6.00          |\n",
      "+--------------+\n",
      "\n",
      "+---------+\n",
      "|Age Group|\n",
      "+---------+\n",
      "|15       |\n",
      "|30       |\n",
      "|35       |\n",
      "|5        |\n",
      "|70       |\n",
      "|75       |\n",
      "|60       |\n",
      "|55       |\n",
      "|40       |\n",
      "|25       |\n",
      "|20       |\n",
      "|10       |\n",
      "|65       |\n",
      "|80       |\n",
      "|50       |\n",
      "|45       |\n",
      "+---------+\n",
      "\n",
      "+---------------+\n",
      "|ROV Division   |\n",
      "+---------------+\n",
      "|Stranger       |\n",
      "|Known To Victim|\n",
      "+---------------+\n",
      "\n",
      "+--------------------+\n",
      "|ROV Group           |\n",
      "+--------------------+\n",
      "|Known To Each Other |\n",
      "|Partner             |\n",
      "|Stranger            |\n",
      "|Parent              |\n",
      "|Family Member N.F.D.|\n",
      "|Child               |\n",
      "|Ex-Boy/Girlfriend   |\n",
      "|Boy/Girlfriend      |\n",
      "|Sibling             |\n",
      "|Other Relative      |\n",
      "|Ex-Partner          |\n",
      "+--------------------+\n",
      "\n",
      "+-----------------+\n",
      "|ROVSubdivision   |\n",
      "+-----------------+\n",
      "|Stranger         |\n",
      "|Family Member    |\n",
      "|Non Family Member|\n",
      "+-----------------+\n",
      "\n"
     ]
    }
   ],
   "source": [
    "column_list = ('ANZSOC Division', 'ANZSOC Group', 'ANZSOC Subdivision', 'Ethnicity', 'Frequency', 'Mop Division', 'Police Area', 'SEX', 'Year Month', 'Offender Count', 'Age Group', 'ROV Division', 'ROV Group', 'ROVSubdivision')\n",
    "\n",
    "for x in column_list:\n",
    "    \n",
    "    master.dropDuplicates(([x])).select(x).show(truncate = False)\n",
    "\n"
   ]
  },
  {
   "cell_type": "code",
   "execution_count": null,
   "metadata": {},
   "outputs": [],
   "source": []
  }
 ],
 "metadata": {
  "kernelspec": {
   "display_name": "Python 3",
   "language": "python",
   "name": "python3"
  },
  "language_info": {
   "codemirror_mode": {
    "name": "ipython",
    "version": 3
   },
   "file_extension": ".py",
   "mimetype": "text/x-python",
   "name": "python",
   "nbconvert_exporter": "python",
   "pygments_lexer": "ipython3",
   "version": "3.5.2"
  }
 },
 "nbformat": 4,
 "nbformat_minor": 2
}
