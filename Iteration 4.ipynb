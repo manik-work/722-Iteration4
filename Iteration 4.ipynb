{
 "cells": [
  {
   "cell_type": "code",
   "execution_count": 5,
   "metadata": {},
   "outputs": [],
   "source": [
    "import findspark\n",
    "findspark.init('/home/ubuntu/spark-2.1.1-bin-hadoop2.7')\n",
    "import pyspark\n",
    "from pyspark.sql import SparkSession\n",
    "spark = SparkSession.builder.appName('police_data_analysis').getOrCreate()"
   ]
  },
  {
   "cell_type": "code",
   "execution_count": 6,
   "metadata": {},
   "outputs": [],
   "source": [
    "df1 = spark.read.load('Datasets/ANSZOC_E_Area.csv', format = 'csv', header = 'true')"
   ]
  },
  {
   "cell_type": "code",
   "execution_count": 7,
   "metadata": {},
   "outputs": [],
   "source": [
    "df2 = spark.read.load('Datasets/Offender_A_ROV.csv', format = 'csv', header = 'true')"
   ]
  },
  {
   "cell_type": "code",
   "execution_count": 8,
   "metadata": {
    "scrolled": false
   },
   "outputs": [
    {
     "name": "stdout",
     "output_type": "stream",
     "text": [
      "+---+--------------------+--------------------+--------------------+--------------+----------+----------------+--------------------+---------------+---------------------+----+----------+\n",
      "| ID|     ANZSOC Division|        ANZSOC Group|  ANZSOC Subdivision|     Ethnicity| Frequency|    Mop Division|         Police Area|Police District|Proceedings Frequency| SEX|Year Month|\n",
      "+---+--------------------+--------------------+--------------------+--------------+----------+----------------+--------------------+---------------+---------------------+----+----------+\n",
      "|  1|Acts Intended to ...|      Common Assault|             Assault|Pacific Island|10 or more|Non-Court Action|Auckland Central ...|  Auckland City|           10 or more|Male| 1/02/2020|\n",
      "|  2|Acts Intended to ...|      Common Assault|             Assault|Pacific Island|10 or more|Non-Court Action|Auckland Central ...|  Auckland City|           10 or more|Male| 1/02/2020|\n",
      "|  3|Acts Intended to ...|      Common Assault|             Assault|      European|         2|Non-Court Action|Auckland Central ...|  Auckland City|                    2|Male| 1/02/2020|\n",
      "|  4|Acts Intended to ...|Serious Assault N...|             Assault|Pacific Island|         2|Non-Court Action|  Auckland East Area|  Auckland City|                    2|Male| 1/02/2020|\n",
      "|  5|Acts Intended to ...|Serious Assault N...|             Assault|Pacific Island|         2|Non-Court Action|  Auckland East Area|  Auckland City|                    2|Male| 1/02/2020|\n",
      "|  6|Acts Intended to ...|Serious Assault N...|             Assault|Pacific Island|         2|Non-Court Action|  Auckland East Area|  Auckland City|                    2|Male| 1/02/2020|\n",
      "|  7|Acts Intended to ...|      Common Assault|             Assault|        Indian|         2|Non-Court Action|  Auckland West Area|  Auckland City|                    2|Male| 1/02/2020|\n",
      "|  8|Acts Intended to ...|      Common Assault|             Assault|        Indian|         2|Non-Court Action|  Auckland West Area|  Auckland City|                    2|Male| 1/02/2020|\n",
      "|  9|Acts Intended to ...|      Common Assault|             Assault|Pacific Island|         2|Non-Court Action|  Auckland West Area|  Auckland City|                    2|Male| 1/02/2020|\n",
      "| 10|Acts Intended to ...|Serious Assault N...|             Assault|Pacific Island|         2|Non-Court Action|  Auckland West Area|  Auckland City|                    2|Male| 1/02/2020|\n",
      "| 11|Acts Intended to ...|Serious Assault N...|             Assault|Pacific Island|         2|Non-Court Action|  Auckland West Area|  Auckland City|                    2|Male| 1/02/2020|\n",
      "| 12|Acts Intended to ...|Serious Assault N...|             Assault|Pacific Island|         2|Non-Court Action|  Auckland West Area|  Auckland City|                    2|Male| 1/02/2020|\n",
      "| 13|Robbery, Extortio...|  Aggravated Robbery|             Robbery|      European|         2|Non-Court Action|  Auckland West Area|  Auckland City|                    2|Male| 1/02/2020|\n",
      "| 14|Robbery, Extortio...|  Aggravated Robbery|             Robbery|         Maori|         2|Non-Court Action|  Auckland West Area|  Auckland City|                    2|Male| 1/02/2020|\n",
      "| 53|Abduction, Harass...|Threatening Behav...|Harassment and Th...|Pacific Island|         3|Non-Court Action|  Auckland East Area|  Auckland City|                    3|Male| 1/02/2020|\n",
      "| 65|Acts Intended to ...|      Common Assault|             Assault|         Maori|         4|Non-Court Action|Auckland Central ...|  Auckland City|                    4|Male| 1/02/2020|\n",
      "| 66|Acts Intended to ...|      Common Assault|             Assault|         Maori|         4|Non-Court Action|Auckland Central ...|  Auckland City|                    4|Male| 1/02/2020|\n",
      "| 67|Acts Intended to ...|      Common Assault|             Assault|         Maori|         4|Non-Court Action|Auckland Central ...|  Auckland City|                    4|Male| 1/02/2020|\n",
      "| 68|Acts Intended to ...|      Common Assault|             Assault|      European|         4|Non-Court Action|  Auckland East Area|  Auckland City|                    4|Male| 1/02/2020|\n",
      "| 69|Acts Intended to ...|      Common Assault|             Assault|      European|         4|Non-Court Action|  Auckland East Area|  Auckland City|                    4|Male| 1/02/2020|\n",
      "+---+--------------------+--------------------+--------------------+--------------+----------+----------------+--------------------+---------------+---------------------+----+----------+\n",
      "only showing top 20 rows\n",
      "\n"
     ]
    }
   ],
   "source": [
    "df1.show()"
   ]
  },
  {
   "cell_type": "code",
   "execution_count": 9,
   "metadata": {},
   "outputs": [
    {
     "data": {
      "text/plain": [
       "['ID',\n",
       " 'ANZSOC Division',\n",
       " 'ANZSOC Group',\n",
       " 'ANZSOC Subdivision',\n",
       " 'Ethnicity',\n",
       " 'Frequency',\n",
       " 'Mop Division',\n",
       " 'Police Area',\n",
       " 'Police District',\n",
       " 'Proceedings Frequency',\n",
       " 'SEX',\n",
       " 'Year Month']"
      ]
     },
     "execution_count": 9,
     "metadata": {},
     "output_type": "execute_result"
    }
   ],
   "source": [
    "df1.columns"
   ]
  },
  {
   "cell_type": "code",
   "execution_count": 10,
   "metadata": {
    "scrolled": true
   },
   "outputs": [
    {
     "data": {
      "text/plain": [
       "['ID',\n",
       " 'Number of Records',\n",
       " 'Offender Count',\n",
       " 'Age Group',\n",
       " 'Age Group 5Yr Band',\n",
       " 'Person/Organisation',\n",
       " 'ROV Division',\n",
       " 'ROV Group',\n",
       " 'ROVSubdivision']"
      ]
     },
     "execution_count": 10,
     "metadata": {},
     "output_type": "execute_result"
    }
   ],
   "source": [
    "df2.columns"
   ]
  },
  {
   "cell_type": "code",
   "execution_count": 11,
   "metadata": {},
   "outputs": [
    {
     "name": "stdout",
     "output_type": "stream",
     "text": [
      "+-------+-----------------+--------------------+--------------------+--------------------+--------------+------------------+------------------+--------------------+---------------+---------------------+----------+----------+\n",
      "|summary|               ID|     ANZSOC Division|        ANZSOC Group|  ANZSOC Subdivision|     Ethnicity|         Frequency|      Mop Division|         Police Area|Police District|Proceedings Frequency|       SEX|Year Month|\n",
      "+-------+-----------------+--------------------+--------------------+--------------------+--------------+------------------+------------------+--------------------+---------------+---------------------+----------+----------+\n",
      "|  count|            67788|               67788|               67788|               67788|         67788|             67788|             67788|               67788|          67788|                67788|     67788|     67788|\n",
      "|   mean|81035.48884758365|                null|                null|                null|          null|  1.65028027262883|              null|                null|           null|     1.65028027262883|      null|      null|\n",
      "| stddev|45521.36948604581|                null|                null|                null|          null|0.9199750484505007|              null|                null|           null|   0.9199750484505007|      null|      null|\n",
      "|    min|                1|Abduction, Harass...|Abduction and Kid...|Abduction and Kid...|       African|                 1|      Court Action|Auckland Central ...|  Auckland City|                    1|    Female| 1/01/2021|\n",
      "|    max|            99999|Unlawful Entry Wi...|    Use Illicit Drug|Unlawful Entry Wi...|Pacific Island|            5 to 9|Not Proceeded With|  Auckland West Area|  Auckland City|               5 to 9|Not Stated| 1/12/2020|\n",
      "+-------+-----------------+--------------------+--------------------+--------------------+--------------+------------------+------------------+--------------------+---------------+---------------------+----------+----------+\n",
      "\n"
     ]
    }
   ],
   "source": [
    "df1.describe().show()"
   ]
  },
  {
   "cell_type": "code",
   "execution_count": 12,
   "metadata": {},
   "outputs": [
    {
     "name": "stdout",
     "output_type": "stream",
     "text": [
      "+-------+-----------------+-----------------+------------------+------------+--------------------+-------------------+---------------+--------------+--------------+\n",
      "|summary|               ID|Number of Records|    Offender Count|   Age Group|  Age Group 5Yr Band|Person/Organisation|   ROV Division|     ROV Group|ROVSubdivision|\n",
      "+-------+-----------------+-----------------+------------------+------------+--------------------+-------------------+---------------+--------------+--------------+\n",
      "|  count|            67788|            67788|             67788|       58976|               58976|              58976|          39337|         39337|         39337|\n",
      "|   mean|81035.48884758365|              1.0|1.9323626600578274|        null|                null|               null|           null|          null|          null|\n",
      "| stddev|45521.36948604581|              0.0|3.3938705408996217|        null|                null|               null|           null|          null|          null|\n",
      "|    min|                1|                1|                 1|       10-14|10 - 14 years inc...|             Person|Known To Victim|Boy/Girlfriend| Family Member|\n",
      "|    max|            99999|                1|             98.00|NotSpecified|       Not Specified|             Person|       Stranger|      Stranger|      Stranger|\n",
      "+-------+-----------------+-----------------+------------------+------------+--------------------+-------------------+---------------+--------------+--------------+\n",
      "\n"
     ]
    }
   ],
   "source": [
    "df2.describe().show()"
   ]
  },
  {
   "cell_type": "code",
   "execution_count": 14,
   "metadata": {},
   "outputs": [
    {
     "data": {
      "text/plain": [
       "DataFrame[summary: string, ID: string, ANZSOC Division: string, ANZSOC Group: string, ANZSOC Subdivision: string, Ethnicity: string, Frequency: string, Mop Division: string, Police Area: string, Police District: string, Proceedings Frequency: string, SEX: string, Year Month: string]"
      ]
     },
     "execution_count": 14,
     "metadata": {},
     "output_type": "execute_result"
    }
   ],
   "source": [
    "df1.describe()"
   ]
  },
  {
   "cell_type": "code",
   "execution_count": null,
   "metadata": {},
   "outputs": [],
   "source": []
  }
 ],
 "metadata": {
  "kernelspec": {
   "display_name": "Python 3",
   "language": "python",
   "name": "python3"
  },
  "language_info": {
   "codemirror_mode": {
    "name": "ipython",
    "version": 3
   },
   "file_extension": ".py",
   "mimetype": "text/x-python",
   "name": "python",
   "nbconvert_exporter": "python",
   "pygments_lexer": "ipython3",
   "version": "3.5.2"
  }
 },
 "nbformat": 4,
 "nbformat_minor": 2
}
